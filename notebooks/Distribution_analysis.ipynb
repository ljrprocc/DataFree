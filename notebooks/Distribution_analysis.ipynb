{
 "cells": [
  {
   "cell_type": "code",
   "execution_count": 1,
   "id": "0e2f6a64",
   "metadata": {},
   "outputs": [],
   "source": [
    "import torch\n",
    "import numpy as np\n",
    "import seaborn as sns\n",
    "\n",
    "import sys\n",
    "sys.path.append('..')\n",
    "import datafree"
   ]
  },
  {
   "cell_type": "code",
   "execution_count": 2,
   "id": "8401cacc",
   "metadata": {},
   "outputs": [
    {
     "name": "stdout",
     "output_type": "stream",
     "text": [
      "Fri Mar 18 10:33:18 2022       \n",
      "+-----------------------------------------------------------------------------+\n",
      "| NVIDIA-SMI 460.67       Driver Version: 460.67       CUDA Version: 11.2     |\n",
      "|-------------------------------+----------------------+----------------------+\n",
      "| GPU  Name        Persistence-M| Bus-Id        Disp.A | Volatile Uncorr. ECC |\n",
      "| Fan  Temp  Perf  Pwr:Usage/Cap|         Memory-Usage | GPU-Util  Compute M. |\n",
      "|                               |                      |               MIG M. |\n",
      "|===============================+======================+======================|\n",
      "|   0  GeForce RTX 3090    Off  | 00000000:04:00.0 Off |                  N/A |\n",
      "| 73%   63C    P2   313W / 350W |  11421MiB / 24268MiB |     71%      Default |\n",
      "|                               |                      |                  N/A |\n",
      "+-------------------------------+----------------------+----------------------+\n",
      "|   1  GeForce RTX 3090    Off  | 00000000:05:00.0 Off |                  N/A |\n",
      "| 86%   72C    P2   334W / 350W |   7877MiB / 24268MiB |    100%      Default |\n",
      "|                               |                      |                  N/A |\n",
      "+-------------------------------+----------------------+----------------------+\n",
      "|   2  GeForce RTX 3090    Off  | 00000000:08:00.0 Off |                  N/A |\n",
      "| 87%   72C    P2   331W / 350W |  10153MiB / 24268MiB |     96%      Default |\n",
      "|                               |                      |                  N/A |\n",
      "+-------------------------------+----------------------+----------------------+\n",
      "|   3  GeForce RTX 3090    Off  | 00000000:09:00.0 Off |                  N/A |\n",
      "| 93%   76C    P2   340W / 350W |  10153MiB / 24268MiB |     93%      Default |\n",
      "|                               |                      |                  N/A |\n",
      "+-------------------------------+----------------------+----------------------+\n",
      "|   4  GeForce RTX 3090    Off  | 00000000:84:00.0 Off |                  N/A |\n",
      "| 84%   71C    P2   339W / 350W |   7377MiB / 24268MiB |     94%      Default |\n",
      "|                               |                      |                  N/A |\n",
      "+-------------------------------+----------------------+----------------------+\n",
      "|   5  GeForce RTX 3090    Off  | 00000000:85:00.0 Off |                  N/A |\n",
      "| 73%   72C    P2   318W / 350W |  10621MiB / 24268MiB |     83%      Default |\n",
      "|                               |                      |                  N/A |\n",
      "+-------------------------------+----------------------+----------------------+\n",
      "|   6  GeForce RTX 3090    Off  | 00000000:89:00.0 Off |                  N/A |\n",
      "| 70%   63C    P2   336W / 350W |   7373MiB / 24268MiB |     97%      Default |\n",
      "|                               |                      |                  N/A |\n",
      "+-------------------------------+----------------------+----------------------+\n",
      "                                                                               \n",
      "+-----------------------------------------------------------------------------+\n",
      "| Processes:                                                                  |\n",
      "|  GPU   GI   CI        PID   Type   Process name                  GPU Memory |\n",
      "|        ID   ID                                                   Usage      |\n",
      "|=============================================================================|\n",
      "|    0   N/A  N/A     25966      C   ...onda3/envs/ssl/bin/python    11419MiB |\n",
      "|    1   N/A  N/A      1119      C   python                           7875MiB |\n",
      "|    2   N/A  N/A     55649      C   python                          10151MiB |\n",
      "|    3   N/A  N/A     37590      C   python                          10151MiB |\n",
      "|    4   N/A  N/A     54335      C   python                           7375MiB |\n",
      "|    5   N/A  N/A     38140      C   ...onda3/envs/ssl/bin/python    10619MiB |\n",
      "|    6   N/A  N/A     52154      C   python                           7371MiB |\n",
      "+-----------------------------------------------------------------------------+\n"
     ]
    }
   ],
   "source": [
    "!nvidia-smi"
   ]
  },
  {
   "cell_type": "code",
   "execution_count": 3,
   "id": "a953b1c1",
   "metadata": {},
   "outputs": [],
   "source": [
    "distributed = False\n",
    "gpu = 4\n",
    "batch_size = 256\n",
    "workers = 8\n",
    "num_classes = 10\n",
    "def prepare_model(model):\n",
    "    if not torch.cuda.is_available():\n",
    "        print('using CPU, this will be slow')\n",
    "        return model\n",
    "    elif distributed:\n",
    "        # For multiprocessing distributed, DistributedDataParallel constructor\n",
    "        # should always set the single device scope, otherwise,\n",
    "        # DistributedDataParallel will use all available devices.\n",
    "        if args.gpu is not None:\n",
    "            torch.cuda.set_device(gpu)\n",
    "            model.cuda(gpu)\n",
    "            # When using a single GPU per process and per\n",
    "            # DistributedDataParallel, we need to divide the batch size\n",
    "            # ourselves based on the total number of GPUs we have\n",
    "            batch_size = int(batch_size / ngpus_per_node)\n",
    "            workers = int((workers + ngpus_per_node - 1) / ngpus_per_node)\n",
    "            model = torch.nn.parallel.DistributedDataParallel(model, device_ids=[gpu])\n",
    "            return model\n",
    "        else:\n",
    "            model.cuda()\n",
    "            model = torch.nn.parallel.DistributedDataParallel(model)\n",
    "            return model\n",
    "    elif gpu is not None:\n",
    "        torch.cuda.set_device(gpu)\n",
    "        model = model.cuda(gpu)\n",
    "        return model\n",
    "    else:\n",
    "        # DataParallel will divide and allocate batch_size to all available GPUs\n",
    "        model = torch.nn.DataParallel(model).cuda()\n",
    "        return model"
   ]
  },
  {
   "cell_type": "code",
   "execution_count": 4,
   "id": "a914eac0",
   "metadata": {},
   "outputs": [
    {
     "data": {
      "text/plain": [
       "ResNet(\n",
       "  (conv1): Conv2d(3, 64, kernel_size=(3, 3), stride=(1, 1), padding=(1, 1), bias=False)\n",
       "  (bn1): BatchNorm2d(64, eps=1e-05, momentum=0.1, affine=True, track_running_stats=True)\n",
       "  (layer1): Sequential(\n",
       "    (0): BasicBlock(\n",
       "      (conv1): Conv2d(64, 64, kernel_size=(3, 3), stride=(1, 1), padding=(1, 1), bias=False)\n",
       "      (bn1): BatchNorm2d(64, eps=1e-05, momentum=0.1, affine=True, track_running_stats=True)\n",
       "      (conv2): Conv2d(64, 64, kernel_size=(3, 3), stride=(1, 1), padding=(1, 1), bias=False)\n",
       "      (bn2): BatchNorm2d(64, eps=1e-05, momentum=0.1, affine=True, track_running_stats=True)\n",
       "      (shortcut): Sequential()\n",
       "    )\n",
       "    (1): BasicBlock(\n",
       "      (conv1): Conv2d(64, 64, kernel_size=(3, 3), stride=(1, 1), padding=(1, 1), bias=False)\n",
       "      (bn1): BatchNorm2d(64, eps=1e-05, momentum=0.1, affine=True, track_running_stats=True)\n",
       "      (conv2): Conv2d(64, 64, kernel_size=(3, 3), stride=(1, 1), padding=(1, 1), bias=False)\n",
       "      (bn2): BatchNorm2d(64, eps=1e-05, momentum=0.1, affine=True, track_running_stats=True)\n",
       "      (shortcut): Sequential()\n",
       "    )\n",
       "    (2): BasicBlock(\n",
       "      (conv1): Conv2d(64, 64, kernel_size=(3, 3), stride=(1, 1), padding=(1, 1), bias=False)\n",
       "      (bn1): BatchNorm2d(64, eps=1e-05, momentum=0.1, affine=True, track_running_stats=True)\n",
       "      (conv2): Conv2d(64, 64, kernel_size=(3, 3), stride=(1, 1), padding=(1, 1), bias=False)\n",
       "      (bn2): BatchNorm2d(64, eps=1e-05, momentum=0.1, affine=True, track_running_stats=True)\n",
       "      (shortcut): Sequential()\n",
       "    )\n",
       "  )\n",
       "  (layer2): Sequential(\n",
       "    (0): BasicBlock(\n",
       "      (conv1): Conv2d(64, 128, kernel_size=(3, 3), stride=(2, 2), padding=(1, 1), bias=False)\n",
       "      (bn1): BatchNorm2d(128, eps=1e-05, momentum=0.1, affine=True, track_running_stats=True)\n",
       "      (conv2): Conv2d(128, 128, kernel_size=(3, 3), stride=(1, 1), padding=(1, 1), bias=False)\n",
       "      (bn2): BatchNorm2d(128, eps=1e-05, momentum=0.1, affine=True, track_running_stats=True)\n",
       "      (shortcut): Sequential(\n",
       "        (0): Conv2d(64, 128, kernel_size=(1, 1), stride=(2, 2), bias=False)\n",
       "        (1): BatchNorm2d(128, eps=1e-05, momentum=0.1, affine=True, track_running_stats=True)\n",
       "      )\n",
       "    )\n",
       "    (1): BasicBlock(\n",
       "      (conv1): Conv2d(128, 128, kernel_size=(3, 3), stride=(1, 1), padding=(1, 1), bias=False)\n",
       "      (bn1): BatchNorm2d(128, eps=1e-05, momentum=0.1, affine=True, track_running_stats=True)\n",
       "      (conv2): Conv2d(128, 128, kernel_size=(3, 3), stride=(1, 1), padding=(1, 1), bias=False)\n",
       "      (bn2): BatchNorm2d(128, eps=1e-05, momentum=0.1, affine=True, track_running_stats=True)\n",
       "      (shortcut): Sequential()\n",
       "    )\n",
       "    (2): BasicBlock(\n",
       "      (conv1): Conv2d(128, 128, kernel_size=(3, 3), stride=(1, 1), padding=(1, 1), bias=False)\n",
       "      (bn1): BatchNorm2d(128, eps=1e-05, momentum=0.1, affine=True, track_running_stats=True)\n",
       "      (conv2): Conv2d(128, 128, kernel_size=(3, 3), stride=(1, 1), padding=(1, 1), bias=False)\n",
       "      (bn2): BatchNorm2d(128, eps=1e-05, momentum=0.1, affine=True, track_running_stats=True)\n",
       "      (shortcut): Sequential()\n",
       "    )\n",
       "    (3): BasicBlock(\n",
       "      (conv1): Conv2d(128, 128, kernel_size=(3, 3), stride=(1, 1), padding=(1, 1), bias=False)\n",
       "      (bn1): BatchNorm2d(128, eps=1e-05, momentum=0.1, affine=True, track_running_stats=True)\n",
       "      (conv2): Conv2d(128, 128, kernel_size=(3, 3), stride=(1, 1), padding=(1, 1), bias=False)\n",
       "      (bn2): BatchNorm2d(128, eps=1e-05, momentum=0.1, affine=True, track_running_stats=True)\n",
       "      (shortcut): Sequential()\n",
       "    )\n",
       "  )\n",
       "  (layer3): Sequential(\n",
       "    (0): BasicBlock(\n",
       "      (conv1): Conv2d(128, 256, kernel_size=(3, 3), stride=(2, 2), padding=(1, 1), bias=False)\n",
       "      (bn1): BatchNorm2d(256, eps=1e-05, momentum=0.1, affine=True, track_running_stats=True)\n",
       "      (conv2): Conv2d(256, 256, kernel_size=(3, 3), stride=(1, 1), padding=(1, 1), bias=False)\n",
       "      (bn2): BatchNorm2d(256, eps=1e-05, momentum=0.1, affine=True, track_running_stats=True)\n",
       "      (shortcut): Sequential(\n",
       "        (0): Conv2d(128, 256, kernel_size=(1, 1), stride=(2, 2), bias=False)\n",
       "        (1): BatchNorm2d(256, eps=1e-05, momentum=0.1, affine=True, track_running_stats=True)\n",
       "      )\n",
       "    )\n",
       "    (1): BasicBlock(\n",
       "      (conv1): Conv2d(256, 256, kernel_size=(3, 3), stride=(1, 1), padding=(1, 1), bias=False)\n",
       "      (bn1): BatchNorm2d(256, eps=1e-05, momentum=0.1, affine=True, track_running_stats=True)\n",
       "      (conv2): Conv2d(256, 256, kernel_size=(3, 3), stride=(1, 1), padding=(1, 1), bias=False)\n",
       "      (bn2): BatchNorm2d(256, eps=1e-05, momentum=0.1, affine=True, track_running_stats=True)\n",
       "      (shortcut): Sequential()\n",
       "    )\n",
       "    (2): BasicBlock(\n",
       "      (conv1): Conv2d(256, 256, kernel_size=(3, 3), stride=(1, 1), padding=(1, 1), bias=False)\n",
       "      (bn1): BatchNorm2d(256, eps=1e-05, momentum=0.1, affine=True, track_running_stats=True)\n",
       "      (conv2): Conv2d(256, 256, kernel_size=(3, 3), stride=(1, 1), padding=(1, 1), bias=False)\n",
       "      (bn2): BatchNorm2d(256, eps=1e-05, momentum=0.1, affine=True, track_running_stats=True)\n",
       "      (shortcut): Sequential()\n",
       "    )\n",
       "    (3): BasicBlock(\n",
       "      (conv1): Conv2d(256, 256, kernel_size=(3, 3), stride=(1, 1), padding=(1, 1), bias=False)\n",
       "      (bn1): BatchNorm2d(256, eps=1e-05, momentum=0.1, affine=True, track_running_stats=True)\n",
       "      (conv2): Conv2d(256, 256, kernel_size=(3, 3), stride=(1, 1), padding=(1, 1), bias=False)\n",
       "      (bn2): BatchNorm2d(256, eps=1e-05, momentum=0.1, affine=True, track_running_stats=True)\n",
       "      (shortcut): Sequential()\n",
       "    )\n",
       "    (4): BasicBlock(\n",
       "      (conv1): Conv2d(256, 256, kernel_size=(3, 3), stride=(1, 1), padding=(1, 1), bias=False)\n",
       "      (bn1): BatchNorm2d(256, eps=1e-05, momentum=0.1, affine=True, track_running_stats=True)\n",
       "      (conv2): Conv2d(256, 256, kernel_size=(3, 3), stride=(1, 1), padding=(1, 1), bias=False)\n",
       "      (bn2): BatchNorm2d(256, eps=1e-05, momentum=0.1, affine=True, track_running_stats=True)\n",
       "      (shortcut): Sequential()\n",
       "    )\n",
       "    (5): BasicBlock(\n",
       "      (conv1): Conv2d(256, 256, kernel_size=(3, 3), stride=(1, 1), padding=(1, 1), bias=False)\n",
       "      (bn1): BatchNorm2d(256, eps=1e-05, momentum=0.1, affine=True, track_running_stats=True)\n",
       "      (conv2): Conv2d(256, 256, kernel_size=(3, 3), stride=(1, 1), padding=(1, 1), bias=False)\n",
       "      (bn2): BatchNorm2d(256, eps=1e-05, momentum=0.1, affine=True, track_running_stats=True)\n",
       "      (shortcut): Sequential()\n",
       "    )\n",
       "  )\n",
       "  (layer4): Sequential(\n",
       "    (0): BasicBlock(\n",
       "      (conv1): Conv2d(256, 512, kernel_size=(3, 3), stride=(2, 2), padding=(1, 1), bias=False)\n",
       "      (bn1): BatchNorm2d(512, eps=1e-05, momentum=0.1, affine=True, track_running_stats=True)\n",
       "      (conv2): Conv2d(512, 512, kernel_size=(3, 3), stride=(1, 1), padding=(1, 1), bias=False)\n",
       "      (bn2): BatchNorm2d(512, eps=1e-05, momentum=0.1, affine=True, track_running_stats=True)\n",
       "      (shortcut): Sequential(\n",
       "        (0): Conv2d(256, 512, kernel_size=(1, 1), stride=(2, 2), bias=False)\n",
       "        (1): BatchNorm2d(512, eps=1e-05, momentum=0.1, affine=True, track_running_stats=True)\n",
       "      )\n",
       "    )\n",
       "    (1): BasicBlock(\n",
       "      (conv1): Conv2d(512, 512, kernel_size=(3, 3), stride=(1, 1), padding=(1, 1), bias=False)\n",
       "      (bn1): BatchNorm2d(512, eps=1e-05, momentum=0.1, affine=True, track_running_stats=True)\n",
       "      (conv2): Conv2d(512, 512, kernel_size=(3, 3), stride=(1, 1), padding=(1, 1), bias=False)\n",
       "      (bn2): BatchNorm2d(512, eps=1e-05, momentum=0.1, affine=True, track_running_stats=True)\n",
       "      (shortcut): Sequential()\n",
       "    )\n",
       "    (2): BasicBlock(\n",
       "      (conv1): Conv2d(512, 512, kernel_size=(3, 3), stride=(1, 1), padding=(1, 1), bias=False)\n",
       "      (bn1): BatchNorm2d(512, eps=1e-05, momentum=0.1, affine=True, track_running_stats=True)\n",
       "      (conv2): Conv2d(512, 512, kernel_size=(3, 3), stride=(1, 1), padding=(1, 1), bias=False)\n",
       "      (bn2): BatchNorm2d(512, eps=1e-05, momentum=0.1, affine=True, track_running_stats=True)\n",
       "      (shortcut): Sequential()\n",
       "    )\n",
       "  )\n",
       "  (linear): Linear(in_features=512, out_features=10, bias=True)\n",
       ")"
      ]
     },
     "execution_count": 4,
     "metadata": {},
     "output_type": "execute_result"
    }
   ],
   "source": [
    "from torchvision.datasets import CIFAR10\n",
    "import registry\n",
    "student = registry.get_model('resnet18', num_classes=num_classes)\n",
    "teacher = registry.get_model('resnet34', num_classes=num_classes, pretrained=True).eval()\n",
    "normalizer = datafree.utils.Normalizer(**registry.NORMALIZE_DICT['cifar10'])\n",
    "student = prepare_model(student)\n",
    "teacher = prepare_model(teacher)\n",
    "teacher.load_state_dict(torch.load('/data/lijingru/DataFree/checkpoints/scratch/cifar10_resnet34.pth', map_location='cpu')['state_dict'])\n",
    "teacher.eval()"
   ]
  },
  {
   "cell_type": "code",
   "execution_count": 5,
   "id": "b2ec6f79",
   "metadata": {},
   "outputs": [],
   "source": [
    "def get_losses(t_out, t_feat):\n",
    "    p = F.softmax(t_out, dim=1).mean(0)\n",
    "    ent = (p*p.log()).sum()\n",
    "    loss_oh = F.cross_entropy( t_out, t_out.max(1)[1])\n",
    "    loss_act = - t_feat.abs().mean()\n",
    "    return {'neg_ent': ent.item(), 't_conf': loss_oh.item(), 'l_act': loss_act.item()}"
   ]
  },
  {
   "cell_type": "code",
   "execution_count": 9,
   "id": "9d8eb80e",
   "metadata": {
    "scrolled": true
   },
   "outputs": [
    {
     "name": "stdout",
     "output_type": "stream",
     "text": [
      "Files already downloaded and verified\n",
      "Files already downloaded and verified\n"
     ]
    }
   ],
   "source": [
    "import numpy as np\n",
    "num_classes, ori_dataset, val_dataset = registry.get_dataset(name='cifar10', data_root='/data/lijingru/cifar10/')\n",
    "random_idx = np.random.randint(0, len(val_dataset), (256,))"
   ]
  },
  {
   "cell_type": "code",
   "execution_count": 10,
   "id": "de44a8f0",
   "metadata": {},
   "outputs": [],
   "source": [
    "x_feats = []\n",
    "outputs = []\n",
    "labels = []\n",
    "xs = []\n",
    "real_loader = torch.utils.data.DataLoader(val_dataset, batch_size=256, shuffle=False, num_workers=workers, pin_memory=True)\n",
    "for data in real_loader:\n",
    "    x, y = data\n",
    "    xs.append(x.cpu().numpy())\n",
    "    x = x.to(gpu)\n",
    "    output, x_feat = teacher(x, return_features=True)\n",
    "    x_feats.append(x_feat.detach().cpu().numpy())\n",
    "    outputs.append(output.detach().cpu().numpy())\n",
    "    labels.append(y.detach().cpu().numpy())"
   ]
  },
  {
   "cell_type": "code",
   "execution_count": 11,
   "id": "835a2edd",
   "metadata": {},
   "outputs": [
    {
     "name": "stdout",
     "output_type": "stream",
     "text": [
      "(0.4914, 0.4822, 0.4465)\n",
      "[0.01391149 0.01470116 0.01944823] [1.4865491 1.483806  1.6937859]\n",
      "0 [0.20962143 0.45027354 0.79351974] [1.508555  1.4203671 1.6655258]\n",
      "1 [-0.10251226 -0.13846582  0.00965419] [1.7754782 1.7891607 1.8742659]\n",
      "2 [-0.00722225  0.06401531 -0.09086239] [1.2530116 1.231406  1.4907234]\n",
      "3 [ 0.00983129 -0.13508265 -0.15172651] [1.5913854 1.5636282 1.6056801]\n",
      "4 [-0.13040288 -0.11454726 -0.37751466] [1.1116626 1.0219193 1.0296729]\n",
      "5 [ 0.08873951 -0.03846535 -0.10630681] [1.5450723 1.5040188 1.561377 ]\n",
      "6 [-0.08143532 -0.20027477 -0.49995804] [1.2894008 1.2092412 1.2082083]\n",
      "7 [ 0.06763753  0.00630896 -0.10439368] [1.4519054 1.5011125 1.6151615]\n",
      "8 [0.01591104 0.2128494  0.5289252 ] [1.5108435 1.4446062 1.5525004]\n",
      "9 [0.06894646 0.04040009 0.19314529] [1.7344235 1.8088093 1.945724 ]\n"
     ]
    },
    {
     "name": "stderr",
     "output_type": "stream",
     "text": [
      "/data/lijingru/anaconda3/envs/torch/lib/python3.8/site-packages/seaborn/distributions.py:2557: FutureWarning: `distplot` is a deprecated function and will be removed in a future version. Please adapt your code to use either `displot` (a figure-level function with similar flexibility) or `histplot` (an axes-level function for histograms).\n",
      "  warnings.warn(msg, FutureWarning)\n",
      "/data/lijingru/anaconda3/envs/torch/lib/python3.8/site-packages/seaborn/distributions.py:2056: FutureWarning: The `axis` variable is no longer used and will be removed. Instead, assign variables directly to `x` or `y`.\n",
      "  warnings.warn(msg, FutureWarning)\n"
     ]
    },
    {
     "data": {
      "text/plain": [
       "<AxesSubplot:ylabel='Density'>"
      ]
     },
     "execution_count": 11,
     "metadata": {},
     "output_type": "execute_result"
    },
    {
     "data": {
      "image/png": "[encoded data removed]",
      "text/plain": [
       "<Figure size 432x288 with 1 Axes>"
      ]
     },
     "metadata": {
      "needs_background": "light"
     },
     "output_type": "display_data"
    }
   ],
   "source": [
    "x_feats_all = np.vstack(x_feats)\n",
    "outputs_all = np.vstack(outputs)\n",
    "y_all = np.hstack(labels)\n",
    "xs_all = np.concatenate(xs)\n",
    "print(registry.NORMALIZE_DICT['cifar10']['mean'])\n",
    "print(np.mean(xs_all, (0,2,3)), np.var(np.transpose(xs_all, (1,0,2,3)).reshape(xs_all.shape[1], -1), 1))\n",
    "for i in range(num_classes):\n",
    "    this_xs = xs_all[y_all == i]\n",
    "    print(i, np.mean(this_xs, (0,2,3)), np.var(np.transpose(this_xs, (1,0,2,3)).reshape(this_xs.shape[1], -1), 1))\n",
    "\n",
    "x_feats = x_feats_all[random_idx]\n",
    "outputs = outputs_all[random_idx]\n",
    "c_feat = x_feats[:, 15]\n",
    "sns.distplot(c_feat, rug=True)"
   ]
  },
  {
   "cell_type": "markdown",
   "id": "763839ef",
   "metadata": {},
   "source": [
    "### Synthetic Performance at $L = 1$\n",
    "With no distribution alignment at feature map level. Ablation study for further research, and it should be close to the result of DAFL."
   ]
  },
  {
   "cell_type": "code",
   "execution_count": 12,
   "id": "e21d8262",
   "metadata": {
    "scrolled": true
   },
   "outputs": [
    {
     "data": {
      "text/plain": [
       "DCGAN_Generator_CIFAR10(\n",
       "  (project): Sequential(\n",
       "    (0): Flatten()\n",
       "    (1): Linear(in_features=512, out_features=16384, bias=True)\n",
       "  )\n",
       "  (main): Sequential(\n",
       "    (0): BatchNorm2d(256, eps=1e-05, momentum=0.1, affine=True, track_running_stats=True)\n",
       "    (1): Upsample(scale_factor=2.0, mode=nearest)\n",
       "    (2): Conv2d(256, 128, kernel_size=(3, 3), stride=(1, 1), padding=(1, 1), bias=False)\n",
       "    (3): BatchNorm2d(128, eps=1e-05, momentum=0.1, affine=True, track_running_stats=True)\n",
       "    (4): LeakyReLU(negative_slope=0.2, inplace=True)\n",
       "    (5): Upsample(scale_factor=2.0, mode=nearest)\n",
       "    (6): Conv2d(128, 64, kernel_size=(3, 3), stride=(1, 1), padding=(1, 1), bias=False)\n",
       "    (7): BatchNorm2d(64, eps=1e-05, momentum=0.1, affine=True, track_running_stats=True)\n",
       "    (8): LeakyReLU(negative_slope=0.2, inplace=True)\n",
       "    (9): Conv2d(64, 3, kernel_size=(3, 3), stride=(1, 1), padding=(1, 1))\n",
       "    (10): Sigmoid()\n",
       "  )\n",
       "  (trans_convs): ModuleList(\n",
       "    (0): Conv2d(128, 128, kernel_size=(1, 1), stride=(1, 1))\n",
       "    (1): Conv2d(64, 64, kernel_size=(1, 1), stride=(1, 1))\n",
       "  )\n",
       ")"
      ]
     },
     "execution_count": 12,
     "metadata": {},
     "output_type": "execute_result"
    }
   ],
   "source": [
    "G = datafree.models.generator.DCGAN_Generator_CIFAR10(nz=512, ngf=64, img_size=32, d=2, nc=3)\n",
    "G = prepare_model(G)\n",
    "ckpt_path = '/data/lijingru/DataFree/checkpoints/datafree-probkd/cifar10-resnet34-resnet18--probkd_L2_reinter.pth'\n",
    "ckpt = torch.load(ckpt_path, map_location='cuda:{}'.format(gpu))\n",
    "G.load_state_dict(ckpt['G_0'])\n",
    "G.eval()"
   ]
  },
  {
   "cell_type": "code",
   "execution_count": 13,
   "id": "be7a5a3d",
   "metadata": {},
   "outputs": [
    {
     "name": "stdout",
     "output_type": "stream",
     "text": [
      "KL(T(x_G0) || T(x_real)) = 6.3074\n"
     ]
    }
   ],
   "source": [
    "import torch.nn.functional as F\n",
    "z = torch.randn(256, 512).to(gpu)\n",
    "xs = G(z, l=0)\n",
    "x_out0, x_feat_inter = teacher(normalizer(xs), return_features=True)\n",
    "# l1_div = F.l1_loss(x_out.detach().cpu(), torch.FloatTensor(outputs), reduction='none').sum(1).mean(0)\n",
    "kl_div1 = F.kl_div(torch.log_softmax(x_out0.detach().cpu(), 1), torch.softmax(torch.FloatTensor(outputs), 1), reduction='batchmean')\n",
    "print('KL(T(x_G0) || T(x_real)) = {:.4f}'.format(kl_div1))\n",
    "# print('L1(T(x_G0) || T(x_real)) = {:.4f}'.format(l1_div))\n"
   ]
  },
  {
   "cell_type": "code",
   "execution_count": 14,
   "id": "1d3e37f4",
   "metadata": {},
   "outputs": [
    {
     "name": "stdout",
     "output_type": "stream",
     "text": [
      "{'neg_ent': -2.288909912109375, 't_conf': 0.2808639705181122, 'l_act': -0.1889744997024536}\n",
      "{'neg_ent': -2.2943294048309326, 't_conf': 0.02624056674540043, 'l_act': -0.18696367740631104}\n"
     ]
    }
   ],
   "source": [
    "loss = get_losses(x_out0, x_feat_inter)\n",
    "\n",
    "print(loss)\n",
    "loss = get_losses(torch.FloatTensor(outputs), torch.FloatTensor(x_feats))\n",
    "print(loss)"
   ]
  },
  {
   "cell_type": "code",
   "execution_count": 15,
   "id": "b4939225",
   "metadata": {
    "scrolled": false
   },
   "outputs": [
    {
     "data": {
      "text/plain": [
       "<seaborn.axisgrid.FacetGrid at 0x7f8a82dd8700>"
      ]
     },
     "execution_count": 15,
     "metadata": {},
     "output_type": "execute_result"
    },
    {
     "data": {
      "image/png": "[encoded data removed]",
      "text/plain": [
       "<Figure size 415x360 with 1 Axes>"
      ]
     },
     "metadata": {
      "needs_background": "light"
     },
     "output_type": "display_data"
    }
   ],
   "source": [
    "x_feat_inter = x_feat_inter.detach().cpu().numpy()\n",
    "import pandas as pd\n",
    "c = 15\n",
    "a = pd.DataFrame(data={'real': x_feats[:, c], 'syn':x_feat_inter[:, c]})\n",
    "sns.displot(a, kind='kde')"
   ]
  },
  {
   "cell_type": "code",
   "execution_count": 16,
   "id": "7f591a6a",
   "metadata": {
    "scrolled": false
   },
   "outputs": [
    {
     "data": {
      "text/plain": [
       "<AxesSubplot:xlabel='real', ylabel='count'>"
      ]
     },
     "execution_count": 16,
     "metadata": {},
     "output_type": "execute_result"
    },
    {
     "data": {
      "image/png": "[encoded data removed]",
      "text/plain": [
       "<Figure size 432x288 with 1 Axes>"
      ]
     },
     "metadata": {
      "needs_background": "light"
     },
     "output_type": "display_data"
    }
   ],
   "source": [
    "b = pd.DataFrame(data={'real': np.argmax(outputs, 1), 'syn': np.argmax(x_out0.detach().cpu().numpy(), 1)})\n",
    "sns.countplot(x='real', data=b)"
   ]
  },
  {
   "cell_type": "code",
   "execution_count": 17,
   "id": "e884f629",
   "metadata": {},
   "outputs": [
    {
     "data": {
      "text/plain": [
       "<AxesSubplot:xlabel='syn', ylabel='count'>"
      ]
     },
     "execution_count": 17,
     "metadata": {},
     "output_type": "execute_result"
    },
    {
     "data": {
      "image/png": "[encoded data removed]",
      "text/plain": [
       "<Figure size 432x288 with 1 Axes>"
      ]
     },
     "metadata": {
      "needs_background": "light"
     },
     "output_type": "display_data"
    }
   ],
   "source": [
    "sns.countplot(x='syn', data=b)"
   ]
  },
  {
   "cell_type": "code",
   "execution_count": 18,
   "id": "dcdbf450",
   "metadata": {},
   "outputs": [],
   "source": [
    "def print_mean_var(xs, ys):\n",
    "    print(xs.shape, ys.shape)\n",
    "    mu, sigma2 = np.mean(xs, (0,2,3)), np.var(xs, (0,2,3))\n",
    "    print(mu, sigma2)\n",
    "    for i in range(num_classes):\n",
    "        this_x = xs[ys == i]\n",
    "        mu_i, sigma2_i = np.mean(this_x, (0,2,3)), np.var(this_x, (0,2,3))\n",
    "        print(i, mu_i, sigma2_i)"
   ]
  },
  {
   "cell_type": "code",
   "execution_count": 19,
   "id": "a4d54604",
   "metadata": {},
   "outputs": [
    {
     "name": "stdout",
     "output_type": "stream",
     "text": [
      "(256, 3, 32, 32) (256,)\n",
      "[-0.46463606  0.55292684  0.5418226 ] [2.9193802 2.54968   2.5833285]\n",
      "0 [-0.61799806  0.9163718   0.78260124] [2.8358352 2.2632987 2.555391 ]\n",
      "1 [-0.6108469   0.26927507  0.39852902] [2.7795851 2.6046107 2.5747154]\n",
      "2 [-0.5504487   0.5106478   0.34146303] [2.9634542 2.6307034 2.6239908]\n",
      "3 [-0.28776836  0.6541828   0.6729447 ] [3.039659  2.4712656 2.5054247]\n",
      "4 [-0.36303872  0.2988691   0.56598306] [2.7032883 2.376074  2.2094688]\n",
      "5 [-0.46529534  0.25127742  0.1966701 ] [3.082611  2.8184211 2.676884 ]\n",
      "6 [-0.624849    0.94555336  0.3043093 ] [3.245097  2.589493  3.1571624]\n",
      "7 [-0.06349307  0.43688655  0.5731602 ] [3.0022652 2.5318055 2.4096217]\n",
      "8 [-0.3780957   0.49483988  0.804945  ] [2.6134005 2.250469  2.1184149]\n",
      "9 [-0.58920795  0.71971774  0.7436707 ] [2.7134624 2.37845   2.5463648]\n"
     ]
    }
   ],
   "source": [
    "print_mean_var(normalizer(xs).detach().cpu().numpy(), np.argmax(x_out0.detach().cpu().numpy(), 1))"
   ]
  },
  {
   "cell_type": "markdown",
   "id": "745df53c",
   "metadata": {},
   "source": [
    "### Feature map distribution and Categorial Distribution\n",
    "Visualization of distribution with the alignemnt at feature map level."
   ]
  },
  {
   "cell_type": "code",
   "execution_count": 20,
   "id": "723efe7d",
   "metadata": {},
   "outputs": [
    {
     "data": {
      "text/plain": [
       "DCGAN_Generator_CIFAR10(\n",
       "  (emb): Embedding(10, 50)\n",
       "  (project): Sequential(\n",
       "    (0): Flatten()\n",
       "    (1): Linear(in_features=562, out_features=16384, bias=True)\n",
       "  )\n",
       "  (main): Sequential(\n",
       "    (0): BatchNorm2d(256, eps=1e-05, momentum=0.1, affine=True, track_running_stats=True)\n",
       "    (1): Upsample(scale_factor=2.0, mode=nearest)\n",
       "    (2): Conv2d(256, 128, kernel_size=(3, 3), stride=(1, 1), padding=(1, 1), bias=False)\n",
       "    (3): BatchNorm2d(128, eps=1e-05, momentum=0.1, affine=True, track_running_stats=True)\n",
       "    (4): LeakyReLU(negative_slope=0.2, inplace=True)\n",
       "    (5): Upsample(scale_factor=2.0, mode=nearest)\n",
       "    (6): Conv2d(128, 64, kernel_size=(3, 3), stride=(1, 1), padding=(1, 1), bias=False)\n",
       "    (7): BatchNorm2d(64, eps=1e-05, momentum=0.1, affine=True, track_running_stats=True)\n",
       "    (8): LeakyReLU(negative_slope=0.2, inplace=True)\n",
       "    (9): Conv2d(64, 3, kernel_size=(3, 3), stride=(1, 1), padding=(1, 1))\n",
       "    (10): Sigmoid()\n",
       "  )\n",
       "  (trans_convs): ModuleList(\n",
       "    (0): Conv2d(128, 128, kernel_size=(1, 1), stride=(1, 1))\n",
       "    (1): Conv2d(64, 64, kernel_size=(1, 1), stride=(1, 1))\n",
       "  )\n",
       ")"
      ]
     },
     "execution_count": 20,
     "metadata": {},
     "output_type": "execute_result"
    }
   ],
   "source": [
    "G = datafree.models.generator.DCGAN_Generator_CIFAR10(nz=512, ngf=64, img_size=32, d=2, nc=3, cond=True)\n",
    "G = prepare_model(G)\n",
    "ckpt_path = '/data/lijingru/DataFree/checkpoints/datafree-probkd/cifar10-resnet34-resnet18--probkd_L2_line33_2.pth'\n",
    "ckpt = torch.load(ckpt_path, map_location='cuda:{}'.format(gpu))\n",
    "G.load_state_dict(ckpt['G_0'])\n",
    "G.eval()"
   ]
  },
  {
   "cell_type": "code",
   "execution_count": 21,
   "id": "a33cf28f",
   "metadata": {},
   "outputs": [],
   "source": [
    "import torch.nn.functional as F\n",
    "l = 0\n",
    "\n",
    "if l == 0:\n",
    "    func = normalizer\n",
    "else:\n",
    "    t_layer = getattr(teacher, 'layer{}'.format(l))\n",
    "#     func = lambda x: F.relu(t_layer[-1].bn2(t_layer[-1].conv2(F.relu(t_layer[-1].bn1(x)))))\n",
    "    func = lambda x: F.relu(x)\n",
    "# z = torch.randn(256, 512).to(gpu)\n",
    "layers = [teacher.bn1, teacher.layer1[-1].bn2, teacher.layer2[-1].bn2, teacher.layer3[-1].bn2]\n",
    "stats = [(f.running_mean.data, f.running_var.data) for f in layers]\n",
    "y_t = torch.randint(0, num_classes, (z.size(0), ), device='cuda:{}'.format(gpu))\n",
    "xs = G(z, l=l, y=y_t)\n",
    "b,c,h,w = xs.size()\n",
    "if l > 0:\n",
    "    mu_l, var_l = stats[l]\n",
    "#     dist = torch.distributions.Normal(mu_l, var_l)\n",
    "#     real_sample = dist.sample((b*h*w,))\n",
    "#     real_sample = real_sample.view([b, h, w, c]).permute(0,3,1,2)\n",
    "    real_sample = mu_l.unsqueeze(0).unsqueeze(2).unsqueeze(3) + torch.sqrt(var_l).unsqueeze(0).unsqueeze(2).unsqueeze(3) * torch.randn_like(xs.detach())\n",
    "#     print(stats[3])\n",
    "\n",
    "# G samples at l-th layer\n",
    "x_out, x_feat_inter_relu = teacher(func(xs), return_features=True, l=l)\n",
    "x_feat_inter_relu = x_feat_inter_relu.detach().cpu().numpy()\n",
    "# Real samples at l-th layer\n",
    "if l > 0:\n",
    "    x_out_r, x_feat_inter_relu_r = teacher(func(real_sample), return_features=True, l=l)\n",
    "    x_feat_inter_relu_r = x_feat_inter_relu_r.detach().cpu().numpy()"
   ]
  },
  {
   "cell_type": "code",
   "execution_count": 22,
   "id": "219afcc7",
   "metadata": {},
   "outputs": [
    {
     "name": "stdout",
     "output_type": "stream",
     "text": [
      "KL(T(x_G0) || T(x_real)) = 15.1380\n",
      "(256, 3, 32, 32) (256,)\n",
      "[-0.07603677  0.59253514  1.3678206 ] [1.3417808 1.7861143 1.3383904]\n",
      "0 [0.40146974 0.75124997 2.0562234 ] [1.1252387  1.7291673  0.87634414]\n",
      "1 [ 0.003657   -0.20067398  1.4917222 ] [1.4225738 2.3553584 1.4379989]\n",
      "2 [-0.2722337  0.612925   1.129899 ] [1.1616534 1.4815243 1.247998 ]\n",
      "3 [-0.13150743  0.79795444  1.313211  ] [1.3035566 1.877096  1.4822968]\n",
      "4 [-0.39756376  1.179716    1.5997293 ] [1.1069435  0.82019347 0.83010906]\n",
      "5 [0.3306638  0.17828752 1.1974624 ] [1.5254538 2.6471348 1.9506737]\n",
      "6 [-0.2390618   0.21198413  1.0585406 ] [1.191212  2.1416469 1.8148228]\n",
      "7 [-0.13623375  0.78961176  1.0743093 ] [1.7695115 1.3351818 1.311547 ]\n",
      "8 [-0.13086219  0.7149704   1.3000925 ] [1.0578184 1.3078617 1.0669775]\n",
      "9 [-0.17688774  0.8069058   1.3235768 ] [1.3434573 1.0270798 0.8999489]\n"
     ]
    }
   ],
   "source": [
    "# l1_div = F.l1_loss(x_out.detach().cpu(), torch.FloatTensor(outputs), reduction='none').sum(1).mean(0)\n",
    "kl_div1 = F.kl_div(torch.log_softmax(x_out.detach().cpu(), 1), torch.softmax(torch.FloatTensor(outputs), 1), reduction='batchmean')\n",
    "print('KL(T(x_G0) || T(x_real)) = {:.4f}'.format(kl_div1))\n",
    "print_mean_var(normalizer(xs).detach().cpu().numpy(), y_t.cpu().numpy())\n",
    "# print('L1(T(x_G0) || T(x_real)) = {:.4f}'.format(l1_div))"
   ]
  },
  {
   "cell_type": "code",
   "execution_count": 21,
   "id": "58c4d72e",
   "metadata": {},
   "outputs": [
    {
     "ename": "NameError",
     "evalue": "name 'mu_l' is not defined",
     "output_type": "error",
     "traceback": [
      "\u001b[0;31m---------------------------------------------------------------------------\u001b[0m",
      "\u001b[0;31mNameError\u001b[0m                                 Traceback (most recent call last)",
      "\u001b[0;32m<ipython-input-21-93119bf3ec77>\u001b[0m in \u001b[0;36m<module>\u001b[0;34m\u001b[0m\n\u001b[0;32m----> 1\u001b[0;31m \u001b[0mprint\u001b[0m\u001b[0;34m(\u001b[0m\u001b[0mmu_l\u001b[0m\u001b[0;34m,\u001b[0m \u001b[0mvar_l\u001b[0m\u001b[0;34m)\u001b[0m\u001b[0;34m\u001b[0m\u001b[0;34m\u001b[0m\u001b[0m\n\u001b[0m\u001b[1;32m      2\u001b[0m \u001b[0mnch\u001b[0m \u001b[0;34m=\u001b[0m \u001b[0mxs\u001b[0m\u001b[0;34m.\u001b[0m\u001b[0msize\u001b[0m\u001b[0;34m(\u001b[0m\u001b[0;36m1\u001b[0m\u001b[0;34m)\u001b[0m\u001b[0;34m\u001b[0m\u001b[0;34m\u001b[0m\u001b[0m\n\u001b[1;32m      3\u001b[0m \u001b[0;31m# print(torch.mean(real_sample, (0,2,3)), real_sample.permute(1,0,2,3).contiguous().view([nch, -1]).var(1, unbiased=False))\u001b[0m\u001b[0;34m\u001b[0m\u001b[0;34m\u001b[0m\u001b[0;34m\u001b[0m\u001b[0m\n\u001b[1;32m      4\u001b[0m \u001b[0mprint\u001b[0m\u001b[0;34m(\u001b[0m\u001b[0mtorch\u001b[0m\u001b[0;34m.\u001b[0m\u001b[0mmean\u001b[0m\u001b[0;34m(\u001b[0m\u001b[0mxs\u001b[0m\u001b[0;34m,\u001b[0m \u001b[0;34m(\u001b[0m\u001b[0;36m0\u001b[0m\u001b[0;34m,\u001b[0m\u001b[0;36m2\u001b[0m\u001b[0;34m,\u001b[0m\u001b[0;36m3\u001b[0m\u001b[0;34m)\u001b[0m\u001b[0;34m)\u001b[0m\u001b[0;34m,\u001b[0m \u001b[0mxs\u001b[0m\u001b[0;34m.\u001b[0m\u001b[0mpermute\u001b[0m\u001b[0;34m(\u001b[0m\u001b[0;36m1\u001b[0m\u001b[0;34m,\u001b[0m\u001b[0;36m0\u001b[0m\u001b[0;34m,\u001b[0m\u001b[0;36m2\u001b[0m\u001b[0;34m,\u001b[0m\u001b[0;36m3\u001b[0m\u001b[0;34m)\u001b[0m\u001b[0;34m.\u001b[0m\u001b[0mcontiguous\u001b[0m\u001b[0;34m(\u001b[0m\u001b[0;34m)\u001b[0m\u001b[0;34m.\u001b[0m\u001b[0mview\u001b[0m\u001b[0;34m(\u001b[0m\u001b[0;34m[\u001b[0m\u001b[0mnch\u001b[0m\u001b[0;34m,\u001b[0m \u001b[0;34m-\u001b[0m\u001b[0;36m1\u001b[0m\u001b[0;34m]\u001b[0m\u001b[0;34m)\u001b[0m\u001b[0;34m.\u001b[0m\u001b[0mvar\u001b[0m\u001b[0;34m(\u001b[0m\u001b[0;36m1\u001b[0m\u001b[0;34m,\u001b[0m \u001b[0munbiased\u001b[0m\u001b[0;34m=\u001b[0m\u001b[0;32mFalse\u001b[0m\u001b[0;34m)\u001b[0m\u001b[0;34m)\u001b[0m\u001b[0;34m\u001b[0m\u001b[0;34m\u001b[0m\u001b[0m\n",
      "\u001b[0;31mNameError\u001b[0m: name 'mu_l' is not defined"
     ]
    }
   ],
   "source": [
    "print(mu_l, var_l)\n",
    "nch = xs.size(1)\n",
    "# print(torch.mean(real_sample, (0,2,3)), real_sample.permute(1,0,2,3).contiguous().view([nch, -1]).var(1, unbiased=False))\n",
    "print(torch.mean(xs, (0,2,3)), xs.permute(1,0,2,3).contiguous().view([nch, -1]).var(1, unbiased=False))"
   ]
  },
  {
   "cell_type": "code",
   "execution_count": 23,
   "id": "bdcc5c87",
   "metadata": {
    "scrolled": true
   },
   "outputs": [
    {
     "data": {
      "text/plain": [
       "<seaborn.axisgrid.FacetGrid at 0x7f8ba2a93d60>"
      ]
     },
     "execution_count": 23,
     "metadata": {},
     "output_type": "execute_result"
    },
    {
     "data": {
      "image/png": "[encoded data removed]",
      "text/plain": [
       "<Figure size 424.25x360 with 1 Axes>"
      ]
     },
     "metadata": {
      "needs_background": "light"
     },
     "output_type": "display_data"
    }
   ],
   "source": [
    "c = 12\n",
    "# print(x_out[:, c])\n",
    "# print(x_out_r[:, c])\n",
    "# a = pd.DataFrame(data={'real': x_feats[:, c], 'syn':x_feat_inter[:, c], 'mean':x_feat_inter_relu[:, c]})\n",
    "# print(x_feats.shape, x_feat_inter.shape, x_feat_inter_relu.shape, x_feat_inter_relu_r.shape)\n",
    "# print(x_feat_inter_relu_r[:, c])\n",
    "all_dict_feat = {'real': x_feats[:, c], 'syn':x_feat_inter[:, c], 'mean':x_feat_inter_relu[:, c]}\n",
    "# if l > 0:\n",
    "#     all_dict['real_sample'] = x_feat_inter_relu_r[:, c]\n",
    "a = pd.DataFrame(data=all_dict_feat)\n",
    "sns.displot(a, kind='kde')"
   ]
  },
  {
   "cell_type": "code",
   "execution_count": 24,
   "id": "c1379182",
   "metadata": {},
   "outputs": [
    {
     "data": {
      "text/plain": [
       "<AxesSubplot:xlabel='real', ylabel='count'>"
      ]
     },
     "execution_count": 24,
     "metadata": {},
     "output_type": "execute_result"
    },
    {
     "data": {
      "image/png": "[encoded data removed]",
      "text/plain": [
       "<Figure size 432x288 with 1 Axes>"
      ]
     },
     "metadata": {
      "needs_background": "light"
     },
     "output_type": "display_data"
    }
   ],
   "source": [
    "# print(outputs, x_out, x_out_r)\n",
    "all_dict = {'real': np.argmax(outputs, 1), 'mean':x_out.argmax(1).detach().cpu().numpy()}\n",
    "if l > 0:\n",
    "    all_dict['real_sample'] = x_out_r.argmax(1).detach().cpu().numpy()\n",
    "b = pd.DataFrame(data=all_dict)\n",
    "sns.countplot(x='real', data=b)"
   ]
  },
  {
   "cell_type": "code",
   "execution_count": 25,
   "id": "c3fdf870",
   "metadata": {
    "scrolled": true
   },
   "outputs": [
    {
     "data": {
      "text/plain": [
       "<AxesSubplot:xlabel='mean', ylabel='count'>"
      ]
     },
     "execution_count": 25,
     "metadata": {},
     "output_type": "execute_result"
    },
    {
     "data": {
      "image/png": "[encoded data removed]",
      "text/plain": [
       "<Figure size 432x288 with 1 Axes>"
      ]
     },
     "metadata": {
      "needs_background": "light"
     },
     "output_type": "display_data"
    }
   ],
   "source": [
    "sns.countplot(x='mean', data=b)"
   ]
  },
  {
   "cell_type": "code",
   "execution_count": 26,
   "id": "a2e073d0",
   "metadata": {},
   "outputs": [
    {
     "name": "stdout",
     "output_type": "stream",
     "text": [
      "{'neg_ent': -2.286372184753418, 't_conf': 2.2865086066303775e-05, 'l_act': -0.21209749579429626}\n",
      "{'neg_ent': -2.2943294048309326, 't_conf': 0.02624056674540043, 'l_act': -0.18696367740631104}\n"
     ]
    }
   ],
   "source": [
    "loss_syn = get_losses(x_out.cpu(), torch.FloatTensor(x_feat_inter_relu))\n",
    "print(loss_syn)\n",
    "loss = get_losses(torch.FloatTensor(outputs), torch.FloatTensor(x_feats))\n",
    "print(loss)"
   ]
  },
  {
   "cell_type": "markdown",
   "id": "39eacff7",
   "metadata": {},
   "source": [
    "### t-SNE of samples by different $L$s\n",
    "Visualize data distribution at different levels of feature map."
   ]
  },
  {
   "cell_type": "code",
   "execution_count": 27,
   "id": "e62e398d",
   "metadata": {},
   "outputs": [],
   "source": [
    "from sklearn.manifold import TSNE\n",
    "from matplotlib import pyplot\n",
    "tsne = TSNE(n_components=2, n_iter=5000, init='pca', verbose=1)"
   ]
  },
  {
   "cell_type": "code",
   "execution_count": 28,
   "id": "eabe5443",
   "metadata": {},
   "outputs": [
    {
     "name": "stderr",
     "output_type": "stream",
     "text": [
      "/data/lijingru/anaconda3/envs/torch/lib/python3.8/site-packages/sklearn/manifold/_t_sne.py:790: FutureWarning: The default learning rate in TSNE will change from 200.0 to 'auto' in 1.2.\n",
      "  warnings.warn(\n"
     ]
    },
    {
     "name": "stdout",
     "output_type": "stream",
     "text": [
      "[t-SNE] Computing 91 nearest neighbors...\n",
      "[t-SNE] Indexed 256 samples in 0.000s...\n",
      "[t-SNE] Computed neighbors for 256 samples in 0.014s...\n",
      "[t-SNE] Computed conditional probabilities for sample 256 / 256\n",
      "[t-SNE] Mean sigma: 3.289136\n"
     ]
    },
    {
     "name": "stderr",
     "output_type": "stream",
     "text": [
      "/data/lijingru/anaconda3/envs/torch/lib/python3.8/site-packages/sklearn/manifold/_t_sne.py:982: FutureWarning: The PCA initialization in TSNE will change to have the standard deviation of PC1 equal to 1e-4 in 1.2. This will ensure better convergence.\n",
      "  warnings.warn(\n"
     ]
    },
    {
     "name": "stdout",
     "output_type": "stream",
     "text": [
      "[t-SNE] KL divergence after 250 iterations with early exaggeration: 58.186943\n",
      "[t-SNE] KL divergence after 1950 iterations: 0.224452\n"
     ]
    },
    {
     "data": {
      "text/plain": [
       "<matplotlib.collections.PathCollection at 0x7f8b964098b0>"
      ]
     },
     "execution_count": 28,
     "metadata": {},
     "output_type": "execute_result"
    },
    {
     "data": {
      "image/png": "[encoded data removed]",
      "text/plain": [
       "<Figure size 432x288 with 1 Axes>"
      ]
     },
     "metadata": {
      "needs_background": "light"
     },
     "output_type": "display_data"
    }
   ],
   "source": [
    "X_real = tsne.fit_transform(x_feats)\n",
    "# print(y_all)\n",
    "y_real = np.argmax(outputs, 1)\n",
    "pyplot.scatter(X_real[:, 0], X_real[:, 1], c=y_real)\n"
   ]
  },
  {
   "cell_type": "code",
   "execution_count": 29,
   "id": "a1a16dfd",
   "metadata": {
    "scrolled": true
   },
   "outputs": [
    {
     "name": "stderr",
     "output_type": "stream",
     "text": [
      "/data/lijingru/anaconda3/envs/torch/lib/python3.8/site-packages/sklearn/manifold/_t_sne.py:790: FutureWarning: The default learning rate in TSNE will change from 200.0 to 'auto' in 1.2.\n",
      "  warnings.warn(\n"
     ]
    },
    {
     "name": "stdout",
     "output_type": "stream",
     "text": [
      "[t-SNE] Computing 91 nearest neighbors...\n",
      "[t-SNE] Indexed 256 samples in 0.000s...\n",
      "[t-SNE] Computed neighbors for 256 samples in 0.034s...\n",
      "[t-SNE] Computed conditional probabilities for sample 256 / 256\n",
      "[t-SNE] Mean sigma: 1.704911\n"
     ]
    },
    {
     "name": "stderr",
     "output_type": "stream",
     "text": [
      "/data/lijingru/anaconda3/envs/torch/lib/python3.8/site-packages/sklearn/manifold/_t_sne.py:982: FutureWarning: The PCA initialization in TSNE will change to have the standard deviation of PC1 equal to 1e-4 in 1.2. This will ensure better convergence.\n",
      "  warnings.warn(\n"
     ]
    },
    {
     "name": "stdout",
     "output_type": "stream",
     "text": [
      "[t-SNE] KL divergence after 250 iterations with early exaggeration: 62.977577\n",
      "[t-SNE] KL divergence after 1250 iterations: 0.819059\n"
     ]
    },
    {
     "data": {
      "text/plain": [
       "<matplotlib.collections.PathCollection at 0x7f8b963d8580>"
      ]
     },
     "execution_count": 29,
     "metadata": {},
     "output_type": "execute_result"
    },
    {
     "data": {
      "image/png": "[encoded data removed]",
      "text/plain": [
       "<Figure size 432x288 with 1 Axes>"
      ]
     },
     "metadata": {
      "needs_background": "light"
     },
     "output_type": "display_data"
    }
   ],
   "source": [
    "X_real = tsne.fit_transform(x_feat_inter)\n",
    "# print(y_all)\n",
    "pyplot.scatter(X_real[:, 0], X_real[:, 1], c=x_out0.argmax(1).detach().cpu().numpy())"
   ]
  },
  {
   "cell_type": "code",
   "execution_count": 30,
   "id": "01823117",
   "metadata": {
    "scrolled": true
   },
   "outputs": [
    {
     "name": "stderr",
     "output_type": "stream",
     "text": [
      "/data/lijingru/anaconda3/envs/torch/lib/python3.8/site-packages/sklearn/manifold/_t_sne.py:790: FutureWarning: The default learning rate in TSNE will change from 200.0 to 'auto' in 1.2.\n",
      "  warnings.warn(\n"
     ]
    },
    {
     "name": "stdout",
     "output_type": "stream",
     "text": [
      "[t-SNE] Computing 91 nearest neighbors...\n",
      "[t-SNE] Indexed 256 samples in 0.000s...\n",
      "[t-SNE] Computed neighbors for 256 samples in 0.029s...\n",
      "[t-SNE] Computed conditional probabilities for sample 256 / 256\n",
      "[t-SNE] Mean sigma: 2.763563\n"
     ]
    },
    {
     "name": "stderr",
     "output_type": "stream",
     "text": [
      "/data/lijingru/anaconda3/envs/torch/lib/python3.8/site-packages/sklearn/manifold/_t_sne.py:982: FutureWarning: The PCA initialization in TSNE will change to have the standard deviation of PC1 equal to 1e-4 in 1.2. This will ensure better convergence.\n",
      "  warnings.warn(\n"
     ]
    },
    {
     "name": "stdout",
     "output_type": "stream",
     "text": [
      "[t-SNE] KL divergence after 250 iterations with early exaggeration: 45.109573\n",
      "[t-SNE] KL divergence after 1650 iterations: 0.043626\n"
     ]
    },
    {
     "data": {
      "text/plain": [
       "<matplotlib.collections.PathCollection at 0x7f8b963a50d0>"
      ]
     },
     "execution_count": 30,
     "metadata": {},
     "output_type": "execute_result"
    },
    {
     "data": {
      "image/png": "[encoded data removed]",
      "text/plain": [
       "<Figure size 432x288 with 1 Axes>"
      ]
     },
     "metadata": {
      "needs_background": "light"
     },
     "output_type": "display_data"
    }
   ],
   "source": [
    "X_real_syn = tsne.fit_transform(x_feat_inter_relu)\n",
    "# print(y_all)\n",
    "y_syn = x_out.argmax(1).detach().cpu().numpy()\n",
    "pyplot.scatter(X_real_syn[:, 0], X_real_syn[:, 1], c=y_syn)"
   ]
  },
  {
   "cell_type": "code",
   "execution_count": 62,
   "id": "76c30dd5",
   "metadata": {},
   "outputs": [
    {
     "data": {
      "text/plain": [
       "<matplotlib.collections.PathCollection at 0x7fd3ba21f3d0>"
      ]
     },
     "execution_count": 62,
     "metadata": {},
     "output_type": "execute_result"
    },
    {
     "data": {
      "image/png": "[encoded data removed]",
      "text/plain": [
       "<Figure size 432x288 with 1 Axes>"
      ]
     },
     "metadata": {
      "needs_background": "light"
     },
     "output_type": "display_data"
    }
   ],
   "source": [
    "pyplot.scatter(np.hstack([X_real_syn[:, 0], X_real[:, 0]]), np.hstack([X_real_syn[:, 1], X_real[:, 1]]), c=np.hstack([y_syn, y_real]))"
   ]
  },
  {
   "cell_type": "code",
   "execution_count": 25,
   "id": "86f526a3",
   "metadata": {
    "scrolled": false
   },
   "outputs": [
    {
     "name": "stdout",
     "output_type": "stream",
     "text": [
      "tensor([[0.5922, 0.7885, 0.4750,  ..., 0.3057, 0.3211, 0.2452],\n",
      "        [0.0000, 0.0000, 0.0000,  ..., 0.4029, 0.3721, 0.0774],\n",
      "        [0.0000, 0.0000, 0.1842,  ..., 0.7598, 1.1055, 1.0439],\n",
      "        ...,\n",
      "        [1.2949, 1.7612, 1.5024,  ..., 0.3091, 0.2729, 0.0411],\n",
      "        [0.1986, 0.1247, 0.0835,  ..., 0.1689, 0.1585, 0.0466],\n",
      "        [0.0560, 0.1115, 0.1753,  ..., 0.2808, 0.3218, 0.4398]],\n",
      "       device='cuda:2', grad_fn=<ViewBackward>)\n",
      "tensor([[-0.6498, -0.3631, -0.0377,  ..., -0.6857, -0.9038, -0.5048],\n",
      "        [-0.1964,  0.7827, -1.1429,  ..., -0.3629,  0.8135,  0.6026],\n",
      "        [ 0.7798, -0.1770,  0.1008,  ...,  0.4154,  0.1110,  0.5587],\n",
      "        ...,\n",
      "        [ 1.6031,  0.7584, -0.3596,  ...,  0.7885,  1.6501, -1.0623],\n",
      "        [-1.1224, -0.5100, -0.9289,  ...,  0.3350, -0.4403, -0.7031],\n",
      "        [-0.2611, -0.4282,  1.4104,  ...,  0.2826,  0.9727,  0.4883]],\n",
      "       device='cuda:2')\n"
     ]
    },
    {
     "ename": "RuntimeError",
     "evalue": "running_mean should contain 128 elements not 64",
     "output_type": "error",
     "traceback": [
      "\u001b[0;31m---------------------------------------------------------------------------\u001b[0m",
      "\u001b[0;31mRuntimeError\u001b[0m                              Traceback (most recent call last)",
      "\u001b[0;32m<ipython-input-25-0f333a68d12e>\u001b[0m in \u001b[0;36m<module>\u001b[0;34m\u001b[0m\n\u001b[1;32m     10\u001b[0m \u001b[0mprint\u001b[0m\u001b[0;34m(\u001b[0m\u001b[0mreal_real_sample1\u001b[0m\u001b[0;34m.\u001b[0m\u001b[0mpermute\u001b[0m\u001b[0;34m(\u001b[0m\u001b[0;36m1\u001b[0m\u001b[0;34m,\u001b[0m\u001b[0;36m0\u001b[0m\u001b[0;34m,\u001b[0m\u001b[0;36m2\u001b[0m\u001b[0;34m,\u001b[0m\u001b[0;36m3\u001b[0m\u001b[0;34m)\u001b[0m\u001b[0;34m.\u001b[0m\u001b[0mcontiguous\u001b[0m\u001b[0;34m(\u001b[0m\u001b[0;34m)\u001b[0m\u001b[0;34m.\u001b[0m\u001b[0mview\u001b[0m\u001b[0;34m(\u001b[0m\u001b[0;34m[\u001b[0m\u001b[0mnch\u001b[0m\u001b[0;34m,\u001b[0m \u001b[0;34m-\u001b[0m\u001b[0;36m1\u001b[0m\u001b[0;34m]\u001b[0m\u001b[0;34m)\u001b[0m\u001b[0;34m)\u001b[0m\u001b[0;34m\u001b[0m\u001b[0;34m\u001b[0m\u001b[0m\n\u001b[1;32m     11\u001b[0m \u001b[0mprint\u001b[0m\u001b[0;34m(\u001b[0m\u001b[0mreal_sample\u001b[0m\u001b[0;34m.\u001b[0m\u001b[0mpermute\u001b[0m\u001b[0;34m(\u001b[0m\u001b[0;36m1\u001b[0m\u001b[0;34m,\u001b[0m\u001b[0;36m0\u001b[0m\u001b[0;34m,\u001b[0m\u001b[0;36m2\u001b[0m\u001b[0;34m,\u001b[0m\u001b[0;36m3\u001b[0m\u001b[0;34m)\u001b[0m\u001b[0;34m.\u001b[0m\u001b[0mcontiguous\u001b[0m\u001b[0;34m(\u001b[0m\u001b[0;34m)\u001b[0m\u001b[0;34m.\u001b[0m\u001b[0mview\u001b[0m\u001b[0;34m(\u001b[0m\u001b[0;34m[\u001b[0m\u001b[0mnch\u001b[0m\u001b[0;34m,\u001b[0m \u001b[0;34m-\u001b[0m\u001b[0;36m1\u001b[0m\u001b[0;34m]\u001b[0m\u001b[0;34m)\u001b[0m\u001b[0;34m)\u001b[0m\u001b[0;34m\u001b[0m\u001b[0;34m\u001b[0m\u001b[0m\n\u001b[0;32m---> 12\u001b[0;31m \u001b[0mout_x\u001b[0m\u001b[0;34m,\u001b[0m \u001b[0mout_feat\u001b[0m \u001b[0;34m=\u001b[0m \u001b[0mteacher\u001b[0m\u001b[0;34m(\u001b[0m\u001b[0mnew_func2\u001b[0m\u001b[0;34m(\u001b[0m\u001b[0mreal_real_sample\u001b[0m\u001b[0;34m,\u001b[0m \u001b[0mreal_real_sample1\u001b[0m\u001b[0;34m)\u001b[0m\u001b[0;34m,\u001b[0m \u001b[0ml\u001b[0m\u001b[0;34m=\u001b[0m\u001b[0ml\u001b[0m\u001b[0;34m,\u001b[0m \u001b[0mreturn_features\u001b[0m\u001b[0;34m=\u001b[0m\u001b[0;32mTrue\u001b[0m\u001b[0;34m)\u001b[0m\u001b[0;34m\u001b[0m\u001b[0;34m\u001b[0m\u001b[0m\n\u001b[0m\u001b[1;32m     13\u001b[0m \u001b[0mall_dict\u001b[0m\u001b[0;34m[\u001b[0m\u001b[0;34m'concat_real'\u001b[0m\u001b[0;34m]\u001b[0m \u001b[0;34m=\u001b[0m \u001b[0mout_x\u001b[0m\u001b[0;34m.\u001b[0m\u001b[0margmax\u001b[0m\u001b[0;34m(\u001b[0m\u001b[0;36m1\u001b[0m\u001b[0;34m)\u001b[0m\u001b[0;34m.\u001b[0m\u001b[0mdetach\u001b[0m\u001b[0;34m(\u001b[0m\u001b[0;34m)\u001b[0m\u001b[0;34m.\u001b[0m\u001b[0mcpu\u001b[0m\u001b[0;34m(\u001b[0m\u001b[0;34m)\u001b[0m\u001b[0;34m.\u001b[0m\u001b[0mnumpy\u001b[0m\u001b[0;34m(\u001b[0m\u001b[0;34m)\u001b[0m\u001b[0;34m\u001b[0m\u001b[0;34m\u001b[0m\u001b[0m\n\u001b[1;32m     14\u001b[0m \u001b[0;31m# print(real_sample.shape)\u001b[0m\u001b[0;34m\u001b[0m\u001b[0;34m\u001b[0m\u001b[0;34m\u001b[0m\u001b[0m\n",
      "\u001b[0;32m<ipython-input-25-0f333a68d12e>\u001b[0m in \u001b[0;36m<lambda>\u001b[0;34m(x, y)\u001b[0m\n\u001b[1;32m      4\u001b[0m \u001b[0ml_func\u001b[0m \u001b[0;34m=\u001b[0m \u001b[0;32mlambda\u001b[0m \u001b[0mx\u001b[0m\u001b[0;34m:\u001b[0m \u001b[0mteacher\u001b[0m\u001b[0;34m.\u001b[0m\u001b[0mlayer2\u001b[0m\u001b[0;34m[\u001b[0m\u001b[0;34m:\u001b[0m\u001b[0;34m-\u001b[0m\u001b[0;36m1\u001b[0m\u001b[0;34m]\u001b[0m\u001b[0;34m(\u001b[0m\u001b[0mF\u001b[0m\u001b[0;34m.\u001b[0m\u001b[0mrelu\u001b[0m\u001b[0;34m(\u001b[0m\u001b[0mteacher\u001b[0m\u001b[0;34m.\u001b[0m\u001b[0mbn1\u001b[0m\u001b[0;34m(\u001b[0m\u001b[0mteacher\u001b[0m\u001b[0;34m.\u001b[0m\u001b[0mconv1\u001b[0m\u001b[0;34m(\u001b[0m\u001b[0mx\u001b[0m\u001b[0;34m)\u001b[0m\u001b[0;34m)\u001b[0m\u001b[0;34m)\u001b[0m\u001b[0;34m)\u001b[0m\u001b[0;34m\u001b[0m\u001b[0;34m\u001b[0m\u001b[0m\n\u001b[1;32m      5\u001b[0m \u001b[0mnew_func\u001b[0m \u001b[0;34m=\u001b[0m \u001b[0;32mlambda\u001b[0m \u001b[0mx\u001b[0m\u001b[0;34m:\u001b[0m \u001b[0mteacher\u001b[0m\u001b[0;34m.\u001b[0m\u001b[0mlayer2\u001b[0m\u001b[0;34m[\u001b[0m\u001b[0;34m-\u001b[0m\u001b[0;36m1\u001b[0m\u001b[0;34m]\u001b[0m\u001b[0;34m.\u001b[0m\u001b[0mconv1\u001b[0m\u001b[0;34m(\u001b[0m\u001b[0mx\u001b[0m\u001b[0;34m)\u001b[0m\u001b[0;34m\u001b[0m\u001b[0;34m\u001b[0m\u001b[0m\n\u001b[0;32m----> 6\u001b[0;31m \u001b[0mnew_func2\u001b[0m \u001b[0;34m=\u001b[0m \u001b[0;32mlambda\u001b[0m \u001b[0mx\u001b[0m\u001b[0;34m,\u001b[0m \u001b[0my\u001b[0m\u001b[0;34m:\u001b[0m \u001b[0mF\u001b[0m\u001b[0;34m.\u001b[0m\u001b[0mrelu\u001b[0m\u001b[0;34m(\u001b[0m\u001b[0mlayer\u001b[0m\u001b[0;34m[\u001b[0m\u001b[0;34m-\u001b[0m\u001b[0;36m1\u001b[0m\u001b[0;34m]\u001b[0m\u001b[0;34m.\u001b[0m\u001b[0mbn2\u001b[0m\u001b[0;34m(\u001b[0m\u001b[0mlayer\u001b[0m\u001b[0;34m[\u001b[0m\u001b[0;34m-\u001b[0m\u001b[0;36m1\u001b[0m\u001b[0;34m]\u001b[0m\u001b[0;34m.\u001b[0m\u001b[0mconv2\u001b[0m\u001b[0;34m(\u001b[0m\u001b[0mF\u001b[0m\u001b[0;34m.\u001b[0m\u001b[0mrelu\u001b[0m\u001b[0;34m(\u001b[0m\u001b[0mlayer\u001b[0m\u001b[0;34m[\u001b[0m\u001b[0;34m-\u001b[0m\u001b[0;36m1\u001b[0m\u001b[0;34m]\u001b[0m\u001b[0;34m.\u001b[0m\u001b[0mbn1\u001b[0m\u001b[0;34m(\u001b[0m\u001b[0mx\u001b[0m\u001b[0;34m)\u001b[0m\u001b[0;34m)\u001b[0m\u001b[0;34m)\u001b[0m\u001b[0;34m)\u001b[0m\u001b[0;34m+\u001b[0m\u001b[0mlayer\u001b[0m\u001b[0;34m[\u001b[0m\u001b[0;34m-\u001b[0m\u001b[0;36m1\u001b[0m\u001b[0;34m]\u001b[0m\u001b[0;34m.\u001b[0m\u001b[0mshortcut\u001b[0m\u001b[0;34m(\u001b[0m\u001b[0my\u001b[0m\u001b[0;34m)\u001b[0m\u001b[0;34m)\u001b[0m\u001b[0;34m\u001b[0m\u001b[0;34m\u001b[0m\u001b[0m\n\u001b[0m\u001b[1;32m      7\u001b[0m \u001b[0mreal_real_sample1\u001b[0m \u001b[0;34m=\u001b[0m \u001b[0ml_func\u001b[0m\u001b[0;34m(\u001b[0m\u001b[0mreal_x\u001b[0m\u001b[0;34m.\u001b[0m\u001b[0mto\u001b[0m\u001b[0;34m(\u001b[0m\u001b[0mgpu\u001b[0m\u001b[0;34m)\u001b[0m\u001b[0;34m)\u001b[0m\u001b[0;34m\u001b[0m\u001b[0;34m\u001b[0m\u001b[0m\n\u001b[1;32m      8\u001b[0m \u001b[0mreal_real_sample\u001b[0m \u001b[0;34m=\u001b[0m \u001b[0mnew_func\u001b[0m\u001b[0;34m(\u001b[0m\u001b[0mreal_real_sample1\u001b[0m\u001b[0;34m)\u001b[0m\u001b[0;34m\u001b[0m\u001b[0;34m\u001b[0m\u001b[0m\n",
      "\u001b[0;32m~/anaconda3/envs/torch/lib/python3.8/site-packages/torch/nn/modules/module.py\u001b[0m in \u001b[0;36m_call_impl\u001b[0;34m(self, *input, **kwargs)\u001b[0m\n\u001b[1;32m    887\u001b[0m             \u001b[0mresult\u001b[0m \u001b[0;34m=\u001b[0m \u001b[0mself\u001b[0m\u001b[0;34m.\u001b[0m\u001b[0m_slow_forward\u001b[0m\u001b[0;34m(\u001b[0m\u001b[0;34m*\u001b[0m\u001b[0minput\u001b[0m\u001b[0;34m,\u001b[0m \u001b[0;34m**\u001b[0m\u001b[0mkwargs\u001b[0m\u001b[0;34m)\u001b[0m\u001b[0;34m\u001b[0m\u001b[0;34m\u001b[0m\u001b[0m\n\u001b[1;32m    888\u001b[0m         \u001b[0;32melse\u001b[0m\u001b[0;34m:\u001b[0m\u001b[0;34m\u001b[0m\u001b[0;34m\u001b[0m\u001b[0m\n\u001b[0;32m--> 889\u001b[0;31m             \u001b[0mresult\u001b[0m \u001b[0;34m=\u001b[0m \u001b[0mself\u001b[0m\u001b[0;34m.\u001b[0m\u001b[0mforward\u001b[0m\u001b[0;34m(\u001b[0m\u001b[0;34m*\u001b[0m\u001b[0minput\u001b[0m\u001b[0;34m,\u001b[0m \u001b[0;34m**\u001b[0m\u001b[0mkwargs\u001b[0m\u001b[0;34m)\u001b[0m\u001b[0;34m\u001b[0m\u001b[0;34m\u001b[0m\u001b[0m\n\u001b[0m\u001b[1;32m    890\u001b[0m         for hook in itertools.chain(\n\u001b[1;32m    891\u001b[0m                 \u001b[0m_global_forward_hooks\u001b[0m\u001b[0;34m.\u001b[0m\u001b[0mvalues\u001b[0m\u001b[0;34m(\u001b[0m\u001b[0;34m)\u001b[0m\u001b[0;34m,\u001b[0m\u001b[0;34m\u001b[0m\u001b[0;34m\u001b[0m\u001b[0m\n",
      "\u001b[0;32m~/anaconda3/envs/torch/lib/python3.8/site-packages/torch/nn/modules/batchnorm.py\u001b[0m in \u001b[0;36mforward\u001b[0;34m(self, input)\u001b[0m\n\u001b[1;32m    133\u001b[0m         \u001b[0;32massert\u001b[0m \u001b[0mself\u001b[0m\u001b[0;34m.\u001b[0m\u001b[0mrunning_mean\u001b[0m \u001b[0;32mis\u001b[0m \u001b[0;32mNone\u001b[0m \u001b[0;32mor\u001b[0m \u001b[0misinstance\u001b[0m\u001b[0;34m(\u001b[0m\u001b[0mself\u001b[0m\u001b[0;34m.\u001b[0m\u001b[0mrunning_mean\u001b[0m\u001b[0;34m,\u001b[0m \u001b[0mtorch\u001b[0m\u001b[0;34m.\u001b[0m\u001b[0mTensor\u001b[0m\u001b[0;34m)\u001b[0m\u001b[0;34m\u001b[0m\u001b[0;34m\u001b[0m\u001b[0m\n\u001b[1;32m    134\u001b[0m         \u001b[0;32massert\u001b[0m \u001b[0mself\u001b[0m\u001b[0;34m.\u001b[0m\u001b[0mrunning_var\u001b[0m \u001b[0;32mis\u001b[0m \u001b[0;32mNone\u001b[0m \u001b[0;32mor\u001b[0m \u001b[0misinstance\u001b[0m\u001b[0;34m(\u001b[0m\u001b[0mself\u001b[0m\u001b[0;34m.\u001b[0m\u001b[0mrunning_var\u001b[0m\u001b[0;34m,\u001b[0m \u001b[0mtorch\u001b[0m\u001b[0;34m.\u001b[0m\u001b[0mTensor\u001b[0m\u001b[0;34m)\u001b[0m\u001b[0;34m\u001b[0m\u001b[0;34m\u001b[0m\u001b[0m\n\u001b[0;32m--> 135\u001b[0;31m         return F.batch_norm(\n\u001b[0m\u001b[1;32m    136\u001b[0m             \u001b[0minput\u001b[0m\u001b[0;34m,\u001b[0m\u001b[0;34m\u001b[0m\u001b[0;34m\u001b[0m\u001b[0m\n\u001b[1;32m    137\u001b[0m             \u001b[0;31m# If buffers are not to be tracked, ensure that they won't be updated\u001b[0m\u001b[0;34m\u001b[0m\u001b[0;34m\u001b[0m\u001b[0;34m\u001b[0m\u001b[0m\n",
      "\u001b[0;32m~/anaconda3/envs/torch/lib/python3.8/site-packages/torch/nn/functional.py\u001b[0m in \u001b[0;36mbatch_norm\u001b[0;34m(input, running_mean, running_var, weight, bias, training, momentum, eps)\u001b[0m\n\u001b[1;32m   2147\u001b[0m         \u001b[0m_verify_batch_size\u001b[0m\u001b[0;34m(\u001b[0m\u001b[0minput\u001b[0m\u001b[0;34m.\u001b[0m\u001b[0msize\u001b[0m\u001b[0;34m(\u001b[0m\u001b[0;34m)\u001b[0m\u001b[0;34m)\u001b[0m\u001b[0;34m\u001b[0m\u001b[0;34m\u001b[0m\u001b[0m\n\u001b[1;32m   2148\u001b[0m \u001b[0;34m\u001b[0m\u001b[0m\n\u001b[0;32m-> 2149\u001b[0;31m     return torch.batch_norm(\n\u001b[0m\u001b[1;32m   2150\u001b[0m         \u001b[0minput\u001b[0m\u001b[0;34m,\u001b[0m \u001b[0mweight\u001b[0m\u001b[0;34m,\u001b[0m \u001b[0mbias\u001b[0m\u001b[0;34m,\u001b[0m \u001b[0mrunning_mean\u001b[0m\u001b[0;34m,\u001b[0m \u001b[0mrunning_var\u001b[0m\u001b[0;34m,\u001b[0m \u001b[0mtraining\u001b[0m\u001b[0;34m,\u001b[0m \u001b[0mmomentum\u001b[0m\u001b[0;34m,\u001b[0m \u001b[0meps\u001b[0m\u001b[0;34m,\u001b[0m \u001b[0mtorch\u001b[0m\u001b[0;34m.\u001b[0m\u001b[0mbackends\u001b[0m\u001b[0;34m.\u001b[0m\u001b[0mcudnn\u001b[0m\u001b[0;34m.\u001b[0m\u001b[0menabled\u001b[0m\u001b[0;34m\u001b[0m\u001b[0;34m\u001b[0m\u001b[0m\n\u001b[1;32m   2151\u001b[0m     )\n",
      "\u001b[0;31mRuntimeError\u001b[0m: running_mean should contain 128 elements not 64"
     ]
    }
   ],
   "source": [
    "_, (real_x, real_y) = enumerate(real_loader).__next__()\n",
    "# print(real_x.shape, real_y.shape)\n",
    "layer = getattr(teacher, 'layer{}'.format(l))\n",
    "l_func = lambda x: teacher.layer2[:-1](F.relu(teacher.bn1(teacher.conv1(x))))\n",
    "new_func = lambda x: teacher.layer2[-1].conv1(x)\n",
    "new_func2 = lambda x, y: F.relu(layer[-1].bn2(layer[-1].conv2(F.relu(layer[-1].bn1(x))))+layer[-1].shortcut(y))\n",
    "real_real_sample1 = l_func(real_x.to(gpu))\n",
    "real_real_sample = new_func(real_real_sample1)\n",
    "b,c,h,w = real_sample.size()\n",
    "print(real_real_sample1.permute(1,0,2,3).contiguous().view([nch, -1]))\n",
    "print(real_sample.permute(1,0,2,3).contiguous().view([nch, -1]))\n",
    "out_x, out_feat = teacher(new_func2(real_real_sample, real_real_sample1), l=l, return_features=True)\n",
    "all_dict['concat_real'] = out_x.argmax(1).detach().cpu().numpy()\n",
    "# print(real_sample.shape)\n",
    "b = pd.DataFrame(data=all_dict)\n",
    "sns.countplot(x='concat_real', data=b)\n",
    "# print(torch.mean(real_real_sample, (0,2,3)), real_real_sample.permute(1,0,2,3).contiguous().view([nch, -1]).var(1))\n",
    "# print(torch.mean(func(real_sample), (0,2,3)), func(real_sample).permute(1,0,2,3).contiguous().view([nch, -1]).var(1, unbiased=False))\n",
    "# print(mu_l, var_l)\n",
    "# print(torch.mean(real_sample, (0,2,3)), real_sample.permute(1,0,2,3).contiguous().view([nch, -1]).var(1))\n",
    "# print(real_sample)\n",
    "# print('************')\n",
    "# print(real_real_sample)\n",
    "# print(torch.mean(real_sample, (2, 3)).var(0))\n",
    "# print(torch.mean(real_real_sample, (2, 3)).var(0))\n",
    "# dist = torch.distributions.Normal(mu_l, var_l)\n",
    "# this_real_sample = dist.sample((b*h*w,))\n",
    "# this_real_sample = this_real_sample.view([b, h, w, c]).permute(0,3,1,2)\n",
    "\n",
    "# print(torch.mean(this_real_sample, (0,2,3)), this_real_sample.permute(1,0,2,3).contiguous().view([nch, -1]).var(1))\n",
    "\n",
    "# print(mu_l - torch.mean(real_sample, (2, 3)).min(0)[0])\n",
    "# print(mu_l - torch.mean(real_real_sample, (2,3)).min(0)[0])"
   ]
  },
  {
   "cell_type": "code",
   "execution_count": null,
   "id": "bb74fdb9",
   "metadata": {},
   "outputs": [],
   "source": []
  },
  {
   "cell_type": "code",
   "execution_count": 26,
   "id": "0d222e1d",
   "metadata": {},
   "outputs": [
    {
     "ename": "FileNotFoundError",
     "evalue": "[Errno 2] No such file or directory: '/data/lijingru/DataFree/checkpoints/datafree-probkd/cifar10-resnet34-resnet18--probkd_L2_bn1_shortcut.pth'",
     "output_type": "error",
     "traceback": [
      "\u001b[0;31m---------------------------------------------------------------------------\u001b[0m",
      "\u001b[0;31mFileNotFoundError\u001b[0m                         Traceback (most recent call last)",
      "\u001b[0;32m<ipython-input-26-e4edb0e08803>\u001b[0m in \u001b[0;36m<module>\u001b[0;34m\u001b[0m\n\u001b[1;32m      5\u001b[0m \u001b[0mG\u001b[0m \u001b[0;34m=\u001b[0m \u001b[0mprepare_model\u001b[0m\u001b[0;34m(\u001b[0m\u001b[0mG\u001b[0m\u001b[0;34m)\u001b[0m\u001b[0;34m\u001b[0m\u001b[0;34m\u001b[0m\u001b[0m\n\u001b[1;32m      6\u001b[0m \u001b[0mckpt_path\u001b[0m \u001b[0;34m=\u001b[0m \u001b[0;34m'/data/lijingru/DataFree/checkpoints/datafree-probkd/cifar10-resnet34-resnet18--probkd_L2_bn1_shortcut.pth'\u001b[0m\u001b[0;34m\u001b[0m\u001b[0;34m\u001b[0m\u001b[0m\n\u001b[0;32m----> 7\u001b[0;31m \u001b[0mckpt\u001b[0m \u001b[0;34m=\u001b[0m \u001b[0mtorch\u001b[0m\u001b[0;34m.\u001b[0m\u001b[0mload\u001b[0m\u001b[0;34m(\u001b[0m\u001b[0mckpt_path\u001b[0m\u001b[0;34m,\u001b[0m \u001b[0mmap_location\u001b[0m\u001b[0;34m=\u001b[0m\u001b[0;34m'cuda:{}'\u001b[0m\u001b[0;34m.\u001b[0m\u001b[0mformat\u001b[0m\u001b[0;34m(\u001b[0m\u001b[0mgpu\u001b[0m\u001b[0;34m)\u001b[0m\u001b[0;34m)\u001b[0m\u001b[0;34m\u001b[0m\u001b[0;34m\u001b[0m\u001b[0m\n\u001b[0m\u001b[1;32m      8\u001b[0m \u001b[0mG\u001b[0m\u001b[0;34m.\u001b[0m\u001b[0mload_state_dict\u001b[0m\u001b[0;34m(\u001b[0m\u001b[0mckpt\u001b[0m\u001b[0;34m[\u001b[0m\u001b[0;34m'G_{}'\u001b[0m\u001b[0;34m.\u001b[0m\u001b[0mformat\u001b[0m\u001b[0;34m(\u001b[0m\u001b[0ml\u001b[0m\u001b[0;34m)\u001b[0m\u001b[0;34m]\u001b[0m\u001b[0;34m)\u001b[0m\u001b[0;34m\u001b[0m\u001b[0;34m\u001b[0m\u001b[0m\n\u001b[1;32m      9\u001b[0m \u001b[0mG\u001b[0m\u001b[0;34m.\u001b[0m\u001b[0meval\u001b[0m\u001b[0;34m(\u001b[0m\u001b[0;34m)\u001b[0m\u001b[0;34m\u001b[0m\u001b[0;34m\u001b[0m\u001b[0m\n",
      "\u001b[0;32m~/anaconda3/envs/torch/lib/python3.8/site-packages/torch/serialization.py\u001b[0m in \u001b[0;36mload\u001b[0;34m(f, map_location, pickle_module, **pickle_load_args)\u001b[0m\n\u001b[1;32m    577\u001b[0m         \u001b[0mpickle_load_args\u001b[0m\u001b[0;34m[\u001b[0m\u001b[0;34m'encoding'\u001b[0m\u001b[0;34m]\u001b[0m \u001b[0;34m=\u001b[0m \u001b[0;34m'utf-8'\u001b[0m\u001b[0;34m\u001b[0m\u001b[0;34m\u001b[0m\u001b[0m\n\u001b[1;32m    578\u001b[0m \u001b[0;34m\u001b[0m\u001b[0m\n\u001b[0;32m--> 579\u001b[0;31m     \u001b[0;32mwith\u001b[0m \u001b[0m_open_file_like\u001b[0m\u001b[0;34m(\u001b[0m\u001b[0mf\u001b[0m\u001b[0;34m,\u001b[0m \u001b[0;34m'rb'\u001b[0m\u001b[0;34m)\u001b[0m \u001b[0;32mas\u001b[0m \u001b[0mopened_file\u001b[0m\u001b[0;34m:\u001b[0m\u001b[0;34m\u001b[0m\u001b[0;34m\u001b[0m\u001b[0m\n\u001b[0m\u001b[1;32m    580\u001b[0m         \u001b[0;32mif\u001b[0m \u001b[0m_is_zipfile\u001b[0m\u001b[0;34m(\u001b[0m\u001b[0mopened_file\u001b[0m\u001b[0;34m)\u001b[0m\u001b[0;34m:\u001b[0m\u001b[0;34m\u001b[0m\u001b[0;34m\u001b[0m\u001b[0m\n\u001b[1;32m    581\u001b[0m             \u001b[0;31m# The zipfile reader is going to advance the current file position.\u001b[0m\u001b[0;34m\u001b[0m\u001b[0;34m\u001b[0m\u001b[0;34m\u001b[0m\u001b[0m\n",
      "\u001b[0;32m~/anaconda3/envs/torch/lib/python3.8/site-packages/torch/serialization.py\u001b[0m in \u001b[0;36m_open_file_like\u001b[0;34m(name_or_buffer, mode)\u001b[0m\n\u001b[1;32m    228\u001b[0m \u001b[0;32mdef\u001b[0m \u001b[0m_open_file_like\u001b[0m\u001b[0;34m(\u001b[0m\u001b[0mname_or_buffer\u001b[0m\u001b[0;34m,\u001b[0m \u001b[0mmode\u001b[0m\u001b[0;34m)\u001b[0m\u001b[0;34m:\u001b[0m\u001b[0;34m\u001b[0m\u001b[0;34m\u001b[0m\u001b[0m\n\u001b[1;32m    229\u001b[0m     \u001b[0;32mif\u001b[0m \u001b[0m_is_path\u001b[0m\u001b[0;34m(\u001b[0m\u001b[0mname_or_buffer\u001b[0m\u001b[0;34m)\u001b[0m\u001b[0;34m:\u001b[0m\u001b[0;34m\u001b[0m\u001b[0;34m\u001b[0m\u001b[0m\n\u001b[0;32m--> 230\u001b[0;31m         \u001b[0;32mreturn\u001b[0m \u001b[0m_open_file\u001b[0m\u001b[0;34m(\u001b[0m\u001b[0mname_or_buffer\u001b[0m\u001b[0;34m,\u001b[0m \u001b[0mmode\u001b[0m\u001b[0;34m)\u001b[0m\u001b[0;34m\u001b[0m\u001b[0;34m\u001b[0m\u001b[0m\n\u001b[0m\u001b[1;32m    231\u001b[0m     \u001b[0;32melse\u001b[0m\u001b[0;34m:\u001b[0m\u001b[0;34m\u001b[0m\u001b[0;34m\u001b[0m\u001b[0m\n\u001b[1;32m    232\u001b[0m         \u001b[0;32mif\u001b[0m \u001b[0;34m'w'\u001b[0m \u001b[0;32min\u001b[0m \u001b[0mmode\u001b[0m\u001b[0;34m:\u001b[0m\u001b[0;34m\u001b[0m\u001b[0;34m\u001b[0m\u001b[0m\n",
      "\u001b[0;32m~/anaconda3/envs/torch/lib/python3.8/site-packages/torch/serialization.py\u001b[0m in \u001b[0;36m__init__\u001b[0;34m(self, name, mode)\u001b[0m\n\u001b[1;32m    209\u001b[0m \u001b[0;32mclass\u001b[0m \u001b[0m_open_file\u001b[0m\u001b[0;34m(\u001b[0m\u001b[0m_opener\u001b[0m\u001b[0;34m)\u001b[0m\u001b[0;34m:\u001b[0m\u001b[0;34m\u001b[0m\u001b[0;34m\u001b[0m\u001b[0m\n\u001b[1;32m    210\u001b[0m     \u001b[0;32mdef\u001b[0m \u001b[0m__init__\u001b[0m\u001b[0;34m(\u001b[0m\u001b[0mself\u001b[0m\u001b[0;34m,\u001b[0m \u001b[0mname\u001b[0m\u001b[0;34m,\u001b[0m \u001b[0mmode\u001b[0m\u001b[0;34m)\u001b[0m\u001b[0;34m:\u001b[0m\u001b[0;34m\u001b[0m\u001b[0;34m\u001b[0m\u001b[0m\n\u001b[0;32m--> 211\u001b[0;31m         \u001b[0msuper\u001b[0m\u001b[0;34m(\u001b[0m\u001b[0m_open_file\u001b[0m\u001b[0;34m,\u001b[0m \u001b[0mself\u001b[0m\u001b[0;34m)\u001b[0m\u001b[0;34m.\u001b[0m\u001b[0m__init__\u001b[0m\u001b[0;34m(\u001b[0m\u001b[0mopen\u001b[0m\u001b[0;34m(\u001b[0m\u001b[0mname\u001b[0m\u001b[0;34m,\u001b[0m \u001b[0mmode\u001b[0m\u001b[0;34m)\u001b[0m\u001b[0;34m)\u001b[0m\u001b[0;34m\u001b[0m\u001b[0;34m\u001b[0m\u001b[0m\n\u001b[0m\u001b[1;32m    212\u001b[0m \u001b[0;34m\u001b[0m\u001b[0m\n\u001b[1;32m    213\u001b[0m     \u001b[0;32mdef\u001b[0m \u001b[0m__exit__\u001b[0m\u001b[0;34m(\u001b[0m\u001b[0mself\u001b[0m\u001b[0;34m,\u001b[0m \u001b[0;34m*\u001b[0m\u001b[0margs\u001b[0m\u001b[0;34m)\u001b[0m\u001b[0;34m:\u001b[0m\u001b[0;34m\u001b[0m\u001b[0;34m\u001b[0m\u001b[0m\n",
      "\u001b[0;31mFileNotFoundError\u001b[0m: [Errno 2] No such file or directory: '/data/lijingru/DataFree/checkpoints/datafree-probkd/cifar10-resnet34-resnet18--probkd_L2_bn1_shortcut.pth'"
     ]
    }
   ],
   "source": [
    "# import pandas as pd\n",
    "l = 1\n",
    "layer = getattr(teacher, 'layer{}'.format(l))\n",
    "G = datafree.models.generator.DCGAN_Generator_CIFAR10_more(nz=512, ngf=64, img_size=32, d=2, nc=3)\n",
    "G = prepare_model(G)\n",
    "ckpt_path = '/data/lijingru/DataFree/checkpoints/datafree-probkd/cifar10-resnet34-resnet18--probkd_L2_bn1_shortcut.pth'\n",
    "ckpt = torch.load(ckpt_path, map_location='cuda:{}'.format(gpu))\n",
    "G.load_state_dict(ckpt['G_{}'.format(l)])\n",
    "G.eval()\n",
    "\n",
    "z = torch.randn(256, 512).to(gpu)\n",
    "xs, real_x = G(z, l=l)\n",
    "x_out, x_feat_inters = teacher(new_func2(xs, real_x), return_features=True, l=l)\n",
    "x_feat_inters = x_feat_inters.detach().cpu().numpy()\n",
    "print(x_feat_inters.shape)\n",
    "\n",
    "c = 15\n",
    "a = pd.DataFrame(data={'real': x_feats[:, c], 'mean':x_feat_inter_relu[:, c]})\n",
    "sns.displot(a, kind='kde')"
   ]
  },
  {
   "cell_type": "code",
   "execution_count": 39,
   "id": "f02ca687",
   "metadata": {},
   "outputs": [
    {
     "name": "stdout",
     "output_type": "stream",
     "text": [
      "{'neg_ent': -2.2820231914520264, 't_conf': 0.3896195888519287, 'l_act': -0.17438821494579315}\n",
      "tensor([[-0.0771,  0.2484, -0.2477,  ...,  0.1499,  0.0925,  0.1499],\n",
      "        [-0.0529,  0.1834, -0.1757,  ...,  0.1203,  0.0693,  0.0949],\n",
      "        [-0.0820,  0.2229, -0.2485,  ...,  0.1559,  0.0712,  0.1564],\n",
      "        ...,\n",
      "        [-0.0652,  0.1867, -0.1700,  ...,  0.0839,  0.0560,  0.0732],\n",
      "        [-0.1253,  0.1327, -0.2509,  ...,  0.0498,  0.0075,  0.1808],\n",
      "        [-0.0603,  0.1768, -0.0876,  ...,  0.0055,  0.0496, -0.0445]],\n",
      "       device='cuda:2', grad_fn=<MeanBackward1>) tensor([[-0.0467,  0.2571, -0.2314,  ...,  0.1285,  0.0977,  0.1550],\n",
      "        [-0.0355,  0.1898, -0.1674,  ...,  0.0916,  0.0705,  0.1047],\n",
      "        [-0.0522,  0.2334, -0.2371,  ...,  0.1278,  0.0816,  0.1704],\n",
      "        ...,\n",
      "        [-0.0420,  0.1958, -0.1646,  ...,  0.0676,  0.0654,  0.0810],\n",
      "        [-0.0993,  0.1369, -0.2444,  ...,  0.0258,  0.0139,  0.1925],\n",
      "        [-0.0411,  0.1826, -0.0950,  ..., -0.0083,  0.0667, -0.0385]],\n",
      "       device='cuda:2', grad_fn=<MeanBackward1>)\n"
     ]
    }
   ],
   "source": [
    "print(get_losses(x_out.cpu(), torch.FloatTensor(x_feat_inters)))\n",
    "print(torch.mean(new_func(real_x), (2,3)), torch.mean(xs, (2,3)))"
   ]
  },
  {
   "cell_type": "code",
   "execution_count": 36,
   "id": "9cca1f38",
   "metadata": {},
   "outputs": [
    {
     "data": {
      "text/plain": [
       "<AxesSubplot:xlabel='real', ylabel='count'>"
      ]
     },
     "execution_count": 36,
     "metadata": {},
     "output_type": "execute_result"
    },
    {
     "data": {
      "image/png": "[encoded data removed]",
      "text/plain": [
       "<Figure size 432x288 with 1 Axes>"
      ]
     },
     "metadata": {
      "needs_background": "light"
     },
     "output_type": "display_data"
    }
   ],
   "source": [
    "all_dict = {'real': np.argmax(outputs, 1), 'mean':x_out.argmax(1).detach().cpu().numpy()}\n",
    "b = pd.DataFrame(data=all_dict)\n",
    "sns.countplot(x='real', data=b)"
   ]
  },
  {
   "cell_type": "code",
   "execution_count": 37,
   "id": "b1fdc8e5",
   "metadata": {},
   "outputs": [
    {
     "data": {
      "text/plain": [
       "<AxesSubplot:xlabel='mean', ylabel='count'>"
      ]
     },
     "execution_count": 37,
     "metadata": {},
     "output_type": "execute_result"
    },
    {
     "data": {
      "image/png": "[encoded data removed]",
      "text/plain": [
       "<Figure size 432x288 with 1 Axes>"
      ]
     },
     "metadata": {
      "needs_background": "light"
     },
     "output_type": "display_data"
    }
   ],
   "source": [
    "sns.countplot(x='mean', data=b)"
   ]
  },
  {
   "cell_type": "code",
   "execution_count": null,
   "id": "40dac69f",
   "metadata": {},
   "outputs": [],
   "source": []
  }
 ],
 "metadata": {
  "kernelspec": {
   "display_name": "Python 3",
   "language": "python",
   "name": "python3"
  },
  "language_info": {
   "codemirror_mode": {
    "name": "ipython",
    "version": 3
   },
   "file_extension": ".py",
   "mimetype": "text/x-python",
   "name": "python",
   "nbconvert_exporter": "python",
   "pygments_lexer": "ipython3",
   "version": "3.8.8"
  }
 },
 "nbformat": 4,
 "nbformat_minor": 5
}
