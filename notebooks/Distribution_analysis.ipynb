{
 "cells": [
  {
   "cell_type": "code",
   "execution_count": 1,
   "id": "0e2f6a64",
   "metadata": {},
   "outputs": [],
   "source": [
    "import torch\n",
    "import numpy as np\n",
    "import seaborn as sns\n",
    "\n",
    "import sys\n",
    "sys.path.append('..')\n",
    "import datafree"
   ]
  },
  {
   "cell_type": "code",
   "execution_count": 2,
   "id": "8401cacc",
   "metadata": {},
   "outputs": [
    {
     "name": "stdout",
     "output_type": "stream",
     "text": [
      "Thu Mar 10 13:17:57 2022       \r\n",
      "+-----------------------------------------------------------------------------+\r\n",
      "| NVIDIA-SMI 460.67       Driver Version: 460.67       CUDA Version: 11.2     |\r\n",
      "|-------------------------------+----------------------+----------------------+\r\n",
      "| GPU  Name        Persistence-M| Bus-Id        Disp.A | Volatile Uncorr. ECC |\r\n",
      "| Fan  Temp  Perf  Pwr:Usage/Cap|         Memory-Usage | GPU-Util  Compute M. |\r\n",
      "|                               |                      |               MIG M. |\r\n",
      "|===============================+======================+======================|\r\n",
      "|   0  GeForce RTX 3090    Off  | 00000000:04:00.0 Off |                  N/A |\r\n",
      "| 71%   64C    P2   316W / 350W |  11419MiB / 24268MiB |     88%      Default |\r\n",
      "|                               |                      |                  N/A |\r\n",
      "+-------------------------------+----------------------+----------------------+\r\n",
      "|   1  GeForce RTX 3090    Off  | 00000000:05:00.0 Off |                  N/A |\r\n",
      "| 83%   70C    P2   322W / 350W |   9055MiB / 24268MiB |     87%      Default |\r\n",
      "|                               |                      |                  N/A |\r\n",
      "+-------------------------------+----------------------+----------------------+\r\n",
      "|   2  GeForce RTX 3090    Off  | 00000000:08:00.0 Off |                  N/A |\r\n",
      "| 91%   75C    P2   339W / 350W |   7707MiB / 24268MiB |     99%      Default |\r\n",
      "|                               |                      |                  N/A |\r\n",
      "+-------------------------------+----------------------+----------------------+\r\n",
      "|   3  GeForce RTX 3090    Off  | 00000000:09:00.0 Off |                  N/A |\r\n",
      "| 98%   78C    P2   337W / 350W |   7707MiB / 24268MiB |    100%      Default |\r\n",
      "|                               |                      |                  N/A |\r\n",
      "+-------------------------------+----------------------+----------------------+\r\n",
      "|   4  GeForce RTX 3090    Off  | 00000000:84:00.0 Off |                  N/A |\r\n",
      "| 84%   71C    P2   340W / 350W |  15322MiB / 24268MiB |     99%      Default |\r\n",
      "|                               |                      |                  N/A |\r\n",
      "+-------------------------------+----------------------+----------------------+\r\n",
      "|   5  GeForce RTX 3090    Off  | 00000000:85:00.0 Off |                  N/A |\r\n",
      "| 86%   72C    P2   310W / 350W |  10621MiB / 24268MiB |     83%      Default |\r\n",
      "|                               |                      |                  N/A |\r\n",
      "+-------------------------------+----------------------+----------------------+\r\n",
      "|   6  GeForce RTX 3090    Off  | 00000000:89:00.0 Off |                  N/A |\r\n",
      "| 70%   64C    P2   336W / 350W |   7707MiB / 24268MiB |     98%      Default |\r\n",
      "|                               |                      |                  N/A |\r\n",
      "+-------------------------------+----------------------+----------------------+\r\n",
      "                                                                               \r\n",
      "+-----------------------------------------------------------------------------+\r\n",
      "| Processes:                                                                  |\r\n",
      "|  GPU   GI   CI        PID   Type   Process name                  GPU Memory |\r\n",
      "|        ID   ID                                                   Usage      |\r\n",
      "|=============================================================================|\r\n",
      "|    0   N/A  N/A      6562      C   ...onda3/envs/ssl/bin/python    11417MiB |\r\n",
      "|    1   N/A  N/A     24439      C   ...onda3/envs/ssl/bin/python     9053MiB |\r\n",
      "|    2   N/A  N/A     52702      C   python                           7705MiB |\r\n",
      "|    3   N/A  N/A     31620      C   python                           7705MiB |\r\n",
      "|    4   N/A  N/A      9479      C   python                           7615MiB |\r\n",
      "|    4   N/A  N/A     52128      C   python                           7705MiB |\r\n",
      "|    5   N/A  N/A     38140      C   ...onda3/envs/ssl/bin/python    10619MiB |\r\n",
      "|    6   N/A  N/A     32521      C   python                           7705MiB |\r\n",
      "+-----------------------------------------------------------------------------+\r\n"
     ]
    }
   ],
   "source": [
    "!nvidia-smi"
   ]
  },
  {
   "cell_type": "code",
   "execution_count": 3,
   "id": "a953b1c1",
   "metadata": {},
   "outputs": [],
   "source": [
    "distributed = False\n",
    "gpu = 2\n",
    "batch_size = 256\n",
    "workers = 8\n",
    "num_classes = 10\n",
    "def prepare_model(model):\n",
    "    if not torch.cuda.is_available():\n",
    "        print('using CPU, this will be slow')\n",
    "        return model\n",
    "    elif distributed:\n",
    "        # For multiprocessing distributed, DistributedDataParallel constructor\n",
    "        # should always set the single device scope, otherwise,\n",
    "        # DistributedDataParallel will use all available devices.\n",
    "        if args.gpu is not None:\n",
    "            torch.cuda.set_device(gpu)\n",
    "            model.cuda(gpu)\n",
    "            # When using a single GPU per process and per\n",
    "            # DistributedDataParallel, we need to divide the batch size\n",
    "            # ourselves based on the total number of GPUs we have\n",
    "            batch_size = int(batch_size / ngpus_per_node)\n",
    "            workers = int((workers + ngpus_per_node - 1) / ngpus_per_node)\n",
    "            model = torch.nn.parallel.DistributedDataParallel(model, device_ids=[gpu])\n",
    "            return model\n",
    "        else:\n",
    "            model.cuda()\n",
    "            model = torch.nn.parallel.DistributedDataParallel(model)\n",
    "            return model\n",
    "    elif gpu is not None:\n",
    "        torch.cuda.set_device(gpu)\n",
    "        model = model.cuda(gpu)\n",
    "        return model\n",
    "    else:\n",
    "        # DataParallel will divide and allocate batch_size to all available GPUs\n",
    "        model = torch.nn.DataParallel(model).cuda()\n",
    "        return model"
   ]
  },
  {
   "cell_type": "code",
   "execution_count": 4,
   "id": "a914eac0",
   "metadata": {},
   "outputs": [
    {
     "data": {
      "text/plain": [
       "ResNet(\n",
       "  (conv1): Conv2d(3, 64, kernel_size=(3, 3), stride=(1, 1), padding=(1, 1), bias=False)\n",
       "  (bn1): BatchNorm2d(64, eps=1e-05, momentum=0.1, affine=True, track_running_stats=True)\n",
       "  (layer1): Sequential(\n",
       "    (0): BasicBlock(\n",
       "      (conv1): Conv2d(64, 64, kernel_size=(3, 3), stride=(1, 1), padding=(1, 1), bias=False)\n",
       "      (bn1): BatchNorm2d(64, eps=1e-05, momentum=0.1, affine=True, track_running_stats=True)\n",
       "      (conv2): Conv2d(64, 64, kernel_size=(3, 3), stride=(1, 1), padding=(1, 1), bias=False)\n",
       "      (bn2): BatchNorm2d(64, eps=1e-05, momentum=0.1, affine=True, track_running_stats=True)\n",
       "      (shortcut): Sequential()\n",
       "    )\n",
       "    (1): BasicBlock(\n",
       "      (conv1): Conv2d(64, 64, kernel_size=(3, 3), stride=(1, 1), padding=(1, 1), bias=False)\n",
       "      (bn1): BatchNorm2d(64, eps=1e-05, momentum=0.1, affine=True, track_running_stats=True)\n",
       "      (conv2): Conv2d(64, 64, kernel_size=(3, 3), stride=(1, 1), padding=(1, 1), bias=False)\n",
       "      (bn2): BatchNorm2d(64, eps=1e-05, momentum=0.1, affine=True, track_running_stats=True)\n",
       "      (shortcut): Sequential()\n",
       "    )\n",
       "    (2): BasicBlock(\n",
       "      (conv1): Conv2d(64, 64, kernel_size=(3, 3), stride=(1, 1), padding=(1, 1), bias=False)\n",
       "      (bn1): BatchNorm2d(64, eps=1e-05, momentum=0.1, affine=True, track_running_stats=True)\n",
       "      (conv2): Conv2d(64, 64, kernel_size=(3, 3), stride=(1, 1), padding=(1, 1), bias=False)\n",
       "      (bn2): BatchNorm2d(64, eps=1e-05, momentum=0.1, affine=True, track_running_stats=True)\n",
       "      (shortcut): Sequential()\n",
       "    )\n",
       "  )\n",
       "  (layer2): Sequential(\n",
       "    (0): BasicBlock(\n",
       "      (conv1): Conv2d(64, 128, kernel_size=(3, 3), stride=(2, 2), padding=(1, 1), bias=False)\n",
       "      (bn1): BatchNorm2d(128, eps=1e-05, momentum=0.1, affine=True, track_running_stats=True)\n",
       "      (conv2): Conv2d(128, 128, kernel_size=(3, 3), stride=(1, 1), padding=(1, 1), bias=False)\n",
       "      (bn2): BatchNorm2d(128, eps=1e-05, momentum=0.1, affine=True, track_running_stats=True)\n",
       "      (shortcut): Sequential(\n",
       "        (0): Conv2d(64, 128, kernel_size=(1, 1), stride=(2, 2), bias=False)\n",
       "        (1): BatchNorm2d(128, eps=1e-05, momentum=0.1, affine=True, track_running_stats=True)\n",
       "      )\n",
       "    )\n",
       "    (1): BasicBlock(\n",
       "      (conv1): Conv2d(128, 128, kernel_size=(3, 3), stride=(1, 1), padding=(1, 1), bias=False)\n",
       "      (bn1): BatchNorm2d(128, eps=1e-05, momentum=0.1, affine=True, track_running_stats=True)\n",
       "      (conv2): Conv2d(128, 128, kernel_size=(3, 3), stride=(1, 1), padding=(1, 1), bias=False)\n",
       "      (bn2): BatchNorm2d(128, eps=1e-05, momentum=0.1, affine=True, track_running_stats=True)\n",
       "      (shortcut): Sequential()\n",
       "    )\n",
       "    (2): BasicBlock(\n",
       "      (conv1): Conv2d(128, 128, kernel_size=(3, 3), stride=(1, 1), padding=(1, 1), bias=False)\n",
       "      (bn1): BatchNorm2d(128, eps=1e-05, momentum=0.1, affine=True, track_running_stats=True)\n",
       "      (conv2): Conv2d(128, 128, kernel_size=(3, 3), stride=(1, 1), padding=(1, 1), bias=False)\n",
       "      (bn2): BatchNorm2d(128, eps=1e-05, momentum=0.1, affine=True, track_running_stats=True)\n",
       "      (shortcut): Sequential()\n",
       "    )\n",
       "    (3): BasicBlock(\n",
       "      (conv1): Conv2d(128, 128, kernel_size=(3, 3), stride=(1, 1), padding=(1, 1), bias=False)\n",
       "      (bn1): BatchNorm2d(128, eps=1e-05, momentum=0.1, affine=True, track_running_stats=True)\n",
       "      (conv2): Conv2d(128, 128, kernel_size=(3, 3), stride=(1, 1), padding=(1, 1), bias=False)\n",
       "      (bn2): BatchNorm2d(128, eps=1e-05, momentum=0.1, affine=True, track_running_stats=True)\n",
       "      (shortcut): Sequential()\n",
       "    )\n",
       "  )\n",
       "  (layer3): Sequential(\n",
       "    (0): BasicBlock(\n",
       "      (conv1): Conv2d(128, 256, kernel_size=(3, 3), stride=(2, 2), padding=(1, 1), bias=False)\n",
       "      (bn1): BatchNorm2d(256, eps=1e-05, momentum=0.1, affine=True, track_running_stats=True)\n",
       "      (conv2): Conv2d(256, 256, kernel_size=(3, 3), stride=(1, 1), padding=(1, 1), bias=False)\n",
       "      (bn2): BatchNorm2d(256, eps=1e-05, momentum=0.1, affine=True, track_running_stats=True)\n",
       "      (shortcut): Sequential(\n",
       "        (0): Conv2d(128, 256, kernel_size=(1, 1), stride=(2, 2), bias=False)\n",
       "        (1): BatchNorm2d(256, eps=1e-05, momentum=0.1, affine=True, track_running_stats=True)\n",
       "      )\n",
       "    )\n",
       "    (1): BasicBlock(\n",
       "      (conv1): Conv2d(256, 256, kernel_size=(3, 3), stride=(1, 1), padding=(1, 1), bias=False)\n",
       "      (bn1): BatchNorm2d(256, eps=1e-05, momentum=0.1, affine=True, track_running_stats=True)\n",
       "      (conv2): Conv2d(256, 256, kernel_size=(3, 3), stride=(1, 1), padding=(1, 1), bias=False)\n",
       "      (bn2): BatchNorm2d(256, eps=1e-05, momentum=0.1, affine=True, track_running_stats=True)\n",
       "      (shortcut): Sequential()\n",
       "    )\n",
       "    (2): BasicBlock(\n",
       "      (conv1): Conv2d(256, 256, kernel_size=(3, 3), stride=(1, 1), padding=(1, 1), bias=False)\n",
       "      (bn1): BatchNorm2d(256, eps=1e-05, momentum=0.1, affine=True, track_running_stats=True)\n",
       "      (conv2): Conv2d(256, 256, kernel_size=(3, 3), stride=(1, 1), padding=(1, 1), bias=False)\n",
       "      (bn2): BatchNorm2d(256, eps=1e-05, momentum=0.1, affine=True, track_running_stats=True)\n",
       "      (shortcut): Sequential()\n",
       "    )\n",
       "    (3): BasicBlock(\n",
       "      (conv1): Conv2d(256, 256, kernel_size=(3, 3), stride=(1, 1), padding=(1, 1), bias=False)\n",
       "      (bn1): BatchNorm2d(256, eps=1e-05, momentum=0.1, affine=True, track_running_stats=True)\n",
       "      (conv2): Conv2d(256, 256, kernel_size=(3, 3), stride=(1, 1), padding=(1, 1), bias=False)\n",
       "      (bn2): BatchNorm2d(256, eps=1e-05, momentum=0.1, affine=True, track_running_stats=True)\n",
       "      (shortcut): Sequential()\n",
       "    )\n",
       "    (4): BasicBlock(\n",
       "      (conv1): Conv2d(256, 256, kernel_size=(3, 3), stride=(1, 1), padding=(1, 1), bias=False)\n",
       "      (bn1): BatchNorm2d(256, eps=1e-05, momentum=0.1, affine=True, track_running_stats=True)\n",
       "      (conv2): Conv2d(256, 256, kernel_size=(3, 3), stride=(1, 1), padding=(1, 1), bias=False)\n",
       "      (bn2): BatchNorm2d(256, eps=1e-05, momentum=0.1, affine=True, track_running_stats=True)\n",
       "      (shortcut): Sequential()\n",
       "    )\n",
       "    (5): BasicBlock(\n",
       "      (conv1): Conv2d(256, 256, kernel_size=(3, 3), stride=(1, 1), padding=(1, 1), bias=False)\n",
       "      (bn1): BatchNorm2d(256, eps=1e-05, momentum=0.1, affine=True, track_running_stats=True)\n",
       "      (conv2): Conv2d(256, 256, kernel_size=(3, 3), stride=(1, 1), padding=(1, 1), bias=False)\n",
       "      (bn2): BatchNorm2d(256, eps=1e-05, momentum=0.1, affine=True, track_running_stats=True)\n",
       "      (shortcut): Sequential()\n",
       "    )\n",
       "  )\n",
       "  (layer4): Sequential(\n",
       "    (0): BasicBlock(\n",
       "      (conv1): Conv2d(256, 512, kernel_size=(3, 3), stride=(2, 2), padding=(1, 1), bias=False)\n",
       "      (bn1): BatchNorm2d(512, eps=1e-05, momentum=0.1, affine=True, track_running_stats=True)\n",
       "      (conv2): Conv2d(512, 512, kernel_size=(3, 3), stride=(1, 1), padding=(1, 1), bias=False)\n",
       "      (bn2): BatchNorm2d(512, eps=1e-05, momentum=0.1, affine=True, track_running_stats=True)\n",
       "      (shortcut): Sequential(\n",
       "        (0): Conv2d(256, 512, kernel_size=(1, 1), stride=(2, 2), bias=False)\n",
       "        (1): BatchNorm2d(512, eps=1e-05, momentum=0.1, affine=True, track_running_stats=True)\n",
       "      )\n",
       "    )\n",
       "    (1): BasicBlock(\n",
       "      (conv1): Conv2d(512, 512, kernel_size=(3, 3), stride=(1, 1), padding=(1, 1), bias=False)\n",
       "      (bn1): BatchNorm2d(512, eps=1e-05, momentum=0.1, affine=True, track_running_stats=True)\n",
       "      (conv2): Conv2d(512, 512, kernel_size=(3, 3), stride=(1, 1), padding=(1, 1), bias=False)\n",
       "      (bn2): BatchNorm2d(512, eps=1e-05, momentum=0.1, affine=True, track_running_stats=True)\n",
       "      (shortcut): Sequential()\n",
       "    )\n",
       "    (2): BasicBlock(\n",
       "      (conv1): Conv2d(512, 512, kernel_size=(3, 3), stride=(1, 1), padding=(1, 1), bias=False)\n",
       "      (bn1): BatchNorm2d(512, eps=1e-05, momentum=0.1, affine=True, track_running_stats=True)\n",
       "      (conv2): Conv2d(512, 512, kernel_size=(3, 3), stride=(1, 1), padding=(1, 1), bias=False)\n",
       "      (bn2): BatchNorm2d(512, eps=1e-05, momentum=0.1, affine=True, track_running_stats=True)\n",
       "      (shortcut): Sequential()\n",
       "    )\n",
       "  )\n",
       "  (linear): Linear(in_features=512, out_features=10, bias=True)\n",
       ")"
      ]
     },
     "execution_count": 4,
     "metadata": {},
     "output_type": "execute_result"
    }
   ],
   "source": [
    "from torchvision.datasets import CIFAR10\n",
    "import registry\n",
    "student = registry.get_model('resnet18', num_classes=num_classes)\n",
    "teacher = registry.get_model('resnet34', num_classes=num_classes, pretrained=True).eval()\n",
    "normalizer = datafree.utils.Normalizer(**registry.NORMALIZE_DICT['cifar10'])\n",
    "student = prepare_model(student)\n",
    "teacher = prepare_model(teacher)\n",
    "teacher.load_state_dict(torch.load('/data/lijingru/DataFree/checkpoints/scratch/cifar10_resnet34.pth', map_location='cpu')['state_dict'])\n",
    "teacher.eval()"
   ]
  },
  {
   "cell_type": "code",
   "execution_count": 5,
   "id": "b2ec6f79",
   "metadata": {},
   "outputs": [],
   "source": [
    "def get_losses(t_out, t_feat):\n",
    "    p = F.softmax(t_out, dim=1).mean(0)\n",
    "    ent = (p*p.log()).sum()\n",
    "    loss_oh = F.cross_entropy( t_out, t_out.max(1)[1])\n",
    "    loss_act = - t_feat.abs().mean()\n",
    "    return {'neg_ent': ent.item(), 't_conf': loss_oh.item(), 'l_act': loss_act.item()}"
   ]
  },
  {
   "cell_type": "code",
   "execution_count": 6,
   "id": "9d8eb80e",
   "metadata": {
    "scrolled": true
   },
   "outputs": [
    {
     "name": "stdout",
     "output_type": "stream",
     "text": [
      "Files already downloaded and verified\n",
      "Files already downloaded and verified\n"
     ]
    }
   ],
   "source": [
    "import numpy as np\n",
    "num_classes, ori_dataset, val_dataset = registry.get_dataset(name='cifar10', data_root='/data/lijingru/cifar10/')\n",
    "random_idx = np.random.randint(0, len(ori_dataset), (256,))"
   ]
  },
  {
   "cell_type": "code",
   "execution_count": 7,
   "id": "de44a8f0",
   "metadata": {},
   "outputs": [],
   "source": [
    "x_feats = []\n",
    "outputs = []\n",
    "real_loader = torch.utils.data.DataLoader(ori_dataset, batch_size=256, shuffle=False, num_workers=workers, pin_memory=True)\n",
    "for data in real_loader:\n",
    "    x, y = data\n",
    "    x = x.to(gpu)\n",
    "    output, x_feat = teacher(x, return_features=True)\n",
    "    x_feats.append(x_feat.detach().cpu().numpy())\n",
    "    outputs.append(output.detach().cpu().numpy())"
   ]
  },
  {
   "cell_type": "code",
   "execution_count": 8,
   "id": "835a2edd",
   "metadata": {},
   "outputs": [
    {
     "name": "stderr",
     "output_type": "stream",
     "text": [
      "/data/lijingru/anaconda3/envs/torch/lib/python3.8/site-packages/seaborn/distributions.py:2557: FutureWarning: `distplot` is a deprecated function and will be removed in a future version. Please adapt your code to use either `displot` (a figure-level function with similar flexibility) or `histplot` (an axes-level function for histograms).\n",
      "  warnings.warn(msg, FutureWarning)\n",
      "/data/lijingru/anaconda3/envs/torch/lib/python3.8/site-packages/seaborn/distributions.py:2056: FutureWarning: The `axis` variable is no longer used and will be removed. Instead, assign variables directly to `x` or `y`.\n",
      "  warnings.warn(msg, FutureWarning)\n"
     ]
    },
    {
     "data": {
      "text/plain": [
       "<AxesSubplot:ylabel='Density'>"
      ]
     },
     "execution_count": 8,
     "metadata": {},
     "output_type": "execute_result"
    },
    {
     "data": {
      "image/png": "[encoded data removed]",
      "text/plain": [
       "<Figure size 432x288 with 1 Axes>"
      ]
     },
     "metadata": {
      "needs_background": "light"
     },
     "output_type": "display_data"
    }
   ],
   "source": [
    "x_feats_all = np.vstack(x_feats)\n",
    "outputs_all = np.vstack(outputs)\n",
    "\n",
    "x_feats = x_feats_all[random_idx]\n",
    "outputs = outputs_all[random_idx]\n",
    "c_feat = x_feats[:, 15]\n",
    "sns.distplot(c_feat, rug=True)"
   ]
  },
  {
   "cell_type": "code",
   "execution_count": 9,
   "id": "e21d8262",
   "metadata": {
    "scrolled": true
   },
   "outputs": [
    {
     "data": {
      "text/plain": [
       "DCGAN_Generator_CIFAR10(\n",
       "  (project): Sequential(\n",
       "    (0): Flatten()\n",
       "    (1): Linear(in_features=512, out_features=16384, bias=True)\n",
       "  )\n",
       "  (main): Sequential(\n",
       "    (0): BatchNorm2d(256, eps=1e-05, momentum=0.1, affine=True, track_running_stats=True)\n",
       "    (1): Upsample(scale_factor=2.0, mode=nearest)\n",
       "    (2): Conv2d(256, 128, kernel_size=(3, 3), stride=(1, 1), padding=(1, 1), bias=False)\n",
       "    (3): BatchNorm2d(128, eps=1e-05, momentum=0.1, affine=True, track_running_stats=True)\n",
       "    (4): LeakyReLU(negative_slope=0.2, inplace=True)\n",
       "    (5): Upsample(scale_factor=2.0, mode=nearest)\n",
       "    (6): Conv2d(128, 64, kernel_size=(3, 3), stride=(1, 1), padding=(1, 1), bias=False)\n",
       "    (7): BatchNorm2d(64, eps=1e-05, momentum=0.1, affine=True, track_running_stats=True)\n",
       "    (8): LeakyReLU(negative_slope=0.2, inplace=True)\n",
       "    (9): Conv2d(64, 3, kernel_size=(3, 3), stride=(1, 1), padding=(1, 1))\n",
       "    (10): Sigmoid()\n",
       "  )\n",
       "  (trans_convs): ModuleList(\n",
       "    (0): Conv2d(128, 128, kernel_size=(1, 1), stride=(1, 1))\n",
       "    (1): Conv2d(64, 64, kernel_size=(1, 1), stride=(1, 1))\n",
       "  )\n",
       ")"
      ]
     },
     "execution_count": 9,
     "metadata": {},
     "output_type": "execute_result"
    }
   ],
   "source": [
    "G = datafree.models.generator.DCGAN_Generator_CIFAR10(nz=512, ngf=64, img_size=32, d=2, nc=3)\n",
    "G = prepare_model(G)\n",
    "ckpt_path = '/data/lijingru/DataFree/checkpoints/datafree-probkd/cifar10-resnet34-resnet18--probkd_L2_reinter.pth'\n",
    "ckpt = torch.load(ckpt_path, map_location='cuda:{}'.format(gpu))\n",
    "G.load_state_dict(ckpt['G_0'])\n",
    "G.eval()"
   ]
  },
  {
   "cell_type": "code",
   "execution_count": 10,
   "id": "be7a5a3d",
   "metadata": {},
   "outputs": [
    {
     "name": "stdout",
     "output_type": "stream",
     "text": [
      "KL(T(x_G0) || T(x_real)) = 6.5231\n"
     ]
    }
   ],
   "source": [
    "import torch.nn.functional as F\n",
    "z = torch.randn(256, 512).to(gpu)\n",
    "xs = G(z, l=0)\n",
    "x_out, x_feat_inter = teacher(normalizer(xs), return_features=True)\n",
    "# l1_div = F.l1_loss(x_out.detach().cpu(), torch.FloatTensor(outputs), reduction='none').sum(1).mean(0)\n",
    "kl_div1 = F.kl_div(torch.log_softmax(x_out.detach().cpu(), 1), torch.softmax(torch.FloatTensor(outputs), 1), reduction='batchmean')\n",
    "print('KL(T(x_G0) || T(x_real)) = {:.4f}'.format(kl_div1))\n",
    "# print('L1(T(x_G0) || T(x_real)) = {:.4f}'.format(l1_div))\n"
   ]
  },
  {
   "cell_type": "code",
   "execution_count": 11,
   "id": "1d3e37f4",
   "metadata": {},
   "outputs": [
    {
     "name": "stdout",
     "output_type": "stream",
     "text": [
      "{'neg_ent': -2.292445659637451, 't_conf': 0.22097910940647125, 'l_act': -0.18799948692321777}\n",
      "{'neg_ent': -2.261824369430542, 't_conf': 0.0018974109552800655, 'l_act': -0.17903229594230652}\n"
     ]
    }
   ],
   "source": [
    "loss = get_losses(x_out, x_feat_inter)\n",
    "\n",
    "print(loss)\n",
    "loss = get_losses(torch.FloatTensor(outputs), torch.FloatTensor(x_feats))\n",
    "print(loss)"
   ]
  },
  {
   "cell_type": "code",
   "execution_count": 12,
   "id": "b4939225",
   "metadata": {
    "scrolled": true
   },
   "outputs": [
    {
     "data": {
      "text/plain": [
       "<seaborn.axisgrid.FacetGrid at 0x7f8f2f061850>"
      ]
     },
     "execution_count": 12,
     "metadata": {},
     "output_type": "execute_result"
    },
    {
     "data": {
      "image/png": "[encoded data removed]",
      "text/plain": [
       "<Figure size 415x360 with 1 Axes>"
      ]
     },
     "metadata": {
      "needs_background": "light"
     },
     "output_type": "display_data"
    }
   ],
   "source": [
    "x_feat_inter = x_feat_inter.detach().cpu().numpy()\n",
    "import pandas as pd\n",
    "c = 15\n",
    "a = pd.DataFrame(data={'real': x_feats[:, c], 'syn':x_feat_inter[:, c]})\n",
    "sns.displot(a, kind='kde')"
   ]
  },
  {
   "cell_type": "code",
   "execution_count": 13,
   "id": "7f591a6a",
   "metadata": {
    "scrolled": true
   },
   "outputs": [
    {
     "data": {
      "text/plain": [
       "<AxesSubplot:xlabel='real', ylabel='count'>"
      ]
     },
     "execution_count": 13,
     "metadata": {},
     "output_type": "execute_result"
    },
    {
     "data": {
      "image/png": "[encoded data removed]",
      "text/plain": [
       "<Figure size 432x288 with 1 Axes>"
      ]
     },
     "metadata": {
      "needs_background": "light"
     },
     "output_type": "display_data"
    }
   ],
   "source": [
    "b = pd.DataFrame(data={'real': np.argmax(outputs, 1), 'syn': np.argmax(x_out.detach().cpu().numpy(), 1)})\n",
    "sns.countplot(x='real', data=b)"
   ]
  },
  {
   "cell_type": "code",
   "execution_count": 14,
   "id": "e884f629",
   "metadata": {},
   "outputs": [
    {
     "data": {
      "text/plain": [
       "<AxesSubplot:xlabel='syn', ylabel='count'>"
      ]
     },
     "execution_count": 14,
     "metadata": {},
     "output_type": "execute_result"
    },
    {
     "data": {
      "image/png": "[encoded data removed]",
      "text/plain": [
       "<Figure size 432x288 with 1 Axes>"
      ]
     },
     "metadata": {
      "needs_background": "light"
     },
     "output_type": "display_data"
    }
   ],
   "source": [
    "sns.countplot(x='syn', data=b)"
   ]
  },
  {
   "cell_type": "code",
   "execution_count": 62,
   "id": "723efe7d",
   "metadata": {},
   "outputs": [
    {
     "data": {
      "text/plain": [
       "DCGAN_Generator_CIFAR10(\n",
       "  (project): Sequential(\n",
       "    (0): Flatten()\n",
       "    (1): Linear(in_features=512, out_features=16384, bias=True)\n",
       "  )\n",
       "  (main): Sequential(\n",
       "    (0): BatchNorm2d(256, eps=1e-05, momentum=0.1, affine=True, track_running_stats=True)\n",
       "    (1): Upsample(scale_factor=2.0, mode=nearest)\n",
       "    (2): Conv2d(256, 128, kernel_size=(3, 3), stride=(1, 1), padding=(1, 1), bias=False)\n",
       "    (3): BatchNorm2d(128, eps=1e-05, momentum=0.1, affine=True, track_running_stats=True)\n",
       "    (4): LeakyReLU(negative_slope=0.2, inplace=True)\n",
       "    (5): Upsample(scale_factor=2.0, mode=nearest)\n",
       "    (6): Conv2d(128, 64, kernel_size=(3, 3), stride=(1, 1), padding=(1, 1), bias=False)\n",
       "    (7): BatchNorm2d(64, eps=1e-05, momentum=0.1, affine=True, track_running_stats=True)\n",
       "    (8): LeakyReLU(negative_slope=0.2, inplace=True)\n",
       "    (9): Conv2d(64, 3, kernel_size=(3, 3), stride=(1, 1), padding=(1, 1))\n",
       "    (10): Sigmoid()\n",
       "  )\n",
       "  (trans_convs): ModuleList(\n",
       "    (0): Conv2d(128, 128, kernel_size=(1, 1), stride=(1, 1))\n",
       "    (1): Conv2d(64, 64, kernel_size=(1, 1), stride=(1, 1))\n",
       "  )\n",
       ")"
      ]
     },
     "execution_count": 62,
     "metadata": {},
     "output_type": "execute_result"
    }
   ],
   "source": [
    "G = datafree.models.generator.DCGAN_Generator_CIFAR10(nz=512, ngf=64, img_size=32, d=2, nc=3)\n",
    "G = prepare_model(G)\n",
    "ckpt_path = '/data/lijingru/DataFree/checkpoints/datafree-probkd/cifar10-resnet34-resnet18--probkd_L2_reinter_testrelu.pth'\n",
    "ckpt = torch.load(ckpt_path, map_location='cuda:{}'.format(gpu))\n",
    "G.load_state_dict(ckpt['G_2'])\n",
    "G.eval()"
   ]
  },
  {
   "cell_type": "code",
   "execution_count": 70,
   "id": "a33cf28f",
   "metadata": {},
   "outputs": [],
   "source": [
    "import torch.nn.functional as F\n",
    "l = 2\n",
    "\n",
    "if l == 0:\n",
    "    func = normalizer\n",
    "else:\n",
    "    t_layer = getattr(teacher, 'layer{}'.format(l))\n",
    "#     func = lambda x: F.relu(t_layer[-1].bn2(t_layer[-1].conv2(F.relu(t_layer[-1].bn1(x)))))\n",
    "    func = lambda x: F.relu(t_layer[-1].bn2(x))\n",
    "# z = torch.randn(256, 512).to(gpu)\n",
    "layers = [teacher.bn1, teacher.layer1[-1].bn2, teacher.layer2[-1].bn2, teacher.layer3[-1].bn2]\n",
    "stats = [(f.running_mean.data, f.running_var.data) for f in layers]\n",
    "xs = G(z, l=l)\n",
    "b,c,h,w = xs.size()\n",
    "if l > 0:\n",
    "    mu_l, var_l = stats[l]\n",
    "#     dist = torch.distributions.Normal(mu_l, var_l)\n",
    "#     real_sample = dist.sample((b*h*w,))\n",
    "#     real_sample = real_sample.view([b, h, w, c]).permute(0,3,1,2)\n",
    "    real_sample = mu_l.unsqueeze(0).unsqueeze(2).unsqueeze(3) + torch.sqrt(var_l).unsqueeze(0).unsqueeze(2).unsqueeze(3) * torch.randn_like(xs.detach())\n",
    "#     print(stats[3])\n",
    "\n",
    "# G samples at l-th layer\n",
    "x_out, x_feat_inter_relu = teacher(func(xs), return_features=True, l=l)\n",
    "x_feat_inter_relu = x_feat_inter_relu.detach().cpu().numpy()\n",
    "# Real samples at l-th layer\n",
    "if l > 0:\n",
    "    x_out_r, x_feat_inter_relu_r = teacher(func(real_sample), return_features=True, l=l)\n",
    "    x_feat_inter_relu_r = x_feat_inter_relu_r.detach().cpu().numpy()"
   ]
  },
  {
   "cell_type": "code",
   "execution_count": 71,
   "id": "219afcc7",
   "metadata": {},
   "outputs": [
    {
     "name": "stdout",
     "output_type": "stream",
     "text": [
      "KL(T(x_G0) || T(x_real)) = 9.3812\n"
     ]
    }
   ],
   "source": [
    "# l1_div = F.l1_loss(x_out.detach().cpu(), torch.FloatTensor(outputs), reduction='none').sum(1).mean(0)\n",
    "kl_div1 = F.kl_div(torch.log_softmax(x_out.detach().cpu(), 1), torch.softmax(torch.FloatTensor(outputs), 1), reduction='batchmean')\n",
    "print('KL(T(x_G0) || T(x_real)) = {:.4f}'.format(kl_div1))\n",
    "# print('L1(T(x_G0) || T(x_real)) = {:.4f}'.format(l1_div))"
   ]
  },
  {
   "cell_type": "code",
   "execution_count": 72,
   "id": "58c4d72e",
   "metadata": {},
   "outputs": [
    {
     "name": "stdout",
     "output_type": "stream",
     "text": [
      "tensor([-6.3950e-02, -2.5217e-02, -4.5562e-02, -5.1076e-02,  4.5238e-02,\n",
      "        -2.1716e-02,  5.3187e-02, -7.4443e-02, -4.2352e-02,  3.7241e-02,\n",
      "         1.7717e-02, -5.4798e-02, -1.1207e-03,  1.2826e-02,  1.9394e-02,\n",
      "        -4.0911e-02, -5.4061e-02,  1.9924e-03, -8.4880e-02, -8.3783e-02,\n",
      "        -4.5133e-02,  3.3152e-02, -1.0296e-01, -1.0681e-01,  4.3746e-02,\n",
      "        -3.0993e-02, -4.7127e-02, -7.4871e-02, -3.0600e-02, -3.9238e-02,\n",
      "         1.1951e-01, -3.5443e-02,  8.3788e-02,  6.3117e-02,  1.8221e-02,\n",
      "        -4.2351e-02, -5.8926e-02, -6.1535e-02, -3.0871e-02, -5.8337e-02,\n",
      "        -7.0574e-02,  1.2552e-02, -6.1406e-02,  7.5239e-03,  1.8665e-02,\n",
      "        -5.5806e-02, -7.8460e-02, -6.3468e-02, -1.0984e-02, -3.9669e-02,\n",
      "         4.5415e-02, -8.5921e-02,  5.8287e-02, -1.0118e-02,  3.0260e-02,\n",
      "        -1.5095e-02, -2.3592e-02, -9.2657e-02, -1.2306e-01, -7.2667e-02,\n",
      "        -6.7526e-02, -5.4116e-03, -7.3922e-05, -6.7469e-04, -8.7420e-04,\n",
      "        -1.0056e-01,  6.0301e-02,  6.4452e-02,  2.7390e-02, -5.5024e-02,\n",
      "        -5.9112e-03,  2.9245e-02,  2.4054e-02, -1.4968e-03,  1.8314e-02,\n",
      "         6.6123e-02, -2.0249e-02, -3.7143e-02, -4.3571e-02,  2.7573e-02,\n",
      "         8.1814e-02,  6.3956e-03, -1.7510e-01,  3.8723e-02,  6.7469e-02,\n",
      "        -3.7362e-02, -4.2818e-02,  3.7717e-02, -1.1804e-01, -9.0331e-02,\n",
      "         3.3542e-02, -4.9885e-02, -4.0367e-02, -5.3424e-03, -2.9906e-02,\n",
      "        -5.0540e-02,  4.1415e-02, -1.9327e-03,  1.9561e-02,  2.1732e-02,\n",
      "         3.5218e-02,  2.2785e-02, -1.0680e-02, -1.0346e-01, -3.9370e-02,\n",
      "        -7.5449e-02, -1.6450e-01, -9.0093e-03, -1.1117e-02, -5.6986e-02,\n",
      "        -2.0649e-02,  3.4559e-02, -6.6586e-03,  3.3062e-02, -2.2038e-02,\n",
      "        -5.7084e-02,  7.6393e-02,  3.0237e-02,  2.5246e-02, -1.9955e-02,\n",
      "        -8.2722e-02, -1.0091e-01,  4.0233e-02, -7.2414e-03, -3.0521e-02,\n",
      "        -2.2734e-02, -5.6081e-02, -8.4144e-02], device='cuda:2') tensor([0.0066, 0.0078, 0.0165, 0.0085, 0.0108, 0.0047, 0.0127, 0.0066, 0.0072,\n",
      "        0.0051, 0.0012, 0.0106, 0.0025, 0.0055, 0.0020, 0.0141, 0.0071, 0.0019,\n",
      "        0.0141, 0.0117, 0.0071, 0.0017, 0.0130, 0.0113, 0.0088, 0.0060, 0.0094,\n",
      "        0.0083, 0.0044, 0.0072, 0.0124, 0.0055, 0.0077, 0.0066, 0.0023, 0.0038,\n",
      "        0.0117, 0.0081, 0.0066, 0.0085, 0.0084, 0.0054, 0.0055, 0.0077, 0.0042,\n",
      "        0.0111, 0.0057, 0.0033, 0.0050, 0.0032, 0.0065, 0.0081, 0.0082, 0.0097,\n",
      "        0.0030, 0.0042, 0.0041, 0.0106, 0.0094, 0.0112, 0.0081, 0.0018, 0.0020,\n",
      "        0.0064, 0.0016, 0.0081, 0.0029, 0.0053, 0.0052, 0.0045, 0.0053, 0.0103,\n",
      "        0.0033, 0.0032, 0.0023, 0.0070, 0.0059, 0.0092, 0.0154, 0.0085, 0.0113,\n",
      "        0.0052, 0.0173, 0.0115, 0.0063, 0.0100, 0.0102, 0.0056, 0.0091, 0.0071,\n",
      "        0.0050, 0.0069, 0.0138, 0.0105, 0.0074, 0.0095, 0.0052, 0.0032, 0.0060,\n",
      "        0.0055, 0.0027, 0.0023, 0.0037, 0.0147, 0.0068, 0.0056, 0.0170, 0.0062,\n",
      "        0.0036, 0.0067, 0.0058, 0.0143, 0.0088, 0.0031, 0.0025, 0.0056, 0.0058,\n",
      "        0.0014, 0.0043, 0.0047, 0.0134, 0.0112, 0.0029, 0.0048, 0.0063, 0.0044,\n",
      "        0.0083, 0.0134], device='cuda:2')\n",
      "tensor([ 0.0525,  0.0056, -0.1405, -0.0241,  0.0731, -0.0114,  0.0458,  0.0793,\n",
      "         0.0381, -0.0802, -0.0055,  0.0062, -0.0036,  0.0077, -0.0062,  0.0713,\n",
      "        -0.0367, -0.0167,  0.0028,  0.0557,  0.0215,  0.0635, -0.0504,  0.0093,\n",
      "        -0.1042,  0.0660,  0.0062, -0.0893,  0.0080,  0.0546, -0.0833, -0.0397,\n",
      "         0.0114,  0.0719,  0.0487, -0.0642, -0.0669, -0.0320, -0.0427, -0.0323,\n",
      "        -0.0838,  0.0386,  0.0404, -0.0879, -0.0864, -0.1150,  0.0023, -0.0769,\n",
      "         0.0563,  0.0620, -0.0309,  0.0300, -0.0454,  0.0613,  0.0001, -0.0287,\n",
      "         0.0815, -0.0127,  0.0596,  0.0792,  0.0329,  0.0957, -0.1230, -0.0704,\n",
      "         0.0018,  0.0090, -0.0537, -0.0845,  0.0397,  0.0311, -0.0278,  0.0718,\n",
      "         0.0418,  0.0771,  0.0755, -0.0794, -0.0807,  0.0226,  0.0779,  0.0736,\n",
      "         0.0343,  0.0576, -0.0226,  0.0489,  0.0467,  0.0162,  0.0399, -0.0805,\n",
      "         0.0200, -0.0144,  0.0552,  0.0701, -0.0236, -0.0383, -0.0257, -0.1275,\n",
      "         0.0678,  0.0087, -0.0210, -0.0626,  0.0516,  0.1017, -0.0719, -0.0119,\n",
      "         0.0126,  0.0783, -0.0288,  0.0171,  0.0855, -0.0056, -0.0089,  0.0401,\n",
      "         0.0057,  0.0206, -0.0503,  0.1046,  0.0472, -0.0447, -0.0448,  0.0959,\n",
      "        -0.0472,  0.0577, -0.1096, -0.0532,  0.0385, -0.0585,  0.0020,  0.0863],\n",
      "       device='cuda:2', grad_fn=<MeanBackward1>) tensor([0.3229, 0.2972, 3.2680, 0.1000, 0.0579, 0.2078, 0.1526, 0.1191, 0.4929,\n",
      "        2.0912, 0.1983, 0.4271, 0.9611, 0.3474, 0.1723, 0.9411, 0.2710, 0.0974,\n",
      "        0.1834, 0.3863, 0.1087, 0.4822, 0.6471, 0.4176, 0.3731, 0.5242, 0.1285,\n",
      "        0.0736, 1.7708, 0.0970, 0.6383, 0.7935, 0.1822, 0.3167, 0.1193, 0.1668,\n",
      "        2.2366, 0.1351, 0.2140, 0.2591, 0.5886, 0.0508, 0.1834, 0.4421, 0.4843,\n",
      "        1.2756, 0.0410, 0.0810, 0.1850, 0.1034, 1.7910, 0.1287, 0.2497, 4.5595,\n",
      "        0.4569, 0.0644, 0.0632, 0.5632, 0.0979, 0.4464, 0.2436, 0.2085, 0.1230,\n",
      "        0.3203, 0.2532, 0.6437, 0.5993, 0.2737, 0.2497, 1.3047, 0.2937, 0.1364,\n",
      "        0.3509, 0.4035, 0.0424, 0.0947, 0.1409, 1.0540, 1.7460, 0.1641, 0.1235,\n",
      "        0.2609, 0.2118, 0.3025, 0.3077, 1.1533, 0.3164, 0.6476, 0.0708, 0.4602,\n",
      "        0.4536, 0.5214, 0.2897, 0.2342, 0.7361, 2.3878, 0.1213, 0.7007, 0.1097,\n",
      "        0.3669, 0.2437, 0.6262, 0.1710, 0.2404, 0.3940, 0.0707, 0.1968, 0.1728,\n",
      "        0.0961, 0.1330, 0.0556, 1.1591, 0.5228, 1.7613, 0.1695, 0.9734, 2.1195,\n",
      "        0.3047, 1.2711, 0.3221, 0.2143, 0.6168, 1.0646, 0.1471, 0.1759, 0.1772,\n",
      "        0.7648, 0.6139], device='cuda:2', grad_fn=<VarBackward1>)\n"
     ]
    }
   ],
   "source": [
    "print(mu_l, var_l)\n",
    "nch = xs.size(1)\n",
    "# print(torch.mean(real_sample, (0,2,3)), real_sample.permute(1,0,2,3).contiguous().view([nch, -1]).var(1, unbiased=False))\n",
    "print(torch.mean(xs, (0,2,3)), xs.permute(1,0,2,3).contiguous().view([nch, -1]).var(1, unbiased=False))"
   ]
  },
  {
   "cell_type": "code",
   "execution_count": 73,
   "id": "bdcc5c87",
   "metadata": {
    "scrolled": true
   },
   "outputs": [
    {
     "data": {
      "text/plain": [
       "<seaborn.axisgrid.FacetGrid at 0x7f8e70d44520>"
      ]
     },
     "execution_count": 73,
     "metadata": {},
     "output_type": "execute_result"
    },
    {
     "data": {
      "image/png": "[encoded data removed]",
      "text/plain": [
       "<Figure size 424.25x360 with 1 Axes>"
      ]
     },
     "metadata": {
      "needs_background": "light"
     },
     "output_type": "display_data"
    }
   ],
   "source": [
    "c = 16\n",
    "# print(x_out[:, c])\n",
    "# print(x_out_r[:, c])\n",
    "# a = pd.DataFrame(data={'real': x_feats[:, c], 'syn':x_feat_inter[:, c], 'mean':x_feat_inter_relu[:, c]})\n",
    "# print(x_feats.shape, x_feat_inter.shape, x_feat_inter_relu.shape, x_feat_inter_relu_r.shape)\n",
    "# print(x_feat_inter_relu_r[:, c])\n",
    "all_dict = {'real': x_feats[:, c], 'syn':x_feat_inter[:, c], 'mean':x_feat_inter_relu[:, c]}\n",
    "# if l > 0:\n",
    "#     all_dict['real_sample'] = x_feat_inter_relu_r[:, c]\n",
    "a = pd.DataFrame(data=all_dict)\n",
    "sns.displot(a, kind='kde')"
   ]
  },
  {
   "cell_type": "code",
   "execution_count": 74,
   "id": "c1379182",
   "metadata": {},
   "outputs": [
    {
     "data": {
      "text/plain": [
       "<AxesSubplot:xlabel='real', ylabel='count'>"
      ]
     },
     "execution_count": 74,
     "metadata": {},
     "output_type": "execute_result"
    },
    {
     "data": {
      "image/png": "[encoded data removed]",
      "text/plain": [
       "<Figure size 432x288 with 1 Axes>"
      ]
     },
     "metadata": {
      "needs_background": "light"
     },
     "output_type": "display_data"
    }
   ],
   "source": [
    "# print(outputs, x_out, x_out_r)\n",
    "all_dict = {'real': np.argmax(outputs, 1), 'mean':x_out.argmax(1).detach().cpu().numpy()}\n",
    "if l > 0:\n",
    "    all_dict['real_sample'] = x_out_r.argmax(1).detach().cpu().numpy()\n",
    "b = pd.DataFrame(data=all_dict)\n",
    "sns.countplot(x='real', data=b)"
   ]
  },
  {
   "cell_type": "code",
   "execution_count": 75,
   "id": "c3fdf870",
   "metadata": {
    "scrolled": true
   },
   "outputs": [
    {
     "data": {
      "text/plain": [
       "<AxesSubplot:xlabel='mean', ylabel='count'>"
      ]
     },
     "execution_count": 75,
     "metadata": {},
     "output_type": "execute_result"
    },
    {
     "data": {
      "image/png": "[encoded data removed]",
      "text/plain": [
       "<Figure size 432x288 with 1 Axes>"
      ]
     },
     "metadata": {
      "needs_background": "light"
     },
     "output_type": "display_data"
    }
   ],
   "source": [
    "sns.countplot(x='mean', data=b)"
   ]
  },
  {
   "cell_type": "code",
   "execution_count": 77,
   "id": "a2e073d0",
   "metadata": {},
   "outputs": [
    {
     "name": "stdout",
     "output_type": "stream",
     "text": [
      "{'neg_ent': -1.7849887609481812, 't_conf': 0.14330041408538818, 'l_act': -0.1932353526353836}\n",
      "{'neg_ent': -2.261824369430542, 't_conf': 0.0018974109552800655, 'l_act': -0.17903229594230652}\n"
     ]
    }
   ],
   "source": [
    "loss_syn = get_losses(x_out.cpu(), torch.FloatTensor(x_feat_inter_relu))\n",
    "print(loss_syn)\n",
    "loss = get_losses(torch.FloatTensor(outputs), torch.FloatTensor(x_feats))\n",
    "print(loss)"
   ]
  },
  {
   "cell_type": "code",
   "execution_count": 23,
   "id": "8c68bd84",
   "metadata": {},
   "outputs": [
    {
     "data": {
      "text/plain": [
       "<AxesSubplot:xlabel='real_sample', ylabel='count'>"
      ]
     },
     "execution_count": 23,
     "metadata": {},
     "output_type": "execute_result"
    },
    {
     "data": {
      "image/png": "[encoded data removed]",
      "text/plain": [
       "<Figure size 432x288 with 1 Axes>"
      ]
     },
     "metadata": {
      "needs_background": "light"
     },
     "output_type": "display_data"
    }
   ],
   "source": [
    "sns.countplot(x='real_sample', data=b)"
   ]
  },
  {
   "cell_type": "code",
   "execution_count": 25,
   "id": "86f526a3",
   "metadata": {
    "scrolled": false
   },
   "outputs": [
    {
     "name": "stdout",
     "output_type": "stream",
     "text": [
      "tensor([[0.5922, 0.7885, 0.4750,  ..., 0.3057, 0.3211, 0.2452],\n",
      "        [0.0000, 0.0000, 0.0000,  ..., 0.4029, 0.3721, 0.0774],\n",
      "        [0.0000, 0.0000, 0.1842,  ..., 0.7598, 1.1055, 1.0439],\n",
      "        ...,\n",
      "        [1.2949, 1.7612, 1.5024,  ..., 0.3091, 0.2729, 0.0411],\n",
      "        [0.1986, 0.1247, 0.0835,  ..., 0.1689, 0.1585, 0.0466],\n",
      "        [0.0560, 0.1115, 0.1753,  ..., 0.2808, 0.3218, 0.4398]],\n",
      "       device='cuda:2', grad_fn=<ViewBackward>)\n",
      "tensor([[-0.6498, -0.3631, -0.0377,  ..., -0.6857, -0.9038, -0.5048],\n",
      "        [-0.1964,  0.7827, -1.1429,  ..., -0.3629,  0.8135,  0.6026],\n",
      "        [ 0.7798, -0.1770,  0.1008,  ...,  0.4154,  0.1110,  0.5587],\n",
      "        ...,\n",
      "        [ 1.6031,  0.7584, -0.3596,  ...,  0.7885,  1.6501, -1.0623],\n",
      "        [-1.1224, -0.5100, -0.9289,  ...,  0.3350, -0.4403, -0.7031],\n",
      "        [-0.2611, -0.4282,  1.4104,  ...,  0.2826,  0.9727,  0.4883]],\n",
      "       device='cuda:2')\n"
     ]
    },
    {
     "ename": "RuntimeError",
     "evalue": "running_mean should contain 128 elements not 64",
     "output_type": "error",
     "traceback": [
      "\u001b[0;31m---------------------------------------------------------------------------\u001b[0m",
      "\u001b[0;31mRuntimeError\u001b[0m                              Traceback (most recent call last)",
      "\u001b[0;32m<ipython-input-25-0f333a68d12e>\u001b[0m in \u001b[0;36m<module>\u001b[0;34m\u001b[0m\n\u001b[1;32m     10\u001b[0m \u001b[0mprint\u001b[0m\u001b[0;34m(\u001b[0m\u001b[0mreal_real_sample1\u001b[0m\u001b[0;34m.\u001b[0m\u001b[0mpermute\u001b[0m\u001b[0;34m(\u001b[0m\u001b[0;36m1\u001b[0m\u001b[0;34m,\u001b[0m\u001b[0;36m0\u001b[0m\u001b[0;34m,\u001b[0m\u001b[0;36m2\u001b[0m\u001b[0;34m,\u001b[0m\u001b[0;36m3\u001b[0m\u001b[0;34m)\u001b[0m\u001b[0;34m.\u001b[0m\u001b[0mcontiguous\u001b[0m\u001b[0;34m(\u001b[0m\u001b[0;34m)\u001b[0m\u001b[0;34m.\u001b[0m\u001b[0mview\u001b[0m\u001b[0;34m(\u001b[0m\u001b[0;34m[\u001b[0m\u001b[0mnch\u001b[0m\u001b[0;34m,\u001b[0m \u001b[0;34m-\u001b[0m\u001b[0;36m1\u001b[0m\u001b[0;34m]\u001b[0m\u001b[0;34m)\u001b[0m\u001b[0;34m)\u001b[0m\u001b[0;34m\u001b[0m\u001b[0;34m\u001b[0m\u001b[0m\n\u001b[1;32m     11\u001b[0m \u001b[0mprint\u001b[0m\u001b[0;34m(\u001b[0m\u001b[0mreal_sample\u001b[0m\u001b[0;34m.\u001b[0m\u001b[0mpermute\u001b[0m\u001b[0;34m(\u001b[0m\u001b[0;36m1\u001b[0m\u001b[0;34m,\u001b[0m\u001b[0;36m0\u001b[0m\u001b[0;34m,\u001b[0m\u001b[0;36m2\u001b[0m\u001b[0;34m,\u001b[0m\u001b[0;36m3\u001b[0m\u001b[0;34m)\u001b[0m\u001b[0;34m.\u001b[0m\u001b[0mcontiguous\u001b[0m\u001b[0;34m(\u001b[0m\u001b[0;34m)\u001b[0m\u001b[0;34m.\u001b[0m\u001b[0mview\u001b[0m\u001b[0;34m(\u001b[0m\u001b[0;34m[\u001b[0m\u001b[0mnch\u001b[0m\u001b[0;34m,\u001b[0m \u001b[0;34m-\u001b[0m\u001b[0;36m1\u001b[0m\u001b[0;34m]\u001b[0m\u001b[0;34m)\u001b[0m\u001b[0;34m)\u001b[0m\u001b[0;34m\u001b[0m\u001b[0;34m\u001b[0m\u001b[0m\n\u001b[0;32m---> 12\u001b[0;31m \u001b[0mout_x\u001b[0m\u001b[0;34m,\u001b[0m \u001b[0mout_feat\u001b[0m \u001b[0;34m=\u001b[0m \u001b[0mteacher\u001b[0m\u001b[0;34m(\u001b[0m\u001b[0mnew_func2\u001b[0m\u001b[0;34m(\u001b[0m\u001b[0mreal_real_sample\u001b[0m\u001b[0;34m,\u001b[0m \u001b[0mreal_real_sample1\u001b[0m\u001b[0;34m)\u001b[0m\u001b[0;34m,\u001b[0m \u001b[0ml\u001b[0m\u001b[0;34m=\u001b[0m\u001b[0ml\u001b[0m\u001b[0;34m,\u001b[0m \u001b[0mreturn_features\u001b[0m\u001b[0;34m=\u001b[0m\u001b[0;32mTrue\u001b[0m\u001b[0;34m)\u001b[0m\u001b[0;34m\u001b[0m\u001b[0;34m\u001b[0m\u001b[0m\n\u001b[0m\u001b[1;32m     13\u001b[0m \u001b[0mall_dict\u001b[0m\u001b[0;34m[\u001b[0m\u001b[0;34m'concat_real'\u001b[0m\u001b[0;34m]\u001b[0m \u001b[0;34m=\u001b[0m \u001b[0mout_x\u001b[0m\u001b[0;34m.\u001b[0m\u001b[0margmax\u001b[0m\u001b[0;34m(\u001b[0m\u001b[0;36m1\u001b[0m\u001b[0;34m)\u001b[0m\u001b[0;34m.\u001b[0m\u001b[0mdetach\u001b[0m\u001b[0;34m(\u001b[0m\u001b[0;34m)\u001b[0m\u001b[0;34m.\u001b[0m\u001b[0mcpu\u001b[0m\u001b[0;34m(\u001b[0m\u001b[0;34m)\u001b[0m\u001b[0;34m.\u001b[0m\u001b[0mnumpy\u001b[0m\u001b[0;34m(\u001b[0m\u001b[0;34m)\u001b[0m\u001b[0;34m\u001b[0m\u001b[0;34m\u001b[0m\u001b[0m\n\u001b[1;32m     14\u001b[0m \u001b[0;31m# print(real_sample.shape)\u001b[0m\u001b[0;34m\u001b[0m\u001b[0;34m\u001b[0m\u001b[0;34m\u001b[0m\u001b[0m\n",
      "\u001b[0;32m<ipython-input-25-0f333a68d12e>\u001b[0m in \u001b[0;36m<lambda>\u001b[0;34m(x, y)\u001b[0m\n\u001b[1;32m      4\u001b[0m \u001b[0ml_func\u001b[0m \u001b[0;34m=\u001b[0m \u001b[0;32mlambda\u001b[0m \u001b[0mx\u001b[0m\u001b[0;34m:\u001b[0m \u001b[0mteacher\u001b[0m\u001b[0;34m.\u001b[0m\u001b[0mlayer2\u001b[0m\u001b[0;34m[\u001b[0m\u001b[0;34m:\u001b[0m\u001b[0;34m-\u001b[0m\u001b[0;36m1\u001b[0m\u001b[0;34m]\u001b[0m\u001b[0;34m(\u001b[0m\u001b[0mF\u001b[0m\u001b[0;34m.\u001b[0m\u001b[0mrelu\u001b[0m\u001b[0;34m(\u001b[0m\u001b[0mteacher\u001b[0m\u001b[0;34m.\u001b[0m\u001b[0mbn1\u001b[0m\u001b[0;34m(\u001b[0m\u001b[0mteacher\u001b[0m\u001b[0;34m.\u001b[0m\u001b[0mconv1\u001b[0m\u001b[0;34m(\u001b[0m\u001b[0mx\u001b[0m\u001b[0;34m)\u001b[0m\u001b[0;34m)\u001b[0m\u001b[0;34m)\u001b[0m\u001b[0;34m)\u001b[0m\u001b[0;34m\u001b[0m\u001b[0;34m\u001b[0m\u001b[0m\n\u001b[1;32m      5\u001b[0m \u001b[0mnew_func\u001b[0m \u001b[0;34m=\u001b[0m \u001b[0;32mlambda\u001b[0m \u001b[0mx\u001b[0m\u001b[0;34m:\u001b[0m \u001b[0mteacher\u001b[0m\u001b[0;34m.\u001b[0m\u001b[0mlayer2\u001b[0m\u001b[0;34m[\u001b[0m\u001b[0;34m-\u001b[0m\u001b[0;36m1\u001b[0m\u001b[0;34m]\u001b[0m\u001b[0;34m.\u001b[0m\u001b[0mconv1\u001b[0m\u001b[0;34m(\u001b[0m\u001b[0mx\u001b[0m\u001b[0;34m)\u001b[0m\u001b[0;34m\u001b[0m\u001b[0;34m\u001b[0m\u001b[0m\n\u001b[0;32m----> 6\u001b[0;31m \u001b[0mnew_func2\u001b[0m \u001b[0;34m=\u001b[0m \u001b[0;32mlambda\u001b[0m \u001b[0mx\u001b[0m\u001b[0;34m,\u001b[0m \u001b[0my\u001b[0m\u001b[0;34m:\u001b[0m \u001b[0mF\u001b[0m\u001b[0;34m.\u001b[0m\u001b[0mrelu\u001b[0m\u001b[0;34m(\u001b[0m\u001b[0mlayer\u001b[0m\u001b[0;34m[\u001b[0m\u001b[0;34m-\u001b[0m\u001b[0;36m1\u001b[0m\u001b[0;34m]\u001b[0m\u001b[0;34m.\u001b[0m\u001b[0mbn2\u001b[0m\u001b[0;34m(\u001b[0m\u001b[0mlayer\u001b[0m\u001b[0;34m[\u001b[0m\u001b[0;34m-\u001b[0m\u001b[0;36m1\u001b[0m\u001b[0;34m]\u001b[0m\u001b[0;34m.\u001b[0m\u001b[0mconv2\u001b[0m\u001b[0;34m(\u001b[0m\u001b[0mF\u001b[0m\u001b[0;34m.\u001b[0m\u001b[0mrelu\u001b[0m\u001b[0;34m(\u001b[0m\u001b[0mlayer\u001b[0m\u001b[0;34m[\u001b[0m\u001b[0;34m-\u001b[0m\u001b[0;36m1\u001b[0m\u001b[0;34m]\u001b[0m\u001b[0;34m.\u001b[0m\u001b[0mbn1\u001b[0m\u001b[0;34m(\u001b[0m\u001b[0mx\u001b[0m\u001b[0;34m)\u001b[0m\u001b[0;34m)\u001b[0m\u001b[0;34m)\u001b[0m\u001b[0;34m)\u001b[0m\u001b[0;34m+\u001b[0m\u001b[0mlayer\u001b[0m\u001b[0;34m[\u001b[0m\u001b[0;34m-\u001b[0m\u001b[0;36m1\u001b[0m\u001b[0;34m]\u001b[0m\u001b[0;34m.\u001b[0m\u001b[0mshortcut\u001b[0m\u001b[0;34m(\u001b[0m\u001b[0my\u001b[0m\u001b[0;34m)\u001b[0m\u001b[0;34m)\u001b[0m\u001b[0;34m\u001b[0m\u001b[0;34m\u001b[0m\u001b[0m\n\u001b[0m\u001b[1;32m      7\u001b[0m \u001b[0mreal_real_sample1\u001b[0m \u001b[0;34m=\u001b[0m \u001b[0ml_func\u001b[0m\u001b[0;34m(\u001b[0m\u001b[0mreal_x\u001b[0m\u001b[0;34m.\u001b[0m\u001b[0mto\u001b[0m\u001b[0;34m(\u001b[0m\u001b[0mgpu\u001b[0m\u001b[0;34m)\u001b[0m\u001b[0;34m)\u001b[0m\u001b[0;34m\u001b[0m\u001b[0;34m\u001b[0m\u001b[0m\n\u001b[1;32m      8\u001b[0m \u001b[0mreal_real_sample\u001b[0m \u001b[0;34m=\u001b[0m \u001b[0mnew_func\u001b[0m\u001b[0;34m(\u001b[0m\u001b[0mreal_real_sample1\u001b[0m\u001b[0;34m)\u001b[0m\u001b[0;34m\u001b[0m\u001b[0;34m\u001b[0m\u001b[0m\n",
      "\u001b[0;32m~/anaconda3/envs/torch/lib/python3.8/site-packages/torch/nn/modules/module.py\u001b[0m in \u001b[0;36m_call_impl\u001b[0;34m(self, *input, **kwargs)\u001b[0m\n\u001b[1;32m    887\u001b[0m             \u001b[0mresult\u001b[0m \u001b[0;34m=\u001b[0m \u001b[0mself\u001b[0m\u001b[0;34m.\u001b[0m\u001b[0m_slow_forward\u001b[0m\u001b[0;34m(\u001b[0m\u001b[0;34m*\u001b[0m\u001b[0minput\u001b[0m\u001b[0;34m,\u001b[0m \u001b[0;34m**\u001b[0m\u001b[0mkwargs\u001b[0m\u001b[0;34m)\u001b[0m\u001b[0;34m\u001b[0m\u001b[0;34m\u001b[0m\u001b[0m\n\u001b[1;32m    888\u001b[0m         \u001b[0;32melse\u001b[0m\u001b[0;34m:\u001b[0m\u001b[0;34m\u001b[0m\u001b[0;34m\u001b[0m\u001b[0m\n\u001b[0;32m--> 889\u001b[0;31m             \u001b[0mresult\u001b[0m \u001b[0;34m=\u001b[0m \u001b[0mself\u001b[0m\u001b[0;34m.\u001b[0m\u001b[0mforward\u001b[0m\u001b[0;34m(\u001b[0m\u001b[0;34m*\u001b[0m\u001b[0minput\u001b[0m\u001b[0;34m,\u001b[0m \u001b[0;34m**\u001b[0m\u001b[0mkwargs\u001b[0m\u001b[0;34m)\u001b[0m\u001b[0;34m\u001b[0m\u001b[0;34m\u001b[0m\u001b[0m\n\u001b[0m\u001b[1;32m    890\u001b[0m         for hook in itertools.chain(\n\u001b[1;32m    891\u001b[0m                 \u001b[0m_global_forward_hooks\u001b[0m\u001b[0;34m.\u001b[0m\u001b[0mvalues\u001b[0m\u001b[0;34m(\u001b[0m\u001b[0;34m)\u001b[0m\u001b[0;34m,\u001b[0m\u001b[0;34m\u001b[0m\u001b[0;34m\u001b[0m\u001b[0m\n",
      "\u001b[0;32m~/anaconda3/envs/torch/lib/python3.8/site-packages/torch/nn/modules/batchnorm.py\u001b[0m in \u001b[0;36mforward\u001b[0;34m(self, input)\u001b[0m\n\u001b[1;32m    133\u001b[0m         \u001b[0;32massert\u001b[0m \u001b[0mself\u001b[0m\u001b[0;34m.\u001b[0m\u001b[0mrunning_mean\u001b[0m \u001b[0;32mis\u001b[0m \u001b[0;32mNone\u001b[0m \u001b[0;32mor\u001b[0m \u001b[0misinstance\u001b[0m\u001b[0;34m(\u001b[0m\u001b[0mself\u001b[0m\u001b[0;34m.\u001b[0m\u001b[0mrunning_mean\u001b[0m\u001b[0;34m,\u001b[0m \u001b[0mtorch\u001b[0m\u001b[0;34m.\u001b[0m\u001b[0mTensor\u001b[0m\u001b[0;34m)\u001b[0m\u001b[0;34m\u001b[0m\u001b[0;34m\u001b[0m\u001b[0m\n\u001b[1;32m    134\u001b[0m         \u001b[0;32massert\u001b[0m \u001b[0mself\u001b[0m\u001b[0;34m.\u001b[0m\u001b[0mrunning_var\u001b[0m \u001b[0;32mis\u001b[0m \u001b[0;32mNone\u001b[0m \u001b[0;32mor\u001b[0m \u001b[0misinstance\u001b[0m\u001b[0;34m(\u001b[0m\u001b[0mself\u001b[0m\u001b[0;34m.\u001b[0m\u001b[0mrunning_var\u001b[0m\u001b[0;34m,\u001b[0m \u001b[0mtorch\u001b[0m\u001b[0;34m.\u001b[0m\u001b[0mTensor\u001b[0m\u001b[0;34m)\u001b[0m\u001b[0;34m\u001b[0m\u001b[0;34m\u001b[0m\u001b[0m\n\u001b[0;32m--> 135\u001b[0;31m         return F.batch_norm(\n\u001b[0m\u001b[1;32m    136\u001b[0m             \u001b[0minput\u001b[0m\u001b[0;34m,\u001b[0m\u001b[0;34m\u001b[0m\u001b[0;34m\u001b[0m\u001b[0m\n\u001b[1;32m    137\u001b[0m             \u001b[0;31m# If buffers are not to be tracked, ensure that they won't be updated\u001b[0m\u001b[0;34m\u001b[0m\u001b[0;34m\u001b[0m\u001b[0;34m\u001b[0m\u001b[0m\n",
      "\u001b[0;32m~/anaconda3/envs/torch/lib/python3.8/site-packages/torch/nn/functional.py\u001b[0m in \u001b[0;36mbatch_norm\u001b[0;34m(input, running_mean, running_var, weight, bias, training, momentum, eps)\u001b[0m\n\u001b[1;32m   2147\u001b[0m         \u001b[0m_verify_batch_size\u001b[0m\u001b[0;34m(\u001b[0m\u001b[0minput\u001b[0m\u001b[0;34m.\u001b[0m\u001b[0msize\u001b[0m\u001b[0;34m(\u001b[0m\u001b[0;34m)\u001b[0m\u001b[0;34m)\u001b[0m\u001b[0;34m\u001b[0m\u001b[0;34m\u001b[0m\u001b[0m\n\u001b[1;32m   2148\u001b[0m \u001b[0;34m\u001b[0m\u001b[0m\n\u001b[0;32m-> 2149\u001b[0;31m     return torch.batch_norm(\n\u001b[0m\u001b[1;32m   2150\u001b[0m         \u001b[0minput\u001b[0m\u001b[0;34m,\u001b[0m \u001b[0mweight\u001b[0m\u001b[0;34m,\u001b[0m \u001b[0mbias\u001b[0m\u001b[0;34m,\u001b[0m \u001b[0mrunning_mean\u001b[0m\u001b[0;34m,\u001b[0m \u001b[0mrunning_var\u001b[0m\u001b[0;34m,\u001b[0m \u001b[0mtraining\u001b[0m\u001b[0;34m,\u001b[0m \u001b[0mmomentum\u001b[0m\u001b[0;34m,\u001b[0m \u001b[0meps\u001b[0m\u001b[0;34m,\u001b[0m \u001b[0mtorch\u001b[0m\u001b[0;34m.\u001b[0m\u001b[0mbackends\u001b[0m\u001b[0;34m.\u001b[0m\u001b[0mcudnn\u001b[0m\u001b[0;34m.\u001b[0m\u001b[0menabled\u001b[0m\u001b[0;34m\u001b[0m\u001b[0;34m\u001b[0m\u001b[0m\n\u001b[1;32m   2151\u001b[0m     )\n",
      "\u001b[0;31mRuntimeError\u001b[0m: running_mean should contain 128 elements not 64"
     ]
    }
   ],
   "source": [
    "_, (real_x, real_y) = enumerate(real_loader).__next__()\n",
    "# print(real_x.shape, real_y.shape)\n",
    "layer = getattr(teacher, 'layer{}'.format(l))\n",
    "l_func = lambda x: teacher.layer2[:-1](F.relu(teacher.bn1(teacher.conv1(x))))\n",
    "new_func = lambda x: teacher.layer2[-1].conv1(x)\n",
    "new_func2 = lambda x, y: F.relu(layer[-1].bn2(layer[-1].conv2(F.relu(layer[-1].bn1(x))))+layer[-1].shortcut(y))\n",
    "real_real_sample1 = l_func(real_x.to(gpu))\n",
    "real_real_sample = new_func(real_real_sample1)\n",
    "b,c,h,w = real_sample.size()\n",
    "print(real_real_sample1.permute(1,0,2,3).contiguous().view([nch, -1]))\n",
    "print(real_sample.permute(1,0,2,3).contiguous().view([nch, -1]))\n",
    "out_x, out_feat = teacher(new_func2(real_real_sample, real_real_sample1), l=l, return_features=True)\n",
    "all_dict['concat_real'] = out_x.argmax(1).detach().cpu().numpy()\n",
    "# print(real_sample.shape)\n",
    "b = pd.DataFrame(data=all_dict)\n",
    "sns.countplot(x='concat_real', data=b)\n",
    "# print(torch.mean(real_real_sample, (0,2,3)), real_real_sample.permute(1,0,2,3).contiguous().view([nch, -1]).var(1))\n",
    "# print(torch.mean(func(real_sample), (0,2,3)), func(real_sample).permute(1,0,2,3).contiguous().view([nch, -1]).var(1, unbiased=False))\n",
    "# print(mu_l, var_l)\n",
    "# print(torch.mean(real_sample, (0,2,3)), real_sample.permute(1,0,2,3).contiguous().view([nch, -1]).var(1))\n",
    "# print(real_sample)\n",
    "# print('************')\n",
    "# print(real_real_sample)\n",
    "# print(torch.mean(real_sample, (2, 3)).var(0))\n",
    "# print(torch.mean(real_real_sample, (2, 3)).var(0))\n",
    "# dist = torch.distributions.Normal(mu_l, var_l)\n",
    "# this_real_sample = dist.sample((b*h*w,))\n",
    "# this_real_sample = this_real_sample.view([b, h, w, c]).permute(0,3,1,2)\n",
    "\n",
    "# print(torch.mean(this_real_sample, (0,2,3)), this_real_sample.permute(1,0,2,3).contiguous().view([nch, -1]).var(1))\n",
    "\n",
    "# print(mu_l - torch.mean(real_sample, (2, 3)).min(0)[0])\n",
    "# print(mu_l - torch.mean(real_real_sample, (2,3)).min(0)[0])"
   ]
  },
  {
   "cell_type": "code",
   "execution_count": 26,
   "id": "0d222e1d",
   "metadata": {},
   "outputs": [
    {
     "ename": "FileNotFoundError",
     "evalue": "[Errno 2] No such file or directory: '/data/lijingru/DataFree/checkpoints/datafree-probkd/cifar10-resnet34-resnet18--probkd_L2_bn1_shortcut.pth'",
     "output_type": "error",
     "traceback": [
      "\u001b[0;31m---------------------------------------------------------------------------\u001b[0m",
      "\u001b[0;31mFileNotFoundError\u001b[0m                         Traceback (most recent call last)",
      "\u001b[0;32m<ipython-input-26-e4edb0e08803>\u001b[0m in \u001b[0;36m<module>\u001b[0;34m\u001b[0m\n\u001b[1;32m      5\u001b[0m \u001b[0mG\u001b[0m \u001b[0;34m=\u001b[0m \u001b[0mprepare_model\u001b[0m\u001b[0;34m(\u001b[0m\u001b[0mG\u001b[0m\u001b[0;34m)\u001b[0m\u001b[0;34m\u001b[0m\u001b[0;34m\u001b[0m\u001b[0m\n\u001b[1;32m      6\u001b[0m \u001b[0mckpt_path\u001b[0m \u001b[0;34m=\u001b[0m \u001b[0;34m'/data/lijingru/DataFree/checkpoints/datafree-probkd/cifar10-resnet34-resnet18--probkd_L2_bn1_shortcut.pth'\u001b[0m\u001b[0;34m\u001b[0m\u001b[0;34m\u001b[0m\u001b[0m\n\u001b[0;32m----> 7\u001b[0;31m \u001b[0mckpt\u001b[0m \u001b[0;34m=\u001b[0m \u001b[0mtorch\u001b[0m\u001b[0;34m.\u001b[0m\u001b[0mload\u001b[0m\u001b[0;34m(\u001b[0m\u001b[0mckpt_path\u001b[0m\u001b[0;34m,\u001b[0m \u001b[0mmap_location\u001b[0m\u001b[0;34m=\u001b[0m\u001b[0;34m'cuda:{}'\u001b[0m\u001b[0;34m.\u001b[0m\u001b[0mformat\u001b[0m\u001b[0;34m(\u001b[0m\u001b[0mgpu\u001b[0m\u001b[0;34m)\u001b[0m\u001b[0;34m)\u001b[0m\u001b[0;34m\u001b[0m\u001b[0;34m\u001b[0m\u001b[0m\n\u001b[0m\u001b[1;32m      8\u001b[0m \u001b[0mG\u001b[0m\u001b[0;34m.\u001b[0m\u001b[0mload_state_dict\u001b[0m\u001b[0;34m(\u001b[0m\u001b[0mckpt\u001b[0m\u001b[0;34m[\u001b[0m\u001b[0;34m'G_{}'\u001b[0m\u001b[0;34m.\u001b[0m\u001b[0mformat\u001b[0m\u001b[0;34m(\u001b[0m\u001b[0ml\u001b[0m\u001b[0;34m)\u001b[0m\u001b[0;34m]\u001b[0m\u001b[0;34m)\u001b[0m\u001b[0;34m\u001b[0m\u001b[0;34m\u001b[0m\u001b[0m\n\u001b[1;32m      9\u001b[0m \u001b[0mG\u001b[0m\u001b[0;34m.\u001b[0m\u001b[0meval\u001b[0m\u001b[0;34m(\u001b[0m\u001b[0;34m)\u001b[0m\u001b[0;34m\u001b[0m\u001b[0;34m\u001b[0m\u001b[0m\n",
      "\u001b[0;32m~/anaconda3/envs/torch/lib/python3.8/site-packages/torch/serialization.py\u001b[0m in \u001b[0;36mload\u001b[0;34m(f, map_location, pickle_module, **pickle_load_args)\u001b[0m\n\u001b[1;32m    577\u001b[0m         \u001b[0mpickle_load_args\u001b[0m\u001b[0;34m[\u001b[0m\u001b[0;34m'encoding'\u001b[0m\u001b[0;34m]\u001b[0m \u001b[0;34m=\u001b[0m \u001b[0;34m'utf-8'\u001b[0m\u001b[0;34m\u001b[0m\u001b[0;34m\u001b[0m\u001b[0m\n\u001b[1;32m    578\u001b[0m \u001b[0;34m\u001b[0m\u001b[0m\n\u001b[0;32m--> 579\u001b[0;31m     \u001b[0;32mwith\u001b[0m \u001b[0m_open_file_like\u001b[0m\u001b[0;34m(\u001b[0m\u001b[0mf\u001b[0m\u001b[0;34m,\u001b[0m \u001b[0;34m'rb'\u001b[0m\u001b[0;34m)\u001b[0m \u001b[0;32mas\u001b[0m \u001b[0mopened_file\u001b[0m\u001b[0;34m:\u001b[0m\u001b[0;34m\u001b[0m\u001b[0;34m\u001b[0m\u001b[0m\n\u001b[0m\u001b[1;32m    580\u001b[0m         \u001b[0;32mif\u001b[0m \u001b[0m_is_zipfile\u001b[0m\u001b[0;34m(\u001b[0m\u001b[0mopened_file\u001b[0m\u001b[0;34m)\u001b[0m\u001b[0;34m:\u001b[0m\u001b[0;34m\u001b[0m\u001b[0;34m\u001b[0m\u001b[0m\n\u001b[1;32m    581\u001b[0m             \u001b[0;31m# The zipfile reader is going to advance the current file position.\u001b[0m\u001b[0;34m\u001b[0m\u001b[0;34m\u001b[0m\u001b[0;34m\u001b[0m\u001b[0m\n",
      "\u001b[0;32m~/anaconda3/envs/torch/lib/python3.8/site-packages/torch/serialization.py\u001b[0m in \u001b[0;36m_open_file_like\u001b[0;34m(name_or_buffer, mode)\u001b[0m\n\u001b[1;32m    228\u001b[0m \u001b[0;32mdef\u001b[0m \u001b[0m_open_file_like\u001b[0m\u001b[0;34m(\u001b[0m\u001b[0mname_or_buffer\u001b[0m\u001b[0;34m,\u001b[0m \u001b[0mmode\u001b[0m\u001b[0;34m)\u001b[0m\u001b[0;34m:\u001b[0m\u001b[0;34m\u001b[0m\u001b[0;34m\u001b[0m\u001b[0m\n\u001b[1;32m    229\u001b[0m     \u001b[0;32mif\u001b[0m \u001b[0m_is_path\u001b[0m\u001b[0;34m(\u001b[0m\u001b[0mname_or_buffer\u001b[0m\u001b[0;34m)\u001b[0m\u001b[0;34m:\u001b[0m\u001b[0;34m\u001b[0m\u001b[0;34m\u001b[0m\u001b[0m\n\u001b[0;32m--> 230\u001b[0;31m         \u001b[0;32mreturn\u001b[0m \u001b[0m_open_file\u001b[0m\u001b[0;34m(\u001b[0m\u001b[0mname_or_buffer\u001b[0m\u001b[0;34m,\u001b[0m \u001b[0mmode\u001b[0m\u001b[0;34m)\u001b[0m\u001b[0;34m\u001b[0m\u001b[0;34m\u001b[0m\u001b[0m\n\u001b[0m\u001b[1;32m    231\u001b[0m     \u001b[0;32melse\u001b[0m\u001b[0;34m:\u001b[0m\u001b[0;34m\u001b[0m\u001b[0;34m\u001b[0m\u001b[0m\n\u001b[1;32m    232\u001b[0m         \u001b[0;32mif\u001b[0m \u001b[0;34m'w'\u001b[0m \u001b[0;32min\u001b[0m \u001b[0mmode\u001b[0m\u001b[0;34m:\u001b[0m\u001b[0;34m\u001b[0m\u001b[0;34m\u001b[0m\u001b[0m\n",
      "\u001b[0;32m~/anaconda3/envs/torch/lib/python3.8/site-packages/torch/serialization.py\u001b[0m in \u001b[0;36m__init__\u001b[0;34m(self, name, mode)\u001b[0m\n\u001b[1;32m    209\u001b[0m \u001b[0;32mclass\u001b[0m \u001b[0m_open_file\u001b[0m\u001b[0;34m(\u001b[0m\u001b[0m_opener\u001b[0m\u001b[0;34m)\u001b[0m\u001b[0;34m:\u001b[0m\u001b[0;34m\u001b[0m\u001b[0;34m\u001b[0m\u001b[0m\n\u001b[1;32m    210\u001b[0m     \u001b[0;32mdef\u001b[0m \u001b[0m__init__\u001b[0m\u001b[0;34m(\u001b[0m\u001b[0mself\u001b[0m\u001b[0;34m,\u001b[0m \u001b[0mname\u001b[0m\u001b[0;34m,\u001b[0m \u001b[0mmode\u001b[0m\u001b[0;34m)\u001b[0m\u001b[0;34m:\u001b[0m\u001b[0;34m\u001b[0m\u001b[0;34m\u001b[0m\u001b[0m\n\u001b[0;32m--> 211\u001b[0;31m         \u001b[0msuper\u001b[0m\u001b[0;34m(\u001b[0m\u001b[0m_open_file\u001b[0m\u001b[0;34m,\u001b[0m \u001b[0mself\u001b[0m\u001b[0;34m)\u001b[0m\u001b[0;34m.\u001b[0m\u001b[0m__init__\u001b[0m\u001b[0;34m(\u001b[0m\u001b[0mopen\u001b[0m\u001b[0;34m(\u001b[0m\u001b[0mname\u001b[0m\u001b[0;34m,\u001b[0m \u001b[0mmode\u001b[0m\u001b[0;34m)\u001b[0m\u001b[0;34m)\u001b[0m\u001b[0;34m\u001b[0m\u001b[0;34m\u001b[0m\u001b[0m\n\u001b[0m\u001b[1;32m    212\u001b[0m \u001b[0;34m\u001b[0m\u001b[0m\n\u001b[1;32m    213\u001b[0m     \u001b[0;32mdef\u001b[0m \u001b[0m__exit__\u001b[0m\u001b[0;34m(\u001b[0m\u001b[0mself\u001b[0m\u001b[0;34m,\u001b[0m \u001b[0;34m*\u001b[0m\u001b[0margs\u001b[0m\u001b[0;34m)\u001b[0m\u001b[0;34m:\u001b[0m\u001b[0;34m\u001b[0m\u001b[0;34m\u001b[0m\u001b[0m\n",
      "\u001b[0;31mFileNotFoundError\u001b[0m: [Errno 2] No such file or directory: '/data/lijingru/DataFree/checkpoints/datafree-probkd/cifar10-resnet34-resnet18--probkd_L2_bn1_shortcut.pth'"
     ]
    }
   ],
   "source": [
    "# import pandas as pd\n",
    "l = 1\n",
    "layer = getattr(teacher, 'layer{}'.format(l))\n",
    "G = datafree.models.generator.DCGAN_Generator_CIFAR10_more(nz=512, ngf=64, img_size=32, d=2, nc=3)\n",
    "G = prepare_model(G)\n",
    "ckpt_path = '/data/lijingru/DataFree/checkpoints/datafree-probkd/cifar10-resnet34-resnet18--probkd_L2_bn1_shortcut.pth'\n",
    "ckpt = torch.load(ckpt_path, map_location='cuda:{}'.format(gpu))\n",
    "G.load_state_dict(ckpt['G_{}'.format(l)])\n",
    "G.eval()\n",
    "\n",
    "z = torch.randn(256, 512).to(gpu)\n",
    "xs, real_x = G(z, l=l)\n",
    "x_out, x_feat_inters = teacher(new_func2(xs, real_x), return_features=True, l=l)\n",
    "x_feat_inters = x_feat_inters.detach().cpu().numpy()\n",
    "print(x_feat_inters.shape)\n",
    "\n",
    "c = 15\n",
    "a = pd.DataFrame(data={'real': x_feats[:, c], 'mean':x_feat_inter_relu[:, c]})\n",
    "sns.displot(a, kind='kde')"
   ]
  },
  {
   "cell_type": "code",
   "execution_count": 39,
   "id": "f02ca687",
   "metadata": {},
   "outputs": [
    {
     "name": "stdout",
     "output_type": "stream",
     "text": [
      "{'neg_ent': -2.2820231914520264, 't_conf': 0.3896195888519287, 'l_act': -0.17438821494579315}\n",
      "tensor([[-0.0771,  0.2484, -0.2477,  ...,  0.1499,  0.0925,  0.1499],\n",
      "        [-0.0529,  0.1834, -0.1757,  ...,  0.1203,  0.0693,  0.0949],\n",
      "        [-0.0820,  0.2229, -0.2485,  ...,  0.1559,  0.0712,  0.1564],\n",
      "        ...,\n",
      "        [-0.0652,  0.1867, -0.1700,  ...,  0.0839,  0.0560,  0.0732],\n",
      "        [-0.1253,  0.1327, -0.2509,  ...,  0.0498,  0.0075,  0.1808],\n",
      "        [-0.0603,  0.1768, -0.0876,  ...,  0.0055,  0.0496, -0.0445]],\n",
      "       device='cuda:2', grad_fn=<MeanBackward1>) tensor([[-0.0467,  0.2571, -0.2314,  ...,  0.1285,  0.0977,  0.1550],\n",
      "        [-0.0355,  0.1898, -0.1674,  ...,  0.0916,  0.0705,  0.1047],\n",
      "        [-0.0522,  0.2334, -0.2371,  ...,  0.1278,  0.0816,  0.1704],\n",
      "        ...,\n",
      "        [-0.0420,  0.1958, -0.1646,  ...,  0.0676,  0.0654,  0.0810],\n",
      "        [-0.0993,  0.1369, -0.2444,  ...,  0.0258,  0.0139,  0.1925],\n",
      "        [-0.0411,  0.1826, -0.0950,  ..., -0.0083,  0.0667, -0.0385]],\n",
      "       device='cuda:2', grad_fn=<MeanBackward1>)\n"
     ]
    }
   ],
   "source": [
    "print(get_losses(x_out.cpu(), torch.FloatTensor(x_feat_inters)))\n",
    "print(torch.mean(new_func(real_x), (2,3)), torch.mean(xs, (2,3)))"
   ]
  },
  {
   "cell_type": "code",
   "execution_count": 36,
   "id": "9cca1f38",
   "metadata": {},
   "outputs": [
    {
     "data": {
      "text/plain": [
       "<AxesSubplot:xlabel='real', ylabel='count'>"
      ]
     },
     "execution_count": 36,
     "metadata": {},
     "output_type": "execute_result"
    },
    {
     "data": {
      "image/png": "[encoded data removed]",
      "text/plain": [
       "<Figure size 432x288 with 1 Axes>"
      ]
     },
     "metadata": {
      "needs_background": "light"
     },
     "output_type": "display_data"
    }
   ],
   "source": [
    "all_dict = {'real': np.argmax(outputs, 1), 'mean':x_out.argmax(1).detach().cpu().numpy()}\n",
    "b = pd.DataFrame(data=all_dict)\n",
    "sns.countplot(x='real', data=b)"
   ]
  },
  {
   "cell_type": "code",
   "execution_count": 37,
   "id": "b1fdc8e5",
   "metadata": {},
   "outputs": [
    {
     "data": {
      "text/plain": [
       "<AxesSubplot:xlabel='mean', ylabel='count'>"
      ]
     },
     "execution_count": 37,
     "metadata": {},
     "output_type": "execute_result"
    },
    {
     "data": {
      "image/png": "[encoded data removed]",
      "text/plain": [
       "<Figure size 432x288 with 1 Axes>"
      ]
     },
     "metadata": {
      "needs_background": "light"
     },
     "output_type": "display_data"
    }
   ],
   "source": [
    "sns.countplot(x='mean', data=b)"
   ]
  },
  {
   "cell_type": "code",
   "execution_count": null,
   "id": "40dac69f",
   "metadata": {},
   "outputs": [],
   "source": []
  }
 ],
 "metadata": {
  "kernelspec": {
   "display_name": "Python 3",
   "language": "python",
   "name": "python3"
  },
  "language_info": {
   "codemirror_mode": {
    "name": "ipython",
    "version": 3
   },
   "file_extension": ".py",
   "mimetype": "text/x-python",
   "name": "python",
   "nbconvert_exporter": "python",
   "pygments_lexer": "ipython3",
   "version": "3.8.8"
  }
 },
 "nbformat": 4,
 "nbformat_minor": 5
}
