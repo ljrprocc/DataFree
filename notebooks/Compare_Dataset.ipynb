{
 "cells": [
  {
   "cell_type": "code",
   "execution_count": 31,
   "id": "532aea4c",
   "metadata": {},
   "outputs": [
    {
     "data": {
      "text/plain": [
       "<torch._C.Generator at 0x7f8a341645b0>"
      ]
     },
     "execution_count": 31,
     "metadata": {},
     "output_type": "execute_result"
    }
   ],
   "source": [
    "import torch\n",
    "from torchvision.datasets import CIFAR10\n",
    "import sys\n",
    "sys.path.append('..')\n",
    "from registry import MODEL_DICT, NORMALIZE_DICT, RatioCIFAR10\n",
    "torch.backends.cudnn.deterministic = True\n",
    "torch.cuda.manual_seed(0)\n",
    "torch.manual_seed(0)"
   ]
  },
  {
   "cell_type": "code",
   "execution_count": 32,
   "id": "2e6b7566",
   "metadata": {},
   "outputs": [
    {
     "name": "stdout",
     "output_type": "stream",
     "text": [
      "Files already downloaded and verified\n"
     ]
    }
   ],
   "source": [
    "import torchvision.transforms as T\n",
    "name = 'cifar10'\n",
    "data_root = '/data/lijingru/cifar10/'\n",
    "train_transform = T.Compose([\n",
    "    #T.Resize((224, 224), Image.BICUBIC),\n",
    "    T.RandomCrop(32, padding=4),\n",
    "    T.RandomHorizontalFlip(),\n",
    "    T.ToTensor(),\n",
    "    T.Normalize( **NORMALIZE_DICT[name] ),\n",
    "])\n",
    "val_transform = T.Compose([\n",
    "    #T.Resize((224, 224), Image.BICUBIC),\n",
    "    T.ToTensor(),\n",
    "    T.Normalize( **NORMALIZE_DICT[name] ),\n",
    "])\n",
    "train_dst = CIFAR10(data_root, train=True, download=True, transform=val_transform)\n"
   ]
  },
  {
   "cell_type": "code",
   "execution_count": 33,
   "id": "7b421b10",
   "metadata": {},
   "outputs": [],
   "source": [
    "import registry\n",
    "device = 'cuda:1'\n",
    "model = registry.get_model(name='resnet34', num_classes=10)\n",
    "model.load_state_dict(torch.load('/data/lijingru/DataFree/checkpoints/scratch/cifar10_resnet34.pth', map_location='cpu')['state_dict'])\n",
    "model = model.to(device)"
   ]
  },
  {
   "cell_type": "code",
   "execution_count": 4,
   "id": "75263236",
   "metadata": {},
   "outputs": [
    {
     "name": "stderr",
     "output_type": "stream",
     "text": [
      "Updating Confidence indices...: 100%|██████████| 391/391 [00:09<00:00, 41.69it/s]\n"
     ]
    },
    {
     "name": "stdout",
     "output_type": "stream",
     "text": [
      "Sample 50000 samples\n"
     ]
    }
   ],
   "source": [
    "ratio_train_dst = RatioCIFAR10(model='resnet34', dst=train_dst, ratio=1.0, gpu=device)"
   ]
  },
  {
   "cell_type": "code",
   "execution_count": 34,
   "id": "16fd6c19",
   "metadata": {},
   "outputs": [],
   "source": [
    "dataloader1 = torch.utils.data.DataLoader(train_dst, batch_size=128, shuffle=False, num_workers=8)\n",
    "# dataloader2 = torch.utils.data.DataLoader(ratio_train_dst, batch_size=128, shuffle=False, num_workers=8, pin_memory=True)"
   ]
  },
  {
   "cell_type": "code",
   "execution_count": 18,
   "id": "bf28bd9f",
   "metadata": {},
   "outputs": [
    {
     "ename": "NameError",
     "evalue": "name 'ratio_train_dst' is not defined",
     "output_type": "error",
     "traceback": [
      "\u001b[0;31m---------------------------------------------------------------------------\u001b[0m",
      "\u001b[0;31mNameError\u001b[0m                                 Traceback (most recent call last)",
      "\u001b[0;32m<ipython-input-18-983b171eb356>\u001b[0m in \u001b[0;36m<module>\u001b[0;34m\u001b[0m\n\u001b[0;32m----> 1\u001b[0;31m \u001b[0mx\u001b[0m\u001b[0;34m,\u001b[0m \u001b[0my\u001b[0m\u001b[0;34m,\u001b[0m \u001b[0mindice\u001b[0m \u001b[0;34m=\u001b[0m \u001b[0mratio_train_dst\u001b[0m\u001b[0;34m.\u001b[0m\u001b[0m_confidence\u001b[0m\u001b[0;34m(\u001b[0m\u001b[0;34m)\u001b[0m\u001b[0;34m\u001b[0m\u001b[0;34m\u001b[0m\u001b[0m\n\u001b[0m",
      "\u001b[0;31mNameError\u001b[0m: name 'ratio_train_dst' is not defined"
     ]
    }
   ],
   "source": [
    "x, y, indice = ratio_train_dst._confidence()"
   ]
  },
  {
   "cell_type": "code",
   "execution_count": 7,
   "id": "4eeebe6f",
   "metadata": {},
   "outputs": [
    {
     "data": {
      "text/plain": [
       "tensor([36921, 36083, 16663,  ..., 15849, 45184,  9642])"
      ]
     },
     "execution_count": 7,
     "metadata": {},
     "output_type": "execute_result"
    }
   ],
   "source": [
    "ratio_train_dst.indice"
   ]
  },
  {
   "cell_type": "code",
   "execution_count": 37,
   "id": "564c1d28",
   "metadata": {},
   "outputs": [
    {
     "name": "stderr",
     "output_type": "stream",
     "text": [
      "Updating Confidence indices...: 100%|██████████| 391/391 [00:13<00:00, 28.24it/s]\n"
     ]
    },
    {
     "name": "stdout",
     "output_type": "stream",
     "text": [
      "tensor([15820, 15937, 47699,  ...,  6957,  9987,  2892])\n"
     ]
    }
   ],
   "source": [
    "import tqdm\n",
    "res = {\n",
    "    'x': [],\n",
    "    'y': [],\n",
    "    'ent': []\n",
    "}\n",
    "# dataloader = torch.utils.data.DataLoader(self.dst, batch_size=128, shuffle=False, num_workers=8, pin_memory=True)\n",
    "for x,y in tqdm.tqdm(dataloader1, desc='Updating Confidence indices...'):\n",
    "    output_logit = model(x.to(device))\n",
    "    p = (output_logit).softmax(1)\n",
    "    ents = (p * p.log()).sum(1)\n",
    "    res['x'] += list(x)\n",
    "    res['y'] += list(y)\n",
    "    res['ent'] += list(ents.detach().cpu())\n",
    "\n",
    "# print(len(res['ent']), len(res['x']), len(res['y']))\n",
    "ent = torch.FloatTensor(res['ent'])\n",
    "# print(type(res['x']))\n",
    "x = torch.cat([w.unsqueeze(0) for w in res['x']], 0)\n",
    "y = torch.LongTensor(res['y'])\n",
    "# print(x.shape, y.shape)\n",
    "_, indice = torch.sort(ent)\n",
    "print(indice)"
   ]
  },
  {
   "cell_type": "code",
   "execution_count": 39,
   "id": "b3dfb6e1",
   "metadata": {},
   "outputs": [],
   "source": [
    "import numpy as np\n",
    "np.save('/data/lijingru/DataFree/checkpoints/indice.npy', indice.numpy())"
   ]
  },
  {
   "cell_type": "code",
   "execution_count": null,
   "id": "19db3efe",
   "metadata": {},
   "outputs": [],
   "source": []
  }
 ],
 "metadata": {
  "kernelspec": {
   "display_name": "Python 3",
   "language": "python",
   "name": "python3"
  },
  "language_info": {
   "codemirror_mode": {
    "name": "ipython",
    "version": 3
   },
   "file_extension": ".py",
   "mimetype": "text/x-python",
   "name": "python",
   "nbconvert_exporter": "python",
   "pygments_lexer": "ipython3",
   "version": "3.8.8"
  }
 },
 "nbformat": 4,
 "nbformat_minor": 5
}
