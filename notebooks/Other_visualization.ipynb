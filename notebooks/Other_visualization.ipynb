{
 "cells": [
  {
   "cell_type": "code",
   "execution_count": 1,
   "id": "634f45ac",
   "metadata": {},
   "outputs": [],
   "source": [
    "import torch\n",
    "import numpy as np\n",
    "from scipy.spatial import distance\n",
    "import os\n",
    "\n",
    "import sys\n",
    "sys.path.append('..')\n",
    "import registry\n",
    "import datafree\n",
    "%matplotlib inline\n",
    "%config InlineBackend.figure_format = 'pdf'"
   ]
  },
  {
   "cell_type": "code",
   "execution_count": 2,
   "id": "ca31aa4c",
   "metadata": {},
   "outputs": [
    {
     "name": "stdout",
     "output_type": "stream",
     "text": [
      "Sun Aug 21 02:19:16 2022       \r\n",
      "+-----------------------------------------------------------------------------+\r\n",
      "| NVIDIA-SMI 510.60.02    Driver Version: 510.60.02    CUDA Version: 11.6     |\r\n",
      "|-------------------------------+----------------------+----------------------+\r\n",
      "| GPU  Name        Persistence-M| Bus-Id        Disp.A | Volatile Uncorr. ECC |\r\n",
      "| Fan  Temp  Perf  Pwr:Usage/Cap|         Memory-Usage | GPU-Util  Compute M. |\r\n",
      "|                               |                      |               MIG M. |\r\n",
      "|===============================+======================+======================|\r\n",
      "|   0  NVIDIA GeForce ...  Off  | 00000000:05:00.0 Off |                  N/A |\r\n",
      "| 30%   33C    P0    94W / 350W |      0MiB / 24576MiB |      0%      Default |\r\n",
      "|                               |                      |                  N/A |\r\n",
      "+-------------------------------+----------------------+----------------------+\r\n",
      "|   1  NVIDIA GeForce ...  Off  | 00000000:09:00.0 Off |                  N/A |\r\n",
      "| 30%   35C    P0   103W / 350W |      0MiB / 24576MiB |      0%      Default |\r\n",
      "|                               |                      |                  N/A |\r\n",
      "+-------------------------------+----------------------+----------------------+\r\n",
      "|   2  NVIDIA GeForce ...  Off  | 00000000:0A:00.0 Off |                  N/A |\r\n",
      "| 30%   40C    P0   108W / 350W |      0MiB / 24576MiB |      0%      Default |\r\n",
      "|                               |                      |                  N/A |\r\n",
      "+-------------------------------+----------------------+----------------------+\r\n",
      "|   3  NVIDIA GeForce ...  Off  | 00000000:82:00.0 Off |                  N/A |\r\n",
      "| 30%   37C    P0   104W / 350W |      0MiB / 24576MiB |      0%      Default |\r\n",
      "|                               |                      |                  N/A |\r\n",
      "+-------------------------------+----------------------+----------------------+\r\n",
      "|   4  NVIDIA GeForce ...  Off  | 00000000:85:00.0 Off |                  N/A |\r\n",
      "| 30%   33C    P0   101W / 350W |      0MiB / 24576MiB |      0%      Default |\r\n",
      "|                               |                      |                  N/A |\r\n",
      "+-------------------------------+----------------------+----------------------+\r\n",
      "|   5  NVIDIA GeForce ...  Off  | 00000000:89:00.0 Off |                  N/A |\r\n",
      "| 30%   35C    P0    98W / 350W |      0MiB / 24576MiB |      3%      Default |\r\n",
      "|                               |                      |                  N/A |\r\n",
      "+-------------------------------+----------------------+----------------------+\r\n",
      "                                                                               \r\n",
      "+-----------------------------------------------------------------------------+\r\n",
      "| Processes:                                                                  |\r\n",
      "|  GPU   GI   CI        PID   Type   Process name                  GPU Memory |\r\n",
      "|        ID   ID                                                   Usage      |\r\n",
      "|=============================================================================|\r\n",
      "|  No running processes found                                                 |\r\n",
      "+-----------------------------------------------------------------------------+\r\n"
     ]
    }
   ],
   "source": [
    "!nvidia-smi"
   ]
  },
  {
   "cell_type": "code",
   "execution_count": 3,
   "id": "aee8b104",
   "metadata": {},
   "outputs": [],
   "source": [
    "distributed = False\n",
    "gpu = 5\n",
    "# gpu ='0,1'\n",
    "batch_size = 128\n",
    "workers = 8\n",
    "# num_classes = 10\n",
    "# num_classes = 100\n",
    "num_classes = 200\n",
    "def prepare_model(model):\n",
    "    if not torch.cuda.is_available():\n",
    "        print('using CPU, this will be slow')\n",
    "        return model\n",
    "    elif distributed:\n",
    "        # For multiprocessing distributed, DistributedDataParallel constructor\n",
    "        # should always set the single device scope, otherwise,\n",
    "        # DistributedDataParallel will use all available devices.\n",
    "        if gpu is not None:\n",
    "#             torch.cuda.set_device(gpu)\n",
    "            model.cuda()\n",
    "            # When using a single GPU per process and per\n",
    "            # DistributedDataParallel, we need to divide the batch size\n",
    "            # ourselves based on the total number of GPUs we have\n",
    "            batch_size = int(batch_size / 1)\n",
    "            workers = int((workers + 1 - 1) / 1)\n",
    "            model = torch.nn.parallel.DistributedDataParallel(model, device_ids=[int(x) for x in gpu.split(',')])\n",
    "            return model\n",
    "        else:\n",
    "            model.cuda()\n",
    "            model = torch.nn.parallel.DistributedDataParallel(model)\n",
    "            return model\n",
    "    elif gpu is not None:\n",
    "        torch.cuda.set_device(gpu)\n",
    "        model = model.cuda(gpu)\n",
    "        return model\n",
    "    else:\n",
    "        # DataParallel will divide and allocate batch_size to all available GPUs\n",
    "        model = torch.nn.DataParallel(model).cuda()\n",
    "        return model"
   ]
  },
  {
   "cell_type": "code",
   "execution_count": 22,
   "id": "4f45bc13",
   "metadata": {},
   "outputs": [
    {
     "name": "stdout",
     "output_type": "stream",
     "text": [
      "61.47\n"
     ]
    },
    {
     "data": {
      "text/plain": [
       "ResNet(\n",
       "  (conv1): Conv2d(3, 64, kernel_size=(3, 3), stride=(1, 1), padding=(1, 1))\n",
       "  (bn1): BatchNorm2d(64, eps=1e-05, momentum=0.1, affine=True, track_running_stats=True)\n",
       "  (relu): ReLU(inplace=True)\n",
       "  (maxpool): Sequential()\n",
       "  (layer1): Sequential(\n",
       "    (0): BasicBlock(\n",
       "      (conv1): Conv2d(64, 64, kernel_size=(3, 3), stride=(1, 1), padding=(1, 1), bias=False)\n",
       "      (bn1): BatchNorm2d(64, eps=1e-05, momentum=0.1, affine=True, track_running_stats=True)\n",
       "      (relu): ReLU(inplace=True)\n",
       "      (conv2): Conv2d(64, 64, kernel_size=(3, 3), stride=(1, 1), padding=(1, 1), bias=False)\n",
       "      (bn2): BatchNorm2d(64, eps=1e-05, momentum=0.1, affine=True, track_running_stats=True)\n",
       "    )\n",
       "    (1): BasicBlock(\n",
       "      (conv1): Conv2d(64, 64, kernel_size=(3, 3), stride=(1, 1), padding=(1, 1), bias=False)\n",
       "      (bn1): BatchNorm2d(64, eps=1e-05, momentum=0.1, affine=True, track_running_stats=True)\n",
       "      (relu): ReLU(inplace=True)\n",
       "      (conv2): Conv2d(64, 64, kernel_size=(3, 3), stride=(1, 1), padding=(1, 1), bias=False)\n",
       "      (bn2): BatchNorm2d(64, eps=1e-05, momentum=0.1, affine=True, track_running_stats=True)\n",
       "    )\n",
       "    (2): BasicBlock(\n",
       "      (conv1): Conv2d(64, 64, kernel_size=(3, 3), stride=(1, 1), padding=(1, 1), bias=False)\n",
       "      (bn1): BatchNorm2d(64, eps=1e-05, momentum=0.1, affine=True, track_running_stats=True)\n",
       "      (relu): ReLU(inplace=True)\n",
       "      (conv2): Conv2d(64, 64, kernel_size=(3, 3), stride=(1, 1), padding=(1, 1), bias=False)\n",
       "      (bn2): BatchNorm2d(64, eps=1e-05, momentum=0.1, affine=True, track_running_stats=True)\n",
       "    )\n",
       "  )\n",
       "  (layer2): Sequential(\n",
       "    (0): BasicBlock(\n",
       "      (conv1): Conv2d(64, 128, kernel_size=(3, 3), stride=(2, 2), padding=(1, 1), bias=False)\n",
       "      (bn1): BatchNorm2d(128, eps=1e-05, momentum=0.1, affine=True, track_running_stats=True)\n",
       "      (relu): ReLU(inplace=True)\n",
       "      (conv2): Conv2d(128, 128, kernel_size=(3, 3), stride=(1, 1), padding=(1, 1), bias=False)\n",
       "      (bn2): BatchNorm2d(128, eps=1e-05, momentum=0.1, affine=True, track_running_stats=True)\n",
       "      (downsample): Sequential(\n",
       "        (0): Conv2d(64, 128, kernel_size=(1, 1), stride=(2, 2), bias=False)\n",
       "        (1): BatchNorm2d(128, eps=1e-05, momentum=0.1, affine=True, track_running_stats=True)\n",
       "      )\n",
       "    )\n",
       "    (1): BasicBlock(\n",
       "      (conv1): Conv2d(128, 128, kernel_size=(3, 3), stride=(1, 1), padding=(1, 1), bias=False)\n",
       "      (bn1): BatchNorm2d(128, eps=1e-05, momentum=0.1, affine=True, track_running_stats=True)\n",
       "      (relu): ReLU(inplace=True)\n",
       "      (conv2): Conv2d(128, 128, kernel_size=(3, 3), stride=(1, 1), padding=(1, 1), bias=False)\n",
       "      (bn2): BatchNorm2d(128, eps=1e-05, momentum=0.1, affine=True, track_running_stats=True)\n",
       "    )\n",
       "    (2): BasicBlock(\n",
       "      (conv1): Conv2d(128, 128, kernel_size=(3, 3), stride=(1, 1), padding=(1, 1), bias=False)\n",
       "      (bn1): BatchNorm2d(128, eps=1e-05, momentum=0.1, affine=True, track_running_stats=True)\n",
       "      (relu): ReLU(inplace=True)\n",
       "      (conv2): Conv2d(128, 128, kernel_size=(3, 3), stride=(1, 1), padding=(1, 1), bias=False)\n",
       "      (bn2): BatchNorm2d(128, eps=1e-05, momentum=0.1, affine=True, track_running_stats=True)\n",
       "    )\n",
       "    (3): BasicBlock(\n",
       "      (conv1): Conv2d(128, 128, kernel_size=(3, 3), stride=(1, 1), padding=(1, 1), bias=False)\n",
       "      (bn1): BatchNorm2d(128, eps=1e-05, momentum=0.1, affine=True, track_running_stats=True)\n",
       "      (relu): ReLU(inplace=True)\n",
       "      (conv2): Conv2d(128, 128, kernel_size=(3, 3), stride=(1, 1), padding=(1, 1), bias=False)\n",
       "      (bn2): BatchNorm2d(128, eps=1e-05, momentum=0.1, affine=True, track_running_stats=True)\n",
       "    )\n",
       "  )\n",
       "  (layer3): Sequential(\n",
       "    (0): BasicBlock(\n",
       "      (conv1): Conv2d(128, 256, kernel_size=(3, 3), stride=(2, 2), padding=(1, 1), bias=False)\n",
       "      (bn1): BatchNorm2d(256, eps=1e-05, momentum=0.1, affine=True, track_running_stats=True)\n",
       "      (relu): ReLU(inplace=True)\n",
       "      (conv2): Conv2d(256, 256, kernel_size=(3, 3), stride=(1, 1), padding=(1, 1), bias=False)\n",
       "      (bn2): BatchNorm2d(256, eps=1e-05, momentum=0.1, affine=True, track_running_stats=True)\n",
       "      (downsample): Sequential(\n",
       "        (0): Conv2d(128, 256, kernel_size=(1, 1), stride=(2, 2), bias=False)\n",
       "        (1): BatchNorm2d(256, eps=1e-05, momentum=0.1, affine=True, track_running_stats=True)\n",
       "      )\n",
       "    )\n",
       "    (1): BasicBlock(\n",
       "      (conv1): Conv2d(256, 256, kernel_size=(3, 3), stride=(1, 1), padding=(1, 1), bias=False)\n",
       "      (bn1): BatchNorm2d(256, eps=1e-05, momentum=0.1, affine=True, track_running_stats=True)\n",
       "      (relu): ReLU(inplace=True)\n",
       "      (conv2): Conv2d(256, 256, kernel_size=(3, 3), stride=(1, 1), padding=(1, 1), bias=False)\n",
       "      (bn2): BatchNorm2d(256, eps=1e-05, momentum=0.1, affine=True, track_running_stats=True)\n",
       "    )\n",
       "    (2): BasicBlock(\n",
       "      (conv1): Conv2d(256, 256, kernel_size=(3, 3), stride=(1, 1), padding=(1, 1), bias=False)\n",
       "      (bn1): BatchNorm2d(256, eps=1e-05, momentum=0.1, affine=True, track_running_stats=True)\n",
       "      (relu): ReLU(inplace=True)\n",
       "      (conv2): Conv2d(256, 256, kernel_size=(3, 3), stride=(1, 1), padding=(1, 1), bias=False)\n",
       "      (bn2): BatchNorm2d(256, eps=1e-05, momentum=0.1, affine=True, track_running_stats=True)\n",
       "    )\n",
       "    (3): BasicBlock(\n",
       "      (conv1): Conv2d(256, 256, kernel_size=(3, 3), stride=(1, 1), padding=(1, 1), bias=False)\n",
       "      (bn1): BatchNorm2d(256, eps=1e-05, momentum=0.1, affine=True, track_running_stats=True)\n",
       "      (relu): ReLU(inplace=True)\n",
       "      (conv2): Conv2d(256, 256, kernel_size=(3, 3), stride=(1, 1), padding=(1, 1), bias=False)\n",
       "      (bn2): BatchNorm2d(256, eps=1e-05, momentum=0.1, affine=True, track_running_stats=True)\n",
       "    )\n",
       "    (4): BasicBlock(\n",
       "      (conv1): Conv2d(256, 256, kernel_size=(3, 3), stride=(1, 1), padding=(1, 1), bias=False)\n",
       "      (bn1): BatchNorm2d(256, eps=1e-05, momentum=0.1, affine=True, track_running_stats=True)\n",
       "      (relu): ReLU(inplace=True)\n",
       "      (conv2): Conv2d(256, 256, kernel_size=(3, 3), stride=(1, 1), padding=(1, 1), bias=False)\n",
       "      (bn2): BatchNorm2d(256, eps=1e-05, momentum=0.1, affine=True, track_running_stats=True)\n",
       "    )\n",
       "    (5): BasicBlock(\n",
       "      (conv1): Conv2d(256, 256, kernel_size=(3, 3), stride=(1, 1), padding=(1, 1), bias=False)\n",
       "      (bn1): BatchNorm2d(256, eps=1e-05, momentum=0.1, affine=True, track_running_stats=True)\n",
       "      (relu): ReLU(inplace=True)\n",
       "      (conv2): Conv2d(256, 256, kernel_size=(3, 3), stride=(1, 1), padding=(1, 1), bias=False)\n",
       "      (bn2): BatchNorm2d(256, eps=1e-05, momentum=0.1, affine=True, track_running_stats=True)\n",
       "    )\n",
       "  )\n",
       "  (layer4): Sequential(\n",
       "    (0): BasicBlock(\n",
       "      (conv1): Conv2d(256, 512, kernel_size=(3, 3), stride=(2, 2), padding=(1, 1), bias=False)\n",
       "      (bn1): BatchNorm2d(512, eps=1e-05, momentum=0.1, affine=True, track_running_stats=True)\n",
       "      (relu): ReLU(inplace=True)\n",
       "      (conv2): Conv2d(512, 512, kernel_size=(3, 3), stride=(1, 1), padding=(1, 1), bias=False)\n",
       "      (bn2): BatchNorm2d(512, eps=1e-05, momentum=0.1, affine=True, track_running_stats=True)\n",
       "      (downsample): Sequential(\n",
       "        (0): Conv2d(256, 512, kernel_size=(1, 1), stride=(2, 2), bias=False)\n",
       "        (1): BatchNorm2d(512, eps=1e-05, momentum=0.1, affine=True, track_running_stats=True)\n",
       "      )\n",
       "    )\n",
       "    (1): BasicBlock(\n",
       "      (conv1): Conv2d(512, 512, kernel_size=(3, 3), stride=(1, 1), padding=(1, 1), bias=False)\n",
       "      (bn1): BatchNorm2d(512, eps=1e-05, momentum=0.1, affine=True, track_running_stats=True)\n",
       "      (relu): ReLU(inplace=True)\n",
       "      (conv2): Conv2d(512, 512, kernel_size=(3, 3), stride=(1, 1), padding=(1, 1), bias=False)\n",
       "      (bn2): BatchNorm2d(512, eps=1e-05, momentum=0.1, affine=True, track_running_stats=True)\n",
       "    )\n",
       "    (2): BasicBlock(\n",
       "      (conv1): Conv2d(512, 512, kernel_size=(3, 3), stride=(1, 1), padding=(1, 1), bias=False)\n",
       "      (bn1): BatchNorm2d(512, eps=1e-05, momentum=0.1, affine=True, track_running_stats=True)\n",
       "      (relu): ReLU(inplace=True)\n",
       "      (conv2): Conv2d(512, 512, kernel_size=(3, 3), stride=(1, 1), padding=(1, 1), bias=False)\n",
       "      (bn2): BatchNorm2d(512, eps=1e-05, momentum=0.1, affine=True, track_running_stats=True)\n",
       "    )\n",
       "  )\n",
       "  (avgpool): AdaptiveAvgPool2d(output_size=1)\n",
       "  (fc): Linear(in_features=512, out_features=200, bias=True)\n",
       ")"
      ]
     },
     "execution_count": 22,
     "metadata": {},
     "output_type": "execute_result"
    }
   ],
   "source": [
    "from torchvision.datasets import CIFAR10,CIFAR100\n",
    "import datafree\n",
    "import registry\n",
    "from torch import nn\n",
    "student = registry.get_model('resnet18_imagenet', num_classes=num_classes)\n",
    "teacher = registry.get_model('resnet34_imagenet', num_classes=num_classes, pretrained=True).eval()\n",
    "# student = registry.get_model('wrn40_1', num_classes=num_classes)\n",
    "# student= registry.get_model('wrn16_2', num_classes=num_classes)\n",
    "# teacher = registry.get_model('wrn40_2', num_classes=num_classes)\n",
    "normalizer = datafree.utils.Normalizer(**registry.NORMALIZE_DICT['tiny_imagenet'])\n",
    "# normalizer = datafree.utils.Normalizer(**registry.NORMALIZE_DICT['cifar10'])\n",
    "# normalizer = datafree.utils.Normalizer(**registry.NORMALIZE_DICT['cifar100'])\n",
    "student = prepare_model(student)\n",
    "\n",
    "# teacher = teacher.to(gpu)\n",
    "teacher.avgpool = nn.AdaptiveAvgPool2d(1)\n",
    "num_ftrs = teacher.fc.in_features\n",
    "teacher.fc = nn.Linear(num_ftrs, 200)\n",
    "teacher.conv1 = nn.Conv2d(3,64, kernel_size=(3,3), stride=(1,1), padding=(1,1))\n",
    "teacher.maxpool = nn.Sequential()\n",
    "teacher = prepare_model(teacher)\n",
    "ckpt = torch.load('../checkpoints/scratch/tiny_imagenet_resnet34_imagenet.pth', map_location='cpu')\n",
    "dict_ckpt = dict()\n",
    "for k, v in ckpt['state_dict'].items():\n",
    "    dict_ckpt['.'.join(k.split('.')[1:])] = v\n",
    "teacher.load_state_dict(dict_ckpt)\n",
    "print(ckpt['best_acc1'])\n",
    "# teacher.load_state_dict(torch.load('../checkpoints/scratch/cifar10_resnet34.pth', map_location='cpu')['state_dict'])\n",
    "# teacher.load_state_dict(torch.load('../checkpoints/scratch/cifar10_wrn40_2.pth', map_location='cpu')['state_dict'])\n",
    "# teacher.load_state_dict(torch.load('../checkpoints/scratch/cifar100_wrn40_2.pth', map_location='cpu')['state_dict'])\n",
    "# teacher.load_state_dict(torch.load('../checkpoints/scratch/cifar100_resnet34.pth', map_location='cpu')['state_dict'])\n",
    "teacher.eval()\n"
   ]
  },
  {
   "cell_type": "code",
   "execution_count": 5,
   "id": "bea63e4c",
   "metadata": {},
   "outputs": [
    {
     "name": "stdout",
     "output_type": "stream",
     "text": [
      "cifar10-resnet34-resnet18--dafl_interval_a2.pth\r\n",
      "cifar10-vgg11-resnet18--dafl_interval_2.pth\r\n",
      "log-cifar10-resnet34-resnet18-dafl_interval_a2.txt\r\n",
      "log-cifar10-vgg11-resnet18-dafl_interval_2.txt\r\n",
      "synthetic-dafl_interval_2.png\r\n",
      "synthetic-dafl_interval_a2.png\r\n"
     ]
    }
   ],
   "source": [
    "!ls /data/lijingru/DataFree/checkpoints/datafree-dafl/"
   ]
  },
  {
   "cell_type": "code",
   "execution_count": 27,
   "id": "9b4f3194",
   "metadata": {},
   "outputs": [
    {
     "name": "stdout",
     "output_type": "stream",
     "text": [
      "43.419999999999995\n"
     ]
    },
    {
     "data": {
      "text/plain": [
       "ResNet(\n",
       "  (conv1): Conv2d(3, 64, kernel_size=(7, 7), stride=(2, 2), padding=(3, 3), bias=False)\n",
       "  (bn1): BatchNorm2d(64, eps=1e-05, momentum=0.1, affine=True, track_running_stats=True)\n",
       "  (relu): ReLU(inplace=True)\n",
       "  (maxpool): MaxPool2d(kernel_size=3, stride=2, padding=1, dilation=1, ceil_mode=False)\n",
       "  (layer1): Sequential(\n",
       "    (0): BasicBlock(\n",
       "      (conv1): Conv2d(64, 64, kernel_size=(3, 3), stride=(1, 1), padding=(1, 1), bias=False)\n",
       "      (bn1): BatchNorm2d(64, eps=1e-05, momentum=0.1, affine=True, track_running_stats=True)\n",
       "      (relu): ReLU(inplace=True)\n",
       "      (conv2): Conv2d(64, 64, kernel_size=(3, 3), stride=(1, 1), padding=(1, 1), bias=False)\n",
       "      (bn2): BatchNorm2d(64, eps=1e-05, momentum=0.1, affine=True, track_running_stats=True)\n",
       "    )\n",
       "    (1): BasicBlock(\n",
       "      (conv1): Conv2d(64, 64, kernel_size=(3, 3), stride=(1, 1), padding=(1, 1), bias=False)\n",
       "      (bn1): BatchNorm2d(64, eps=1e-05, momentum=0.1, affine=True, track_running_stats=True)\n",
       "      (relu): ReLU(inplace=True)\n",
       "      (conv2): Conv2d(64, 64, kernel_size=(3, 3), stride=(1, 1), padding=(1, 1), bias=False)\n",
       "      (bn2): BatchNorm2d(64, eps=1e-05, momentum=0.1, affine=True, track_running_stats=True)\n",
       "    )\n",
       "  )\n",
       "  (layer2): Sequential(\n",
       "    (0): BasicBlock(\n",
       "      (conv1): Conv2d(64, 128, kernel_size=(3, 3), stride=(2, 2), padding=(1, 1), bias=False)\n",
       "      (bn1): BatchNorm2d(128, eps=1e-05, momentum=0.1, affine=True, track_running_stats=True)\n",
       "      (relu): ReLU(inplace=True)\n",
       "      (conv2): Conv2d(128, 128, kernel_size=(3, 3), stride=(1, 1), padding=(1, 1), bias=False)\n",
       "      (bn2): BatchNorm2d(128, eps=1e-05, momentum=0.1, affine=True, track_running_stats=True)\n",
       "      (downsample): Sequential(\n",
       "        (0): Conv2d(64, 128, kernel_size=(1, 1), stride=(2, 2), bias=False)\n",
       "        (1): BatchNorm2d(128, eps=1e-05, momentum=0.1, affine=True, track_running_stats=True)\n",
       "      )\n",
       "    )\n",
       "    (1): BasicBlock(\n",
       "      (conv1): Conv2d(128, 128, kernel_size=(3, 3), stride=(1, 1), padding=(1, 1), bias=False)\n",
       "      (bn1): BatchNorm2d(128, eps=1e-05, momentum=0.1, affine=True, track_running_stats=True)\n",
       "      (relu): ReLU(inplace=True)\n",
       "      (conv2): Conv2d(128, 128, kernel_size=(3, 3), stride=(1, 1), padding=(1, 1), bias=False)\n",
       "      (bn2): BatchNorm2d(128, eps=1e-05, momentum=0.1, affine=True, track_running_stats=True)\n",
       "    )\n",
       "  )\n",
       "  (layer3): Sequential(\n",
       "    (0): BasicBlock(\n",
       "      (conv1): Conv2d(128, 256, kernel_size=(3, 3), stride=(2, 2), padding=(1, 1), bias=False)\n",
       "      (bn1): BatchNorm2d(256, eps=1e-05, momentum=0.1, affine=True, track_running_stats=True)\n",
       "      (relu): ReLU(inplace=True)\n",
       "      (conv2): Conv2d(256, 256, kernel_size=(3, 3), stride=(1, 1), padding=(1, 1), bias=False)\n",
       "      (bn2): BatchNorm2d(256, eps=1e-05, momentum=0.1, affine=True, track_running_stats=True)\n",
       "      (downsample): Sequential(\n",
       "        (0): Conv2d(128, 256, kernel_size=(1, 1), stride=(2, 2), bias=False)\n",
       "        (1): BatchNorm2d(256, eps=1e-05, momentum=0.1, affine=True, track_running_stats=True)\n",
       "      )\n",
       "    )\n",
       "    (1): BasicBlock(\n",
       "      (conv1): Conv2d(256, 256, kernel_size=(3, 3), stride=(1, 1), padding=(1, 1), bias=False)\n",
       "      (bn1): BatchNorm2d(256, eps=1e-05, momentum=0.1, affine=True, track_running_stats=True)\n",
       "      (relu): ReLU(inplace=True)\n",
       "      (conv2): Conv2d(256, 256, kernel_size=(3, 3), stride=(1, 1), padding=(1, 1), bias=False)\n",
       "      (bn2): BatchNorm2d(256, eps=1e-05, momentum=0.1, affine=True, track_running_stats=True)\n",
       "    )\n",
       "  )\n",
       "  (layer4): Sequential(\n",
       "    (0): BasicBlock(\n",
       "      (conv1): Conv2d(256, 512, kernel_size=(3, 3), stride=(2, 2), padding=(1, 1), bias=False)\n",
       "      (bn1): BatchNorm2d(512, eps=1e-05, momentum=0.1, affine=True, track_running_stats=True)\n",
       "      (relu): ReLU(inplace=True)\n",
       "      (conv2): Conv2d(512, 512, kernel_size=(3, 3), stride=(1, 1), padding=(1, 1), bias=False)\n",
       "      (bn2): BatchNorm2d(512, eps=1e-05, momentum=0.1, affine=True, track_running_stats=True)\n",
       "      (downsample): Sequential(\n",
       "        (0): Conv2d(256, 512, kernel_size=(1, 1), stride=(2, 2), bias=False)\n",
       "        (1): BatchNorm2d(512, eps=1e-05, momentum=0.1, affine=True, track_running_stats=True)\n",
       "      )\n",
       "    )\n",
       "    (1): BasicBlock(\n",
       "      (conv1): Conv2d(512, 512, kernel_size=(3, 3), stride=(1, 1), padding=(1, 1), bias=False)\n",
       "      (bn1): BatchNorm2d(512, eps=1e-05, momentum=0.1, affine=True, track_running_stats=True)\n",
       "      (relu): ReLU(inplace=True)\n",
       "      (conv2): Conv2d(512, 512, kernel_size=(3, 3), stride=(1, 1), padding=(1, 1), bias=False)\n",
       "      (bn2): BatchNorm2d(512, eps=1e-05, momentum=0.1, affine=True, track_running_stats=True)\n",
       "    )\n",
       "  )\n",
       "  (avgpool): AdaptiveAvgPool2d(output_size=(1, 1))\n",
       "  (fc): Linear(in_features=512, out_features=200, bias=True)\n",
       ")"
      ]
     },
     "execution_count": 27,
     "metadata": {},
     "output_type": "execute_result"
    }
   ],
   "source": [
    "# generator = datafree.models.generator.LargeGenerator(nz=512, ngf=64, img_size=32, nc=3)\n",
    "# generator = prepare_model(generator)\n",
    "# ckpt = torch.load('/data/lijingru/CMI/checkpoints/datafree-cmi/cifar100-resnet34-resnet18.pth', map_location='cpu')\n",
    "# ckpt = torch.load('../checkpoints/datafree-deepinv/cifar100-resnet34-resnet18--deepinv_100a.pth', map_location='cpu')\n",
    "# ckpt = torch.load('/data/lijingru/CMI/checkpoints/datafree-dafl/cifar100-resnet34-resnet18.pth', map_location='cpu')\n",
    "# ckpt = torch.load('../checkpoints/datafree-cmi/cifar10-resnet34-resnet18_adv_cmi.pth', map_location='cpu')\n",
    "# ckpt = torch.load('../checkpoints/datafree-cudfkd/cifar100-resnet34-resnet18--cudfkd_L2_line33_e.pth', map_location='cpu')\n",
    "ckpt = torch.load('../checkpoints/datafree-probkd/tiny_imagenet-resnet34_imagenet-resnet18_imagenet--probkd_L3_line7-R0.pth', map_location='cpu')\n",
    "# ckpt = torch.load('../checkpoints/datafree-cudfkd/cifar10-wrn40_2-wrn16_2--cudfkd_L2_line93_agg_2.pth', map_location='cpu')\n",
    "# ckpt = torch.load('../checkpoints/datafree-probkd/cifar10-resnet34-resnet18--probkd_L2_line66.pth', map_location='cpu')\n",
    "# ckpt = torch.load('../checkpoints/datafree-deepinv/cifar10-resnet34-resnet18.pth', map_location='cpu')\n",
    "# ckpt = torch.load('../checkpoints/scratch_i/cifar10_resnet18.pth', map_location='cpu')\n",
    "# ckpt = torch.load('../checkpoints/scratch/cifar10_wrn16_2.pth', map_location='cpu')\n",
    "# ckpt = torch.load('../checkpoints/scratch/cifar10_wrn40_1.pth', map_location='cpu')\n",
    "# ckpt = torch.load('../checkpoints/scratch/cifar100_resnet18.pth', map_location='cpu')\n",
    "# ckpt = torch.load('../checkpoints/datafree-cudfkd/cifar100-wrn40_2-wrn40_1--cudfkd_L2_line33_d.pth', map_location='cpu')\n",
    "print(ckpt['best_acc1'])\n",
    "dict_ckpt = dict()\n",
    "for k, v in ckpt['state_dict'].items():\n",
    "    dict_ckpt['.'.join(k.split('.')[1:])] = v\n",
    "# G_ckpt = ckpt['G_0']\n",
    "\n",
    "# student = prepare_model(student)\n",
    "# student.avgpool = nn.AdaptiveAvgPool2d(1)\n",
    "# num_ftrs = student.fc.in_features\n",
    "# student.fc = nn.Linear(num_ftrs, 200)\n",
    "# student.conv1 = nn.Conv2d(3,64, kernel_size=(3,3), stride=(1,1), padding=(1,1))\n",
    "# student.maxpool = nn.Sequential()\n",
    "student.load_state_dict(dict_ckpt)\n",
    "student.eval()\n"
   ]
  },
  {
   "cell_type": "code",
   "execution_count": 24,
   "id": "952844e8",
   "metadata": {},
   "outputs": [],
   "source": [
    "import torchvision.transforms as T\n",
    "from registry import NORMALIZE_DICT\n",
    "from torchvision import datasets\n",
    "# normalizer = datafree.utils.Normalizer(**registry.NORMALIZE_DICT['cifar10'])\n",
    "# val_transform = T.Compose([\n",
    "#     #T.Resize((224, 224), Image.BICUBIC),\n",
    "#     T.ToTensor(),\n",
    "#     T.Normalize( **NORMALIZE_DICT['tiny_imagenet'] ),\n",
    "# ])\n",
    "val_transform = T.Compose([\n",
    "    T.ToTensor(),\n",
    "    T.Normalize( **NORMALIZE_DICT['tiny_imagenet'] )]\n",
    ") \n",
    "\n",
    "# val_dst = datasets.CIFAR10('/data/lijingru/cifar10/', train=False, download=True, transform=val_transform)\n",
    "# val_dst = datasets.CIFAR100('/data/lijingru/cifar100/', train=False, download=True, transform=val_transform)\n",
    "val_dst = datasets.ImageFolder(os.path.join('/data/lijingru/timagenet/tiny-imagenet-200', 'val_split'), transform=val_transform)\n",
    "\n",
    "val_loader = torch.utils.data.DataLoader(val_dst, batch_size=64, shuffle=False, num_workers=4, pin_memory=True)"
   ]
  },
  {
   "cell_type": "code",
   "execution_count": 25,
   "id": "70a13870",
   "metadata": {},
   "outputs": [
    {
     "name": "stderr",
     "output_type": "stream",
     "text": [
      "calculate_agg:   3%|▎         | 4/157 [00:00<00:18,  8.49it/s]"
     ]
    },
    {
     "name": "stdout",
     "output_type": "stream",
     "text": [
      "[189 187 185 199 131 185 189  38 189 110  38 130 199 176 168  15] [0 0 0 0 0 0 0 0 0 0 0 0 0 0 0 0 0 0 0 0 0 0 0 0 0 0 0 0 0 0 0 0 0 0 0 0 0\n",
      " 0 0 0 0 0 0 0 0 0 0 0 0 0 1 1 1 1 1 1 1 1 1 1 1 1 1 1]\n",
      "[  0   0   0   0 196   0   0   0   0   0  38  38   0 185  13  44  36   0\n",
      "   0 176 102 115  36   0   0 151   0   0   0   0   0   0  38   0  38 161\n",
      "   0  32   0   0   0   0   0   0 102 102  83   0   0  36 102 176 176 113\n",
      " 141  44 176 176  38 176 176 113 113 176] [1 1 1 1 1 1 1 1 1 1 1 1 1 1 1 1 1 1 1 1 1 1 1 1 1 1 1 1 1 1 1 1 1 1 1 1 2\n",
      " 2 2 2 2 2 2 2 2 2 2 2 2 2 2 2 2 2 2 2 2 2 2 2 2 2 2 2]\n",
      "[ 75  38  44  17  38  38 176 131 154  38  44 174 176 176   1 176 113 176\n",
      "   8 176 176 113  44 176 176  44 176  39 168 156  64 156 196 176  44 176\n",
      "  44  44 139  10 122 176 119   2   2  12  84 162 176   3   3  12  84  44\n",
      " 196   5  92  92  44 185 102   2  39 122] [2 2 2 2 2 2 2 2 2 2 2 2 2 2 2 2 2 2 2 2 2 2 3 3 3 3 3 3 3 3 3 3 3 3 3 3 3\n",
      " 3 3 3 3 3 3 3 3 3 3 3 3 3 3 3 3 3 3 3 3 3 3 3 3 3 3 3]\n",
      "[176 152   2 199 196 174  93 176 139 196  69  44  39   2  54  13   1 139\n",
      " 174  16 113   2  45   3 156 125  44 127 194   3  44   3  39 176   2 176\n",
      "  38  44  39 164  39   3 122   2 176 185  44 176   3  39  75   2 196  44\n",
      "  75 102   3  44 122  38 176   1  12  38] [3 3 3 3 3 3 3 3 4 4 4 4 4 4 4 4 4 4 4 4 4 4 4 4 4 4 4 4 4 4 4 4 4 4 4 4 4\n",
      " 4 4 4 4 4 4 4 4 4 4 4 4 4 4 4 4 4 4 4 4 4 5 5 5 5 5 5]\n",
      "[  3  37 113  42  38  38 199   2 146 156  24  88  93 176 148   4  16 146\n",
      " 108 176 176 176   4  39 114  94 176  12 176   4  44 176 159   8 176   2\n",
      " 196 159 136 176   4   3  10  75  95  11  16 194  13 164 196  14 122 131\n",
      "   4 196   2 133 185 122 176 176 131   3] [5 5 5 5 5 5 5 5 5 5 5 5 5 5 5 5 5 5 5 5 5 5 5 5 5 5 5 5 5 5 5 5 5 5 5 5 5\n",
      " 5 5 5 5 5 5 5 6 6 6 6 6 6 6 6 6 6 6 6 6 6 6 6 6 6 6 6]\n",
      "[156 122 122 176 176  41  99  41  10 122  88 176 188   3 161  75 176   7\n",
      "  92 176 176  92  18 185  16 122 161 150 176 176 176  39 176   7   1  16\n",
      " 176 153 156 176  44 132 150  92 176 114 173   4 102   6 113   6   6 102\n",
      "   7 196 122  79 122 113 155   6 108   7] [6 6 6 6 6 6 6 6 6 6 6 6 6 6 6 6 6 6 6 6 6 6 6 6 6 6 6 6 6 6 7 7 7 7 7 7 7\n",
      " 7 7 7 7 7 7 7 7 7 7 7 7 7 7 7 7 7 7 7 7 7 7 7 7 7 7 7]\n"
     ]
    },
    {
     "name": "stderr",
     "output_type": "stream",
     "text": [
      "calculate_agg:   7%|▋         | 11/157 [00:00<00:07, 18.90it/s]"
     ]
    },
    {
     "name": "stdout",
     "output_type": "stream",
     "text": [
      "[168 161  88   6 150   6  95  66 122   6 123   6 176   6  59  84 185 168\n",
      "   6  12   6 199 111  66 164 102  16  12 106  16  88   7  17  74 156  10\n",
      "  53 196   7 144 101  10  44   8  13  41  39   8   3  41   7 122 112 196\n",
      " 139 132  41  41   7 176 156  76  88 102] [7 7 7 7 7 7 7 7 7 7 7 7 7 7 7 7 8 8 8 8 8 8 8 8 8 8 8 8 8 8 8 8 8 8 8 8 8\n",
      " 8 8 8 8 8 8 8 8 8 8 8 8 8 8 8 8 8 8 8 8 8 8 8 8 8 8 8]\n",
      "[  7   6  38 115  75   1 176   7 149  13 176 134  13 161  44 122   9  38\n",
      "  44 168 156  17   8 122   8 155   8 156 168  96 176   8   8   8   8   8\n",
      " 151  38  38 122  36 168 101 168 111   8   8  44 122   8 159   8   8 174\n",
      "   8 135   8   8   8 168   8   8 168   8] [ 8  8  9  9  9  9  9  9  9  9  9  9  9  9  9  9  9  9  9  9  9  9  9  9\n",
      "  9  9  9  9  9  9  9  9  9  9  9  9  9  9  9  9  9  9  9  9  9  9  9  9\n",
      "  9  9  9  9 10 10 10 10 10 10 10 10 10 10 10 10]\n",
      "[  8  64   9 156   9  41 130 176  37 122 149 176 156   9  41 159   3 176\n",
      " 102   8 176 119 176  10 176 176 162  75  38 131  75  29  36  75 176  41\n",
      " 122 138  10 176 176 199 102 176 102  75 176 176 196  18  83 176  10  44\n",
      "  41  76 176  10 176  41  79   8 122 196] [10 10 10 10 10 10 10 10 10 10 10 10 10 10 10 10 10 10 10 10 10 10 10 10\n",
      " 10 10 10 10 10 10 10 10 10 10 10 10 10 10 11 11 11 11 11 11 11 11 11 11\n",
      " 11 11 11 11 11 11 11 11 11 11 11 11 11 11 11 11]\n",
      "[ 41 188 176 176 111  36  16  38 176  41 130  41  36  92 113  10  11 195\n",
      "  44  80  93 176 113  10 156 176 176  10  39 176 130  10 108 122 168  10\n",
      "  10 176  11  11 108  91  11  11  11 162  88  72  76 114 102 196 155  11\n",
      "  73 114  94 146 102 176 176 139  11  75] [11 11 11 11 11 11 11 11 11 11 11 11 11 11 11 11 11 11 11 11 11 11 11 11\n",
      " 12 12 12 12 12 12 12 12 12 12 12 12 12 12 12 12 12 12 12 12 12 12 12 12\n",
      " 12 12 12 12 12 12 12 12 12 12 12 12 12 12 12 12]\n",
      "[102  11  12  76 168 114  51  75  84  11  11  11 101  75  11 102 131  69\n",
      " 176 122  11 196  11  11  12  12  12 156  12 176 176 161  12 196  26 176\n",
      "  12  12  24 176 176 176  12  12 176  76  12 176  83 176 176  24  12 135\n",
      "  12  38  12  38 168 176 176 176 176  82] [12 12 12 12 12 12 12 12 12 12 13 13 13 13 13 13 13 13 13 13 13 13 13 13\n",
      " 13 13 13 13 13 13 13 13 13 13 13 13 13 13 13 13 13 13 13 13 13 13 13 13\n",
      " 13 13 13 13 13 13 13 13 13 13 13 13 14 14 14 14]\n",
      "[112 127 131 176 106  12  12 176  59 176  13 196  13  13  13  13  13  13\n",
      "  13 196  38   2  13 127  13 176  13  13  13  13  13 196  13  13  13  13\n",
      "  13  13  13  13 152  13  13 187  13  13  13  13  13  13 134 148  13  13\n",
      "  13  13  13  13  13  13  88 174  14  14] [14 14 14 14 14 14 14 14 14 14 14 14 14 14 14 14 14 14 14 14 14 14 14 14\n",
      " 14 14 14 14 14 14 14 14 14 14 14 14 14 14 14 14 14 14 14 14 14 14 15 15\n",
      " 15 15 15 15 15 15 15 15 15 15 15 15 15 15 15 15]\n",
      "[ 14  14  14 196 196 178 196  14 176  14  14  17  23 179  13 196  14  14\n",
      " 196  14  44  14  14  14  14  14 196  14  14 196  59 176 199  78 176  14\n",
      "  14 196  14 102  14 196 185 152 196  14  15  41  15  92 168 176 185  12\n",
      "  10  15 156 163 102  15  75  15 131 168] [15 15 15 15 15 15 15 15 15 15 15 15 15 15 15 15 15 15 15 15 15 15 15 15\n",
      " 15 15 15 15 15 15 15 15 16 16 16 16 16 16 16 16 16 16 16 16 16 16 16 16\n",
      " 16 16 16 16 16 16 16 16 16 16 16 16 16 16 16 16]\n"
     ]
    },
    {
     "name": "stderr",
     "output_type": "stream",
     "text": [
      "calculate_agg:  12%|█▏        | 19/157 [00:01<00:05, 24.86it/s]"
     ]
    },
    {
     "name": "stdout",
     "output_type": "stream",
     "text": [
      "[ 15 176 122  41 196 176   7  88 131  11 187 127  59 178  15  75  15 135\n",
      "  36  41 199 185  37  41  36  41  44  15 160 176  17  39  84   3  39 122\n",
      " 159  16 176 113  75  38 176 196  76 176  17 156 185 176  58 176 127  36\n",
      "  38 176 188 176  41 176  99 156 122 180] [16 16 16 16 16 16 16 16 16 16 16 16 16 16 16 16 16 16 17 17 17 17 17 17\n",
      " 17 17 17 17 17 17 17 17 17 17 17 17 17 17 17 17 17 17 17 17 17 17 17 17\n",
      " 17 17 17 17 17 17 17 17 17 17 17 17 17 17 17 17]\n",
      "[114  16  38 113  16  10  76  44  10 156  41 199   2 185  36  38  10  13\n",
      " 189  83  17 176  13  14  41 176 163  17  26 196  41  17  44  17 176 176\n",
      " 102 176  93  13 102  42  17  93 168 113  17 113  17  17  10 130 188  17\n",
      " 196  17 113 113  38  16  17  17 176 185] [17 17 17 17 18 18 18 18 18 18 18 18 18 18 18 18 18 18 18 18 18 18 18 18\n",
      " 18 18 18 18 18 18 18 18 18 18 18 18 18 18 18 18 18 18 18 18 18 18 18 18\n",
      " 18 18 18 18 18 18 19 19 19 19 19 19 19 19 19 19]\n",
      "[ 17  36 196 196 176  75  18 176 112 156 176 176 176 131 189 131 176 168\n",
      "  75 176 113  80  44 156 168 156 101 199 168 113  75 178  18  59 150 186\n",
      " 168  73  75 176  18 119  13  88 177 130 156 156 113 176 131  99 101  75\n",
      " 176 156 176 176 152 168 131 196 196  44] [19 19 19 19 19 19 19 19 19 19 19 19 19 19 19 19 19 19 19 19 19 19 19 19\n",
      " 19 19 19 19 19 19 19 19 19 19 19 19 19 19 19 19 20 20 20 20 20 20 20 20\n",
      " 20 20 20 20 20 20 20 20 20 20 20 20 20 20 20 20]\n",
      "[131  44 176 196 196 113 176  19  10 176 113 176 176  10 176 176 113  12\n",
      "  44 106 176 176  44 101 176 122 176 176 152  13 115 196 196  44 196  93\n",
      "  44 196 113 131  42  37  20 112  20  80  75  40 176  20  20  20  11 196\n",
      " 176 102  44 176  88  20 196  75  11 114] [20 20 20 20 20 20 20 20 20 20 20 20 20 20 20 20 20 20 20 20 20 20 20 20\n",
      " 20 20 21 21 21 21 21 21 21 21 21 21 21 21 21 21 21 21 21 21 21 21 21 21\n",
      " 21 21 21 21 21 21 21 21 21 21 21 21 21 21 21 21]\n",
      "[  2 101  13 102  95  44 108  36  20 168  20 168 122  20 102  20  20 122\n",
      "  38  20 101 176  20 102 111  20  21  12  21  13 176  21 168 168  21 197\n",
      " 122  21  84  92 135  80 196  64  21  21  21  21  21 159  80 168  88  21\n",
      " 102  21  21 129  21  36 145  21 131  21] [21 21 21 21 21 21 21 21 21 21 21 21 22 22 22 22 22 22 22 22 22 22 22 22\n",
      " 22 22 22 22 22 22 22 22 22 22 22 22 22 22 22 22 22 22 22 22 22 22 22 22\n",
      " 22 22 22 22 22 22 22 22 22 22 22 22 22 22 23 23]\n",
      "[ 21  21  43  21 139 122  21  21  33 168  21  71 176  95  78  56 122 148\n",
      "  13 148 122  71  22  22  22 137  22  22  20  22  22  22  22  23  13  22\n",
      "  84 122  22  71 139 168  22  22  22  22   0  22  95 137  20  22 195  22\n",
      " 196  99  22  22  75  22  22 102  23  48] [23 23 23 23 23 23 23 23 23 23 23 23 23 23 23 23 23 23 23 23 23 23 23 23\n",
      " 23 23 23 23 23 23 23 23 23 23 23 23 23 23 23 23 23 23 23 23 23 23 23 23\n",
      " 24 24 24 24 24 24 24 24 24 24 24 24 24 24 24 24]\n",
      "[ 13  73  23  13  23  23  23  13 137  23  47  23  23 148  13  23 125 196\n",
      "  23  23  13  13  13  23  23  23 196  23  12  23  23  83  23  23  23  13\n",
      "  54  23  13  23  13 148  23  13  23  23  23   0  12  24 176  24  24 168\n",
      " 132 102 156 134 168 131  24  99 176 112] [24 24 24 24 24 24 24 24 24 24 24 24 24 24 24 24 24 24 24 24 24 24 24 24\n",
      " 24 24 24 24 24 24 24 24 24 24 25 25 25 25 25 25 25 25 25 25 25 25 25 25\n",
      " 25 25 25 25 25 25 25 25 25 25 25 25 25 25 25 25]\n"
     ]
    },
    {
     "name": "stderr",
     "output_type": "stream",
     "text": [
      "\r",
      "calculate_agg:  15%|█▍        | 23/157 [00:01<00:05, 26.54it/s]"
     ]
    },
    {
     "name": "stdout",
     "output_type": "stream",
     "text": [
      "[ 26 148 168  26 176 129  24  32  24 176  24  75 184 156  74  99  74  26\n",
      "  75  99  24  29 156  75 156 176 131 156  24  24  27  75 156 102 156 131\n",
      "  25  25  41  25  17  75  25 156 102 168  25 112  25 115 156 102  38  25\n",
      "  25  25  41 102  30  25 161 102  25 199] [25 25 25 25 25 25 25 25 25 25 25 25 25 25 25 25 25 25 25 25 26 26 26 26\n",
      " 26 26 26 26 26 26 26 26 26 26 26 26 26 26 26 26 26 26 26 26 26 26 26 26\n",
      " 26 26 26 26 26 26 26 26 26 26 26 26 26 26 26 26]\n",
      "[196  38  38  38  25 168  36 102 176 176 102 156 156  75 168 131 176 112\n",
      "  25 102  26  26  26  26  24  26  27  26  26 148  38  26  12  26 127 159\n",
      "  26  26  26  26  26  26  26 161  26  26  75 108  23  97  26  35  26  26\n",
      "  26  26  26  26  26 150  26 102  26 156] [26 26 26 26 26 26 27 27 27 27 27 27 27 27 27 27 27 27 27 27 27 27 27 27\n",
      " 27 27 27 27 27 27 27 27 27 27 27 27 27 27 27 27 27 27 27 27 27 27 27 27\n",
      " 27 27 27 27 27 27 27 27 28 28 28 28 28 28 28 28]\n",
      "[ 26  27  12  26  27 102  26  27  27 106  26  75  51  26 176  25  47  75\n",
      "  27  36 131 150  27  24   8 168 150 156  26  75 161 156 139  76 168 133\n",
      "  94  26  27 131 130  27 176 176  26 176  75  26 176  26  75  26  26  26\n",
      "  36 168  27 156 176 138  24 109 168  74] [28 28 28 28 28 28 28 28 28 28 28 28 28 28 28 28 28 28 28 28 28 28 28 28\n",
      " 28 28 28 28 28 28 28 28 28 28 28 28 28 28 28 28 28 28 29 29 29 29 29 29\n",
      " 29 29 29 29 29 29 29 29 29 29 29 29 29 29 29 29]\n",
      "[176  26 168 122  20 168 141  28 111 156 168 114 125  28 143 168 159 156\n",
      " 156 176 176  26 176 130  24 102 122 176 176 162   3  28  28  28 106 132\n",
      " 176 176 102  28  75  24  29 176 176 156 113 161  26 102  45 102  41  80\n",
      " 102  25 102  75  35  29 102  26  75  58] [29 29 29 29 29 29 29 29 29 29 29 29 29 29 29 29 29 29 29 29 29 29 29 29\n",
      " 29 29 29 29 30 30 30 30 30 30 30 30 30 30 30 30 30 30 30 30 30 30 30 30\n",
      " 30 30 30 30 30 30 30 30 30 30 30 30 30 30 30 30]\n",
      "[168 156  62  76 102 176 176 176  26 168  26 176  79 130  29  27 176 161\n",
      " 161 161 102 176 106  84  29  44  29 131 106 113 147  30  53  99 174  30\n",
      " 168 141 156 131 110  75 131  26 106 131 176 156  24 131 102 168  75 149\n",
      " 176  30 149 131 112 125 113 176 176 122] [30 30 30 30 30 30 30 30 30 30 30 30 30 30 31 31 31 31 31 31 31 31 31 31\n",
      " 31 31 31 31 31 31 31 31 31 31 31 31 31 31 31 31 31 31 31 31 31 31 31 31\n",
      " 31 31 31 31 31 31 31 31 31 31 31 31 31 31 31 31]\n",
      "[150 176  15 176 176  68 130 156  48  44 161 156 113  96 102  31 156 102\n",
      "  31  38 176  31 176 102  31  31  31 101  31 156 117 176  31  31 176  13\n",
      "  60  75 102  13 162 176 156  53 161 112 161  33 156 102 102  26 168  31\n",
      "  31  31  84  32  31  24 156 102  31 102] [32 32 32 32 32 32 32 32 32 32 32 32 32 32 32 32 32 32 32 32 32 32 32 32\n",
      " 32 32 32 32 32 32 32 32 32 32 32 32 32 32 32 32 32 32 32 32 32 32 32 32\n",
      " 32 32 33 33 33 33 33 33 33 33 33 33 33 33 33 33]\n",
      "[ 32  30  75  27   4  80 161  38  64 176 122  75 130  30 161 102 176 176\n",
      "   4 125  13  66  10 116  24 159  93 102  84  24  12 185  53 123 176  32\n",
      " 122 108 122 170 156 172  60  99  32 176  75 135 122 102 122  33 199 176\n",
      "  33 102  35  33 176  35  34 176 131  33] [33 33 33 33 33 33 33 33 33 33 33 33 33 33 33 33 33 33 33 33 33 33 33 33\n",
      " 33 33 33 33 33 33 33 33 33 33 33 33 34 34 34 34 34 34 34 34 34 34 34 34\n",
      " 34 34 34 34 34 34 34 34 34 34 34 34 34 34 34 34]\n"
     ]
    },
    {
     "name": "stderr",
     "output_type": "stream",
     "text": [
      "calculate_agg:  20%|█▉        | 31/157 [00:01<00:04, 28.51it/s]"
     ]
    },
    {
     "name": "stdout",
     "output_type": "stream",
     "text": [
      "[176  33  24 176  26 176  91 161 161  33 176 161  33  76 136  33  94 102\n",
      "  12 156  12 196  58  12 156  49 102  33  13  23  12 122  33 188  12 102\n",
      "  33  38  47  34  12 185  76  26   1  35  34 131   3 145  96  93 102  34\n",
      " 176 105  54  34  38  38  58   7 185 106] [34 34 34 34 34 34 34 34 34 34 34 34 34 34 34 34 34 34 34 34 34 34 35 35\n",
      " 35 35 35 35 35 35 35 35 35 35 35 35 35 35 35 35 35 35 35 35 35 35 35 35\n",
      " 35 35 35 35 35 35 35 35 35 35 35 35 35 35 35 35]\n",
      "[102  39  34  35  34  26   1  34  33 122   3  34 129 176 122  99  35 106\n",
      "  26  25 176 102  35  35  26 113 161 105 102  26  35  56  75 161  26  26\n",
      "  35 102  35 102 139 102  35 161  54 102 102  26  35 176  35 199 102  35\n",
      "  75 168 102  23 105  75 168 102  54  35] [35 35 35 35 35 35 35 35 36 36 36 36 36 36 36 36 36 36 36 36 36 36 36 36\n",
      " 36 36 36 36 36 36 36 36 36 36 36 36 36 36 36 36 36 36 36 36 36 36 36 36\n",
      " 36 36 36 36 36 36 36 36 36 36 37 37 37 37 37 37]\n",
      "[127  26 161  35  75  58  35  35  36  36  36  36  36  36  36  36  36 187\n",
      " 113  44  36  36  36 146  43  36  41  36  36  44  36  36 156  36 113  36\n",
      "  36  36  36 196  36  36  36  38 146 176  36  38  36  36  36  36 188  36\n",
      " 139  38  36  36 106 150 111  44  37  93] [37 37 37 37 37 37 37 37 37 37 37 37 37 37 37 37 37 37 37 37 37 37 37 37\n",
      " 37 37 37 37 37 37 37 37 37 37 37 37 37 37 37 37 37 37 37 37 38 38 38 38\n",
      " 38 38 38 38 38 38 38 38 38 38 38 38 38 38 38 38]\n",
      "[ 84  38   8  38 176  37  75  37 122  36  36  38  37  38  37  95 176  44\n",
      "  37  36   8  92   8  43 129 176  44  38 176  75 113  41  38  36  36 185\n",
      "  44  39  37  37 109  75  37  20  38  38  36  38  38  36  36 102  38 102\n",
      "  38  38  38  36  38  38  44  38  37  38] [38 38 38 38 38 38 38 38 38 38 38 38 38 38 38 38 38 38 38 38 38 38 38 38\n",
      " 38 38 38 38 38 38 39 39 39 39 39 39 39 39 39 39 39 39 39 39 39 39 39 39\n",
      " 39 39 39 39 39 39 39 39 39 39 39 39 39 39 39 39]\n",
      "[ 93  38  36 149  38  38  36  38 168  44  44  38  38  38 185 186  38 131\n",
      "  44  38  38  38  64  38  38  38  43  44  38  38  39  99  39 135 102 163\n",
      "  12  39  41  39  36  39  44  39  39  39  36  36  39  38 122  39   8  39\n",
      " 108  45  42  44  39  39 159  42  39  39] [39 39 39 39 39 39 39 39 39 39 39 39 39 39 39 39 40 40 40 40 40 40 40 40\n",
      " 40 40 40 40 40 40 40 40 40 40 40 40 40 40 40 40 40 40 40 40 40 40 40 40\n",
      " 40 40 40 40 40 40 40 40 40 40 40 40 40 40 40 40]\n",
      "[176  43   1 102 176 162  36  39  84  39  39 168 176  44  39   9  38 176\n",
      "  10  38  39 132  40  38  17  40  40 159  87  40  10  40  75 176  38 118\n",
      "  38  40  99  99 188  37 125 159 186  40  88  59 113  12  79  98 101  40\n",
      "   8  40  99 102  38 152  39  40  15 176] [40 40 41 41 41 41 41 41 41 41 41 41 41 41 41 41 41 41 41 41 41 41 41 41\n",
      " 41 41 41 41 41 41 41 41 41 41 41 41 41 41 41 41 41 41 41 41 41 41 41 41\n",
      " 41 41 41 41 42 42 42 42 42 42 42 42 42 42 42 42]\n",
      "[118 174  41   8   8  44 113  83   1  41 176 101 122 113  13  41   8 122\n",
      " 102  60 168  41  38 168 192  36  41   8  13 196  41  41 125  36 176 174\n",
      " 152 177  92  44  41  64  37 186 113  41  41  95 142 136  39 168  36  38\n",
      "  39 189  44  69   1  38  39  95 122  42] [42 42 42 42 42 42 42 42 42 42 42 42 42 42 42 42 42 42 42 42 42 42 42 42\n",
      " 42 42 42 42 42 42 42 42 42 42 42 42 42 42 43 43 43 43 43 43 43 43 43 43\n",
      " 43 43 43 43 43 43 43 43 43 43 43 43 43 43 43 43]\n"
     ]
    },
    {
     "name": "stderr",
     "output_type": "stream",
     "text": [
      "calculate_agg:  25%|██▍       | 39/157 [00:01<00:03, 29.51it/s]"
     ]
    },
    {
     "name": "stdout",
     "output_type": "stream",
     "text": [
      "[  1  42  42 188  39 135 145 142  75 113 176  42  42  39  40 163  37  36\n",
      "  39  42  42  42  39  39  40  42 152  38  21  43  42  39  42 176 175  92\n",
      "  99  42  99  36  43 113 176  44  42  43 122  44  44 152  41 176  43 176\n",
      "  43 113  39  44 168 112 189 168 185  36] [43 43 43 43 43 43 43 43 43 43 43 43 43 43 43 43 43 43 43 43 43 43 43 43\n",
      " 44 44 44 44 44 44 44 44 44 44 44 44 44 44 44 44 44 44 44 44 44 44 44 44\n",
      " 44 44 44 44 44 44 44 44 44 44 44 44 44 44 44 44]\n",
      "[ 43  39  38  44  43  36 176   8  44  44  43 113 188  41 163  95  40  36\n",
      "  44  43 122  43  44 156  44  44  44 176  44  44  44  44  44  44  44 176\n",
      "  44  44 113  44  44  44 176  44  44  44  44  44 176  44  44  44  44  44\n",
      "  44  44  44  44 176 152 176  44  44  44] [44 44 44 44 44 44 44 44 44 44 45 45 45 45 45 45 45 45 45 45 45 45 45 45\n",
      " 45 45 45 45 45 45 45 45 45 45 45 45 45 45 45 45 45 45 45 45 45 45 45 45\n",
      " 45 45 45 45 45 45 45 45 45 45 45 45 46 46 46 46]\n",
      "[ 44  44 113  44  44  44 196  44  44 196 176  38  38 176 176  45  38  38\n",
      "  45  38 168  38  38  45 176 113  38  45  38  38 122  45 156 176  38  38\n",
      "  38  44  44  45 168  38 113  45  38 176 113 113  38  36  36  38  38  38\n",
      "  38  38  45  44  38  38  37 176 176  46] [46 46 46 46 46 46 46 46 46 46 46 46 46 46 46 46 46 46 46 46 46 46 46 46\n",
      " 46 46 46 46 46 46 46 46 46 46 46 46 46 46 46 46 46 46 46 46 46 46 47 47\n",
      " 47 47 47 47 47 47 47 47 47 47 47 47 47 47 47 47]\n",
      "[154  10  44  10 122 196 148 196  41  38 196  17 176  12  46 185  18 176\n",
      " 176 196 196  37  46  46 114  15 152  13 176  17 114  16 176 149  93  76\n",
      " 101 196 131 196  83 196  16 176 176  46  47  13  76   2  47 113  47  27\n",
      "  47  68  47 186  13 131 113 156 131 161] [47 47 47 47 47 47 47 47 47 47 47 47 47 47 47 47 47 47 47 47 47 47 47 47\n",
      " 47 47 47 47 47 47 47 47 48 48 48 48 48 48 48 48 48 48 48 48 48 48 48 48\n",
      " 48 48 48 48 48 48 48 48 48 48 48 48 48 48 48 48]\n",
      "[ 47 141 156  13 196  38  41 160 102 161  47  58  76  25  92  38  47  47\n",
      "  75 102  75  47  47 102  41  47  26 139  77 143 156  99   9 176  75 196\n",
      " 186  28 129  26  76  49  35  38  48  12 176 176 162  82 176   2 156  20\n",
      "  48 129  84 176  12  50  48 106 176  13] [48 48 48 48 48 48 48 48 48 48 48 48 48 48 48 48 48 48 49 49 49 49 49 49\n",
      " 49 49 49 49 49 49 49 49 49 49 49 49 49 49 49 49 49 49 49 49 49 49 49 49\n",
      " 49 49 49 49 49 49 49 49 49 49 49 49 49 49 49 49]\n",
      "[122  48  83  48  75  48 176  48  48 176 176  93 176 106 176 102  84  75\n",
      "  76 164 102 164 176  49  75  49 176  49 168 176 137 194  49 168  49 131\n",
      "  58 102  66 131 102 164  26 176  49 176 168 134 102 196  27  49 116  50\n",
      " 176 176 162 196  75 139  38  12  49  49] [49 49 49 49 50 50 50 50 50 50 50 50 50 50 50 50 50 50 50 50 50 50 50 50\n",
      " 50 50 50 50 50 50 50 50 50 50 50 50 50 50 50 50 50 50 50 50 50 50 50 50\n",
      " 50 50 50 50 50 50 51 51 51 51 51 51 51 51 51 51]\n",
      "[ 49 176 168 189  50  50 176  35  20  35 196 139  50 161  49  10 156  35\n",
      "  35  50 163  50  48 122 102  49  12 176  29  50 176  51  49  66  96  50\n",
      "  49  75 113  75 162  75 102  75  35  51 168  91  26  35  35 102  50 196\n",
      " 161  33 176  51  26  26 161  51  12  27] [51 51 51 51 51 51 51 51 51 51 51 51 51 51 51 51 51 51 51 51 51 51 51 51\n",
      " 51 51 51 51 51 51 51 51 51 51 51 51 51 51 51 51 52 52 52 52 52 52 52 52\n",
      " 52 52 52 52 52 52 52 52 52 52 52 52 52 52 52 52]\n"
     ]
    },
    {
     "name": "stderr",
     "output_type": "stream",
     "text": [
      "calculate_agg:  30%|██▉       | 47/157 [00:01<00:03, 29.98it/s]"
     ]
    },
    {
     "name": "stdout",
     "output_type": "stream",
     "text": [
      "[131  49 131 176  51 176  33  66 106 176  66 102  48  51 106  34  51  13\n",
      " 194 105 176 102   7  49  51 168  91 106 176  33   4 122 194  51   2 102\n",
      "  51  51 161 176  52  66  52  24  73 122 122  24 131 156  52 102  52  52\n",
      " 102 114  52  52  52  52  89 153 185  12] [52 52 52 52 52 52 52 52 52 52 52 52 52 52 52 52 52 52 52 52 52 52 52 52\n",
      " 52 52 53 53 53 53 53 53 53 53 53 53 53 53 53 53 53 53 53 53 53 53 53 53\n",
      " 53 53 53 53 53 53 53 53 53 53 53 53 53 53 53 53]\n",
      "[ 52 102  52 185 102  54 131  39  24  52  52 176  52 102  52  52  41 108\n",
      " 122  52  16  20  74  52  76  52 102 194  52  24  75 131  53 162  53  53\n",
      " 168  53 176  53 176  53 168  53 102  27  75  20 173  56 156  50 162  48\n",
      " 168 102 162 122  53 176 185  53  99 113] [53 53 53 53 53 53 53 53 53 53 53 53 54 54 54 54 54 54 54 54 54 54 54 54\n",
      " 54 54 54 54 54 54 54 54 54 54 54 54 54 54 54 54 54 54 54 54 54 54 54 54\n",
      " 54 54 54 54 54 54 54 54 54 54 54 54 54 54 55 55]\n",
      "[176  53 176 153  75  56  66  53 168  59  53  53 156 156  26 176  35 176\n",
      " 105  54  54  18  55  54  54  54  13  12 176  54 161 131  54  54 181  23\n",
      "  48  29   2 122  75  54  59 102  75 176  54  64  54  58 156  54 102 168\n",
      " 153  26  28  54 176 176 161 156 106 136] [55 55 55 55 55 55 55 55 55 55 55 55 55 55 55 55 55 55 55 55 55 55 55 55\n",
      " 55 55 55 55 55 55 55 55 55 55 55 55 55 55 55 55 55 55 55 55 55 55 55 55\n",
      " 56 56 56 56 56 56 56 56 56 56 56 56 56 56 56 56]\n",
      "[ 60  55 150 131  75  75 123  55 106  75 168  99  88  75 176 189  75  75\n",
      " 106  55 161 156  75 159  75  75 176 168  60  75 176 168  63  33 176 122\n",
      " 168 176  84  75  27 153 125 131 131 152 161  75  47 161  75 176 197  29\n",
      "  75  56 176  12  56 102   2   4  75  55] [56 56 56 56 56 56 56 56 56 56 56 56 56 56 56 56 56 56 56 56 56 56 56 56\n",
      " 56 56 56 56 56 56 56 56 56 56 57 57 57 57 57 57 57 57 57 57 57 57 57 57\n",
      " 57 57 57 57 57 57 57 57 57 57 57 57 57 57 57 57]\n",
      "[ 75  12  75  35  26 176  56  56  56  56  35  29 176 102  38  36  56  75\n",
      " 112 176  26 105  35 146  29  56  56 185 185 152 176  48  55  12 168  82\n",
      "  26 176  44  84 168  76  57  57  53 119  26  27 176 131  35  96  12 176\n",
      "  55  57 176  57  75  57 122  57  84 176] [57 57 57 57 57 57 57 57 57 57 57 57 57 57 57 57 57 57 57 57 58 58 58 58\n",
      " 58 58 58 58 58 58 58 58 58 58 58 58 58 58 58 58 58 58 58 58 58 58 58 58\n",
      " 58 58 58 58 58 58 58 58 58 58 58 58 58 58 58 58]\n",
      "[150 168  57  57  85  91  57  53 146 162  27 131 199 102  57  57 102 102\n",
      " 102  55 176  58  58  53  27 131 131  84 139 139  54 102 105 176  99  58\n",
      " 162  64 163 161  58 176  12  58 122 188  75  10  54 185 131  35  58  58\n",
      "  58 115  58  24  58 168  48  58  75  58] [58 58 58 58 58 58 59 59 59 59 59 59 59 59 59 59 59 59 59 59 59 59 59 59\n",
      " 59 59 59 59 59 59 59 59 59 59 59 59 59 59 59 59 59 59 59 59 59 59 59 59\n",
      " 59 59 59 59 59 59 59 59 60 60 60 60 60 60 60 60]\n",
      "[ 58  75 131 176  58 176 113 102 176 131  59 176 176 143 130 130  75 113\n",
      " 102 176 130  59 161  59 175  59  76  59  59  92 146  99 181 131 126 122\n",
      " 171 176  75 106 176  64 167  59 176  93 176 176 113 156 113  75 151 156\n",
      " 113 122 167 106  75 113 176  60 176  75] [60 60 60 60 60 60 60 60 60 60 60 60 60 60 60 60 60 60 60 60 60 60 60 60\n",
      " 60 60 60 60 60 60 60 60 60 60 60 60 60 60 60 60 60 60 61 61 61 61 61 61\n",
      " 61 61 61 61 61 61 61 61 61 61 61 61 61 61 61 61]\n"
     ]
    },
    {
     "name": "stderr",
     "output_type": "stream",
     "text": [
      "\r",
      "calculate_agg:  32%|███▏      | 51/157 [00:02<00:03, 30.12it/s]"
     ]
    },
    {
     "name": "stdout",
     "output_type": "stream",
     "text": [
      "[139  60 131 131 143 122 101 129  13  60  60 176  60 106 106 131  38 131\n",
      "  60  60 176 131  64 131 113 168 176  60  75  60  60  99  76 176  60  60\n",
      "  60 176 156  60 176  60 113 176 176 113  61  76  61 113 176 113 129  61\n",
      " 176 171 113 135  44 176 176 176 113 146] [61 61 61 61 61 61 61 61 61 61 61 61 61 61 61 61 61 61 61 61 61 61 61 61\n",
      " 61 61 61 61 62 62 62 62 62 62 62 62 62 62 62 62 62 62 62 62 62 62 62 62\n",
      " 62 62 62 62 62 62 62 62 62 62 62 62 62 62 62 62]\n",
      "[ 68 176 176 130 176  65 126 156 102 176  61 176 154 176  93 113 131 176\n",
      " 113  61  98  92 176 102 176  61 176 113 135  26 176 176 135 101  62 131\n",
      "  80 168 113 156 176 176  62  75 176  62 151  75  73  59  80 135  44 131\n",
      "  90 151 176 176  62 176 176 176 149 135] [62 62 62 62 62 62 62 62 62 62 62 62 62 62 63 63 63 63 63 63 63 63 63 63\n",
      " 63 63 63 63 63 63 63 63 63 63 63 63 63 63 63 63 63 63 63 63 63 63 63 63\n",
      " 63 63 63 63 63 63 63 63 63 63 63 63 63 63 63 63]\n",
      "[176  62 158  59  74 112 176 161 176 176 113  60  73 176 168 176 168 147\n",
      "  63  44  63 156 151  13 168 148 176 111 151 168  92 156 176  76 176 168\n",
      " 105  26 131 176 156 176 101  75 176 176 102  98 101  75 176  76 123  65\n",
      "  80 156  98 176 176 176  64  68  38  76] [64 64 64 64 64 64 64 64 64 64 64 64 64 64 64 64 64 64 64 64 64 64 64 64\n",
      " 64 64 64 64 64 64 64 64 64 64 64 64 64 64 64 64 64 64 64 64 64 64 64 64\n",
      " 64 64 65 65 65 65 65 65 65 65 65 65 65 65 65 65]\n",
      "[131  64 159 146   0 174 128  64  64 173 101 155  64 176 176  65  80  64\n",
      " 131 168 113 176  59  92 115  64  64  64 121  72 102 129 163  75 176  41\n",
      "  75  64  66 101  64  38  76  64 110 176 113 111 156  64  65 176 131  93\n",
      " 131 156 176 156  65 139 176 161  75 176] [65 65 65 65 65 65 65 65 65 65 65 65 65 65 65 65 65 65 65 65 65 65 65 65\n",
      " 65 65 65 65 65 65 65 65 65 65 65 65 66 66 66 66 66 66 66 66 66 66 66 66\n",
      " 66 66 66 66 66 66 66 66 66 66 66 66 66 66 66 66]\n",
      "[131 131 131 176 176 146  65 146 176 176 176 131 176 131 176 156 113  65\n",
      " 176 171  65 176  64 176  75 176 176  65 131 176 176 131 113  99 176 131\n",
      "  66 196  66  76 113 164 111 168  66  66 168  66 102  66  66  66 176  66\n",
      "  66 156  66 139  66  66  66 168  66  66] [66 66 66 66 66 66 66 66 66 66 66 66 66 66 66 66 66 66 66 66 66 66 67 67\n",
      " 67 67 67 67 67 67 67 67 67 67 67 67 67 67 67 67 67 67 67 67 67 67 67 67\n",
      " 67 67 67 67 67 67 67 67 67 67 67 67 67 67 67 67]\n",
      "[ 66 168 176  66  66  36 176  66 176 185 176  64  66 102 145 129  66  38\n",
      " 102 162  66 168  13  86 102  84  59  67  67 146  75 113 135 138  79  67\n",
      "  67  97 156 172  67  76  64 129 113  67 156 156  13  83  75 131 104 156\n",
      " 173 176 131  67 176  67  80 168 145 101] [67 67 67 67 67 67 67 67 68 68 68 68 68 68 68 68 68 68 68 68 68 68 68 68\n",
      " 68 68 68 68 68 68 68 68 68 68 68 68 68 68 68 68 68 68 68 68 68 68 68 68\n",
      " 68 68 68 68 68 68 68 68 68 68 69 69 69 69 69 69]\n",
      "[139 176 102 140 122  80  67 176 101  68 176 171  72 113  68 102  68  13\n",
      " 113 171  93 171  68  68 131  97 171  93 176 135 151  64 131  38 176 176\n",
      " 131 142 176 131 168 171 176 101  68 171 176 176 154 131 176 176 171  68\n",
      "  68  68 176 113  47  69 176  87  83 140] [69 69 69 69 69 69 69 69 69 69 69 69 69 69 69 69 69 69 69 69 69 69 69 69\n",
      " 69 69 69 69 69 69 69 69 69 69 69 69 69 69 69 69 69 69 69 69 70 70 70 70\n",
      " 70 70 70 70 70 70 70 70 70 70 70 70 70 70 70 70]\n"
     ]
    },
    {
     "name": "stderr",
     "output_type": "stream",
     "text": [
      "calculate_agg:  38%|███▊      | 59/157 [00:02<00:03, 30.29it/s]"
     ]
    },
    {
     "name": "stdout",
     "output_type": "stream",
     "text": [
      "[122 140 122 131  59  98  81 156 110  69  92  69 160 122 156 176  59 131\n",
      " 146  75 142  98  69  86  84 134 107 188 122  36  72  75 161  69 122 160\n",
      " 156 169 156  61  67  62 159  88 153 176 156 176 176 111 156 176  75  70\n",
      " 116 153 133 176 156 156 174 176 196 116] [70 70 70 70 70 70 70 70 70 70 70 70 70 70 70 70 70 70 70 70 70 70 70 70\n",
      " 70 70 70 70 70 70 71 71 71 71 71 71 71 71 71 71 71 71 71 71 71 71 71 71\n",
      " 71 71 71 71 71 71 71 71 71 71 71 71 71 71 71 71]\n",
      "[153 116 153 176 176 111  17  84 176 153 153 156  94  88 153 133 101 133\n",
      "  84 176 133 146  70 176  64 116 116  80 153 133  71  71  76  71  71  71\n",
      "  71  71  71  66  71 196 102  71  71 132 196  64 115 198 164 197  71  71\n",
      "  71  71  71  71  71  71  71  71  71  64] [71 71 71 71 71 71 71 71 71 71 71 71 71 71 71 71 72 72 72 72 72 72 72 72\n",
      " 72 72 72 72 72 72 72 72 72 72 72 72 72 72 72 72 72 72 72 72 72 72 72 72\n",
      " 72 72 72 72 72 72 72 72 72 72 72 72 72 72 72 72]\n",
      "[ 64 137 197 139  71  71  71  71  71 196  71 102  71 102  71  13  72  13\n",
      " 102 176  72 114  64  72 131 113 167 156  38 130 171  65  72 110 131  92\n",
      " 134 135  72  13  74 136  72 151 130  13  72  92  75  72 102  72 102  83\n",
      "  72  97  72  72  38  59 117  72 130  72] [72 72 73 73 73 73 73 73 73 73 73 73 73 73 73 73 73 73 73 73 73 73 73 73\n",
      " 73 73 73 73 73 73 73 73 73 73 73 73 73 73 73 73 73 73 73 73 73 73 73 73\n",
      " 73 73 73 73 74 74 74 74 74 74 74 74 74 74 74 74]\n",
      "[ 80 113 135 135  73  73  68  75 113 168 131  73 135 135  73  80 176 135\n",
      " 135 142 130 176 102 176  73  73 112 176 135  17 102 135 113  73 176 176\n",
      " 188  73 176 135 122  73 135 135  44 186  73  68 176 128 135 113 135  74\n",
      "  74 168  75  74  74  74  74 131 176 176] [74 74 74 74 74 74 74 74 74 74 74 74 74 74 74 74 74 74 74 74 74 74 74 74\n",
      " 74 74 74 74 74 74 74 74 74 74 74 74 74 74 75 75 75 75 75 75 75 75 75 75\n",
      " 75 75 75 75 75 75 75 75 75 75 75 75 75 75 75 75]\n",
      "[ 74  74 198  74 168 168 112 113  74  74  74  74  74 176 168  74 171  74\n",
      " 171 176 156 176  74  68 131  74 176 176 176  74  74 139 131  74 186 176\n",
      " 144 156 164  72 131  75  75 156 113  75 122 135  64  75  75 148 168  75\n",
      " 139 176 156  75 153 176  75  75 168 131] [75 75 75 75 75 75 75 75 75 75 75 75 75 75 75 75 75 75 75 75 75 75 75 75\n",
      " 76 76 76 76 76 76 76 76 76 76 76 76 76 76 76 76 76 76 76 76 76 76 76 76\n",
      " 76 76 76 76 76 76 76 76 76 76 76 76 76 76 76 76]\n",
      "[168  75  75 111 139 131 168  51 131 174 131  75  77  75 176  92 111 106\n",
      " 167 168  76 168 113  75 176  76 131  66  12  76 131  76 102 176  93  76\n",
      "  66 176  75  93  20  76 102  65 130  76  76 101  76 112  76 129  76 176\n",
      " 176  76 176 102 176  44 176 110  39 106] [76 76 76 76 76 76 76 76 76 76 77 77 77 77 77 77 77 77 77 77 77 77 77 77\n",
      " 77 77 77 77 77 77 77 77 77 77 77 77 77 77 77 77 77 77 77 77 77 77 77 77\n",
      " 77 77 77 77 77 77 77 77 77 77 77 77 78 78 78 78]\n",
      "[ 64 176 152  76 176  13  76 131  76 131  77  99  59 111 131 156  77 113\n",
      " 131 176 135 135  77  77 113 161  92 150 168 119 176 101  99 113  83 156\n",
      "  52 163  75  77  77 159  99 176 168 150  77 156  77 163 113 152 161  64\n",
      "  77 176 131  88  77  75  78 176  78 146] [78 78 78 78 78 78 78 78 78 78 78 78 78 78 78 78 78 78 78 78 78 78 78 78\n",
      " 78 78 78 78 78 78 78 78 78 78 78 78 78 78 78 78 78 78 78 78 78 78 79 79\n",
      " 79 79 79 79 79 79 79 79 79 79 79 79 79 79 79 79]\n"
     ]
    },
    {
     "name": "stderr",
     "output_type": "stream",
     "text": [
      "calculate_agg:  43%|████▎     | 67/157 [00:02<00:02, 30.39it/s]"
     ]
    },
    {
     "name": "stdout",
     "output_type": "stream",
     "text": [
      "[176 154  84  92 146 146  85  78 103 176  78 131 176 169 114 146 121 154\n",
      " 146  78 152 146  93 146  66  78 122  78  78  78 176  78 156 167 176  85\n",
      " 122 154 146 110 146  78 156  78  73  67 176 159 101  79 122 133  95 101\n",
      "  38 176 176 101  79 122 139 196 101 176] [79 79 79 79 79 79 79 79 79 79 79 79 79 79 79 79 79 79 79 79 79 79 79 79\n",
      " 79 79 79 79 79 79 79 79 80 80 80 80 80 80 80 80 80 80 80 80 80 80 80 80\n",
      " 80 80 80 80 80 80 80 80 80 80 80 80 80 80 80 80]\n",
      "[176 168  69 135 134 168 168  95 110 168 102  59 145  76  79 111 131  77\n",
      "  79 122  64  79 176 101  92  79  97 156 122 113 134  79  80  80 136 161\n",
      " 172  74 131  64 138 111 151 172 106 131 101 135  71 176  72  80 130 115\n",
      "  11  80 168   7  80 125 122 139 168 155] [80 80 80 80 80 80 80 80 80 80 80 80 80 80 80 80 80 80 81 81 81 81 81 81\n",
      " 81 81 81 81 81 81 81 81 81 81 81 81 81 81 81 81 81 81 81 81 81 81 81 81\n",
      " 81 81 81 81 81 81 81 81 81 81 81 81 81 81 81 81]\n",
      "[ 80 106 176  83 156 150 176  80  45  36 130 151  80  72 113 156 113  38\n",
      " 103 176  81  81 146  75 153 176  81 110  81 101  81 137  64  13 131  81\n",
      "  81  81 130  81 176  81  81 111  81 113 108 176  81 146 145 151 168 176\n",
      "  64 176 131 131 168 168  81  81  81 176] [81 81 81 81 82 82 82 82 82 82 82 82 82 82 82 82 82 82 82 82 82 82 82 82\n",
      " 82 82 82 82 82 82 82 82 82 82 82 82 82 82 82 82 82 82 82 82 82 82 82 82\n",
      " 82 82 82 82 82 82 83 83 83 83 83 83 83 83 83 83]\n",
      "[156  81 156 108  99 113 168 176 153 176 176  18 113 176 176 176  82  82\n",
      " 108 113 176 176 111  93 176 176  53 176 113 176 176 176  93 176  79 131\n",
      " 176 168 176 176  18 176 112 176 112 130 147 176  38 156 122  93  38 113\n",
      "  83 131  83  75  83  64 168  83 113  83] [83 83 83 83 83 83 83 83 83 83 83 83 83 83 83 83 83 83 83 83 83 83 83 83\n",
      " 83 83 83 83 83 83 83 83 83 83 83 83 83 83 83 83 84 84 84 84 84 84 84 84\n",
      " 84 84 84 84 84 84 84 84 84 84 84 84 84 84 84 84]\n",
      "[102 113 132 176  80 131 102  83 135 113 136  99  83 163 156  83  83 113\n",
      "  38 131  83  99 156 131  83 113  83  83  92 160 176 131  83  83  83  83\n",
      "  80  92 131 113 131 176  75  75  76   6  84  84  13  64 101 156  84   8\n",
      " 156  84  64  84  84 102 176 110 156 102] [84 84 84 84 84 84 84 84 84 84 84 84 84 84 84 84 84 84 84 84 84 84 84 84\n",
      " 84 84 85 85 85 85 85 85 85 85 85 85 85 85 85 85 85 85 85 85 85 85 85 85\n",
      " 85 85 85 85 85 85 85 85 85 85 85 85 85 85 85 85]\n",
      "[176 127  84  84 164 176 108 102  84 122 131 164 131 102  64 162  84  75\n",
      " 106 176  84  84  74 176 139 176 113 150 127  60  85 156  85  85 134 131\n",
      " 149 134  85 105 134  90  61 125  95  99 152  75 134 134 168 169  60 169\n",
      "  38  75 172 149 168  72 113 176 105 122] [85 85 85 85 85 85 85 85 85 85 85 85 86 86 86 86 86 86 86 86 86 86 86 86\n",
      " 86 86 86 86 86 86 86 86 86 86 86 86 86 86 86 86 86 86 86 86 86 86 86 86\n",
      " 86 86 86 86 86 86 86 86 86 86 86 86 86 86 87 87]\n",
      "[105 176 112 102 105  80 149 128  85 176  85 101  97  13 131 149  67 176\n",
      "  90  86  86 176 127  76 128 168  86  72 131 110 122 130  13 176  64  87\n",
      " 130 176 128  86  72  92 131 146 112 119  64 176 146  86 176 176  86  86\n",
      "  86 128  86 122 146  74  97 102  98 174] [87 87 87 87 87 87 87 87 87 87 87 87 87 87 87 87 87 87 87 87 87 87 87 87\n",
      " 87 87 87 87 87 87 87 87 87 87 87 87 87 87 87 87 87 87 87 87 87 87 87 87\n",
      " 88 88 88 88 88 88 88 88 88 88 88 88 88 88 88 88]\n"
     ]
    },
    {
     "name": "stderr",
     "output_type": "stream",
     "text": [
      "calculate_agg:  48%|████▊     | 75/157 [00:02<00:02, 30.44it/s]"
     ]
    },
    {
     "name": "stdout",
     "output_type": "stream",
     "text": [
      "[146 159 176  38 156  81 176 145 101 160 110 117  13  75  64 123 133 176\n",
      " 111 156 146 155 151  75  75  87  87  87 145 168 111 131 176 176  87 176\n",
      " 159  93 116  75 176  87 125  13 146  75 113 153 101 108  75 154 125  99\n",
      "  64  44 131  64  88  38  88 176  17 127] [88 88 88 88 88 88 88 88 88 88 88 88 88 88 88 88 88 88 88 88 88 88 88 88\n",
      " 88 88 88 88 88 88 88 88 88 88 89 89 89 89 89 89 89 89 89 89 89 89 89 89\n",
      " 89 89 89 89 89 89 89 89 89 89 89 89 89 89 89 89]\n",
      "[ 99 156 168 125  64  75 154 176  88 196 135 176  88  88  82 130 131  99\n",
      " 102 168 152 160 113 131 156  33 102 113 122  88  95  64  75 108  80 145\n",
      "  66 184 151  44  64  92 164 154 135 113 146 122 156 131  13 168 176  89\n",
      " 176 122 135  80  92 179 142 151  89 122] [89 89 89 89 89 89 89 89 89 89 89 89 89 89 89 89 89 89 89 89 90 90 90 90\n",
      " 90 90 90 90 90 90 90 90 90 90 90 90 90 90 90 90 90 90 90 90 90 90 90 90\n",
      " 90 90 90 90 90 90 90 90 90 90 90 90 90 90 90 90]\n",
      "[ 89  20 174 186 102 115 128 130  89 115 156 176 174 113 123  44  67  89\n",
      " 152 176  74 110 135  62  38 176  90  90  31 176 112 176 176  90 110 176\n",
      " 176 161  44 130 135 135 122  90 176  90  79 102  90 168 122  90 113 176\n",
      " 176  90 156  90  90 176  90 168  90 176] [90 90 90 90 90 90 91 91 91 91 91 91 91 91 91 91 91 91 91 91 91 91 91 91\n",
      " 91 91 91 91 91 91 91 91 91 91 91 91 91 91 91 91 91 91 91 91 91 91 91 91\n",
      " 91 91 91 91 91 91 91 91 92 92 92 92 92 92 92 92]\n",
      "[135 110 113  90 168  90 156  91  91  91 111  91  66  91 122  91  56   1\n",
      " 122 146  91  91  91 176 176  91  91  12 168 196 122 176  91  91  91  91\n",
      "  66 122 122  91 131 131  91  91 176  66 195   2  91 113  58  91  76 102\n",
      "  91  91  86 176  92  92 193  92 131  93] [92 92 92 92 92 92 92 92 92 92 92 92 92 92 92 92 92 92 92 92 92 92 92 92\n",
      " 92 92 92 92 92 92 92 92 92 92 92 92 92 92 92 92 92 92 93 93 93 93 93 93\n",
      " 93 93 93 93 93 93 93 93 93 93 93 93 93 93 93 93]\n",
      "[113 145  92  92 110  92 127  59  92 127 151  92  92  92 130 110  92 176\n",
      " 101 113  92 151  92  92  92  59 110 149 176  92 151 188  92 188  75  92\n",
      "  92 135 176 155 137  92 176  82 176 113 176  44 131 196 176 176 176 176\n",
      " 113  93 176 176 176 176 113 176 176 176] [93 93 93 93 93 93 93 93 93 93 93 93 93 93 93 93 93 93 93 93 93 93 93 93\n",
      " 93 93 93 93 94 94 94 94 94 94 94 94 94 94 94 94 94 94 94 94 94 94 94 94\n",
      " 94 94 94 94 94 94 94 94 94 94 94 94 94 94 94 94]\n",
      "[176  93 176 131 176 176  88 176  65 176 131 163 122 176 176 131 176 151\n",
      " 176 176  93 176 176 176 176 176 176 176 153  94 123 121  94 196 168 153\n",
      " 116  64 176 155 153 153 153 156 153 176  94 151  94 110 176 111 168 153\n",
      "  94 176 152  92 196 153 153  13 156 176] [94 94 94 94 94 94 94 94 94 94 94 94 94 94 95 95 95 95 95 95 95 95 95 95\n",
      " 95 95 95 95 95 95 95 95 95 95 95 95 95 95 95 95 95 95 95 95 95 95 95 95\n",
      " 95 95 95 95 95 95 95 95 95 95 95 95 95 95 95 95]\n",
      "[176 176 196 116 176 116 153 176 153 176 176  94 153 168 102  95  95  95\n",
      " 196 132  95  95 176 115  64  13  95 122  95 176  21  95  84  95 164 176\n",
      "  95 198  84 196 102 102 152  76  67 101  95 176 145  95 176 108  95 111\n",
      "  95  84 186  64 113  95 115  13 125  64] [96 96 96 96 96 96 96 96 96 96 96 96 96 96 96 96 96 96 96 96 96 96 96 96\n",
      " 96 96 96 96 96 96 96 96 96 96 96 96 96 96 96 96 96 96 96 96 96 96 96 96\n",
      " 96 96 97 97 97 97 97 97 97 97 97 97 97 97 97 97]\n"
     ]
    },
    {
     "name": "stderr",
     "output_type": "stream",
     "text": [
      "\r",
      "calculate_agg:  50%|█████     | 79/157 [00:03<00:02, 30.45it/s]"
     ]
    },
    {
     "name": "stdout",
     "output_type": "stream",
     "text": [
      "[162 154 108 154  96 197 176 197 154 101 197 154  59  96 115 168 146 154\n",
      " 176 156  96 103  96 154  81  96  33 197  96 149 154 162  69  75  88 102\n",
      " 179  96 176 196 101 154 102 146 146 156  96 108 154  96 113 176 168  65\n",
      " 156  98 131 176 131 131 176  92 133 131] [97 97 97 97 97 97 97 97 97 97 97 97 97 97 97 97 97 97 97 97 97 97 97 97\n",
      " 97 97 97 97 97 97 97 97 97 97 97 97 98 98 98 98 98 98 98 98 98 98 98 98\n",
      " 98 98 98 98 98 98 98 98 98 98 98 98 98 98 98 98]\n",
      "[176 102 151 176 122  97 176  97 151 156  97  65 136 176  80 176  95 176\n",
      "  97 146 174  97 168 188 122 147 128 131  64 151  64  99 176  97  93 176\n",
      " 131 176 168  76  64 176  83 131 145  98  75 173  64 159  84  98 188  18\n",
      " 142  68  92  98 176 176 128 176 113  98] [98 98 98 98 98 98 98 98 98 98 98 98 98 98 98 98 98 98 98 98 98 98 99 99\n",
      " 99 99 99 99 99 99 99 99 99 99 99 99 99 99 99 99 99 99 99 99 99 99 99 99\n",
      " 99 99 99 99 99 99 99 99 99 99 99 99 99 99 99 99]\n",
      "[ 72 131 176  98 176  64  98 142 176  98  64 111 113 129 115 176  98  98\n",
      " 137  64  98 145  99  99 156 176 176 102  17 159 188 156  92 171 175 101\n",
      " 131   6  93  99 113  92 122 113 180 131 132 115 176  99 131  74 132 124\n",
      "  92 176 156 102 174  99  99 173 113 156] [ 99  99  99  99  99  99  99  99 100 100 100 100 100 100 100 100 100 100\n",
      " 100 100 100 100 100 100 100 100 100 100 100 100 100 100 100 100 100 100\n",
      " 100 100 100 100 100 100 100 100 100 100 100 100 100 100 100 100 100 100\n",
      " 100 100 100 100 101 101 101 101 101 101]\n",
      "[125 132  89 151 131  72 113 176 127 139  74  83 161 133 130 131 176 121\n",
      "  75 161 130 143 100 168 175  38  25 100 100 100  59  59 168 100 176 119\n",
      " 131 168 132  65 131  75 110  75  75  97 168  99  75 131 122 131 127  68\n",
      " 187  99 147 137 196 101 131 101  92 176] [101 101 101 101 101 101 101 101 101 101 101 101 101 101 101 101 101 101\n",
      " 101 101 101 101 101 101 101 101 101 101 101 101 101 101 101 101 101 101\n",
      " 101 101 101 101 101 101 101 101 102 102 102 102 102 102 102 102 102 102\n",
      " 102 102 102 102 102 102 102 102 102 102]\n",
      "[132 101 132 145  13 101 101 152  13 101 132  20 101 125 168 101 101  72\n",
      " 101 101 102 101  13 101 101 101 101 101 176 132 124 101 101 162 115 108\n",
      "  13  13  13  72 101  13 198 132 102 176 102 102  12 102 176  83 102 196\n",
      " 102 131  44 131 176 102 102 102 102  19] [102 102 102 102 102 102 102 102 102 102 102 102 102 102 102 102 102 102\n",
      " 102 102 102 102 102 102 102 102 102 102 102 102 103 103 103 103 103 103\n",
      " 103 103 103 103 103 103 103 103 103 103 103 103 103 103 103 103 103 103\n",
      " 103 103 103 103 103 103 103 103 103 103]\n",
      "[ 13 102 102 176 131 102 146 176 113  13 102 126 102 102  60 122 102 176\n",
      " 102 102 102 113 102 176 129 102 176 119 176  66 176 103 103 174 176 103\n",
      " 146  65 137  80 126 146 102 145 196 135 131 146 103 156 122  93 145 103\n",
      "  13 103 146  11 146  65 146 103  47 146] [103 103 103 103 103 103 103 103 103 103 103 103 103 103 103 103 104 104\n",
      " 104 104 104 104 104 104 104 104 104 104 104 104 104 104 104 104 104 104\n",
      " 104 104 104 104 104 104 104 104 104 104 104 104 104 104 104 104 104 104\n",
      " 104 104 104 104 104 104 104 104 104 104]\n",
      "[103 103 122  99  63 103 103 103  96  64  65  76 129 103 145 103 104  83\n",
      "  41 176 174 106  41 188 156  38 113  66 163  66 174 104  67 177 122 174\n",
      " 174 174  75 104 130 156  38 113 174  92 113 156 151  38 174 176  68 130\n",
      "  45  98 102 174 122 151 117 188 176 122] [104 104 105 105 105 105 105 105 105 105 105 105 105 105 105 105 105 105\n",
      " 105 105 105 105 105 105 105 105 105 105 105 105 105 105 105 105 105 105\n",
      " 105 105 105 105 105 105 105 105 105 105 105 105 105 105 105 105 106 106\n",
      " 106 106 106 106 106 106 106 106 106 106]\n"
     ]
    },
    {
     "name": "stderr",
     "output_type": "stream",
     "text": [
      "calculate_agg:  55%|█████▌    | 87/157 [00:03<00:02, 30.47it/s]"
     ]
    },
    {
     "name": "stdout",
     "output_type": "stream",
     "text": [
      "[ 36 113 176  44 105 105 129 156 135 176 140  77 102 116 105 106 112 156\n",
      " 176  99 131 112 106 102 102 102  75  76 106 120 161 176  75 156 105 112\n",
      " 116 176 176 127 113 173  82 105 127 112  53 105  75 173 176 105 156 168\n",
      " 110 132  92 111 131 106 156  75 113 102] [106 106 106 106 106 106 106 106 106 106 106 106 106 106 106 106 106 106\n",
      " 106 106 106 106 106 106 106 106 106 106 106 106 106 106 106 106 106 106\n",
      " 106 106 107 107 107 107 107 107 107 107 107 107 107 107 107 107 107 107\n",
      " 107 107 107 107 107 107 107 107 107 107]\n",
      "[106 156 111 131 106 150  77 176 106 109 150 176 151 176 106  88 113 131\n",
      " 106 106 123 176 105 106 176 176 176  75  64 131  64 176  13 122 180 176\n",
      "  87 168 176 176 176 176 176 111 176 176 176 153 107 176  17 131  64 153\n",
      " 176 130 114 176 176 146 196 107 107 131] [107 107 107 107 107 107 107 107 107 107 107 107 107 107 107 107 107 107\n",
      " 107 107 107 107 107 107 108 108 108 108 108 108 108 108 108 108 108 108\n",
      " 108 108 108 108 108 108 108 108 108 108 108 108 108 108 108 108 108 108\n",
      " 108 108 108 108 108 108 108 108 108 108]\n",
      "[153 108 145 168 139 153 107 107 168 153 153 176  72 168 164 176 107 153\n",
      "  95 107 176 153 149 153 176 131 176 131 176 108 122 108  84 116 176 108\n",
      " 176 176 108 108 176 176 102  66  67 176 176 176 108 108 108 176  68  13\n",
      "  93 176 148 176 108 176 108 176 108 176] [108 108 108 108 108 108 108 108 108 108 109 109 109 109 109 109 109 109\n",
      " 109 109 109 109 109 109 109 109 109 109 109 109 109 109 109 109 109 109\n",
      " 109 109 109 109 109 109 109 109 109 109 109 109 109 109 109 109 109 109\n",
      " 109 109 109 109 109 109 110 110 110 110]\n",
      "[176 108 122 176 176 108 196 164 176 176 109 109 102  99 138 109 109 156\n",
      " 168 113  99  64 109 109  72 131  75  88 123 176 109 176 113  75  83  88\n",
      " 109 102 109  72 109 156 109 131 145 176  38 172 109 109 131 109 131 106\n",
      " 145 160  68 109 131 109 156 110 168 176] [110 110 110 110 110 110 110 110 110 110 110 110 110 110 110 110 110 110\n",
      " 110 110 110 110 110 110 110 110 110 110 110 110 110 110 110 110 110 110\n",
      " 110 110 110 110 110 110 110 110 110 110 111 111 111 111 111 111 111 111\n",
      " 111 111 111 111 111 111 111 111 111 111]\n",
      "[110 151 133 135  92  92 109  67 145 110 110 176  80 168 180  65 110 110\n",
      " 110 176 113 101 176 110  68 186 131 110 176  92 135 176  75 141 110 176\n",
      " 159 110 110 110 110  72 110  80 130 110 180 176 176 131 111 111 176 111\n",
      " 111 176 176 111 111 176 131 176  64 176] [111 111 111 111 111 111 111 111 111 111 111 111 111 111 111 111 111 111\n",
      " 111 111 111 111 111 111 111 111 111 111 111 111 111 111 112 112 112 112\n",
      " 112 112 112 112 112 112 112 112 112 112 112 112 112 112 112 112 112 112\n",
      " 112 112 112 112 112 112 112 112 112 112]\n",
      "[131 111 176 176 176 111 176 111 176 176 176 176 176 168  80 176 111 111\n",
      " 131 111 176 176 176 111 176 111 111  65 176 176 111 176  44 131 112 176\n",
      " 176 168 112 176 131 112 112 113 129 156 125 176 131 176 112 132 112  83\n",
      "  75 168 176 169 176 112 176 168 115 172] [112 112 112 112 112 112 112 112 112 112 112 112 112 112 112 112 112 112\n",
      " 113 113 113 113 113 113 113 113 113 113 113 113 113 113 113 113 113 113\n",
      " 113 113 113 113 113 113 113 113 113 113 113 113 113 113 113 113 113 113\n",
      " 113 113 113 113 113 113 113 113 113 113]\n",
      "[112 176 176  77 131  75 156 156 176 112 163 112 102 176 131 156 131 168\n",
      " 113 113 163 102 113  43  83 122  64 113 106  73 127 113 188 113  44 113\n",
      " 113 122 151  72 130 113 176 113 131  38 113 113 168 113  38 113 102  44\n",
      " 113 145 190 113 113 113 183 151 113 113] [113 113 113 113 114 114 114 114 114 114 114 114 114 114 114 114 114 114\n",
      " 114 114 114 114 114 114 114 114 114 114 114 114 114 114 114 114 114 114\n",
      " 114 114 114 114 114 114 114 114 114 114 114 114 114 114 114 114 114 114\n",
      " 115 115 115 115 115 115 115 115 115 115]\n"
     ]
    },
    {
     "name": "stderr",
     "output_type": "stream",
     "text": [
      "calculate_agg:  61%|██████    | 95/157 [00:03<00:02, 30.49it/s]"
     ]
    },
    {
     "name": "stdout",
     "output_type": "stream",
     "text": [
      "[113 160 151 127 114 114 168 176 185 131 114 176 176 114 156 114  13 114\n",
      "  75  69 176  75 114 114  80 176 153 176 111 114 176 102 146 114 114 176\n",
      "  80 174 111 176  99  68 114 168 131 168 196  62 168 114 132 114 117  88\n",
      " 176 115 195 115 115 115 137 115 115  76] [115 115 115 115 115 115 115 115 115 115 115 115 115 115 115 115 115 115\n",
      " 115 115 115 115 115 115 115 115 115 115 115 115 115 115 115 115 115 115\n",
      " 115 115 115 115 116 116 116 116 116 116 116 116 116 116 116 116 116 116\n",
      " 116 116 116 116 116 116 116 116 116 116]\n",
      "[115 108 176 115 115 115 176 176  10 115 115 115 115 115 115 125 115 115\n",
      " 115 115 115 115  74  13 115 198 145 115 196 115 115 115 115 115 115 176\n",
      " 176 115 115 115 116 176 155 116  64  64 116 176  13 131 168 116 153 176\n",
      "  64  80  26 102 146 176 131 176 153  13] [116 116 116 116 116 116 116 116 116 116 116 116 116 116 116 116 116 116\n",
      " 116 116 116 116 116 116 116 116 117 117 117 117 117 117 117 117 117 117\n",
      " 117 117 117 117 117 117 117 117 117 117 117 117 117 117 117 117 117 117\n",
      " 117 117 117 117 117 117 117 117 117 117]\n",
      "[176  93 196 116 145 176 142 176 108 156 101 168 130 153 196  94 116 196\n",
      " 176  95 145  67 116 176 116 153  38 131 155   8 174 151 176  36 117 110\n",
      " 156 117 186 117 176 117 117  75 155 117 153 155 176 155 131 117 117 139\n",
      " 176 117 117 117 129 173  76 176  75 110] [117 117 117 117 117 117 117 117 117 117 117 117 118 118 118 118 118 118\n",
      " 118 118 118 118 118 118 118 118 118 118 118 118 118 118 118 118 118 118\n",
      " 118 118 118 118 118 118 118 118 118 118 118 118 118 118 118 118 118 118\n",
      " 118 118 118 118 118 118 118 118 119 119]\n",
      "[  8 176 155 117  73 117 155 130 110 155  11 117 176 197  38 168 162 129\n",
      " 114 176 176 111  44 176 164 176 114 168 176 168 176 168 113 131 163 131\n",
      " 176 118 131 176 176 118 176 176 176 168 162 102 176 168 118 118 131 118\n",
      " 176 176 176 132 162 114 118 176 119 131] [119 119 119 119 119 119 119 119 119 119 119 119 119 119 119 119 119 119\n",
      " 119 119 119 119 119 119 119 119 119 119 119 119 119 119 119 119 119 119\n",
      " 119 119 119 119 119 119 119 119 119 119 119 119 120 120 120 120 120 120\n",
      " 120 120 120 120 120 120 120 120 120 120]\n",
      "[176 106 176 131 176 131  28 176 120 176 119 113 102 176 176 131 156 156\n",
      " 131 119 131 131 131 119 119 176  43  99 128 131 168 119 112 131 102 129\n",
      " 122 168 131 176 120 131 163  84 168 158 119 131 111  75 113 131 168 120\n",
      " 176  74  72 138  38 111  60 171  95 134] [120 120 120 120 120 120 120 120 120 120 120 120 120 120 120 120 120 120\n",
      " 120 120 120 120 120 120 120 120 120 120 120 120 120 120 120 120 121 121\n",
      " 121 121 121 121 121 121 121 121 121 121 121 121 121 121 121 121 121 121\n",
      " 121 121 121 121 121 121 121 121 121 121]\n",
      "[ 92  74 156  75 113 131  72 176  74 176 149 120 131 176 171 168 144 168\n",
      " 131  92  13 156 156 120 132 168 131 120 120 120 131 159 100 189 121 133\n",
      " 133 121 176 121 176  65 145 121 176 146 115 176 133 131 176 121 115 146\n",
      " 176 176  95 176 131 176 176 176 113 145] [121 121 121 121 121 121 121 121 121 121 121 121 121 121 121 121 121 121\n",
      " 121 121 122 122 122 122 122 122 122 122 122 122 122 122 122 122 122 122\n",
      " 122 122 122 122 122 122 122 122 122 122 122 122 122 122 122 122 122 122\n",
      " 122 122 122 122 122 122 122 122 122 122]\n",
      "[146 146 121 196 121 196 145 133 116 108 171 135 127 121 121 176  86  66\n",
      " 121 133 176 122 176 122  79  44 176  65 109 117 176 113 122 176 106 122\n",
      " 122 176  71 122 151  44  64 122 122  75 176 110 122 176 122 176 109  10\n",
      " 101   8  99 122 122 122 176 122  92 122] [122 122 122 122 122 122 123 123 123 123 123 123 123 123 123 123 123 123\n",
      " 123 123 123 123 123 123 123 123 123 123 123 123 123 123 123 123 123 123\n",
      " 123 123 123 123 123 123 123 123 123 123 123 123 123 123 123 123 123 123\n",
      " 123 123 124 124 124 124 124 124 124 124]\n"
     ]
    },
    {
     "name": "stderr",
     "output_type": "stream",
     "text": [
      "calculate_agg:  66%|██████▌   | 103/157 [00:03<00:01, 30.46it/s]"
     ]
    },
    {
     "name": "stdout",
     "output_type": "stream",
     "text": [
      "[139 125 114 176 122 122 123 123  65 176 127 156 176 123  60 156 176  44\n",
      " 123  65  75 131 112  75 106 156 168 131 123 176 131 123 131 119 106 112\n",
      "  87 168 176  74 172 138  60 159 123 123 123 155 156 116 123  77 168 131\n",
      "  77 156 137  64 124 122 124 101 124 132] [124 124 124 124 124 124 124 124 124 124 124 124 124 124 124 124 124 124\n",
      " 124 124 124 124 124 124 124 124 124 124 124 124 124 124 124 124 124 124\n",
      " 124 124 124 124 124 124 125 125 125 125 125 125 125 125 125 125 125 125\n",
      " 125 125 125 125 125 125 125 125 125 125]\n",
      "[163  71 124 124 101 132 132 124 124 124 132 102 124 124 115 124 124 170\n",
      " 124 154  65 124 113 122 122 124 138 124 124  13 146 176 124 132 124 124\n",
      " 124 102 124 137  84 102 110  99  75  95 156  95 131 176 102 168  13  95\n",
      " 125  88  99  99 122 176  72 186 125 125] [125 125 125 125 125 125 125 125 125 125 125 125 125 125 125 125 125 125\n",
      " 125 125 125 125 125 125 125 125 125 125 126 126 126 126 126 126 126 126\n",
      " 126 126 126 126 126 126 126 126 126 126 126 126 126 126 126 126 126 126\n",
      " 126 126 126 126 126 126 126 126 126 126]\n",
      "[131 176  99  88 119 152 113 112  19 161 176 122 176 113 176  99  75 119\n",
      " 176 125 131 159 122 125 156 196 131 168 126 176 176 173 176 126 126  64\n",
      "  64  44 176 126 113  93 126 126 126 129 101  73 126 176 126  61 154  44\n",
      " 113  72 135 129 113 135 113 113  93 126] [126 126 126 126 126 126 126 126 126 126 126 126 126 126 127 127 127 127\n",
      " 127 127 127 127 127 127 127 127 127 127 127 127 127 127 127 127 127 127\n",
      " 127 127 127 127 127 127 127 127 127 127 127 127 127 127 127 127 127 127\n",
      " 127 127 127 127 127 127 127 127 127 127]\n",
      "[176 156 129 176 131 131  64 176 101 126 113 156 113 126 127 127 127 176\n",
      " 127 155  92 127 102 145 127 127  81 145  76 127 127  65 127  64  75  72\n",
      " 137 102 145  71 131  80  87 163  93 127  70 176 154 176 127  75 111 146\n",
      " 110 127 122 172 130 145 176 127 135 146] [128 128 128 128 128 128 128 128 128 128 128 128 128 128 128 128 128 128\n",
      " 128 128 128 128 128 128 128 128 128 128 128 128 128 128 128 128 128 128\n",
      " 128 128 128 128 128 128 128 128 128 128 128 128 128 128 129 129 129 129\n",
      " 129 129 129 129 129 129 129 129 129 129]\n",
      "[ 64 176  97  67  64  64 128 168 128  86 128  82 128  68  64 111 131 146\n",
      " 128  88 176  64  68 176 176  72  65  76 167  72 176  92 127 128  80 146\n",
      " 128 128 127 176 176 146 128 188 122 113  65 128 128 128 102 176 129 129\n",
      "  38  99 115 129 176  66 129 129 129 129] [129 129 129 129 129 129 129 129 129 129 129 129 129 129 129 129 129 129\n",
      " 129 129 129 129 129 129 129 129 129 129 129 129 129 129 129 129 129 129\n",
      " 130 130 130 130 130 130 130 130 130 130 130 130 130 130 130 130 130 130\n",
      " 130 130 130 130 130 130 130 130 130 130]\n",
      "[129  60 146 176 129 176  71 129 130 129 129  76  17 185 129 146 176 129\n",
      " 176 129 129 127 129 131 129 176 176 176 129 129 129 129 176 129 129 129\n",
      " 159  75 130 138 156 130 130 102  69 130 128 130 102 130  67 193 135 156\n",
      " 176 176 151 163 130 146  36 141 159  68] [130 130 130 130 130 130 130 130 130 130 130 130 130 130 130 130 130 130\n",
      " 130 130 130 130 131 131 131 131 131 131 131 131 131 131 131 131 131 131\n",
      " 131 131 131 131 131 131 131 131 131 131 131 131 131 131 131 131 131 131\n",
      " 131 131 131 131 131 131 131 131 131 131]\n",
      "[ 92 122 130 130 146 130 113 130 130 176 130 135 130 185 130 130 113 130\n",
      "  80  92 130  38  81 127 106 100 131 135 138  69 106 102  99  68 168 199\n",
      " 138 110 168 168 132  99 131 176   8 101 144 131 156 131 131 154 131 131\n",
      " 176  77 176 196 131 176  72 142 163 176] [131 131 131 131 131 131 131 131 132 132 132 132 132 132 132 132 132 132\n",
      " 132 132 132 132 132 132 132 132 132 132 132 132 132 132 132 132 132 132\n",
      " 132 132 132 132 132 132 132 132 132 132 132 132 132 132 132 132 132 132\n",
      " 132 132 132 132 133 133 133 133 133 133]\n"
     ]
    },
    {
     "name": "stderr",
     "output_type": "stream",
     "text": [
      "\r",
      "calculate_agg:  68%|██████▊   | 107/157 [00:03<00:01, 30.45it/s]"
     ]
    },
    {
     "name": "stdout",
     "output_type": "stream",
     "text": [
      "[ 75 147 113  22  92 164 171  83 131 146  84 106 176 131 132 108 152 132\n",
      " 176  74 168  64  95  86  95  76  13  95  71 171 163 132 132  72 122  95\n",
      " 156 146 196 168 126 132 113 135 176  92 102  67 168  75 156 102 101 137\n",
      " 122  73 176 132 133 176 153 133 176 121] [133 133 133 133 133 133 133 133 133 133 133 133 133 133 133 133 133 133\n",
      " 133 133 133 133 133 133 133 133 133 133 133 133 133 133 133 133 133 133\n",
      " 133 133 133 133 133 133 133 133 134 134 134 134 134 134 134 134 134 134\n",
      " 134 134 134 134 134 134 134 134 134 134]\n",
      "[156 176 116 133 131 133 133  92 176 127 176 153 133 176 133 121 133  13\n",
      " 176 155 176 133 133 176 133 176  92 153 133 164 133 131 176 176 135  64\n",
      " 133 131 145 176 133 176 145 153  13 134  80  99 160 173 176  85  38 188\n",
      " 102  76 176 168 134 112 134 101 134 134] [134 134 134 134 134 134 134 134 134 134 134 134 134 134 134 134 134 134\n",
      " 134 134 134 134 134 134 134 134 134 134 134 134 135 135 135 135 135 135\n",
      " 135 135 135 135 135 135 135 135 135 135 135 135 135 135 135 135 135 135\n",
      " 135 135 135 135 135 135 135 135 135 135]\n",
      "[134 134 169 134 149  63  63 152 113 134 168 168 176 176  79  13 134 134\n",
      "  62 156 123 173 101 176  62  13 176  93 176 188 130 135  72 122 108 113\n",
      "  67 127  73 130 135 189 176  38  72  75 176 110 122 176 135  44 113 135\n",
      " 112 102 176  38 113 135 176 135 135 168] [135 135 135 135 135 135 135 135 135 135 135 135 135 135 135 135 136 136\n",
      " 136 136 136 136 136 136 136 136 136 136 136 136 136 136 136 136 136 136\n",
      " 136 136 136 136 136 136 136 136 136 136 136 136 136 136 136 136 136 136\n",
      " 136 136 136 136 136 136 136 136 136 136]\n",
      "[113  44 135 164  26  29 176 131  80 176 135 135 172 180 131 102 176 136\n",
      " 105 131 176 113 138 136 123 131  24  59 136  92 143 136  99 136  59 136\n",
      "  65 102 159 176 172 176 136 168 136  99 131 131 136  76  76 176 159 135\n",
      " 136 176  59 131 177 115 136 106 176 176] [136 136 137 137 137 137 137 137 137 137 137 137 137 137 137 137 137 137\n",
      " 137 137 137 137 137 137 137 137 137 137 137 137 137 137 137 137 137 137\n",
      " 137 137 137 137 137 137 137 137 137 137 137 137 137 137 137 137 138 138\n",
      " 138 138 138 138 138 138 138 138 138 138]\n",
      "[193  82 196 176 137 123 176 137 168 137  96  72 176 176 116   0  84 137\n",
      " 137 131 137  59 102 130 122 116 151 163 122 114 101  84 176 156  74  74\n",
      " 173  99 131  13 122 137 116 116 137 137 179 198 152 102 137 122 139 172\n",
      " 163 113 176 176 131 138  83 138  67 167] [138 138 138 138 138 138 138 138 138 138 138 138 138 138 138 138 138 138\n",
      " 138 138 138 138 138 138 138 138 138 138 138 138 138 138 138 138 138 138\n",
      " 138 138 139 139 139 139 139 139 139 139 139 139 139 139 139 139 139 139\n",
      " 139 139 139 139 139 139 139 139 139 139]\n",
      "[131  99 138 138 135 113 176 130 131 163 156 106 132 113  13 138  75 180\n",
      " 113 138 113  38  75 113 151 161 135 135 122  64  38 102  95 101  13  64\n",
      " 131 168 153 176 196 198  22 131 176 139 176 168 108 139 171 139  38  92\n",
      " 148 168 125 139 176 176 139 131  36  95] [139 139 139 139 139 139 139 139 139 139 139 139 139 139 139 139 139 139\n",
      " 139 139 139 139 139 139 140 140 140 140 140 140 140 140 140 140 140 140\n",
      " 140 140 140 140 140 140 140 140 140 140 140 140 140 140 140 140 140 140\n",
      " 140 140 140 140 140 140 140 140 140 140]\n",
      "[176 122 176  64 176 125 107  67 154 131 113  44 113 179  38 122 176 113\n",
      "  75 113  75  80 196  83 145 140 161  80 176 113 176  67 167 140 176 176\n",
      " 176 176 130  72 113 121 140  64 113 176 176 102 102 122 176  64 113  92\n",
      " 140 129 102 176 176 113 135 128 146 102] [140 140 140 140 140 140 140 140 140 140 141 141 141 141 141 141 141 141\n",
      " 141 141 141 141 141 141 141 141 141 141 141 141 141 141 141 141 141 141\n",
      " 141 141 141 141 141 141 141 141 141 141 141 141 141 141 141 141 141 141\n",
      " 141 141 141 141 141 141 142 142 142 142]\n"
     ]
    },
    {
     "name": "stderr",
     "output_type": "stream",
     "text": [
      "calculate_agg:  73%|███████▎  | 115/157 [00:04<00:01, 30.40it/s]"
     ]
    },
    {
     "name": "stdout",
     "output_type": "stream",
     "text": [
      "[123 156 140 174  72 140 140  93  72  75 131  87 141 122 155 135 188 141\n",
      " 141 113 176 153  72 123 110  92 154 156 113 141 141 131  92 146 133 141\n",
      " 110 122  81 151 141 123 110 117  12  69 127 160  92 159 122 110 102 176\n",
      "  72 186 110 130 141  69 122 164 113 142] [142 142 142 142 142 142 142 142 142 142 142 142 142 142 142 142 142 142\n",
      " 142 142 142 142 142 142 142 142 142 142 142 142 142 142 142 142 142 142\n",
      " 142 142 142 142 142 142 142 142 142 142 143 143 143 143 143 143 143 143\n",
      " 143 143 143 143 143 143 143 143 143 143]\n",
      "[131  72 142 176  80 176 131 176 132 156  44 176 176 113 185 142 112 151\n",
      "  64 111 142 131  64 176 176 142 176 142  64 142  64 176 126  87 131 142\n",
      " 145  44 135 176 176 106 111 127 144 117 131 143 176 143 101 131  36  75\n",
      " 143 176 131 143 143 168 114 143 143 131] [143 143 143 143 143 143 143 143 143 143 143 143 143 143 143 143 143 143\n",
      " 143 143 143 143 143 143 143 143 143 143 143 143 143 143 144 144 144 144\n",
      " 144 144 144 144 144 144 144 144 144 144 144 144 144 144 144 144 144 144\n",
      " 144 144 144 144 144 144 144 144 144 144]\n",
      "[143 176 143 143 168 176 102 143 176 143 143 119 196 168 185 143 176 143\n",
      " 168 143 196 143 176 143 197 176 143 176 168 112 176  99  75 144 110 156\n",
      " 113 131 156  73  18 123  80 189 176 110 141 156  81  80 156 176  36 142\n",
      " 122 176 144  75  73  99 108 109  69 131] [144 144 144 144 144 144 144 144 144 144 144 144 144 144 144 144 144 144\n",
      " 145 145 145 145 145 145 145 145 145 145 145 145 145 145 145 145 145 145\n",
      " 145 145 145 145 145 145 145 145 145 145 145 145 145 145 145 145 145 145\n",
      " 145 145 145 145 145 145 145 145 145 145]\n",
      "[135 144  63 176  99 144  48 180  37 141 144 144 144 113 176  44  36  68\n",
      " 145 145 176 176 145 145 145 145 145 145 145 145 102  38 176 145 145 145\n",
      " 145 145 145 145 145 145 145 145 145 145 145 145  38 145 145 145 145  38\n",
      " 145 145 145 145 145 176 176 145 176 145] [145 145 145 145 146 146 146 146 146 146 146 146 146 146 146 146 146 146\n",
      " 146 146 146 146 146 146 146 146 146 146 146 146 146 146 146 146 146 146\n",
      " 146 146 146 146 146 146 146 146 146 146 146 146 146 146 146 146 146 146\n",
      " 147 147 147 147 147 147 147 147 147 147]\n",
      "[145 145 145 176  92  95 176  64 176 176 176 146 146 146 176 146 176 176\n",
      " 146 176 146 146 131 113  65 133 146 101 146 176  93 131 176 146 146 146\n",
      "  66  38 151 122 176 146  64 146 176 145 146 176 115 131  75  65  13 146\n",
      " 176 176 176 176 156 131 145  98  64 176] [147 147 147 147 147 147 147 147 147 147 147 147 147 147 147 147 147 147\n",
      " 147 147 147 147 147 147 147 147 147 147 147 147 147 147 147 147 147 147\n",
      " 147 147 147 147 148 148 148 148 148 148 148 148 148 148 148 148 148 148\n",
      " 148 148 148 148 148 148 148 148 148 148]\n",
      "[176  98 130  98  99 147  65 164  64  80 131  64  99 168 131 176 145  92\n",
      "  64  83  98 113  64 176 147 174 113  95 176  88 176 176 160 130  70 131\n",
      " 116 137  92 176 148  76 148 152 176 148 108 176 148 148 176 156   8  13\n",
      " 196  77 148  83 122 138 115 148 156 176] [148 148 148 148 148 148 148 148 148 148 148 148 148 148 148 148 148 148\n",
      " 148 148 148 148 148 148 148 148 149 149 149 149 149 149 149 149 149 149\n",
      " 149 149 149 149 149 149 149 149 149 149 149 149 149 149 149 149 149 149\n",
      " 149 149 149 149 149 149 149 149 149 149]\n",
      "[148 108  13 148 196  51 131 176 156 196 196 196 196  13 123 196 100  74\n",
      " 131 148  16 138 148 196 148 158 149 168 149 176 168 149 176  59 168 149\n",
      " 101 135  44 100 135 134 111 112 149 113 168 149 176 189 149  13 149  90\n",
      " 149 105 176 135 176 149 168 168 102  90] [149 149 149 149 149 149 149 149 149 149 149 149 150 150 150 150 150 150\n",
      " 150 150 150 150 150 150 150 150 150 150 150 150 150 150 150 150 150 150\n",
      " 150 150 150 150 150 150 150 150 150 150 150 150 150 150 150 150 150 150\n",
      " 150 150 150 150 150 150 150 150 151 151]\n"
     ]
    },
    {
     "name": "stderr",
     "output_type": "stream",
     "text": [
      "calculate_agg:  78%|███████▊  | 123/157 [00:04<00:01, 30.43it/s]"
     ]
    },
    {
     "name": "stdout",
     "output_type": "stream",
     "text": [
      "[150 176  17  75 149 113 135 149 130  75 149 196 150  76 176 150 176  75\n",
      " 150 189 168  99 150 176 153  65 150 176 156 113 150 150 176 176 176 176\n",
      " 113 150 112 150 150 168 168 113 119 150 168 113  76 176  45 131 113  41\n",
      " 176 131 150 150 156 176 168 112  97  75] [151 151 151 151 151 151 151 151 151 151 151 151 151 151 151 151 151 151\n",
      " 151 151 151 151 151 151 151 151 151 151 151 151 151 151 151 151 151 151\n",
      " 151 151 151 151 151 151 151 151 151 151 151 151 152 152 152 152 152 152\n",
      " 152 152 152 152 152 152 152 152 152 152]\n",
      "[174 151 176 151 151 151 151 151 176  93  36 120 151  59 113 122  13 130\n",
      " 130 130 151 114 151 151 151  98 151 142 150 176  86  80 151 151 168 151\n",
      " 151 130 117 129 167 142 151 110  64 151 122 151 196 152  38 196 152  75\n",
      " 152 152   4 102 152  12 152 152  73 176] [152 152 152 152 152 152 152 152 152 152 152 152 152 152 152 152 152 152\n",
      " 152 152 152 152 152 152 152 152 152 152 152 152 152 152 152 152 153 153\n",
      " 153 153 153 153 153 153 153 153 153 153 153 153 153 153 153 153 153 153\n",
      " 153 153 153 153 153 153 153 153 153 153]\n",
      "[152 176 146  44 152  12 102 152 190  66  12 152 132 152 129 156 152  59\n",
      " 152  37 152 113 139   8  16 176 152  12   8 151 176 152 176 176 153 153\n",
      "  94  64 153 153 153 115  17 153 153 176 111 156 153  44  93  70  92 153\n",
      " 176 176 145 145 153 196 153 153 176 153] [153 153 153 153 153 153 153 153 153 153 153 153 153 153 153 153 153 153\n",
      " 153 153 154 154 154 154 154 154 154 154 154 154 154 154 154 154 154 154\n",
      " 154 154 154 154 154 154 154 154 154 154 154 154 154 154 154 154 154 154\n",
      " 154 154 154 154 154 154 154 154 154 154]\n",
      "[153 176 153 176 155 145  94 168 153 153 153 153 153  38 168 153 145 176\n",
      "  13 153 146  64  44 154   2 145 168 131 154 176 132 154 145 176  82 101\n",
      " 154 154 176 176 154 101 154 135 154 152 154 154 132 154  93  95 154 198\n",
      " 154 115 154 101 154 154 154 108 176 154] [154 154 154 154 154 154 155 155 155 155 155 155 155 155 155 155 155 155\n",
      " 155 155 155 155 155 155 155 155 155 155 155 155 155 155 155 155 155 155\n",
      " 155 155 155 155 155 155 155 155 155 155 155 155 155 155 155 155 155 155\n",
      " 155 155 156 156 156 156 156 156 156 156]\n",
      "[168 113 154 111 154 176 155 176 155 155 135 130  13 155  75 155 127 186\n",
      " 155 156 155  13 130 110 176 155  75  92  38 151 176 155 155 176 155 110\n",
      " 155  75 141  13  75 155 151  92 151 135  75 168 123 155 108 135 176 155\n",
      " 176 147 176 135 156 131 156 156 176 156] [156 156 156 156 156 156 156 156 156 156 156 156 156 156 156 156 156 156\n",
      " 156 156 156 156 156 156 156 156 156 156 156 156 156 156 156 156 156 156\n",
      " 156 156 156 156 156 156 157 157 157 157 157 157 157 157 157 157 157 157\n",
      " 157 157 157 157 157 157 157 157 157 157]\n",
      "[156  64  96 131 110 156 156  64 156 156 131 156  99 122 156 110 131 156\n",
      " 131 102 156  80 156  75 122 156 145 111 156 156 156 131 156  75 111  64\n",
      " 156 156 131 110 131 156 196 176 106  84  33 122  66 176 176 176 118 101\n",
      "  92 159 129 159 113  44 198 146 135  71] [157 157 157 157 157 157 157 157 157 157 157 157 157 157 157 157 157 157\n",
      " 157 157 157 157 157 157 157 157 157 157 158 158 158 158 158 158 158 158\n",
      " 158 158 158 158 158 158 158 158 158 158 158 158 158 158 158 158 158 158\n",
      " 158 158 158 158 158 158 158 158 158 158]\n",
      "[113 176 176  92  64  84  84  12 176 162  64 122 162 121 156  66 157  99\n",
      "  92  64  95 152 129  12  76 157 157 176 102  74 168 176 176 158 176 168\n",
      " 168 158 168 130 131 131 176 158  44  74 106 176 163 115  80 176 113 168\n",
      " 171 176  67 176 132 176 158 158  63 158] [158 158 158 158 158 158 158 158 158 158 158 158 158 158 159 159 159 159\n",
      " 159 159 159 159 159 159 159 159 159 159 159 159 159 159 159 159 159 159\n",
      " 159 159 159 159 159 159 159 159 159 159 159 159 159 159 159 159 159 159\n",
      " 159 159 159 159 159 159 159 159 159 159]\n"
     ]
    },
    {
     "name": "stderr",
     "output_type": "stream",
     "text": [
      "calculate_agg:  83%|████████▎ | 131/157 [00:04<00:00, 30.40it/s]"
     ]
    },
    {
     "name": "stdout",
     "output_type": "stream",
     "text": [
      "[168 158 158 168  13 120 176  74 119 168  75  73  64 186 110 125  59 186\n",
      " 186 125  13 129  64  40 150 196  72 130  95 113 159 101 106 176 176 176\n",
      " 115  80  79 119 159 159 132  99 156 132 131 148 150  92 193 168 159 156\n",
      " 159 155 176 163  72  36   8 130  92  92] [160 160 160 160 160 160 160 160 160 160 160 160 160 160 160 160 160 160\n",
      " 160 160 160 160 160 160 160 160 160 160 160 160 160 160 160 160 160 160\n",
      " 160 160 160 160 160 160 160 160 160 160 160 160 160 160 161 161 161 161\n",
      " 161 161 161 161 161 161 161 161 161 161]\n",
      "[ 44 131  83 113  75 101 160  13  80  64  87 160 131  75   2 160 110 160\n",
      " 160 161 160 160 132 160 113   2 131 156 186  44 131 110 160 176 122 176\n",
      "  88 161 172 156 102  44 160  95 160 160 131   1 160 168 161 161 131 113\n",
      " 161 161  38 189 161 176 176 131 161 161] [161 161 161 161 161 161 161 161 161 161 161 161 161 161 161 161 161 161\n",
      " 161 161 161 161 161 161 161 161 161 161 161 161 161 161 161 161 161 161\n",
      " 162 162 162 162 162 162 162 162 162 162 162 162 162 162 162 162 162 162\n",
      " 162 162 162 162 162 162 162 162 162 162]\n",
      "[113  77  29 131 161  75 102 188 102 161 173 156 161 102 156 161 161 161\n",
      " 112 161 155 161 161 161  75 161 161  13 161  38 102 161 161 168  38 113\n",
      "  84  66 156 162  66 168 168 162 162 162 162 122 162 162  66 122 162 126\n",
      " 122 162 122  61 129 162 152 129 162  14] [162 162 162 162 162 162 162 162 162 162 162 162 162 162 162 162 162 162\n",
      " 162 162 162 162 163 163 163 163 163 163 163 163 163 163 163 163 163 163\n",
      " 163 163 163 163 163 163 163 163 163 163 163 163 163 163 163 163 163 163\n",
      " 163 163 163 163 163 163 163 163 163 163]\n",
      "[156  53 122  84 162 162 162  93 102 176  51 102 162 162 162 176 162 162\n",
      " 102 162 176 126 132 163 113 161 163 131 176  75 176 131 176 163 131 163\n",
      " 176 163 131 176 163 130  64 101 163 163 160 163 102  75 152 163  95 163\n",
      " 163 176 135  83 176 155 113  36 176 163] [163 163 163 163 163 163 163 163 164 164 164 164 164 164 164 164 164 164\n",
      " 164 164 164 164 164 164 164 164 164 164 164 164 164 164 164 164 164 164\n",
      " 164 164 164 164 164 164 164 164 164 164 164 164 164 164 164 164 164 164\n",
      " 164 164 164 164 165 165 165 165 165 165]\n",
      "[131  97  77  77 101 131 163 163 111 168 114 111  66 176 111 164 176 164\n",
      "  84 164 131 106 176 111 131 164 176 176  44 174 164 111 176 176 176 114\n",
      "  66 196 176 176 176 107 119  12 114 127  68 176 114 176 196 164 176 111\n",
      " 101 176 176 176 102 165 165 102  64 165] [165 165 165 165 165 165 165 165 165 165 165 165 165 165 165 165 165 165\n",
      " 165 165 165 165 165 165 165 165 165 165 165 165 165 165 165 165 165 165\n",
      " 165 165 165 165 165 165 165 165 166 166 166 166 166 166 166 166 166 166\n",
      " 166 166 166 166 166 166 166 166 166 166]\n",
      "[102 165 165 119 165 106 165 121 146 113 124 173 165  76 168 165 124 165\n",
      " 165 165 165 154 173 176 176 165 168 176 131 165 198 165 165 165 165 165\n",
      " 101 165 165 165 165 170 165  66 146 133 146 133 145 176 166 166 133 131\n",
      " 176 176 108 131 166 131 176  64  80 146] [166 166 166 166 166 166 166 166 166 166 166 166 166 166 166 166 166 166\n",
      " 166 166 166 166 166 166 166 166 166 166 166 166 167 167 167 167 167 167\n",
      " 167 167 167 167 167 167 167 167 167 167 167 167 167 167 167 167 167 167\n",
      " 167 167 167 167 167 167 167 167 167 167]\n",
      "[166  75 131 176 166 146 166 131 146 154 176 176 145 131 133 133 166 176\n",
      " 115  66 197 166 116 176 176 115  93 176 146 102 168 167 176 142 167 167\n",
      "  75 146  95  75 167 176  72 102 176  69 131 176 167  64  64 129 176 131\n",
      " 146 164 127 135 127 176  99 131 113 168] [167 167 167 167 167 167 167 167 167 167 167 167 167 167 167 167 168 168\n",
      " 168 168 168 168 168 168 168 168 168 168 168 168 168 168 168 168 168 168\n",
      " 168 168 168 168 168 168 168 168 168 168 168 168 168 168 168 168 168 168\n",
      " 168 168 168 168 168 168 168 168 168 168]\n"
     ]
    },
    {
     "name": "stderr",
     "output_type": "stream",
     "text": [
      "\r",
      "calculate_agg:  86%|████████▌ | 135/157 [00:04<00:00, 30.42it/s]"
     ]
    },
    {
     "name": "stdout",
     "output_type": "stream",
     "text": [
      "[128 167 167 133  92 139 129  99 176 171 167 128 167  67  75 167 176 168\n",
      " 111 168 168 176  75  75 176 168 113  75 176 111 176 161 156 176  64 176\n",
      " 168 127  93  38 131 168 111 131 176 168 176 101 168 119 176  13 156 130\n",
      " 168 168 156  64 114 168 176 168  76 168] [168 168 169 169 169 169 169 169 169 169 169 169 169 169 169 169 169 169\n",
      " 169 169 169 169 169 169 169 169 169 169 169 169 169 169 169 169 169 169\n",
      " 169 169 169 169 169 169 169 169 169 169 169 169 169 169 169 169 170 170\n",
      " 170 170 170 170 170 170 170 170 170 170]\n",
      "[168 176 176 126  38  64 131 131 169  60 176  64 134 131 176 129 113 126\n",
      " 134  59 156 113 176 176 176 169 102 176 169 131  83 106 176 168  60 176\n",
      " 169  44 113 112 176  72 113 168 129 176 105 112 176 131 176 176 129 113\n",
      " 152 129 168 102 170 195 170 170 154 170] [170 170 170 170 170 170 170 170 170 170 170 170 170 170 170 170 170 170\n",
      " 170 170 170 170 170 170 170 170 170 170 170 170 170 170 170 170 170 170\n",
      " 170 170 171 171 171 171 171 171 171 171 171 171 171 171 171 171 171 171\n",
      " 171 171 171 171 171 171 171 171 171 171]\n",
      "[ 96 127 196  76 168 153 154 154 170 170  12  38  96 170 170 170 195 170\n",
      " 170 194  12 176 170 170 129 154 170 102 129 102 129 170  66 149 102 170\n",
      "  84 176 176 168  38 171 171 115 171 176 171 176 102 131 156 168  39 176\n",
      "  74 176 113 176 176 115 131  38 176 131] [171 171 171 171 171 171 171 171 171 171 171 171 171 171 171 171 171 171\n",
      " 171 171 171 171 171 171 172 172 172 172 172 172 172 172 172 172 172 172\n",
      " 172 172 172 172 172 172 172 172 172 172 172 172 172 172 172 172 172 172\n",
      " 172 172 172 172 172 172 172 172 172 172]\n",
      "[176  68 131 176 143 171  75 171 131 113 171  38  38  68 171 171 131 132\n",
      " 171 176 176 171 171 171 131  72  73  80 172  72 113 113 131 102 176  86\n",
      " 139 147 160 135  72 135 172  80  62  60 172 130 176  38 137 172 179  88\n",
      "  13 172 102  24  72  73 172 176  23 155] [172 172 172 172 172 172 172 172 172 172 173 173 173 173 173 173 173 173\n",
      " 173 173 173 173 173 173 173 173 173 173 173 173 173 173 173 173 173 173\n",
      " 173 173 173 173 173 173 173 173 173 173 173 173 173 173 173 173 173 173\n",
      " 173 173 173 173 173 173 174 174 174 174]\n",
      "[  0  72  80  80 176 172 130 135 160  80 173 173 106 173 173 102  13 173\n",
      " 173 176  63 173 161 173 197 146 156 173 173 176 168 173 122 173 173 129\n",
      " 173 129 108 197 173 176 162 173 173 176 189  95 176 173 173 173 173  13\n",
      " 173 173  13  96 173 173 113 156  64  38] [174 174 174 174 174 174 174 174 174 174 174 174 174 174 174 174 174 174\n",
      " 174 174 174 174 174 174 174 174 174 174 174 174 174 174 174 174 174 174\n",
      " 174 174 174 174 174 174 174 174 174 174 175 175 175 175 175 175 175 175\n",
      " 175 175 175 175 175 175 175 175 175 175]\n",
      "[176 113   9 174 176 176  38  75  64  75 174  72 156 163 102 113 174  38\n",
      " 113 174 174 115 174 131 156  38   3  83 176 113 174 168 179 113 113 174\n",
      " 174 174 174 113  92 174 176 174 176  17 122 179 151  27 176 147  97  42\n",
      " 175  38 131 175 185  18 176 176  99 113] [175 175 175 175 175 175 175 175 175 175 175 175 175 175 175 175 175 175\n",
      " 175 175 175 175 175 175 175 175 175 175 175 175 175 175 176 176 176 176\n",
      " 176 176 176 176 176 176 176 176 176 176 176 176 176 176 176 176 176 176\n",
      " 176 176 176 176 176 176 176 176 176 176]\n",
      "[130  26  41  90 131 176 168 176 109 132  99 156 176 104  75 156 156 151\n",
      " 180 168 112 135 110  75 188 136 113 175 189 171  38 172 176 176 176 176\n",
      " 176 176 176 176 176 176 113 176 176 176 176 176  75 176 176 176 176 131\n",
      " 176 176 176 176 176 176 176 176 176 176] [176 176 176 176 176 176 176 176 176 176 176 176 176 176 176 176 176 176\n",
      " 177 177 177 177 177 177 177 177 177 177 177 177 177 177 177 177 177 177\n",
      " 177 177 177 177 177 177 177 177 177 177 177 177 177 177 177 177 177 177\n",
      " 177 177 177 177 177 177 177 177 177 177]\n"
     ]
    },
    {
     "name": "stderr",
     "output_type": "stream",
     "text": [
      "calculate_agg:  91%|█████████ | 143/157 [00:05<00:00, 30.41it/s]"
     ]
    },
    {
     "name": "stdout",
     "output_type": "stream",
     "text": [
      "[176 131 176 176 176 176 176 176 176 176 176 176 176 168 176 176 176 176\n",
      " 168 186  75 177  38  41 186 177 102 102 174 139 113 122  83 177  41 177\n",
      " 122  36 176 131 102 176 168  38  38 176 179 177 177  18 131  36  36 131\n",
      " 189  38 113 177 176 193 152  83 183 102] [177 177 177 177 178 178 178 178 178 178 178 178 178 178 178 178 178 178\n",
      " 178 178 178 178 178 178 178 178 178 178 178 178 178 178 178 178 178 178\n",
      " 178 178 178 178 178 178 178 178 178 178 178 178 178 178 178 178 178 178\n",
      " 179 179 179 179 179 179 179 179 179 179]\n",
      "[178 177 176 174 102 168  38 176  36 176 178 178  38 178  38 102 152  18\n",
      "  38 179 178 102 178  38 177 102 178 178 178  38 102 176  43 113 185 177\n",
      "  38  38 183 112 178 178  36  36  93 179 178  38 177 102 188 174  38 176\n",
      " 130 117 182 179 148  83 151  38  13  93] [179 179 179 179 179 179 179 179 179 179 179 179 179 179 179 179 179 179\n",
      " 179 179 179 179 179 179 179 179 179 179 179 179 179 179 179 179 179 179\n",
      " 179 179 179 179 180 180 180 180 180 180 180 180 180 180 180 180 180 180\n",
      " 180 180 180 180 180 180 180 180 180 180]\n",
      "[156 179 102 156 179 159  69 113 113 159 176  14 179 176 188 113 179  80\n",
      " 176 131 102 181  83  44 194 186 102 174  77 156 130 131 130 130 174 179\n",
      "  72 186 102 168 131  72  74 161  38 180 128 150 131 180  80 168 131 156\n",
      " 125 148 168 130 139 151 138 113 180  75] [180 180 180 180 180 180 180 180 180 180 180 180 180 180 180 180 180 180\n",
      " 180 180 180 180 180 180 180 180 181 181 181 181 181 181 181 181 181 181\n",
      " 181 181 181 181 181 181 181 181 181 181 181 181 181 181 181 181 181 181\n",
      " 181 181 181 181 181 181 181 181 181 181]\n",
      "[106 163 156 131  75  74 113 180 189 180  85 131 163 180 176 130 114 131\n",
      " 179 102  73  74 180 180 180 168  44 181  74  73 181 113 181  44  41 181\n",
      " 156 181  41 135 181 102 156 196 177 176 115  51 131 181   9 177  75  59\n",
      " 178  99 186 131   6 176  64 186 113 181] [181 181 181 181 181 181 181 181 181 181 181 181 182 182 182 182 182 182\n",
      " 182 182 182 182 182 182 182 182 182 182 182 182 182 182 182 182 182 182\n",
      " 182 182 182 182 182 182 182 182 182 182 182 182 182 182 182 182 182 182\n",
      " 182 182 182 182 182 182 182 182 183 183]\n",
      "[181 179 172 122 181 163 161 197 181 144   0 181 102 199 178 144 186 196\n",
      "  93  93 182  38 145 122 102 156 179 102 181 102 102 101 176 104  83 182\n",
      "  74  14 122 187 187 177 185 151 122 101 186  83 113 122 192 183 155 102\n",
      " 161  38  18 178  41 182 182 102 162 150] [183 183 183 183 183 183 183 183 183 183 183 183 183 183 183 183 183 183\n",
      " 183 183 183 183 183 183 183 183 183 183 183 183 183 183 183 183 183 183\n",
      " 183 183 183 183 183 183 183 183 183 183 183 183 184 184 184 184 184 184\n",
      " 184 184 184 184 184 184 184 184 184 184]\n",
      "[185 183 188 184  41  83 177 183 185 131 183  38 183  14 183  44 102  38\n",
      " 183  39  75 183 183  38  14 183  92 125 113 156  45 196  38  59 178  64\n",
      " 184 185  36  85 183 183 196  75  83  38 196 131  45 184 184 184 184 184\n",
      "  42 138 184  92 184  36 176 156 179 186] [184 184 184 184 184 184 184 184 184 184 184 184 184 184 184 184 184 184\n",
      " 184 184 184 184 184 184 184 184 184 184 184 184 184 184 184 184 185 185\n",
      " 185 185 185 185 185 185 185 185 185 185 185 185 185 185 185 185 185 185\n",
      " 185 185 185 185 185 185 185 185 185 185]\n",
      "[ 13  38 184 187 159 184 184 160 188  36  38 184 184 160 184 113  38 122\n",
      "  36 184  75 113 184 186 184 113 184 184 186  39 184  39 184 184 113  83\n",
      " 131 113 185 185 102 185 168 188  44 113 185 185 176 189 185 113 185 110\n",
      " 185 131 176 176 185  44 102 185  99 131] [185 185 185 185 185 185 185 185 185 185 185 185 185 185 185 185 185 185\n",
      " 185 185 186 186 186 186 186 186 186 186 186 186 186 186 186 186 186 186\n",
      " 186 186 186 186 186 186 186 186 186 186 186 186 186 186 186 186 186 186\n",
      " 186 186 186 186 186 186 186 186 186 186]\n"
     ]
    },
    {
     "name": "stderr",
     "output_type": "stream",
     "text": [
      "calculate_agg:  96%|█████████▌| 151/157 [00:05<00:00, 30.48it/s]"
     ]
    },
    {
     "name": "stdout",
     "output_type": "stream",
     "text": [
      "[131 185 185  16 185 185 113  67  75 185 185 185 131 185 188 185 113 102\n",
      " 185 130  38  75  38  38  36 113  38 188 176 187  38 179 186 186  38 186\n",
      " 186  13  38 180  38 101  38  38 151 188 186 130 113  38  38  38 186 196\n",
      " 186  38  38 168 102 113 186 187 186 186] [186 186 186 186 186 186 187 187 187 187 187 187 187 187 187 187 187 187\n",
      " 187 187 187 187 187 187 187 187 187 187 187 187 187 187 187 187 187 187\n",
      " 187 187 187 187 187 187 187 187 187 187 187 187 187 187 187 187 187 187\n",
      " 187 187 188 188 188 188 188 188 188 188]\n",
      "[196  38 188  38   6 187  92 186 185  38 113 130 187  38 187  92  38  38\n",
      " 196 187 187 187  38  83 187 184 187  73 187 187 187 186 187 196 187 187\n",
      " 187 187 185 196 186  38 187 130 102 186  38 186 187 113 187  38 187 156\n",
      " 102 188  59 188 186 163 156 188 188 188] [188 188 188 188 188 188 188 188 188 188 188 188 188 188 188 188 188 188\n",
      " 188 188 188 188 188 188 188 188 188 188 188 188 188 188 188 188 188 188\n",
      " 188 188 188 188 188 188 189 189 189 189 189 189 189 189 189 189 189 189\n",
      " 189 189 189 189 189 189 189 189 189 189]\n",
      "[187 153 188  77  38 113 156 188 188  99  38 188 188  17  38 188 188 122\n",
      "  38 188 137 186  68 188 188 188 188  38 188  47 125 188 188 176  44 141\n",
      " 100 188 122 130  38 188  36 189 109 113 156 113  10 176  83 113  18 113\n",
      " 135  69 156 131 156 130  80 156 160 156] [189 189 189 189 189 189 189 189 189 189 189 189 189 189 189 189 189 189\n",
      " 189 189 189 189 189 189 189 189 189 189 190 190 190 190 190 190 190 190\n",
      " 190 190 190 190 190 190 190 190 190 190 190 190 190 190 190 190 190 190\n",
      " 190 190 190 190 190 190 190 190 190 190]\n",
      "[134 176 199 189 156 189 179 148 189 131 189 189 163 188 176 179  38  59\n",
      " 189 156 113 189  83 186 189 179  75 152  82 190 179 189  18 177 102 176\n",
      "  75 196 179  36  66  38 130 176 115  93 113 196 177 113  18 165 156  92\n",
      "  44 177  41 102 189 183 176  18 122 102] [190 190 190 190 190 190 190 190 190 190 190 190 190 190 191 191 191 191\n",
      " 191 191 191 191 191 191 191 191 191 191 191 191 191 191 191 191 191 191\n",
      " 191 191 191 191 191 191 191 191 191 191 191 191 191 191 191 191 191 191\n",
      " 191 191 191 191 191 191 191 191 191 191]\n",
      "[168 190 150  38 151  46 176 190  38 131 177 145 177 102 110 179   6 189\n",
      "  41  41  99  10 186 113   3 113 185 189  38 191 113   6 102  59 176 113\n",
      "  59 176  41 113 122 113 179 189 191 113 176 176  41 191 102  41 113 186\n",
      " 191 188 130 189  41  59 176 189 113 156] [192 192 192 192 192 192 192 192 192 192 192 192 192 192 192 192 192 192\n",
      " 192 192 192 192 192 192 192 192 192 192 192 192 192 192 192 192 192 192\n",
      " 192 192 192 192 192 192 192 192 192 192 192 192 192 192 193 193 193 193\n",
      " 193 193 193 193 193 193 193 193 193 193]\n",
      "[ 38 151 177  41 192 191 163  41  38 130 188 177  38  99 117 102 113  18\n",
      "  38 151 176  80  38 113 178 192 174 192 192 102 192 177 192  38  38  17\n",
      " 181  41 190 156 104 192 192 188  36  93 192 192 190 113 193 193 193 193\n",
      " 156  99 186 193 130 193 193 193 193 113] [193 193 193 193 193 193 193 193 193 193 193 193 193 193 193 193 193 193\n",
      " 193 193 193 193 193 193 193 193 193 193 193 193 193 193 193 193 193 193\n",
      " 194 194 194 194 194 194 194 194 194 194 194 194 194 194 194 194 194 194\n",
      " 194 194 194 194 194 194 194 194 194 194]\n",
      "[193  72 193 193 193 193 193 193 102 193 131 193 193  80 110 102 109 193\n",
      " 193 193 113  38 193  75 186 193  64 193 193 193  41 193 193 130 186 193\n",
      " 196 102 101  75 196 176 194 194  94 176  23 146 196 168  13 176 194 102\n",
      "  66 194 194 143 176  13 194  95 174 194] [194 194 194 194 194 194 194 194 194 194 194 194 194 194 194 194 194 194\n",
      " 194 194 194 194 195 195 195 195 195 195 195 195 195 195 195 195 195 195\n",
      " 195 195 195 195 195 195 195 195 195 195 195 195 195 195 195 195 195 195\n",
      " 195 195 195 195 195 195 195 195 195 195]\n"
     ]
    },
    {
     "name": "stderr",
     "output_type": "stream",
     "text": [
      "\r",
      "calculate_agg:  99%|█████████▊| 155/157 [00:05<00:00, 30.41it/s]"
     ]
    },
    {
     "name": "stdout",
     "output_type": "stream",
     "text": [
      "[194 194 194 176 102 194 168 195  75  66 168 194 101  76 101 196 129 194\n",
      " 162  22 148 122 132 195  60 197 195 102 197  41 162  96  44 126 195  29\n",
      " 176  12  66 198  79 195 195 195 197 196  31  12 162 119  66 129  75 194\n",
      "  66  96 194 102  64  66 195  12 176  38] [195 195 195 195 195 195 195 195 196 196 196 196 196 196 196 196 196 196\n",
      " 196 196 196 196 196 196 196 196 196 196 196 196 196 196 196 196 196 196\n",
      " 196 196 196 196 196 196 196 196 196 196 196 196 196 196 196 196 196 196\n",
      " 196 196 196 196 197 197 197 197 197 197]\n",
      "[195  95  12 195 195 176 195 194 196  23 196 196 176 196 196 196 176 196\n",
      " 176 196 196 196 196 183  46 196 196 176 196  39 196 196 196 183 196 168\n",
      "  14 196 176 196  14 196 196  13  72  13 196 196 196  38 196 196  46 196\n",
      "  13 113  46  14 197 176 197 102 198 122] [197 197 197 197 197 197 197 197 197 197 197 197 197 197 197 197 197 197\n",
      " 197 197 197 197 197 197 197 197 197 197 197 197 197 197 197 197 197 197\n",
      " 197 197 197 197 197 197 197 197 198 198 198 198 198 198 198 198 198 198\n",
      " 198 198 198 198 198 198 198 198 198 198]\n",
      "[196  13 197 176 197 157 197  80 168  92 197 197 196  72 196 113 197 129\n",
      "  84 102  95 197  69 196 137 129 176 196 176 133 197 152 102 168  88  29\n",
      " 106 122 196  64 197 198 197  75 176 197  64  74  13  96  14 135 198 198\n",
      " 196 197 125 198  95 122  14 197  64  64] [198 198 198 198 198 198 198 198 198 198 198 198 198 198 198 198 198 198\n",
      " 198 198 198 198 198 198 198 198 198 198 198 198 199 199 199 199 199 199\n",
      " 199 199 199 199 199 199 199 199 199 199 199 199 199 199 199 199 199 199\n",
      " 199 199 199 199 199 199 199 199 199 199]\n",
      "[198 197 124  69 196 198 196  13 154  66 151  69 116 198 196  64 176 198\n",
      " 108 198 198  16  84 197 176 122 198  94  23 196 199 102  36  36 199  36\n",
      " 199  38  75 176  39 184  38 199 199  36  45 185  12  69 185 176 122 199\n",
      " 189 113  38 188 113  38 199  39  76 199] [199 199 199 199 199 199 199 199 199 199 199 199 199 199 199 199]\n"
     ]
    },
    {
     "name": "stderr",
     "output_type": "stream",
     "text": [
      "calculate_agg: 100%|██████████| 157/157 [00:05<00:00, 27.28it/s]\n"
     ]
    }
   ],
   "source": [
    "import tqdm\n",
    "probs_s = []\n",
    "probs_t = []\n",
    "ys = []\n",
    "for x, y in tqdm.tqdm(val_loader, desc='calculate_agg'):\n",
    "    s_out = student(x.to(gpu))\n",
    "    t_out = teacher(x.to(gpu))\n",
    "    print(np.argmax(prob_t, 1), y.numpy())\n",
    "#     print(torch.sum(s_out.argmax(1).detach().cpu() == y) / 128)\n",
    "    prob_s = torch.softmax(s_out.detach(), 1).cpu().numpy()\n",
    "    probs_s.append(prob_s)\n",
    "    prob_t = torch.softmax(t_out.detach(), 1).cpu().numpy()\n",
    "    probs_t.append(prob_t)\n",
    "    ys.append(y.numpy())\n",
    "\n",
    "probs_s = np.concatenate(probs_s, 0)\n",
    "probs_t = np.concatenate(probs_t, 0)\n",
    "ys = np.concatenate(ys, 0)"
   ]
  },
  {
   "cell_type": "code",
   "execution_count": 26,
   "id": "b4e1882e",
   "metadata": {},
   "outputs": [
    {
     "name": "stdout",
     "output_type": "stream",
     "text": [
      "0.1192\n",
      "0.2485\n",
      "0.291\n",
      "0.25757793\n"
     ]
    }
   ],
   "source": [
    "if not os.path.exists('prob_loyalty_distribution/'):\n",
    "    os.mkdir('prob_loyalty_distribution/')\n",
    "# print(y)\n",
    "print(np.sum(np.argmax(probs_s, 1) == ys) / len(val_dst))\n",
    "print(np.sum(np.argmax(probs_t, 1) == ys) / len(val_dst))\n",
    "print(np.sum(np.argmax(probs_t, 1) == np.argmax(probs_s, 1)) / len(val_dst))\n",
    "dist = distance.jensenshannon(probs_s.T, probs_t.T)\n",
    "dist[np.isnan(dist)] = 0 if np.sum(np.abs(probs_s[np.where(np.isnan(dist))] - probs_t[np.where(np.isnan(dist))])) < 1e-6 else 1\n",
    "prob_loyalty = 1 - np.sqrt(dist)\n",
    "print(np.nanmean(prob_loyalty))\n",
    "# print(dist[1773])"
   ]
  },
  {
   "cell_type": "code",
   "execution_count": 11,
   "id": "2fddb456",
   "metadata": {},
   "outputs": [
    {
     "data": {
      "text/plain": [
       "<seaborn.axisgrid.FacetGrid at 0x7ff46350a400>"
      ]
     },
     "execution_count": 11,
     "metadata": {},
     "output_type": "execute_result"
    },
    {
     "data": {
      "application/pdf": "[encoded data removed]",
      "text/plain": [
       "<Figure size 360x360 with 1 Axes>"
      ]
     },
     "metadata": {
      "needs_background": "light"
     },
     "output_type": "display_data"
    }
   ],
   "source": [
    "import seaborn as sns\n",
    "import matplotlib.pyplot as plt\n",
    "fig = sns.displot(prob_loyalty, kind='hist', color=sns.xkcd_rgb[\"pale red\"])\n",
    "# fig.set_xlim(0, 1)\n",
    "fig.set_xlabels('probability loyalty', fontsize=14)\n",
    "fig.set_ylabels('Number of Images', fontsize=14)\n",
    "# plt.savefig('prob_loyalty_distribution/prob_loyalty_deepinv.pdf')\n",
    "# x_ticks = np.arange(0, 1.01, 0.2)\n",
    "# y_ticks = np.arange(0, 700, 100)\n",
    "# fig.set_xticklabels(x_ticks, fontsize=12)\n",
    "# fig.set_yticklabels(y_ticks, fontsize=12)\n"
   ]
  },
  {
   "cell_type": "markdown",
   "id": "12d1a1ba",
   "metadata": {},
   "source": [
    "### Other visualization Results\n",
    "The items for further visualization:\n",
    "- Difficulty visualization at different timestage.\n",
    "- Ablation study of $k_{begin}$ and $k_{end}$.\n",
    "- Ablation study of $\\alpha_{adv}$.\n",
    "- Error bar of CuDFKD, CMI, ADI and DAFL."
   ]
  },
  {
   "cell_type": "code",
   "execution_count": 26,
   "id": "56b2f354",
   "metadata": {},
   "outputs": [],
   "source": [
    "x = np.array(['1/5', '1/4', '1/3'])\n",
    "y = np.array(['2/3', '3/4', '4/5'])\n",
    "res2res_acc = np.array([[71.00, 71.22, 71.12], [70.81, 70.79, 70.68], [70.41, 70.52, 70.54]])\n",
    "res2res_agr = np.array([[85.88, 85.85, 85.64], [85.40, 85.14, 85.58], [83.77, 83.88, 83.67]])\n",
    "res2res_loyalty = np.array([[0.6659, 0.6777, 0.6751], [0.6684, 0.6624, 0.6682], [0.6469, 0.6500, 0.6467]])"
   ]
  },
  {
   "cell_type": "code",
   "execution_count": 14,
   "id": "91f13e5a",
   "metadata": {},
   "outputs": [
    {
     "data": {
      "application/pdf": "[encoded data removed]",
      "text/plain": [
       "<Figure size 432x288 with 2 Axes>"
      ]
     },
     "metadata": {
      "needs_background": "light"
     },
     "output_type": "display_data"
    }
   ],
   "source": [
    "if not os.path.exists('heatmaps/'):\n",
    "    os.mkdir('heatmaps/')\n",
    "fig1 = sns.heatmap(res2res_acc, xticklabels=x, yticklabels=y, annot=True, fmt='.2f', cmap='RdBu_r')\n",
    "plt.savefig('heatmaps/vgg_acc.pdf')"
   ]
  },
  {
   "cell_type": "code",
   "execution_count": 15,
   "id": "7d6f0b70",
   "metadata": {},
   "outputs": [
    {
     "data": {
      "application/pdf": "[encoded data removed]",
      "text/plain": [
       "<Figure size 432x288 with 2 Axes>"
      ]
     },
     "metadata": {
      "needs_background": "light"
     },
     "output_type": "display_data"
    }
   ],
   "source": [
    "fig2 = sns.heatmap(res2res_agr, xticklabels=x, yticklabels=y, annot=True, fmt='.2f', cmap='RdBu_r')\n",
    "plt.savefig('heatmaps/vgg_agg.pdf')"
   ]
  },
  {
   "cell_type": "code",
   "execution_count": 16,
   "id": "699d93c7",
   "metadata": {},
   "outputs": [
    {
     "data": {
      "application/pdf": "[encoded data removed]",
      "text/plain": [
       "<Figure size 432x288 with 2 Axes>"
      ]
     },
     "metadata": {
      "needs_background": "light"
     },
     "output_type": "display_data"
    }
   ],
   "source": [
    "fig3 = sns.heatmap(res2res_loyalty, xticklabels=x, yticklabels=y, annot=True, fmt='.4f', cmap='RdBu_r')\n",
    "plt.savefig('heatmaps/vgg_loyalty.pdf')"
   ]
  },
  {
   "cell_type": "code",
   "execution_count": 17,
   "id": "5e5db220",
   "metadata": {},
   "outputs": [],
   "source": [
    "vgg2res_acc = np.array([[64.74, 64.65, 64.77], [64.66, 64.66, 64.10], [63.95, 64.00, 63.81]])\n",
    "vgg2res_agr = np.array([[68.91, 68.88, 68.93], [68.80, 68.85, 68.54], [68.58, 68.19, 68.31]])\n",
    "vgg2res_loyalty = np.array([[0.5067, 0.5058, 0.5072], [0.5059, 0.5054, 0.5069], [0.5001, 0.4961, 0.5021]])"
   ]
  },
  {
   "cell_type": "code",
   "execution_count": 18,
   "id": "7bd13364",
   "metadata": {},
   "outputs": [
    {
     "data": {
      "application/pdf": "[encoded data removed]",
      "text/plain": [
       "<Figure size 432x288 with 2 Axes>"
      ]
     },
     "metadata": {
      "needs_background": "light"
     },
     "output_type": "display_data"
    }
   ],
   "source": [
    "sns.heatmap(vgg2res_acc, xticklabels=x, yticklabels=y, annot=True, fmt='.2f', cmap='RdBu_r')\n",
    "plt.savefig('heatmaps/wrn_acc.pdf')"
   ]
  },
  {
   "cell_type": "code",
   "execution_count": 19,
   "id": "52c4ac9a",
   "metadata": {},
   "outputs": [
    {
     "data": {
      "application/pdf": "[encoded data removed]",
      "text/plain": [
       "<Figure size 432x288 with 2 Axes>"
      ]
     },
     "metadata": {
      "needs_background": "light"
     },
     "output_type": "display_data"
    }
   ],
   "source": [
    "sns.heatmap(vgg2res_agr, xticklabels=x, yticklabels=y, annot=True, fmt='.2f', cmap='RdBu_r')\n",
    "plt.savefig('heatmaps/wrn_agg.pdf')"
   ]
  },
  {
   "cell_type": "code",
   "execution_count": 20,
   "id": "79740b5f",
   "metadata": {},
   "outputs": [
    {
     "data": {
      "application/pdf": "[encoded data removed]",
      "text/plain": [
       "<Figure size 432x288 with 2 Axes>"
      ]
     },
     "metadata": {
      "needs_background": "light"
     },
     "output_type": "display_data"
    }
   ],
   "source": [
    "sns.heatmap(vgg2res_loyalty, xticklabels=x, yticklabels=y, annot=True, fmt='.4f', cmap='RdBu_r')\n",
    "plt.savefig('heatmaps/wrn_loyalty.pdf')"
   ]
  },
  {
   "cell_type": "code",
   "execution_count": 12,
   "id": "3c521bc6",
   "metadata": {
    "scrolled": true
   },
   "outputs": [
    {
     "data": {
      "text/plain": [
       "DCGAN_Generator_CIFAR10(\n",
       "  (project): Sequential(\n",
       "    (0): Flatten()\n",
       "    (1): Linear(in_features=512, out_features=16384, bias=True)\n",
       "  )\n",
       "  (main): Sequential(\n",
       "    (0): BatchNorm2d(256, eps=1e-05, momentum=0.1, affine=True, track_running_stats=True)\n",
       "    (1): Upsample(scale_factor=2.0, mode=nearest)\n",
       "    (2): Conv2d(256, 128, kernel_size=(3, 3), stride=(1, 1), padding=(1, 1), bias=False)\n",
       "    (3): BatchNorm2d(128, eps=1e-05, momentum=0.1, affine=True, track_running_stats=True)\n",
       "    (4): LeakyReLU(negative_slope=0.2, inplace=True)\n",
       "    (5): Upsample(scale_factor=2.0, mode=nearest)\n",
       "    (6): Conv2d(128, 64, kernel_size=(3, 3), stride=(1, 1), padding=(1, 1), bias=False)\n",
       "    (7): BatchNorm2d(64, eps=1e-05, momentum=0.1, affine=True, track_running_stats=True)\n",
       "    (8): LeakyReLU(negative_slope=0.2, inplace=True)\n",
       "    (9): Conv2d(64, 3, kernel_size=(3, 3), stride=(1, 1), padding=(1, 1))\n",
       "    (10): Sigmoid()\n",
       "  )\n",
       ")"
      ]
     },
     "execution_count": 12,
     "metadata": {},
     "output_type": "execute_result"
    }
   ],
   "source": [
    "ckpt = torch.load('../checkpoints/datafree-cudfkd/cifar100-wrn40_2-wrn40_1--cudfkd_L2_line33_d.pth', map_location='cpu')\n",
    "student.load_state_dict(ckpt['state_dict'])\n",
    "student.eval()\n",
    "g = datafree.models.generator.DCGAN_Generator_CIFAR10(nz=512, ngf=64, nc=3, img_size=32, d=2, cond=False)\n",
    "g = prepare_model(g)\n",
    "g.load_state_dict(ckpt['G_0'])\n",
    "g.eval()"
   ]
  },
  {
   "cell_type": "code",
   "execution_count": 13,
   "id": "9b832c02",
   "metadata": {},
   "outputs": [
    {
     "name": "stdout",
     "output_type": "stream",
     "text": [
      "[1.6653383  2.05072    1.3142852  ... 1.1158123  0.25667655 2.7491198 ]\n",
      "[41 44 80 ... 86 96 67]\n"
     ]
    }
   ],
   "source": [
    "from torchvision.utils import make_grid,save_image\n",
    "diff = []\n",
    "now_epoch = 300\n",
    "kl_metric = datafree.criterions.KLDiv(T=2., reduction='none')\n",
    "with torch.no_grad():\n",
    "    for i in range(20):\n",
    "        z = torch.randn(batch_size, 512).to(gpu)\n",
    "        x = g(z)\n",
    "        t_out = teacher(normalizer(x))\n",
    "        s_out = student(normalizer(x))\n",
    "        kl_diff = kl_metric(t_out, s_out).sum(1).detach().cpu().numpy()\n",
    "        diff.append(kl_diff)\n",
    "    \n",
    "diff = np.concatenate(diff)\n",
    "print(diff)\n",
    "with torch.no_grad():\n",
    "    z = torch.randn(1024, 512).to(gpu)\n",
    "    img = make_grid(x, nrow=16)\n",
    "    t_out = teacher(normalizer(x))\n",
    "    pesudo_label = t_out.argmax(1).cpu().numpy()\n",
    "    print(pesudo_label)\n",
    "\n",
    "#     save_image(img, 'difficulty/epoch_{}.jpg'.format(now_epoch))"
   ]
  },
  {
   "cell_type": "code",
   "execution_count": 19,
   "id": "d9697082",
   "metadata": {},
   "outputs": [
    {
     "name": "stdout",
     "output_type": "stream",
     "text": [
      "0 torch.Size([8, 3, 32, 32])\n",
      "1 torch.Size([13, 3, 32, 32])\n",
      "2 torch.Size([15, 3, 32, 32])\n",
      "3 torch.Size([11, 3, 32, 32])\n",
      "4 torch.Size([9, 3, 32, 32])\n",
      "5 torch.Size([11, 3, 32, 32])\n",
      "6 torch.Size([12, 3, 32, 32])\n",
      "7 torch.Size([9, 3, 32, 32])\n",
      "8 torch.Size([11, 3, 32, 32])\n",
      "9 torch.Size([5, 3, 32, 32])\n",
      "10 torch.Size([12, 3, 32, 32])\n",
      "11 torch.Size([6, 3, 32, 32])\n",
      "12 torch.Size([8, 3, 32, 32])\n",
      "13 torch.Size([11, 3, 32, 32])\n",
      "14 torch.Size([11, 3, 32, 32])\n",
      "15 torch.Size([10, 3, 32, 32])\n",
      "16 torch.Size([9, 3, 32, 32])\n",
      "17 torch.Size([8, 3, 32, 32])\n",
      "18 torch.Size([9, 3, 32, 32])\n",
      "19 torch.Size([6, 3, 32, 32])\n",
      "20 torch.Size([9, 3, 32, 32])\n",
      "21 torch.Size([9, 3, 32, 32])\n",
      "22 torch.Size([13, 3, 32, 32])\n",
      "23 torch.Size([8, 3, 32, 32])\n",
      "24 torch.Size([4, 3, 32, 32])\n",
      "25 torch.Size([6, 3, 32, 32])\n",
      "26 torch.Size([18, 3, 32, 32])\n",
      "27 torch.Size([10, 3, 32, 32])\n",
      "28 torch.Size([11, 3, 32, 32])\n",
      "29 torch.Size([10, 3, 32, 32])\n",
      "30 torch.Size([12, 3, 32, 32])\n",
      "31 torch.Size([11, 3, 32, 32])\n",
      "32 torch.Size([6, 3, 32, 32])\n",
      "33 torch.Size([5, 3, 32, 32])\n",
      "34 torch.Size([12, 3, 32, 32])\n",
      "35 torch.Size([10, 3, 32, 32])\n",
      "36 torch.Size([13, 3, 32, 32])\n",
      "37 torch.Size([6, 3, 32, 32])\n",
      "38 torch.Size([7, 3, 32, 32])\n",
      "39 torch.Size([2, 3, 32, 32])\n",
      "40 torch.Size([5, 3, 32, 32])\n",
      "41 torch.Size([6, 3, 32, 32])\n",
      "42 torch.Size([13, 3, 32, 32])\n",
      "43 torch.Size([11, 3, 32, 32])\n",
      "44 torch.Size([20, 3, 32, 32])\n",
      "45 torch.Size([15, 3, 32, 32])\n",
      "46 torch.Size([6, 3, 32, 32])\n",
      "47 torch.Size([15, 3, 32, 32])\n",
      "48 torch.Size([7, 3, 32, 32])\n",
      "49 torch.Size([4, 3, 32, 32])\n",
      "50 torch.Size([19, 3, 32, 32])\n",
      "51 torch.Size([9, 3, 32, 32])\n",
      "52 torch.Size([4, 3, 32, 32])\n",
      "53 torch.Size([12, 3, 32, 32])\n",
      "54 torch.Size([7, 3, 32, 32])\n",
      "55 torch.Size([13, 3, 32, 32])\n",
      "56 torch.Size([9, 3, 32, 32])\n",
      "57 torch.Size([10, 3, 32, 32])\n",
      "58 torch.Size([2, 3, 32, 32])\n",
      "59 torch.Size([20, 3, 32, 32])\n",
      "60 torch.Size([7, 3, 32, 32])\n",
      "61 torch.Size([9, 3, 32, 32])\n",
      "62 torch.Size([13, 3, 32, 32])\n",
      "63 torch.Size([8, 3, 32, 32])\n",
      "64 torch.Size([14, 3, 32, 32])\n",
      "65 torch.Size([16, 3, 32, 32])\n",
      "66 torch.Size([14, 3, 32, 32])\n",
      "67 torch.Size([16, 3, 32, 32])\n",
      "68 torch.Size([7, 3, 32, 32])\n",
      "69 torch.Size([7, 3, 32, 32])\n",
      "70 torch.Size([15, 3, 32, 32])\n",
      "71 torch.Size([13, 3, 32, 32])\n",
      "72 torch.Size([13, 3, 32, 32])\n",
      "73 torch.Size([17, 3, 32, 32])\n",
      "74 torch.Size([16, 3, 32, 32])\n",
      "75 torch.Size([8, 3, 32, 32])\n",
      "76 torch.Size([15, 3, 32, 32])\n",
      "77 torch.Size([13, 3, 32, 32])\n",
      "78 torch.Size([10, 3, 32, 32])\n",
      "79 torch.Size([9, 3, 32, 32])\n",
      "80 torch.Size([10, 3, 32, 32])\n",
      "81 torch.Size([7, 3, 32, 32])\n",
      "82 torch.Size([7, 3, 32, 32])\n",
      "83 torch.Size([15, 3, 32, 32])\n",
      "84 torch.Size([13, 3, 32, 32])\n",
      "85 torch.Size([10, 3, 32, 32])\n",
      "86 torch.Size([9, 3, 32, 32])\n",
      "87 torch.Size([10, 3, 32, 32])\n",
      "88 torch.Size([7, 3, 32, 32])\n",
      "89 torch.Size([7, 3, 32, 32])\n",
      "90 torch.Size([6, 3, 32, 32])\n",
      "91 torch.Size([7, 3, 32, 32])\n",
      "92 torch.Size([8, 3, 32, 32])\n",
      "93 torch.Size([18, 3, 32, 32])\n",
      "94 torch.Size([7, 3, 32, 32])\n",
      "95 torch.Size([14, 3, 32, 32])\n",
      "96 torch.Size([14, 3, 32, 32])\n",
      "97 torch.Size([10, 3, 32, 32])\n",
      "98 torch.Size([14, 3, 32, 32])\n",
      "99 torch.Size([8, 3, 32, 32])\n"
     ]
    }
   ],
   "source": [
    "xs = []\n",
    "for i in range(num_classes):\n",
    "#     print(i)\n",
    "    xs.append(x[pesudo_label == i].cpu())\n",
    "    print(i, xs[i].shape)\n",
    "    img = make_grid(xs[i], nrow=1)\n",
    "    save_image(img, 'difficulty/img_epoch_{}_{}.jpg'.format(now_epoch, i))"
   ]
  },
  {
   "cell_type": "code",
   "execution_count": 21,
   "id": "14dd7070",
   "metadata": {},
   "outputs": [
    {
     "data": {
      "text/plain": [
       "<seaborn.axisgrid.FacetGrid at 0x7fbce51f3d30>"
      ]
     },
     "execution_count": 21,
     "metadata": {},
     "output_type": "execute_result"
    },
    {
     "data": {
      "application/pdf": "[encoded data removed]",
      "text/plain": [
       "<Figure size 360x360 with 1 Axes>"
      ]
     },
     "metadata": {
      "needs_background": "light"
     },
     "output_type": "display_data"
    }
   ],
   "source": [
    "sns.displot(diff)"
   ]
  },
  {
   "cell_type": "code",
   "execution_count": 21,
   "id": "67b9eacb",
   "metadata": {},
   "outputs": [],
   "source": [
    "wrn2wrn_acc = np.array([[75.24, 75.16, 75.31], [75.11, 75.21, 75.22], [75.01, 74.89, 75.01]])\n",
    "wrn2wrn_agr = np.array([[85.26, 86.06, 86.11], [85.40, 85.14, 85.58], [85.38, 85.53, 85.57]])\n",
    "wrn2wrn_loyalty = np.array([[0.6472, 0.6476, 0.6476], [0.6433, 0.6437, 0.6447], [0.6393, 0.6403, 0.6407]])\n"
   ]
  },
  {
   "cell_type": "code",
   "execution_count": 22,
   "id": "aebc327d",
   "metadata": {},
   "outputs": [
    {
     "data": {
      "application/pdf": "[encoded data removed]",
      "text/plain": [
       "<Figure size 432x288 with 2 Axes>"
      ]
     },
     "metadata": {
      "needs_background": "light"
     },
     "output_type": "display_data"
    }
   ],
   "source": [
    "sns.heatmap(wrn2wrn_acc, xticklabels=x, yticklabels=y, annot=True, fmt='.2f', cmap='RdBu_r')\n",
    "plt.savefig('heatmaps/res_acc.pdf')"
   ]
  },
  {
   "cell_type": "code",
   "execution_count": 23,
   "id": "40d0fdaa",
   "metadata": {},
   "outputs": [
    {
     "data": {
      "application/pdf": "[encoded data removed]",
      "text/plain": [
       "<Figure size 432x288 with 2 Axes>"
      ]
     },
     "metadata": {
      "needs_background": "light"
     },
     "output_type": "display_data"
    }
   ],
   "source": [
    "sns.heatmap(wrn2wrn_agr, xticklabels=x, yticklabels=y, annot=True, fmt='.2f', cmap='RdBu_r')\n",
    "plt.savefig('heatmaps/res_agg.pdf')"
   ]
  },
  {
   "cell_type": "code",
   "execution_count": 25,
   "id": "908b4930",
   "metadata": {},
   "outputs": [
    {
     "data": {
      "application/pdf": "[encoded data removed]",
      "text/plain": [
       "<Figure size 432x288 with 2 Axes>"
      ]
     },
     "metadata": {
      "needs_background": "light"
     },
     "output_type": "display_data"
    }
   ],
   "source": [
    "sns.heatmap(wrn2wrn_loyalty, xticklabels=x, yticklabels=y, annot=True, fmt='.4f', cmap='RdBu_r')\n",
    "plt.savefig('heatmaps/res_loyalty.pdf')"
   ]
  },
  {
   "cell_type": "code",
   "execution_count": 46,
   "id": "4d6452ab",
   "metadata": {},
   "outputs": [
    {
     "data": {
      "text/html": [
       "<div>\n",
       "<style scoped>\n",
       "    .dataframe tbody tr th:only-of-type {\n",
       "        vertical-align: middle;\n",
       "    }\n",
       "\n",
       "    .dataframe tbody tr th {\n",
       "        vertical-align: top;\n",
       "    }\n",
       "\n",
       "    .dataframe thead th {\n",
       "        text-align: right;\n",
       "    }\n",
       "</style>\n",
       "<table border=\"1\" class=\"dataframe\">\n",
       "  <thead>\n",
       "    <tr style=\"text-align: right;\">\n",
       "      <th></th>\n",
       "      <th>grad_of_adv</th>\n",
       "      <th>acc@1</th>\n",
       "      <th>agree@1</th>\n",
       "      <th>loyalty</th>\n",
       "    </tr>\n",
       "  </thead>\n",
       "  <tbody>\n",
       "    <tr>\n",
       "      <th>0</th>\n",
       "      <td>0.5</td>\n",
       "      <td>75.10</td>\n",
       "      <td>85.52</td>\n",
       "      <td>0.6412</td>\n",
       "    </tr>\n",
       "    <tr>\n",
       "      <th>1</th>\n",
       "      <td>1.0</td>\n",
       "      <td>75.31</td>\n",
       "      <td>86.11</td>\n",
       "      <td>0.6476</td>\n",
       "    </tr>\n",
       "    <tr>\n",
       "      <th>2</th>\n",
       "      <td>1.5</td>\n",
       "      <td>75.50</td>\n",
       "      <td>86.22</td>\n",
       "      <td>0.6528</td>\n",
       "    </tr>\n",
       "    <tr>\n",
       "      <th>3</th>\n",
       "      <td>2.0</td>\n",
       "      <td>75.50</td>\n",
       "      <td>86.52</td>\n",
       "      <td>0.6568</td>\n",
       "    </tr>\n",
       "    <tr>\n",
       "      <th>4</th>\n",
       "      <td>2.5</td>\n",
       "      <td>75.51</td>\n",
       "      <td>86.30</td>\n",
       "      <td>0.6571</td>\n",
       "    </tr>\n",
       "    <tr>\n",
       "      <th>5</th>\n",
       "      <td>3.0</td>\n",
       "      <td>75.60</td>\n",
       "      <td>86.52</td>\n",
       "      <td>0.6576</td>\n",
       "    </tr>\n",
       "    <tr>\n",
       "      <th>6</th>\n",
       "      <td>3.5</td>\n",
       "      <td>75.73</td>\n",
       "      <td>86.32</td>\n",
       "      <td>0.6575</td>\n",
       "    </tr>\n",
       "    <tr>\n",
       "      <th>7</th>\n",
       "      <td>4.0</td>\n",
       "      <td>75.67</td>\n",
       "      <td>86.11</td>\n",
       "      <td>0.6572</td>\n",
       "    </tr>\n",
       "  </tbody>\n",
       "</table>\n",
       "</div>"
      ],
      "text/plain": [
       "   grad_of_adv  acc@1  agree@1  loyalty\n",
       "0          0.5  75.10    85.52   0.6412\n",
       "1          1.0  75.31    86.11   0.6476\n",
       "2          1.5  75.50    86.22   0.6528\n",
       "3          2.0  75.50    86.52   0.6568\n",
       "4          2.5  75.51    86.30   0.6571\n",
       "5          3.0  75.60    86.52   0.6576\n",
       "6          3.5  75.73    86.32   0.6575\n",
       "7          4.0  75.67    86.11   0.6572"
      ]
     },
     "execution_count": 46,
     "metadata": {},
     "output_type": "execute_result"
    }
   ],
   "source": [
    "import pandas as pd\n",
    "grad_range = np.array([0.5, 1, 1.5, 2, 2.5, 3, 3.5, 4])\n",
    "adv_acc = np.array([75.10, 75.31, 75.50, 75.50, 75.51, 75.60, 75.73, 75.67])\n",
    "adv_agg = np.array([85.52, 86.11, 86.22, 86.52, 86.30, 86.52, 86.32, 86.11])\n",
    "adv_loyalty = np.array([0.6412, 0.6476, 0.6528, 0.6568, 0.6571, 0.6576, 0.6575, 0.6572])\n",
    "if not os.path.exists('grad_adv/'):\n",
    "    os.mkdir('grad_adv/')\n",
    "\n",
    "res_dict = {\n",
    "    'grad_of_adv': grad_range,\n",
    "    'acc@1': adv_acc,\n",
    "    'agree@1': adv_agg,\n",
    "    'loyalty': adv_loyalty\n",
    "}\n",
    "\n",
    "final_df = pd.DataFrame(res_dict)\n",
    "final_df"
   ]
  },
  {
   "cell_type": "code",
   "execution_count": 21,
   "id": "dd18d300",
   "metadata": {},
   "outputs": [],
   "source": [
    "# now_epoch = 300\n",
    "global_iter = now_epoch * 400\n",
    "lamda = datafree.datasets.utils.lambda_scheduler(1.0, global_iter, alpha=0.00002)\n",
    "g,v = datafree.datasets.utils.curr_v(l=torch.FloatTensor(diff), lamda=lamda, spl_type='log')"
   ]
  },
  {
   "cell_type": "code",
   "execution_count": 22,
   "id": "c678e2df",
   "metadata": {},
   "outputs": [],
   "source": [
    "if not os.path.exists('difficulty/'):\n",
    "    os.mkdir('difficulty/')\n",
    "diffs = dict()\n",
    "diffs['epoch@{}'.format(now_epoch)] = v.numpy() * diff\n",
    "# sns.displot(v.numpy() * diff, kind='kde')\n",
    "# plt.savefig('difficulty/difficulty_at_{}.pdf'.format(now_epoch))"
   ]
  },
  {
   "cell_type": "code",
   "execution_count": 23,
   "id": "46a889bb",
   "metadata": {},
   "outputs": [
    {
     "data": {
      "text/plain": [
       "DCGAN_Generator_CIFAR10(\n",
       "  (project): Sequential(\n",
       "    (0): Flatten()\n",
       "    (1): Linear(in_features=512, out_features=16384, bias=True)\n",
       "  )\n",
       "  (main): Sequential(\n",
       "    (0): BatchNorm2d(256, eps=1e-05, momentum=0.1, affine=True, track_running_stats=True)\n",
       "    (1): Upsample(scale_factor=2.0, mode=nearest)\n",
       "    (2): Conv2d(256, 128, kernel_size=(3, 3), stride=(1, 1), padding=(1, 1), bias=False)\n",
       "    (3): BatchNorm2d(128, eps=1e-05, momentum=0.1, affine=True, track_running_stats=True)\n",
       "    (4): LeakyReLU(negative_slope=0.2, inplace=True)\n",
       "    (5): Upsample(scale_factor=2.0, mode=nearest)\n",
       "    (6): Conv2d(128, 64, kernel_size=(3, 3), stride=(1, 1), padding=(1, 1), bias=False)\n",
       "    (7): BatchNorm2d(64, eps=1e-05, momentum=0.1, affine=True, track_running_stats=True)\n",
       "    (8): LeakyReLU(negative_slope=0.2, inplace=True)\n",
       "    (9): Conv2d(64, 3, kernel_size=(3, 3), stride=(1, 1), padding=(1, 1))\n",
       "    (10): Sigmoid()\n",
       "  )\n",
       ")"
      ]
     },
     "execution_count": 23,
     "metadata": {},
     "output_type": "execute_result"
    }
   ],
   "source": [
    "ckpt = torch.load('../checkpoints/datafree-cudfkd/cifar100-wrn40_2-wrn40_1-10.pth', map_location='cpu')\n",
    "student.load_state_dict(ckpt['state_dict'])\n",
    "student.eval()\n",
    "g = datafree.models.generator.DCGAN_Generator_CIFAR10(nz=512, ngf=64, nc=3, img_size=32, d=2, cond=False)\n",
    "g = prepare_model(g)\n",
    "g.load_state_dict(ckpt['G_0'])\n",
    "g.eval()"
   ]
  },
  {
   "cell_type": "code",
   "execution_count": 24,
   "id": "70d8fe61",
   "metadata": {},
   "outputs": [
    {
     "name": "stdout",
     "output_type": "stream",
     "text": [
      "[0.44048202 0.7211295  0.7666422  ... 0.34204212 0.96407497 0.6640957 ]\n",
      "[42 24 45 ... 99 60 87]\n"
     ]
    }
   ],
   "source": [
    "diff = []\n",
    "now_epoch = 10\n",
    "kl_metric = datafree.criterions.KLDiv(T=2., reduction='none')\n",
    "with torch.no_grad():\n",
    "    for i in range(20):\n",
    "        z = torch.randn(batch_size, 512).to(gpu)\n",
    "        x = g(z)\n",
    "        t_out = teacher(normalizer(x))\n",
    "        s_out = student(normalizer(x))\n",
    "        kl_diff = kl_metric(t_out, s_out).sum(1).detach().cpu().numpy()\n",
    "        diff.append(kl_diff)\n",
    "    \n",
    "diff = np.concatenate(diff)\n",
    "print(diff)\n",
    "with torch.no_grad():\n",
    "    z = torch.randn(1024, 512).to(gpu)\n",
    "    x = g(z)\n",
    "    img = make_grid(x, nrow=16)\n",
    "    t_out = teacher(normalizer(x))\n",
    "    pesudo_label = t_out.argmax(1).cpu().numpy()\n",
    "    print(pesudo_label)\n",
    "    save_image(img, 'difficulty/epoch_{}.jpg'.format(now_epoch))"
   ]
  },
  {
   "cell_type": "code",
   "execution_count": 26,
   "id": "8cefe238",
   "metadata": {},
   "outputs": [
    {
     "name": "stdout",
     "output_type": "stream",
     "text": [
      "0 torch.Size([3, 3, 32, 32])\n",
      "1 torch.Size([25, 3, 32, 32])\n",
      "2 torch.Size([9, 3, 32, 32])\n",
      "3 torch.Size([15, 3, 32, 32])\n",
      "4 torch.Size([18, 3, 32, 32])\n",
      "5 torch.Size([24, 3, 32, 32])\n",
      "6 torch.Size([10, 3, 32, 32])\n",
      "7 torch.Size([20, 3, 32, 32])\n",
      "8 torch.Size([15, 3, 32, 32])\n",
      "9 torch.Size([5, 3, 32, 32])\n",
      "10 torch.Size([15, 3, 32, 32])\n",
      "11 torch.Size([8, 3, 32, 32])\n",
      "12 torch.Size([3, 3, 32, 32])\n",
      "13 torch.Size([8, 3, 32, 32])\n",
      "14 torch.Size([9, 3, 32, 32])\n",
      "15 torch.Size([11, 3, 32, 32])\n",
      "16 torch.Size([14, 3, 32, 32])\n",
      "17 torch.Size([6, 3, 32, 32])\n",
      "18 torch.Size([4, 3, 32, 32])\n",
      "19 torch.Size([12, 3, 32, 32])\n",
      "20 torch.Size([2, 3, 32, 32])\n",
      "21 torch.Size([2, 3, 32, 32])\n",
      "22 torch.Size([6, 3, 32, 32])\n",
      "23 torch.Size([22, 3, 32, 32])\n",
      "24 torch.Size([11, 3, 32, 32])\n",
      "25 torch.Size([4, 3, 32, 32])\n",
      "26 torch.Size([22, 3, 32, 32])\n",
      "27 torch.Size([6, 3, 32, 32])\n",
      "28 torch.Size([15, 3, 32, 32])\n",
      "29 torch.Size([10, 3, 32, 32])\n",
      "30 torch.Size([19, 3, 32, 32])\n",
      "31 torch.Size([10, 3, 32, 32])\n",
      "32 torch.Size([8, 3, 32, 32])\n",
      "33 torch.Size([10, 3, 32, 32])\n",
      "34 torch.Size([12, 3, 32, 32])\n",
      "35 torch.Size([15, 3, 32, 32])\n",
      "36 torch.Size([18, 3, 32, 32])\n",
      "37 torch.Size([15, 3, 32, 32])\n",
      "38 torch.Size([11, 3, 32, 32])\n",
      "39 torch.Size([2, 3, 32, 32])\n",
      "40 torch.Size([7, 3, 32, 32])\n",
      "41 torch.Size([13, 3, 32, 32])\n",
      "42 torch.Size([12, 3, 32, 32])\n",
      "43 torch.Size([4, 3, 32, 32])\n",
      "44 torch.Size([7, 3, 32, 32])\n",
      "45 torch.Size([14, 3, 32, 32])\n",
      "46 torch.Size([3, 3, 32, 32])\n",
      "47 torch.Size([14, 3, 32, 32])\n",
      "48 torch.Size([15, 3, 32, 32])\n",
      "49 torch.Size([11, 3, 32, 32])\n",
      "50 torch.Size([6, 3, 32, 32])\n",
      "51 torch.Size([6, 3, 32, 32])\n",
      "52 torch.Size([0, 3, 32, 32])\n",
      "53 torch.Size([7, 3, 32, 32])\n",
      "54 torch.Size([10, 3, 32, 32])\n",
      "55 torch.Size([7, 3, 32, 32])\n",
      "56 torch.Size([10, 3, 32, 32])\n",
      "57 torch.Size([21, 3, 32, 32])\n",
      "58 torch.Size([5, 3, 32, 32])\n",
      "59 torch.Size([6, 3, 32, 32])\n",
      "60 torch.Size([9, 3, 32, 32])\n",
      "61 torch.Size([7, 3, 32, 32])\n",
      "62 torch.Size([14, 3, 32, 32])\n",
      "63 torch.Size([3, 3, 32, 32])\n",
      "64 torch.Size([10, 3, 32, 32])\n",
      "65 torch.Size([9, 3, 32, 32])\n",
      "66 torch.Size([10, 3, 32, 32])\n",
      "67 torch.Size([14, 3, 32, 32])\n",
      "68 torch.Size([0, 3, 32, 32])\n",
      "69 torch.Size([11, 3, 32, 32])\n",
      "70 torch.Size([23, 3, 32, 32])\n",
      "71 torch.Size([16, 3, 32, 32])\n",
      "72 torch.Size([20, 3, 32, 32])\n",
      "73 torch.Size([8, 3, 32, 32])\n",
      "74 torch.Size([9, 3, 32, 32])\n",
      "75 torch.Size([2, 3, 32, 32])\n",
      "76 torch.Size([10, 3, 32, 32])\n",
      "77 torch.Size([9, 3, 32, 32])\n",
      "78 torch.Size([7, 3, 32, 32])\n",
      "79 torch.Size([9, 3, 32, 32])\n",
      "80 torch.Size([6, 3, 32, 32])\n",
      "81 torch.Size([7, 3, 32, 32])\n",
      "82 torch.Size([12, 3, 32, 32])\n",
      "83 torch.Size([1, 3, 32, 32])\n",
      "84 torch.Size([3, 3, 32, 32])\n",
      "85 torch.Size([17, 3, 32, 32])\n",
      "86 torch.Size([9, 3, 32, 32])\n",
      "87 torch.Size([6, 3, 32, 32])\n",
      "88 torch.Size([15, 3, 32, 32])\n",
      "89 torch.Size([13, 3, 32, 32])\n",
      "90 torch.Size([10, 3, 32, 32])\n",
      "91 torch.Size([5, 3, 32, 32])\n",
      "92 torch.Size([11, 3, 32, 32])\n",
      "93 torch.Size([9, 3, 32, 32])\n",
      "94 torch.Size([10, 3, 32, 32])\n",
      "95 torch.Size([9, 3, 32, 32])\n",
      "96 torch.Size([11, 3, 32, 32])\n",
      "97 torch.Size([5, 3, 32, 32])\n",
      "98 torch.Size([20, 3, 32, 32])\n",
      "99 torch.Size([13, 3, 32, 32])\n"
     ]
    }
   ],
   "source": [
    "xs = []\n",
    "for i in range(num_classes):\n",
    "#     print(i)\n",
    "    xs.append(x[pesudo_label == i].cpu())\n",
    "    print(i, xs[i].shape)\n",
    "    if xs[i].shape[0] > 0:\n",
    "        img = make_grid(xs[i], nrow=1)\n",
    "        save_image(img, 'difficulty/img_epoch_{}_{}.jpg'.format(now_epoch, i))"
   ]
  },
  {
   "cell_type": "code",
   "execution_count": 27,
   "id": "52b1f976",
   "metadata": {},
   "outputs": [],
   "source": [
    "# now_epoch = 10\n",
    "global_iter = now_epoch * 400\n",
    "lamda = datafree.datasets.utils.lambda_scheduler(1.0, global_iter, alpha=0.00002)\n",
    "g,v = datafree.datasets.utils.curr_v(l=torch.FloatTensor(diff), lamda=lamda, spl_type='log')"
   ]
  },
  {
   "cell_type": "code",
   "execution_count": 28,
   "id": "ba9d1f54",
   "metadata": {},
   "outputs": [
    {
     "data": {
      "application/pdf": "[encoded data removed]",
      "text/plain": [
       "<Figure size 455x360 with 1 Axes>"
      ]
     },
     "metadata": {
      "needs_background": "light"
     },
     "output_type": "display_data"
    }
   ],
   "source": [
    "ax = sns.displot(diffs, kind='kde')\n",
    "ax.set_xlabels('Difficulty', fontsize=12)\n",
    "plt.savefig('difficulty/difficulty_wrn402_wrn162_cifar100.pdf')"
   ]
  },
  {
   "cell_type": "code",
   "execution_count": 74,
   "id": "85b1b9d6",
   "metadata": {},
   "outputs": [],
   "source": [
    "res_acc_dict = {\n",
    "    'method': ['cudfkd', 'cudfkd', 'cudfkd', 'teacher', 'adi', 'adi', 'adi', 'dafl', 'dafl', 'dafl', 'cmi', 'cmi', 'cmi'],\n",
    "    'acc@1': [95.24, 95.28, 95.15, 95.70],\n",
    "    'agree@1': [98.20, 98.19, 98.09, 100.00],\n",
    "    'prob_loyalty': [0.8909, 0.8903, 0.8898, 1.00],\n",
    "}"
   ]
  },
  {
   "cell_type": "code",
   "execution_count": 38,
   "id": "35c582fe",
   "metadata": {},
   "outputs": [
    {
     "data": {
      "application/pdf": "[encoded data removed]",
      "text/plain": [
       "<Figure size 432x288 with 2 Axes>"
      ]
     },
     "metadata": {
      "needs_background": "light"
     },
     "output_type": "display_data"
    }
   ],
   "source": [
    "fig, ax1 = plt.subplots()\n",
    "width = 0.4\n",
    "x1_list = []\n",
    "x2_list = []\n",
    "for i in range(adv_acc.shape[0]):\n",
    "    x1_list.append(i)\n",
    "    x2_list.append(i + width)\n",
    "\n",
    "# b1 = sns.lineplot(data=final_df, x=\"grad_of_adv\", y=\"acc@1\",color=sns.xkcd_rgb[\"pale red\"] )  \n",
    "b1, = plt.plot(final_df[\"grad_of_adv\"], final_df[\"acc@1\"], '-ro', label='Accuracy@1')\n",
    "\n",
    "# b1 = ax1.bar(x1_list, adv_acc, width=width, label='Acc@1', color=sns.xkcd_rgb[\"pale red\"], tick_label=grad_range)\n",
    "ax2 = ax1.twinx()\n",
    "b2, = plt.plot(final_df[\"grad_of_adv\"], final_df[\"agree@1\"], '-bo', label='Agreement@1')\n",
    "# plt.grid('off')\n",
    "# b2 = sns.lineplot(data=final_df, x=\"grad_of_adv\", y=\"agree@1\", color=sns.xkcd_rgb[\"denim blue\"])\n",
    "# b2 = ax2.bar(x2_list, adv_agg, width=width, label='Agree@1', color=sns.xkcd_rgb[\"denim blue\"], tick_label=grad_range)\n",
    "ax1.set_xlabel('grad of adv', fontsize=12)\n",
    "ax1.set_ylabel('Accuracy@1', fontsize=12)\n",
    "ax2.set_ylabel('Agreement@1', fontsize=12)\n",
    "ax1.set_ylim(74, 77)\n",
    "ax2.set_ylim(85, 87)\n",
    "axs = [b1, b2]\n",
    "lbs = [ax.get_label() for ax in axs]\n",
    "ax1.legend(axs, lbs)\n",
    "plt.savefig('grad_adv/acc_agg.pdf')\n",
    "# plt.legend(['a', 'b'])\n",
    "# plt.grid('off')"
   ]
  },
  {
   "cell_type": "code",
   "execution_count": 39,
   "id": "1e97fbb6",
   "metadata": {},
   "outputs": [
    {
     "data": {
      "application/pdf": "[encoded data removed]",
      "text/plain": [
       "<Figure size 432x288 with 1 Axes>"
      ]
     },
     "metadata": {
      "needs_background": "light"
     },
     "output_type": "display_data"
    }
   ],
   "source": [
    "plt.plot(final_df[\"grad_of_adv\"], final_df[\"loyalty\"], '-go', label=\"prob_loyalty\")\n",
    "plt.ylim(0.64, 0.66)\n",
    "x_ticks = final_df[\"grad_of_adv\"]\n",
    "y_ticks = np.arange(0.64, 0.66, 0.005)\n",
    "plt.xlabel('grad of adv', fontsize=14)\n",
    "plt.ylabel('probability loyalty', fontsize=14)\n",
    "plt.xticks(x_ticks, fontsize=12)\n",
    "plt.yticks(y_ticks, fontsize=12)\n",
    "plt.savefig('grad_adv/prob_loyalty.pdf')"
   ]
  },
  {
   "cell_type": "code",
   "execution_count": 40,
   "id": "6427a8cf",
   "metadata": {},
   "outputs": [],
   "source": [
    "curriculum_dict={\n",
    "    'method': ['teacher', 'None', 'hard', 'soft', 'log','teacher', 'None', 'hard', 'soft', 'log','teacher', 'None', 'hard', 'soft', 'log'],\n",
    "    'accuracy': [95.70, 93.24, 94.97, 95.01, 95.28, 100.00, 94.00, 97.71, 97.74, 98.13, 1.0000, 0.8202, 0.8813, 0.8786, 0.8909],\n",
    "    'metric': ['Acc@1','Acc@1','Acc@1','Acc@1','Acc@1','Agree@1','Agree@1','Agree@1','Agree@1','Agree@1','prob loyalty','prob loyalty','prob loyalty','prob loyalty','prob loyalty']\n",
    "}\n",
    "curr_df = pd.DataFrame(curriculum_dict)\n",
    "curr_df\n",
    "if not os.path.exists('curr_strategy/'):\n",
    "    os.mkdir('curr_strategy/')"
   ]
  },
  {
   "cell_type": "code",
   "execution_count": 53,
   "id": "dcf5121e",
   "metadata": {},
   "outputs": [
    {
     "data": {
      "application/pdf": "[encoded data removed]",
      "text/plain": [
       "<Figure size 432x288 with 2 Axes>"
      ]
     },
     "metadata": {
      "needs_background": "light"
     },
     "output_type": "display_data"
    }
   ],
   "source": [
    "fig, ax1 = plt.subplots()\n",
    "width = 0.4\n",
    "x1_list = []\n",
    "x2_list = []\n",
    "for i in range(5):\n",
    "    x1_list.append(i)\n",
    "    x2_list.append(i + width)\n",
    "\n",
    "# b1 = sns.lineplot(data=final_df, x=\"grad_of_adv\", y=\"acc@1\",color=sns.xkcd_rgb[\"pale red\"] )  \n",
    "# b1, = plt.plot(final_df[\"grad_of_adv\"], final_df[\"acc@1\"], '-ro', label='Accuracy@1')\n",
    "# b1 = sns.barplot(data=curriculum_dict, x='method', y='accuracy', color=sns.xkcd_rgb[\"pale red\"])\n",
    "b1 = ax1.bar(x1_list, curr_df['accuracy'][:5], width=width, label='Acc@1', color=sns.xkcd_rgb[\"pale red\"], tick_label=curriculum_dict['method'][:5])\n",
    "ax2 = ax1.twinx()\n",
    "# b2, = plt.plot(final_df[\"grad_of_adv\"], final_df[\"agree@1\"], '-bo', label='Agreement@1')\n",
    "# plt.grid('off')\n",
    "# b2 = sns.lineplot(data=final_df, x=\"grad_of_adv\", y=\"agree@1\", color=sns.xkcd_rgb[\"denim blue\"])\n",
    "b2 = ax2.bar(x2_list, curr_df['accuracy'][5:10], width=width, label='Agree@1', color=sns.xkcd_rgb[\"denim blue\"], tick_label=curriculum_dict['method'][:5])\n",
    "# ax2 = ax1.twinx()\n",
    "# b2 = sns.barplot(data=curriculum_dict, x='method', y='Agree@1', color=sns.xkcd_rgb[\"denim blue\"])\n",
    "ax1.set_xlabel('Curriculum strategy', fontsize=12)\n",
    "ax1.set_ylabel('Accuracy@1', fontsize=12)\n",
    "ax2.set_ylabel('Agreement@1', fontsize=12)\n",
    "ax1.set_ylim(93, 96)\n",
    "ax2.set_ylim(92, 101)\n",
    "# ax2.set_yticklabels(np.arange(92, 101, 2))\n",
    "axs = [b1, b2]\n",
    "lbs = [ax.get_label() for ax in axs]\n",
    "# ax1.legend()\n",
    "ax1.legend(axs, lbs)\n",
    "plt.savefig('curr_strategy/acc_agg.pdf')"
   ]
  },
  {
   "cell_type": "code",
   "execution_count": 63,
   "id": "dd53e82e",
   "metadata": {},
   "outputs": [
    {
     "ename": "ConversionError",
     "evalue": "Failed to convert value(s) to axis units: ['teacher', 'None', 'hard', 'soft', 'log']",
     "output_type": "error",
     "traceback": [
      "\u001b[0;31m---------------------------------------------------------------------------\u001b[0m",
      "\u001b[0;31mValueError\u001b[0m                                Traceback (most recent call last)",
      "\u001b[0;32m~/anaconda3/envs/torch/lib/python3.8/site-packages/matplotlib/axis.py\u001b[0m in \u001b[0;36mconvert_units\u001b[0;34m(self, x)\u001b[0m\n\u001b[1;32m   1488\u001b[0m         \u001b[0;32mtry\u001b[0m\u001b[0;34m:\u001b[0m\u001b[0;34m\u001b[0m\u001b[0;34m\u001b[0m\u001b[0m\n\u001b[0;32m-> 1489\u001b[0;31m             \u001b[0mret\u001b[0m \u001b[0;34m=\u001b[0m \u001b[0mself\u001b[0m\u001b[0;34m.\u001b[0m\u001b[0mconverter\u001b[0m\u001b[0;34m.\u001b[0m\u001b[0mconvert\u001b[0m\u001b[0;34m(\u001b[0m\u001b[0mx\u001b[0m\u001b[0;34m,\u001b[0m \u001b[0mself\u001b[0m\u001b[0;34m.\u001b[0m\u001b[0munits\u001b[0m\u001b[0;34m,\u001b[0m \u001b[0mself\u001b[0m\u001b[0;34m)\u001b[0m\u001b[0;34m\u001b[0m\u001b[0;34m\u001b[0m\u001b[0m\n\u001b[0m\u001b[1;32m   1490\u001b[0m         \u001b[0;32mexcept\u001b[0m \u001b[0mException\u001b[0m \u001b[0;32mas\u001b[0m \u001b[0me\u001b[0m\u001b[0;34m:\u001b[0m\u001b[0;34m\u001b[0m\u001b[0;34m\u001b[0m\u001b[0m\n",
      "\u001b[0;32m~/anaconda3/envs/torch/lib/python3.8/site-packages/matplotlib/category.py\u001b[0m in \u001b[0;36mconvert\u001b[0;34m(value, unit, axis)\u001b[0m\n\u001b[1;32m     48\u001b[0m         \u001b[0;32mif\u001b[0m \u001b[0munit\u001b[0m \u001b[0;32mis\u001b[0m \u001b[0;32mNone\u001b[0m\u001b[0;34m:\u001b[0m\u001b[0;34m\u001b[0m\u001b[0;34m\u001b[0m\u001b[0m\n\u001b[0;32m---> 49\u001b[0;31m             raise ValueError(\n\u001b[0m\u001b[1;32m     50\u001b[0m                 \u001b[0;34m'Missing category information for StrCategoryConverter; '\u001b[0m\u001b[0;34m\u001b[0m\u001b[0;34m\u001b[0m\u001b[0m\n",
      "\u001b[0;31mValueError\u001b[0m: Missing category information for StrCategoryConverter; this might be caused by unintendedly mixing categorical and numeric data",
      "\nThe above exception was the direct cause of the following exception:\n",
      "\u001b[0;31mConversionError\u001b[0m                           Traceback (most recent call last)",
      "\u001b[0;32m<ipython-input-63-081ec08da1ba>\u001b[0m in \u001b[0;36m<module>\u001b[0;34m\u001b[0m\n\u001b[1;32m      6\u001b[0m \u001b[0mplt\u001b[0m\u001b[0;34m.\u001b[0m\u001b[0mxlabel\u001b[0m\u001b[0;34m(\u001b[0m\u001b[0;34m'Curriculum Strategy'\u001b[0m\u001b[0;34m,\u001b[0m \u001b[0mfontsize\u001b[0m\u001b[0;34m=\u001b[0m\u001b[0;36m14\u001b[0m\u001b[0;34m)\u001b[0m\u001b[0;34m\u001b[0m\u001b[0;34m\u001b[0m\u001b[0m\n\u001b[1;32m      7\u001b[0m \u001b[0mplt\u001b[0m\u001b[0;34m.\u001b[0m\u001b[0mylabel\u001b[0m\u001b[0;34m(\u001b[0m\u001b[0;34m'probability loyalty'\u001b[0m\u001b[0;34m,\u001b[0m \u001b[0mfontsize\u001b[0m\u001b[0;34m=\u001b[0m\u001b[0;36m14\u001b[0m\u001b[0;34m)\u001b[0m\u001b[0;34m\u001b[0m\u001b[0;34m\u001b[0m\u001b[0m\n\u001b[0;32m----> 8\u001b[0;31m \u001b[0mplt\u001b[0m\u001b[0;34m.\u001b[0m\u001b[0mxticks\u001b[0m\u001b[0;34m(\u001b[0m\u001b[0mx_ticks\u001b[0m\u001b[0;34m,\u001b[0m \u001b[0mfontsize\u001b[0m\u001b[0;34m=\u001b[0m\u001b[0;36m12\u001b[0m\u001b[0;34m)\u001b[0m\u001b[0;34m\u001b[0m\u001b[0;34m\u001b[0m\u001b[0m\n\u001b[0m\u001b[1;32m      9\u001b[0m \u001b[0mplt\u001b[0m\u001b[0;34m.\u001b[0m\u001b[0myticks\u001b[0m\u001b[0;34m(\u001b[0m\u001b[0my_ticks\u001b[0m\u001b[0;34m,\u001b[0m \u001b[0mfontsize\u001b[0m\u001b[0;34m=\u001b[0m\u001b[0;36m12\u001b[0m\u001b[0;34m)\u001b[0m\u001b[0;34m\u001b[0m\u001b[0;34m\u001b[0m\u001b[0m\n\u001b[1;32m     10\u001b[0m \u001b[0mplt\u001b[0m\u001b[0;34m.\u001b[0m\u001b[0mlegend\u001b[0m\u001b[0;34m(\u001b[0m\u001b[0;34m)\u001b[0m\u001b[0;34m\u001b[0m\u001b[0;34m\u001b[0m\u001b[0m\n",
      "\u001b[0;32m~/anaconda3/envs/torch/lib/python3.8/site-packages/matplotlib/pyplot.py\u001b[0m in \u001b[0;36mxticks\u001b[0;34m(ticks, labels, **kwargs)\u001b[0m\n\u001b[1;32m   1776\u001b[0m                             \"without setting 'ticks'\")\n\u001b[1;32m   1777\u001b[0m     \u001b[0;32melse\u001b[0m\u001b[0;34m:\u001b[0m\u001b[0;34m\u001b[0m\u001b[0;34m\u001b[0m\u001b[0m\n\u001b[0;32m-> 1778\u001b[0;31m         \u001b[0mlocs\u001b[0m \u001b[0;34m=\u001b[0m \u001b[0max\u001b[0m\u001b[0;34m.\u001b[0m\u001b[0mset_xticks\u001b[0m\u001b[0;34m(\u001b[0m\u001b[0mticks\u001b[0m\u001b[0;34m)\u001b[0m\u001b[0;34m\u001b[0m\u001b[0;34m\u001b[0m\u001b[0m\n\u001b[0m\u001b[1;32m   1779\u001b[0m \u001b[0;34m\u001b[0m\u001b[0m\n\u001b[1;32m   1780\u001b[0m     \u001b[0;32mif\u001b[0m \u001b[0mlabels\u001b[0m \u001b[0;32mis\u001b[0m \u001b[0;32mNone\u001b[0m\u001b[0;34m:\u001b[0m\u001b[0;34m\u001b[0m\u001b[0;34m\u001b[0m\u001b[0m\n",
      "\u001b[0;32m~/anaconda3/envs/torch/lib/python3.8/site-packages/matplotlib/axes/_base.py\u001b[0m in \u001b[0;36mwrapper\u001b[0;34m(self, *args, **kwargs)\u001b[0m\n\u001b[1;32m     71\u001b[0m \u001b[0;34m\u001b[0m\u001b[0m\n\u001b[1;32m     72\u001b[0m         \u001b[0;32mdef\u001b[0m \u001b[0mwrapper\u001b[0m\u001b[0;34m(\u001b[0m\u001b[0mself\u001b[0m\u001b[0;34m,\u001b[0m \u001b[0;34m*\u001b[0m\u001b[0margs\u001b[0m\u001b[0;34m,\u001b[0m \u001b[0;34m**\u001b[0m\u001b[0mkwargs\u001b[0m\u001b[0;34m)\u001b[0m\u001b[0;34m:\u001b[0m\u001b[0;34m\u001b[0m\u001b[0;34m\u001b[0m\u001b[0m\n\u001b[0;32m---> 73\u001b[0;31m             \u001b[0;32mreturn\u001b[0m \u001b[0mget_method\u001b[0m\u001b[0;34m(\u001b[0m\u001b[0mself\u001b[0m\u001b[0;34m)\u001b[0m\u001b[0;34m(\u001b[0m\u001b[0;34m*\u001b[0m\u001b[0margs\u001b[0m\u001b[0;34m,\u001b[0m \u001b[0;34m**\u001b[0m\u001b[0mkwargs\u001b[0m\u001b[0;34m)\u001b[0m\u001b[0;34m\u001b[0m\u001b[0;34m\u001b[0m\u001b[0m\n\u001b[0m\u001b[1;32m     74\u001b[0m \u001b[0;34m\u001b[0m\u001b[0m\n\u001b[1;32m     75\u001b[0m         \u001b[0mwrapper\u001b[0m\u001b[0;34m.\u001b[0m\u001b[0m__module__\u001b[0m \u001b[0;34m=\u001b[0m \u001b[0mowner\u001b[0m\u001b[0;34m.\u001b[0m\u001b[0m__module__\u001b[0m\u001b[0;34m\u001b[0m\u001b[0;34m\u001b[0m\u001b[0m\n",
      "\u001b[0;32m~/anaconda3/envs/torch/lib/python3.8/site-packages/matplotlib/axis.py\u001b[0m in \u001b[0;36mset_ticks\u001b[0;34m(self, ticks, minor)\u001b[0m\n\u001b[1;32m   1801\u001b[0m         \"\"\"\n\u001b[1;32m   1802\u001b[0m         \u001b[0;31m# XXX if the user changes units, the information will be lost here\u001b[0m\u001b[0;34m\u001b[0m\u001b[0;34m\u001b[0m\u001b[0;34m\u001b[0m\u001b[0m\n\u001b[0;32m-> 1803\u001b[0;31m         \u001b[0mticks\u001b[0m \u001b[0;34m=\u001b[0m \u001b[0mself\u001b[0m\u001b[0;34m.\u001b[0m\u001b[0mconvert_units\u001b[0m\u001b[0;34m(\u001b[0m\u001b[0mticks\u001b[0m\u001b[0;34m)\u001b[0m\u001b[0;34m\u001b[0m\u001b[0;34m\u001b[0m\u001b[0m\n\u001b[0m\u001b[1;32m   1804\u001b[0m         \u001b[0;32mif\u001b[0m \u001b[0mself\u001b[0m \u001b[0;32mis\u001b[0m \u001b[0mself\u001b[0m\u001b[0;34m.\u001b[0m\u001b[0maxes\u001b[0m\u001b[0;34m.\u001b[0m\u001b[0mxaxis\u001b[0m\u001b[0;34m:\u001b[0m\u001b[0;34m\u001b[0m\u001b[0;34m\u001b[0m\u001b[0m\n\u001b[1;32m   1805\u001b[0m             shared = [\n",
      "\u001b[0;32m~/anaconda3/envs/torch/lib/python3.8/site-packages/matplotlib/axis.py\u001b[0m in \u001b[0;36mconvert_units\u001b[0;34m(self, x)\u001b[0m\n\u001b[1;32m   1489\u001b[0m             \u001b[0mret\u001b[0m \u001b[0;34m=\u001b[0m \u001b[0mself\u001b[0m\u001b[0;34m.\u001b[0m\u001b[0mconverter\u001b[0m\u001b[0;34m.\u001b[0m\u001b[0mconvert\u001b[0m\u001b[0;34m(\u001b[0m\u001b[0mx\u001b[0m\u001b[0;34m,\u001b[0m \u001b[0mself\u001b[0m\u001b[0;34m.\u001b[0m\u001b[0munits\u001b[0m\u001b[0;34m,\u001b[0m \u001b[0mself\u001b[0m\u001b[0;34m)\u001b[0m\u001b[0;34m\u001b[0m\u001b[0;34m\u001b[0m\u001b[0m\n\u001b[1;32m   1490\u001b[0m         \u001b[0;32mexcept\u001b[0m \u001b[0mException\u001b[0m \u001b[0;32mas\u001b[0m \u001b[0me\u001b[0m\u001b[0;34m:\u001b[0m\u001b[0;34m\u001b[0m\u001b[0;34m\u001b[0m\u001b[0m\n\u001b[0;32m-> 1491\u001b[0;31m             raise munits.ConversionError('Failed to convert value(s) to axis '\n\u001b[0m\u001b[1;32m   1492\u001b[0m                                          f'units: {x!r}') from e\n\u001b[1;32m   1493\u001b[0m         \u001b[0;32mreturn\u001b[0m \u001b[0mret\u001b[0m\u001b[0;34m\u001b[0m\u001b[0;34m\u001b[0m\u001b[0m\n",
      "\u001b[0;31mConversionError\u001b[0m: Failed to convert value(s) to axis units: ['teacher', 'None', 'hard', 'soft', 'log']"
     ]
    },
    {
     "data": {
      "application/pdf": "[encoded data removed]",
      "text/plain": [
       "<Figure size 432x288 with 1 Axes>"
      ]
     },
     "metadata": {
      "needs_background": "light"
     },
     "output_type": "display_data"
    }
   ],
   "source": [
    "plt.bar(x1_list, curr_df['accuracy'][-5:], width=width, label='prob_loyalty', color=sns.xkcd_rgb[\"dark green\"], tick_label=['teacher', 'None', 'hard', 'soft', 'log'])\n",
    "plt.ylim(0.8, 1.01)\n",
    "# x_ticks = final_df[\"grad_of_adv\"]\n",
    "# x_ticks = ['teacher', 'None', 'hard', 'soft', 'log']\n",
    "y_ticks = np.arange(0.8, 1.01, 0.05)\n",
    "plt.xlabel('Curriculum Strategy', fontsize=14)\n",
    "plt.ylabel('probability loyalty', fontsize=14)\n",
    "plt.xticks(x_ticks, fontsize=12)\n",
    "plt.yticks(y_ticks, fontsize=12)\n",
    "plt.legend()\n",
    "plt.savefig('curr_strategy/prob_loyalty.pdf')"
   ]
  },
  {
   "cell_type": "code",
   "execution_count": 47,
   "id": "52eda08d",
   "metadata": {},
   "outputs": [],
   "source": [
    "if not os.path.exists('T/'):\n",
    "    os.mkdir('T/')\n",
    "T_dict = {\n",
    "    'T': [4, 5, 8, 10, 12, 15, 18, 20],\n",
    "    'accuracy@1': [94.96, 95.01,94.94,94.93,94.97, 95.03, 94.94, 95.28],\n",
    "    'agreement@1': [97.86, 97.64, 97.79, 97.63, 97.60, 97.69, 97.74, 98.20],\n",
    "    'prob_loyalty': [0.8777, 0.8774, 0.8807, 0.8739, 0.8771, 0.8801, 0.8793, 0.8909]\n",
    "    \n",
    "}\n"
   ]
  },
  {
   "cell_type": "code",
   "execution_count": 50,
   "id": "c00abbf4",
   "metadata": {},
   "outputs": [
    {
     "data": {
      "application/pdf": "[encoded data removed]",
      "text/plain": [
       "<Figure size 432x288 with 2 Axes>"
      ]
     },
     "metadata": {
      "needs_background": "light"
     },
     "output_type": "display_data"
    }
   ],
   "source": [
    "fig, ax1 = plt.subplots()\n",
    "width = 0.4\n",
    "x1_list = []\n",
    "x2_list = []\n",
    "for i in range(adv_acc.shape[0]):\n",
    "    x1_list.append(i)\n",
    "    x2_list.append(i + width)\n",
    "\n",
    "# b1 = sns.lineplot(data=final_df, x=\"grad_of_adv\", y=\"acc@1\",color=sns.xkcd_rgb[\"pale red\"] )  \n",
    "b1, = plt.plot(T_dict[\"T\"], T_dict['accuracy@1'], '-ro', label='Accuracy@1')\n",
    "\n",
    "# b1 = ax1.bar(x1_list, adv_acc, width=width, label='Acc@1', color=sns.xkcd_rgb[\"pale red\"], tick_label=grad_range)\n",
    "ax2 = ax1.twinx()\n",
    "b2, = plt.plot(T_dict[\"T\"], T_dict['agreement@1'], '-bo', label='Agreement@1')\n",
    "# plt.grid('off')\n",
    "# b2 = sns.lineplot(data=final_df, x=\"grad_of_adv\", y=\"agree@1\", color=sns.xkcd_rgb[\"denim blue\"])\n",
    "# b2 = ax2.bar(x2_list, adv_agg, width=width, label='Agree@1', color=sns.xkcd_rgb[\"denim blue\"], tick_label=grad_range)\n",
    "ax1.set_xlabel('T', fontsize=12)\n",
    "ax1.set_ylabel('Accuracy@1', fontsize=12)\n",
    "ax2.set_ylabel('Agreement@1', fontsize=12)\n",
    "ax1.set_ylim(94, 95.5)\n",
    "ax2.set_ylim(97, 99)\n",
    "axs = [b1, b2]\n",
    "lbs = [ax.get_label() for ax in axs]\n",
    "ax1.legend(axs, lbs)\n",
    "plt.savefig('T/acc_agg.pdf')"
   ]
  },
  {
   "cell_type": "code",
   "execution_count": 54,
   "id": "36d5a48a",
   "metadata": {},
   "outputs": [
    {
     "data": {
      "application/pdf": "[encoded data removed]",
      "text/plain": [
       "<Figure size 432x288 with 1 Axes>"
      ]
     },
     "metadata": {
      "needs_background": "light"
     },
     "output_type": "display_data"
    }
   ],
   "source": [
    "plt.plot(T_dict[\"T\"], T_dict[\"prob_loyalty\"], '-go', label=\"prob_loyalty\")\n",
    "plt.ylim(0.87, 0.9)\n",
    "x_ticks = np.arange(4, 21, 4)\n",
    "y_ticks = np.arange(0.87, 0.9, 0.005)\n",
    "plt.xlabel('T', fontsize=14)\n",
    "plt.ylabel('probability loyalty', fontsize=14)\n",
    "plt.xticks(x_ticks, fontsize=12)\n",
    "plt.yticks(y_ticks, fontsize=12)\n",
    "plt.savefig('T/prob_loyalty.pdf')"
   ]
  },
  {
   "cell_type": "code",
   "execution_count": 50,
   "id": "586559ac",
   "metadata": {},
   "outputs": [],
   "source": [
    "if not os.path.exists('lambda_0/'):\n",
    "    os.mkdir('lambda_0/')\n",
    "lambda_0_dict = {\n",
    "    'lambda_0': [2, 2.2, 2.5, 2.8],\n",
    "    'accuracy@1': [93.34,93.24,93.17,93.10],\n",
    "    'agreement@1': [94.15, 94.02, 93.92, 93.97],\n",
    "    'loyalty': [0.8183, 0.8176, 0.8173, 0.8170],\n",
    "    'curriculum': ['logarithm', 'logarithm', 'logarithm', 'logarithm']\n",
    "}\n",
    "\n"
   ]
  },
  {
   "cell_type": "code",
   "execution_count": 52,
   "id": "701b42ac",
   "metadata": {},
   "outputs": [
    {
     "data": {
      "application/pdf": "[encoded data removed]",
      "text/plain": [
       "<Figure size 432x288 with 2 Axes>"
      ]
     },
     "metadata": {
      "needs_background": "light"
     },
     "output_type": "display_data"
    }
   ],
   "source": [
    "fig, ax1 = plt.subplots()\n",
    "# width = 0.4\n",
    "# x1_list = []\n",
    "# x2_list = []\n",
    "# for i in range(adv_acc.shape[0]):\n",
    "#     x1_list.append(i)\n",
    "#     x2_list.append(i + width)\n",
    "\n",
    "# b1 = sns.lineplot(data=final_df, x=\"grad_of_adv\", y=\"acc@1\",color=sns.xkcd_rgb[\"pale red\"] )  \n",
    "b1, = plt.plot(lambda_0_dict[\"lambda_0\"], lambda_0_dict['accuracy@1'], '-ro', label='Accuracy@1')\n",
    "\n",
    "# b1 = ax1.bar(x1_list, adv_acc, width=width, label='Acc@1', color=sns.xkcd_rgb[\"pale red\"], tick_label=grad_range)\n",
    "ax2 = ax1.twinx()\n",
    "b2, = plt.plot(lambda_0_dict[\"lambda_0\"], lambda_0_dict['agreement@1'], '-bo', label='Agreement@1')\n",
    "# plt.grid('off')\n",
    "# b2 = sns.lineplot(data=final_df, x=\"grad_of_adv\", y=\"agree@1\", color=sns.xkcd_rgb[\"denim blue\"])\n",
    "# b2 = ax2.bar(x2_list, adv_agg, width=width, label='Agree@1', color=sns.xkcd_rgb[\"denim blue\"], tick_label=grad_range)\n",
    "ax1.set_xlabel('lambda_0', fontsize=12)\n",
    "ax1.set_ylabel('Accuracy@1', fontsize=12)\n",
    "ax2.set_ylabel('Agreement@1', fontsize=12)\n",
    "ax1.set_ylim(93, 93.5)\n",
    "ax2.set_ylim(93.8, 94.2)\n",
    "axs = [b1, b2]\n",
    "lbs = [ax.get_label() for ax in axs]\n",
    "ax1.legend(axs, lbs)\n",
    "plt.savefig('lambda_0/acc_agg.pdf')"
   ]
  },
  {
   "cell_type": "code",
   "execution_count": 53,
   "id": "371357ce",
   "metadata": {
    "scrolled": true
   },
   "outputs": [
    {
     "data": {
      "application/pdf": "[encoded data removed]",
      "text/plain": [
       "<Figure size 432x288 with 1 Axes>"
      ]
     },
     "metadata": {
      "needs_background": "light"
     },
     "output_type": "display_data"
    }
   ],
   "source": [
    "plt.plot(lambda_0_dict[\"lambda_0\"], lambda_0_dict[\"loyalty\"], '-go', label=\"prob_loyalty\")\n",
    "plt.ylim(0.815, 0.82)\n",
    "x_ticks = np.arange(2, 3, 0.2)\n",
    "y_ticks = np.arange(0.815, 0.82, 0.001)\n",
    "plt.xlabel('lambda_0', fontsize=14)\n",
    "plt.ylabel('probability loyalty', fontsize=14)\n",
    "plt.xticks(x_ticks, fontsize=12)\n",
    "plt.yticks(y_ticks, fontsize=12)\n",
    "plt.savefig('lambda_0/prob_loyalty.pdf')"
   ]
  },
  {
   "cell_type": "code",
   "execution_count": 36,
   "id": "bfc11085",
   "metadata": {},
   "outputs": [
    {
     "data": {
      "text/html": [
       "<div>\n",
       "<style scoped>\n",
       "    .dataframe tbody tr th:only-of-type {\n",
       "        vertical-align: middle;\n",
       "    }\n",
       "\n",
       "    .dataframe tbody tr th {\n",
       "        vertical-align: top;\n",
       "    }\n",
       "\n",
       "    .dataframe thead th {\n",
       "        text-align: right;\n",
       "    }\n",
       "</style>\n",
       "<table border=\"1\" class=\"dataframe\">\n",
       "  <thead>\n",
       "    <tr style=\"text-align: right;\">\n",
       "      <th></th>\n",
       "      <th>method</th>\n",
       "      <th>acc@1</th>\n",
       "      <th>type</th>\n",
       "      <th>agree@1</th>\n",
       "      <th>loyalty</th>\n",
       "    </tr>\n",
       "  </thead>\n",
       "  <tbody>\n",
       "    <tr>\n",
       "      <th>0</th>\n",
       "      <td>teacher</td>\n",
       "      <td>95.70</td>\n",
       "      <td>clean</td>\n",
       "      <td>100.00</td>\n",
       "      <td>1.0000</td>\n",
       "    </tr>\n",
       "    <tr>\n",
       "      <th>1</th>\n",
       "      <td>teacher</td>\n",
       "      <td>94.07</td>\n",
       "      <td>noisy</td>\n",
       "      <td>100.00</td>\n",
       "      <td>1.0000</td>\n",
       "    </tr>\n",
       "    <tr>\n",
       "      <th>2</th>\n",
       "      <td>cudfkd</td>\n",
       "      <td>95.28</td>\n",
       "      <td>clean</td>\n",
       "      <td>98.19</td>\n",
       "      <td>0.8909</td>\n",
       "    </tr>\n",
       "    <tr>\n",
       "      <th>3</th>\n",
       "      <td>cudfkd</td>\n",
       "      <td>93.24</td>\n",
       "      <td>noisy</td>\n",
       "      <td>97.25</td>\n",
       "      <td>0.9002</td>\n",
       "    </tr>\n",
       "    <tr>\n",
       "      <th>4</th>\n",
       "      <td>cmi</td>\n",
       "      <td>94.84</td>\n",
       "      <td>clean</td>\n",
       "      <td>96.46</td>\n",
       "      <td>0.8747</td>\n",
       "    </tr>\n",
       "    <tr>\n",
       "      <th>5</th>\n",
       "      <td>cmi</td>\n",
       "      <td>92.36</td>\n",
       "      <td>noisy</td>\n",
       "      <td>93.13</td>\n",
       "      <td>0.8049</td>\n",
       "    </tr>\n",
       "    <tr>\n",
       "      <th>6</th>\n",
       "      <td>dafl</td>\n",
       "      <td>91.45</td>\n",
       "      <td>clean</td>\n",
       "      <td>93.20</td>\n",
       "      <td>0.7686</td>\n",
       "    </tr>\n",
       "    <tr>\n",
       "      <th>7</th>\n",
       "      <td>dafl</td>\n",
       "      <td>81.66</td>\n",
       "      <td>noisy</td>\n",
       "      <td>83.85</td>\n",
       "      <td>0.6521</td>\n",
       "    </tr>\n",
       "    <tr>\n",
       "      <th>8</th>\n",
       "      <td>adi</td>\n",
       "      <td>93.26</td>\n",
       "      <td>clean</td>\n",
       "      <td>93.45</td>\n",
       "      <td>0.8078</td>\n",
       "    </tr>\n",
       "    <tr>\n",
       "      <th>9</th>\n",
       "      <td>adi</td>\n",
       "      <td>90.38</td>\n",
       "      <td>noisy</td>\n",
       "      <td>92.88</td>\n",
       "      <td>0.8247</td>\n",
       "    </tr>\n",
       "    <tr>\n",
       "      <th>10</th>\n",
       "      <td>adi</td>\n",
       "      <td>90.36</td>\n",
       "      <td>noisy</td>\n",
       "      <td>92.90</td>\n",
       "      <td>0.8235</td>\n",
       "    </tr>\n",
       "    <tr>\n",
       "      <th>11</th>\n",
       "      <td>adi</td>\n",
       "      <td>90.17</td>\n",
       "      <td>noisy</td>\n",
       "      <td>92.92</td>\n",
       "      <td>0.8245</td>\n",
       "    </tr>\n",
       "    <tr>\n",
       "      <th>12</th>\n",
       "      <td>cudfkd</td>\n",
       "      <td>95.24</td>\n",
       "      <td>clean</td>\n",
       "      <td>98.20</td>\n",
       "      <td>0.8915</td>\n",
       "    </tr>\n",
       "    <tr>\n",
       "      <th>13</th>\n",
       "      <td>cudfkd</td>\n",
       "      <td>95.15</td>\n",
       "      <td>clean</td>\n",
       "      <td>98.09</td>\n",
       "      <td>0.8897</td>\n",
       "    </tr>\n",
       "    <tr>\n",
       "      <th>14</th>\n",
       "      <td>dafl</td>\n",
       "      <td>82.89</td>\n",
       "      <td>noisy</td>\n",
       "      <td>85.03</td>\n",
       "      <td>0.6803</td>\n",
       "    </tr>\n",
       "    <tr>\n",
       "      <th>15</th>\n",
       "      <td>dafl</td>\n",
       "      <td>81.86</td>\n",
       "      <td>noisy</td>\n",
       "      <td>83.55</td>\n",
       "      <td>0.6527</td>\n",
       "    </tr>\n",
       "    <tr>\n",
       "      <th>16</th>\n",
       "      <td>cmi</td>\n",
       "      <td>91.95</td>\n",
       "      <td>noisy</td>\n",
       "      <td>94.98</td>\n",
       "      <td>0.8701</td>\n",
       "    </tr>\n",
       "    <tr>\n",
       "      <th>17</th>\n",
       "      <td>cmi</td>\n",
       "      <td>91.85</td>\n",
       "      <td>noisy</td>\n",
       "      <td>95.10</td>\n",
       "      <td>0.8711</td>\n",
       "    </tr>\n",
       "    <tr>\n",
       "      <th>18</th>\n",
       "      <td>adi</td>\n",
       "      <td>94.56</td>\n",
       "      <td>clean</td>\n",
       "      <td>96.96</td>\n",
       "      <td>0.8849</td>\n",
       "    </tr>\n",
       "    <tr>\n",
       "      <th>19</th>\n",
       "      <td>adi</td>\n",
       "      <td>94.63</td>\n",
       "      <td>clean</td>\n",
       "      <td>96.85</td>\n",
       "      <td>0.8833</td>\n",
       "    </tr>\n",
       "    <tr>\n",
       "      <th>20</th>\n",
       "      <td>cmi</td>\n",
       "      <td>93.18</td>\n",
       "      <td>clean</td>\n",
       "      <td>95.23</td>\n",
       "      <td>0.8501</td>\n",
       "    </tr>\n",
       "    <tr>\n",
       "      <th>21</th>\n",
       "      <td>cmi</td>\n",
       "      <td>93.36</td>\n",
       "      <td>clean</td>\n",
       "      <td>95.34</td>\n",
       "      <td>0.8499</td>\n",
       "    </tr>\n",
       "    <tr>\n",
       "      <th>22</th>\n",
       "      <td>dafl</td>\n",
       "      <td>89.41</td>\n",
       "      <td>clean</td>\n",
       "      <td>91.06</td>\n",
       "      <td>0.7298</td>\n",
       "    </tr>\n",
       "    <tr>\n",
       "      <th>23</th>\n",
       "      <td>dafl</td>\n",
       "      <td>89.04</td>\n",
       "      <td>clean</td>\n",
       "      <td>90.69</td>\n",
       "      <td>0.7336</td>\n",
       "    </tr>\n",
       "    <tr>\n",
       "      <th>24</th>\n",
       "      <td>cudfkd</td>\n",
       "      <td>93.38</td>\n",
       "      <td>noisy</td>\n",
       "      <td>97.69</td>\n",
       "      <td>0.9063</td>\n",
       "    </tr>\n",
       "    <tr>\n",
       "      <th>25</th>\n",
       "      <td>cudfkd</td>\n",
       "      <td>93.30</td>\n",
       "      <td>noisy</td>\n",
       "      <td>97.27</td>\n",
       "      <td>0.8998</td>\n",
       "    </tr>\n",
       "  </tbody>\n",
       "</table>\n",
       "</div>"
      ],
      "text/plain": [
       "     method  acc@1   type  agree@1  loyalty\n",
       "0   teacher  95.70  clean   100.00   1.0000\n",
       "1   teacher  94.07  noisy   100.00   1.0000\n",
       "2    cudfkd  95.28  clean    98.19   0.8909\n",
       "3    cudfkd  93.24  noisy    97.25   0.9002\n",
       "4       cmi  94.84  clean    96.46   0.8747\n",
       "5       cmi  92.36  noisy    93.13   0.8049\n",
       "6      dafl  91.45  clean    93.20   0.7686\n",
       "7      dafl  81.66  noisy    83.85   0.6521\n",
       "8       adi  93.26  clean    93.45   0.8078\n",
       "9       adi  90.38  noisy    92.88   0.8247\n",
       "10      adi  90.36  noisy    92.90   0.8235\n",
       "11      adi  90.17  noisy    92.92   0.8245\n",
       "12   cudfkd  95.24  clean    98.20   0.8915\n",
       "13   cudfkd  95.15  clean    98.09   0.8897\n",
       "14     dafl  82.89  noisy    85.03   0.6803\n",
       "15     dafl  81.86  noisy    83.55   0.6527\n",
       "16      cmi  91.95  noisy    94.98   0.8701\n",
       "17      cmi  91.85  noisy    95.10   0.8711\n",
       "18      adi  94.56  clean    96.96   0.8849\n",
       "19      adi  94.63  clean    96.85   0.8833\n",
       "20      cmi  93.18  clean    95.23   0.8501\n",
       "21      cmi  93.36  clean    95.34   0.8499\n",
       "22     dafl  89.41  clean    91.06   0.7298\n",
       "23     dafl  89.04  clean    90.69   0.7336\n",
       "24   cudfkd  93.38  noisy    97.69   0.9063\n",
       "25   cudfkd  93.30  noisy    97.27   0.8998"
      ]
     },
     "execution_count": 36,
     "metadata": {},
     "output_type": "execute_result"
    }
   ],
   "source": [
    "import pandas as pd\n",
    "import seaborn as sns\n",
    "import matplotlib.pyplot as plt\n",
    "%matplotlib inline\n",
    "%config InlineBackend.figure_format = 'pdf'\n",
    "res_dict_below = {\n",
    "    'method': ['teacher', 'teacher', 'cudfkd', 'cudfkd', 'cmi', 'cmi', 'dafl', 'dafl', 'adi', 'adi', 'adi', 'adi', 'cudfkd', 'cudfkd', 'dafl', 'dafl', 'cmi', 'cmi', 'adi', 'adi', 'cmi', 'cmi', 'dafl', 'dafl', 'cudfkd', 'cudfkd'],\n",
    "    'acc@1': [95.70, 94.07, 95.28, 93.24, 94.84, 92.36, 91.45 , 81.66, 93.26, 90.38, 90.36, 90.17, 95.24, 95.15, 82.89, 81.86, 91.95, 91.85, 94.56, 94.63, 93.18, 93.36 , 89.41, 89.04, 93.38, 93.30],\n",
    "    'type': ['clean', 'noisy', 'clean', 'noisy','clean', 'noisy','clean', 'noisy','clean', 'noisy', 'noisy', 'noisy', 'clean', 'clean', 'noisy', 'noisy', 'noisy', 'noisy', 'clean', 'clean', 'clean', 'clean', 'clean', 'clean', 'noisy', 'noisy'],\n",
    "    'agree@1':[100.00, 100.00, 98.19, 97.25, 96.46, 93.13, 93.20, 83.85, 93.45, 92.88, 92.90, 92.92 , 98.20, 98.09, 85.03, 83.55, 94.98, 95.10, 96.96, 96.85, 95.23, 95.34, 91.06, 90.69, 97.69, 97.27],\n",
    "    'loyalty':[1.0000, 1.0000, 0.8909, 0.9002, 0.8747, 0.8049, 0.7686, 0.6521, 0.8078, 0.8247, 0.8235, 0.8245, 0.8915, 0.8897, 0.6803, 0.6527, 0.8701, 0.8711, 0.8849, 0.8833, 0.8501,0.8499, 0.7298, 0.7336, 0.9063, 0.8998],\n",
    "}\n",
    "\n",
    "noisy_df = pd.DataFrame(data=res_dict_below)\n",
    "noisy_df"
   ]
  },
  {
   "cell_type": "code",
   "execution_count": 39,
   "id": "0de8447c",
   "metadata": {
    "scrolled": true
   },
   "outputs": [
    {
     "data": {
      "application/pdf": "[encoded data removed]",
      "text/plain": [
       "<Figure size 432x288 with 1 Axes>"
      ]
     },
     "metadata": {
      "needs_background": "light"
     },
     "output_type": "display_data"
    }
   ],
   "source": [
    "# noisy_df.columns\n",
    "import os\n",
    "if not os.path.exists('noisy/'):\n",
    "    os.mkdir('noisy/')\n",
    "ax= sns.barplot(data=noisy_df, x='method', y='acc@1', hue='type')\n",
    "ax.set_ylim(80, 100)\n",
    "ax.legend(loc='upper right')\n",
    "plt.savefig('noisy/acc.pdf')"
   ]
  },
  {
   "cell_type": "code",
   "execution_count": 40,
   "id": "c11d9dd7",
   "metadata": {},
   "outputs": [
    {
     "data": {
      "application/pdf": "[encoded data removed]",
      "text/plain": [
       "<Figure size 432x288 with 1 Axes>"
      ]
     },
     "metadata": {
      "needs_background": "light"
     },
     "output_type": "display_data"
    }
   ],
   "source": [
    "ax = sns.barplot(data=noisy_df, x='method', y='agree@1', hue='type',palette=\"Set2\")\n",
    "ax.set_ylim(80, 100)\n",
    "ax.legend(loc='upper right')\n",
    "plt.savefig('noisy/agg.pdf')"
   ]
  },
  {
   "cell_type": "code",
   "execution_count": 41,
   "id": "a07d392f",
   "metadata": {},
   "outputs": [
    {
     "data": {
      "application/pdf": "[encoded data removed]",
      "text/plain": [
       "<Figure size 432x288 with 1 Axes>"
      ]
     },
     "metadata": {
      "needs_background": "light"
     },
     "output_type": "display_data"
    }
   ],
   "source": [
    "ax = sns.barplot(data=noisy_df, x='method', y='loyalty', hue='type', palette=\"Set2_r\")\n",
    "ax.set_ylim(0.6, 1)\n",
    "ax.legend(loc='upper right')\n",
    "plt.savefig('noisy/loyalty.pdf')"
   ]
  },
  {
   "cell_type": "code",
   "execution_count": null,
   "id": "fe189aa3",
   "metadata": {},
   "outputs": [],
   "source": []
  }
 ],
 "metadata": {
  "kernelspec": {
   "display_name": "Python 3",
   "language": "python",
   "name": "python3"
  },
  "language_info": {
   "codemirror_mode": {
    "name": "ipython",
    "version": 3
   },
   "file_extension": ".py",
   "mimetype": "text/x-python",
   "name": "python",
   "nbconvert_exporter": "python",
   "pygments_lexer": "ipython3",
   "version": "3.8.8"
  }
 },
 "nbformat": 4,
 "nbformat_minor": 5
}
